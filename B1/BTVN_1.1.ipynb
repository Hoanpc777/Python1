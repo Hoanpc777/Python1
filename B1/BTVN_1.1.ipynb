{
 "cells": [
  {
   "cell_type": "markdown",
   "id": "6ec4a97c",
   "metadata": {},
   "source": [
    "Xử lý dữ liệu giá cổ phiếu: Viết vòng lặp xác định nếu giá cp lên 7% so với \n",
    "ngày hôm trước thì bán, xuống 6% so với ngày hôm trước thì mua\n",
    "gia_theo_ngay = [10.1, 9.5, 10.7, 10.8, 10.6, 10.0, 10.2, 9.5]\n"
   ]
  },
  {
   "cell_type": "code",
   "execution_count": 2,
   "id": "2d0294ef",
   "metadata": {},
   "outputs": [
    {
     "name": "stdout",
     "output_type": "stream",
     "text": [
      "Date 1 : 9.5 -> Hold\n",
      "Date 2 : 10.7 -> Sell\n",
      "Date 3 : 10.8 -> Hold\n",
      "Date 4 : 10.6 -> Hold\n",
      "Date 5 : 10.0 -> Hold\n",
      "Date 6 : 10.2 -> Hold\n",
      "Date 7 : 9.5 -> Buy\n"
     ]
    }
   ],
   "source": [
    "list_price = [10.1, 9.5, 10.7, 10.8, 10.6, 10.0, 10.2, 9.5]\n",
    "for index, price in enumerate(list_price):\n",
    "    if index > 0:\n",
    "        rate_change = (price - list_price[index-1])/list_price[index-1]\n",
    "        if  rate_change >= 0.07:\n",
    "            print(\"Date\", index,\":\",price, \"->\", \"Sell\")\n",
    "        elif rate_change <= -0.06:\n",
    "            print(\"Date\", index,\":\",price, \"->\", \"Buy\")\n",
    "        else: \n",
    "            print(\"Date\", index,\":\",price, \"->\", \"Hold\")"
   ]
  },
  {
   "cell_type": "markdown",
   "id": "d31eae50",
   "metadata": {},
   "source": [
    "Viết hàm tính tiền bảo hiểm và thuế thu nhập cá nhân cho các nhân viên:\n",
    "● Input: lương, phụ cấp\n",
    "● Output: BHXH, PIT"
   ]
  },
  {
   "cell_type": "code",
   "execution_count": 1,
   "id": "f61a3e37",
   "metadata": {},
   "outputs": [
    {
     "name": "stdout",
     "output_type": "stream",
     "text": [
      "Nhập vào mức lương: 20000000\n",
      "Nhập vào phụ cấp: 200000\n",
      "Lương BHXH là: 2121000.0\n",
      "Lương PIT là:  457900.0\n"
     ]
    }
   ],
   "source": [
    "def TINH_LUONG(LUONG_NV, PHU_CAP):\n",
    "        LUONG_BHXH = (LUONG_NV + PHU_CAP ) * 0.105\n",
    "        A = ( LUONG_NV + PHU_CAP ) - 11000000 - LUONG_BHXH\n",
    "\n",
    "        if 0 < A <= 5000000:\n",
    "            LUONG_PIT = A*0.05\n",
    "        elif A <= 10000000:\n",
    "            LUONG_PIT= 5000000*0.05+(A-5000000)*0.1\n",
    "        elif A <= 18000000:\n",
    "            LUONG_PIT= 5000000*0.05+5000000*0.1+(A-10000000)*0.15\n",
    "        elif A <= 32000000:\n",
    "            LUONG_PIT= 5000000*0.05+5000000*0.1+8000000*0.15+(A-18000000)*0.2\n",
    "        elif A <= 52000000:\n",
    "            LUONG_PIT= 5000000*0.05+5000000*0.1+8000000*0.15+14000000*0.2+(A-32000000)*0.25\n",
    "        elif A <= 80000000:\n",
    "            LUONG_PIT= 5000000*0.05+5000000*0.1+8000000*0.15+14000000*0.2+20000000*0.25+(A-52000000)*0.3\n",
    "        elif A>80000000:\n",
    "            LUONG_PIT= 5000000*0.05+5000000*0.1+8000000*0.15+14000000*0.2+20000000*0.25+28000000*0.3+(A-80000000)*0.35\n",
    "        else:\n",
    "            LUONG_PIT = 0\n",
    "        return LUONG_BHXH , LUONG_PIT\n",
    "LUONG_NV = int(input(\"Nhập vào mức lương: \"))\n",
    "PHU_CAP  = int(input(\"Nhập vào phụ cấp: \"))\n",
    "LUONG_BHXH , LUONG_PIT = TINH_LUONG(LUONG_NV=LUONG_NV , PHU_CAP=PHU_CAP)\n",
    "\n",
    "print(\"Lương BHXH là:\",LUONG_BHXH)\n",
    "print(\"Lương PIT là: \",LUONG_PIT)"
   ]
  }
 ],
 "metadata": {
  "kernelspec": {
   "display_name": "Python 3 (ipykernel)",
   "language": "python",
   "name": "python3"
  },
  "language_info": {
   "codemirror_mode": {
    "name": "ipython",
    "version": 3
   },
   "file_extension": ".py",
   "mimetype": "text/x-python",
   "name": "python",
   "nbconvert_exporter": "python",
   "pygments_lexer": "ipython3",
   "version": "3.8.8"
  }
 },
 "nbformat": 4,
 "nbformat_minor": 5
}
