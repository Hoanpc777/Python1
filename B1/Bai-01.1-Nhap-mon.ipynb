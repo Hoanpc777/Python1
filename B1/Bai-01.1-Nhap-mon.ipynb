{
 "cells": [
  {
   "cell_type": "markdown",
   "id": "7be6142d",
   "metadata": {},
   "source": [
    "# Having a goal without doing something about it, is like loving someone without letting them know it. - unknown-\n",
    "![alt text](Figure1.jpg)\n"
   ]
  },
  {
   "cell_type": "markdown",
   "id": "81cd03fb",
   "metadata": {},
   "source": [
    "# 1. Làm quen cách viết lệnh trong Python"
   ]
  },
  {
   "cell_type": "markdown",
   "id": "ae87bd62",
   "metadata": {},
   "source": [
    "**Hiển thị thông tin về đường dẫn**"
   ]
  },
  {
   "cell_type": "code",
   "execution_count": null,
   "id": "a90fa0b2",
   "metadata": {},
   "outputs": [],
   "source": [
    "# Gọi là \"magic command\"\n",
    "%pwd"
   ]
  },
  {
   "cell_type": "markdown",
   "id": "bd3ea57a",
   "metadata": {},
   "source": [
    "### Hàm cơ bản: hàm *print* "
   ]
  },
  {
   "cell_type": "code",
   "execution_count": 16,
   "id": "ea896b1e",
   "metadata": {},
   "outputs": [
    {
     "name": "stdout",
     "output_type": "stream",
     "text": [
      "Xin chào các học viên chương trình Data Science tại CyberLab\n"
     ]
    }
   ],
   "source": [
    "print(\"Xin chào các học viên chương trình Data Science tại CyberLab\")"
   ]
  },
  {
   "cell_type": "markdown",
   "id": "14e39526",
   "metadata": {},
   "source": [
    "### Dòng lệnh và khối lệnh"
   ]
  },
  {
   "cell_type": "code",
   "execution_count": 7,
   "id": "d91859d9",
   "metadata": {},
   "outputs": [
    {
     "name": "stdout",
     "output_type": "stream",
     "text": [
      "[1, 2, 3, 4, 5]\n"
     ]
    }
   ],
   "source": [
    "a = [1,2,3,\n",
    "     4,5]\n",
    "print(a)"
   ]
  },
  {
   "cell_type": "code",
   "execution_count": null,
   "id": "f58fb7b7",
   "metadata": {},
   "outputs": [],
   "source": [
    "a = 1 + 2 + 3 + \\\n",
    "4 + \\\n",
    "5\n",
    "print(a)"
   ]
  },
  {
   "cell_type": "code",
   "execution_count": 14,
   "id": "e3c491f6",
   "metadata": {},
   "outputs": [
    {
     "name": "stdout",
     "output_type": "stream",
     "text": [
      "-1 4\n"
     ]
    }
   ],
   "source": [
    "# Lưu ý: cần phải thụt vào ở đầu dòng khối lệnh con (indent)\n",
    "a = 1\n",
    "b = 2\n",
    "\n",
    "if a < b:\n",
    "    a = a - b\n",
    "    b = b * 2 \n",
    "print(a,b)"
   ]
  },
  {
   "cell_type": "markdown",
   "id": "b548997a",
   "metadata": {},
   "source": [
    "### Các phép toán cơ bản "
   ]
  },
  {
   "cell_type": "code",
   "execution_count": 21,
   "id": "ba6dc695",
   "metadata": {},
   "outputs": [
    {
     "name": "stdout",
     "output_type": "stream",
     "text": [
      "Giá trị của x: 10.3\n"
     ]
    }
   ],
   "source": [
    "x = 10.3    # Phép gán\n",
    "y = x + 0.9 # Phép cộng\n",
    "z = x * 2   # Phép nhân\n",
    "t = y/3     # Phép chia\n",
    "print(\"Giá trị của x:\", x)\n",
    "# print(f\"Giá trị của y: {y}\")\n",
    "\n",
    "\"\"\"\n",
    "print(f\"Giá trị của z: {z}\")\n",
    "print(f\"Giá trị của t: {t}\")\n",
    "\"\"\"\n"
   ]
  },
  {
   "cell_type": "code",
   "execution_count": 22,
   "id": "f7b1f5ab",
   "metadata": {},
   "outputs": [
    {
     "name": "stdout",
     "output_type": "stream",
     "text": [
      "1\n",
      "3\n",
      "9\n"
     ]
    }
   ],
   "source": [
    "# Một số phép toán cần chú ý \n",
    "# 1. Chia lấy phần dư \n",
    "a = 10%3\n",
    "print(a)\n",
    "\n",
    "# 2. Chia lấy phần nguyên\n",
    "a = 10//3\n",
    "print(a)\n",
    "\n",
    "# 3. Phép lũy thừa\n",
    "a = 3**2\n",
    "print(a)"
   ]
  },
  {
   "cell_type": "markdown",
   "id": "650fa058",
   "metadata": {},
   "source": [
    "**So sánh**"
   ]
  },
  {
   "cell_type": "code",
   "execution_count": 3,
   "id": "03ae140e",
   "metadata": {},
   "outputs": [
    {
     "data": {
      "text/plain": [
       "False"
      ]
     },
     "execution_count": 3,
     "metadata": {},
     "output_type": "execute_result"
    }
   ],
   "source": [
    "0 > 1"
   ]
  },
  {
   "cell_type": "code",
   "execution_count": 9,
   "id": "f9cbeb59",
   "metadata": {},
   "outputs": [
    {
     "data": {
      "text/plain": [
       "True"
      ]
     },
     "execution_count": 9,
     "metadata": {},
     "output_type": "execute_result"
    }
   ],
   "source": [
    "0 < 1"
   ]
  },
  {
   "cell_type": "code",
   "execution_count": 10,
   "id": "5ba7eb72",
   "metadata": {},
   "outputs": [
    {
     "data": {
      "text/plain": [
       "False"
      ]
     },
     "execution_count": 10,
     "metadata": {},
     "output_type": "execute_result"
    }
   ],
   "source": [
    "0 == 1"
   ]
  },
  {
   "cell_type": "code",
   "execution_count": 4,
   "id": "147ea2e4",
   "metadata": {},
   "outputs": [
    {
     "data": {
      "text/plain": [
       "True"
      ]
     },
     "execution_count": 4,
     "metadata": {},
     "output_type": "execute_result"
    }
   ],
   "source": [
    "not (0 == 1)"
   ]
  },
  {
   "cell_type": "code",
   "execution_count": 34,
   "id": "95e3a187",
   "metadata": {
    "scrolled": true
   },
   "outputs": [
    {
     "name": "stdout",
     "output_type": "stream",
     "text": [
      "OK!\n"
     ]
    }
   ],
   "source": [
    "if not(0 > 1): print(\"OK!\")"
   ]
  },
  {
   "cell_type": "code",
   "execution_count": 29,
   "id": "90d7f164",
   "metadata": {},
   "outputs": [
    {
     "name": "stdout",
     "output_type": "stream",
     "text": [
      "bằng\n",
      "khác\n",
      "lớn hơn hoặc bằng\n"
     ]
    }
   ],
   "source": [
    "# Các phép so sánh\n",
    "if (3 == 3.0): print(\"bằng\")\n",
    "if (3 != 3.1): print(\"khác\")\n",
    "if (3 >= 2):   print(\"lớn hơn hoặc bằng\")"
   ]
  },
  {
   "cell_type": "markdown",
   "id": "c7000ebb",
   "metadata": {},
   "source": [
    "**Tidle operator**\n",
    "\n",
    "(bitwise complement: https://en.wikipedia.org/wiki/Bitwise_operation#NOT)\n",
    "\n",
    "(Ít khi sử dụng, nhưng cần tránh hiểu nhầm)"
   ]
  },
  {
   "cell_type": "code",
   "execution_count": 8,
   "id": "6ae79d38",
   "metadata": {},
   "outputs": [
    {
     "data": {
      "text/plain": [
       "-1"
      ]
     },
     "execution_count": 8,
     "metadata": {},
     "output_type": "execute_result"
    }
   ],
   "source": [
    "# Tidle operator\n",
    "~False"
   ]
  },
  {
   "cell_type": "code",
   "execution_count": 11,
   "id": "a1ae32c6",
   "metadata": {},
   "outputs": [
    {
     "data": {
      "text/plain": [
       "-2"
      ]
     },
     "execution_count": 11,
     "metadata": {},
     "output_type": "execute_result"
    }
   ],
   "source": [
    "# Tidle operator: ~x = (-x) - 1\n",
    "~True"
   ]
  },
  {
   "cell_type": "code",
   "execution_count": 14,
   "id": "c454ce7b",
   "metadata": {},
   "outputs": [
    {
     "data": {
      "text/plain": [
       "-11"
      ]
     },
     "execution_count": 14,
     "metadata": {},
     "output_type": "execute_result"
    }
   ],
   "source": [
    "~10"
   ]
  },
  {
   "cell_type": "markdown",
   "id": "2b692509",
   "metadata": {},
   "source": [
    "# 2. Các kiểu dữ liệu cơ bản"
   ]
  },
  {
   "cell_type": "code",
   "execution_count": 40,
   "id": "4d38836b",
   "metadata": {},
   "outputs": [
    {
     "name": "stdout",
     "output_type": "stream",
     "text": [
      "Hello\n",
      "        \"Lop DA01-Online\"\n",
      "        Toi la ...\n",
      "\n"
     ]
    }
   ],
   "source": [
    "# Kiểu chuỗi (string)\n",
    "x = '''Hello\n",
    "        \"Lop DA01-Online\"\n",
    "        Toi la ...\n",
    "'''\n",
    "print(x)\n",
    "# print(type(x)) #Ctrl + /"
   ]
  },
  {
   "cell_type": "code",
   "execution_count": 41,
   "id": "48a8409f",
   "metadata": {},
   "outputs": [
    {
     "name": "stdout",
     "output_type": "stream",
     "text": [
      "<class 'int'>\n"
     ]
    }
   ],
   "source": [
    "# Kiểu số nguyên (integer)\n",
    "x = 10\n",
    "print(type(x))"
   ]
  },
  {
   "cell_type": "code",
   "execution_count": 42,
   "id": "33391ab9",
   "metadata": {
    "scrolled": true
   },
   "outputs": [
    {
     "name": "stdout",
     "output_type": "stream",
     "text": [
      "<class 'float'>\n"
     ]
    }
   ],
   "source": [
    "# Kiểu số thực (float)\n",
    "x = 10.3\n",
    "print(type(x))"
   ]
  },
  {
   "cell_type": "code",
   "execution_count": 53,
   "id": "81b74f60",
   "metadata": {
    "scrolled": true
   },
   "outputs": [
    {
     "name": "stdout",
     "output_type": "stream",
     "text": [
      "<class 'list'>\n",
      "Mai\n"
     ]
    }
   ],
   "source": [
    "# Kiểu chuỗi (list)\n",
    "x = ['An', 'Mai', 'Thắng']\n",
    "print(type(x))\n",
    "print(x[-2])"
   ]
  },
  {
   "cell_type": "code",
   "execution_count": 48,
   "id": "5c4a8267",
   "metadata": {
    "scrolled": true
   },
   "outputs": [
    {
     "name": "stdout",
     "output_type": "stream",
     "text": [
      "<class 'dict'>\n",
      "11\n"
     ]
    }
   ],
   "source": [
    "# Kiểu dictionary (dict)\n",
    "x = {\"price1\":10, \"price2\":11,\"price3\":12}\n",
    "print(type(x))\n",
    "print(x['price2'])"
   ]
  },
  {
   "cell_type": "code",
   "execution_count": 54,
   "id": "0b289d42",
   "metadata": {
    "scrolled": true
   },
   "outputs": [
    {
     "name": "stdout",
     "output_type": "stream",
     "text": [
      "[1, 2, 3, 4, 5, 1, 3, 5]\n",
      "<class 'list'>\n",
      "{1, 2, 3, 4, 5}\n",
      "<class 'set'>\n"
     ]
    }
   ],
   "source": [
    "# Kiểu tập hợp (set)\n",
    "x = [1, 2, 3, 4, 5, 1, 3, 5]\n",
    "print(x); print(type(x))\n",
    "y = set(x)\n",
    "print(y); print(type(y))"
   ]
  },
  {
   "cell_type": "markdown",
   "id": "6fe1a0df",
   "metadata": {},
   "source": [
    "# 3. Sử dụng hàm trong Python"
   ]
  },
  {
   "cell_type": "code",
   "execution_count": 56,
   "id": "86bcf826",
   "metadata": {},
   "outputs": [
    {
     "name": "stdout",
     "output_type": "stream",
     "text": [
      "Xin chao ban: Nam\n",
      "Xin chao ban: Oanh\n"
     ]
    }
   ],
   "source": [
    "### Hàm đơn giản, ko giá trị trả về\n",
    "def In_Loi_Chao(tenHV):\n",
    "    print(\"Xin chao ban:\", tenHV)\n",
    "\n",
    "In_Loi_Chao(\"Nam\")\n",
    "In_Loi_Chao(\"Oanh\")"
   ]
  },
  {
   "cell_type": "code",
   "execution_count": 58,
   "id": "0f3724aa",
   "metadata": {},
   "outputs": [
    {
     "name": "stdout",
     "output_type": "stream",
     "text": [
      "Nhân viên 1: 11.07\n",
      "Nhân viên 2: 7.45\n"
     ]
    }
   ],
   "source": [
    "### Hàm phức hợp, có giá trị trả về\n",
    "LƯƠNG_CƠ_BẢN = 1.49\n",
    "def Tính_Lương(he_so, phu_cap = 0.0):\n",
    "    luong1 = he_so * LƯƠNG_CƠ_BẢN\n",
    "    luong2 = phu_cap + phu_cap*0.2\n",
    "    luong = luong1 + luong2\n",
    "    #print(f\"Tổng lương: {luong}\")\n",
    "    return luong\n",
    "\n",
    "luong_nv1 = Tính_Lương(he_so=3.0, phu_cap=5.5)\n",
    "luong_nv2 = Tính_Lương(he_so=5.0)\n",
    "\n",
    "print(\"Nhân viên 1:\", luong_nv1)\n",
    "print(\"Nhân viên 2:\", luong_nv2)"
   ]
  },
  {
   "cell_type": "code",
   "execution_count": 61,
   "id": "df8267fe",
   "metadata": {},
   "outputs": [
    {
     "name": "stdout",
     "output_type": "stream",
     "text": [
      "5 10\n"
     ]
    }
   ],
   "source": [
    "### Hàm \"nặc danh\" (anonymous, lambda)\n",
    "Nhân_Đôi = lambda x: x * 2\n",
    "a = 5\n",
    "b = Nhân_Đôi(a)\n",
    "print(a, b)"
   ]
  },
  {
   "cell_type": "markdown",
   "id": "6bf5e5a9",
   "metadata": {},
   "source": [
    "# 4. Câu điều kiện: if elif else"
   ]
  },
  {
   "cell_type": "code",
   "execution_count": 63,
   "id": "3bd88fdd",
   "metadata": {},
   "outputs": [
    {
     "name": "stdout",
     "output_type": "stream",
     "text": [
      "0.1\n",
      "0.15\n",
      "0.05\n"
     ]
    }
   ],
   "source": [
    "def Tính_Mức_KM(tuoi):\n",
    "    if tuoi < 5: km = 0.15\n",
    "    elif tuoi < 10: km = 0.10 #5<=tuoi<10\n",
    "    else: km = 0.05\n",
    "\n",
    "    return km\n",
    "\n",
    "km1 = Tính_Mức_KM(7)\n",
    "print(km1)\n",
    "\n",
    "km2 = Tính_Mức_KM(3)\n",
    "print(km2)\n",
    "\n",
    "print(Tính_Mức_KM(23))"
   ]
  },
  {
   "cell_type": "code",
   "execution_count": 65,
   "id": "0c910c94",
   "metadata": {},
   "outputs": [
    {
     "name": "stdout",
     "output_type": "stream",
     "text": [
      "0.15\n",
      "Tuổi nhập vào không phải là số tự nhiên\n",
      "None\n"
     ]
    }
   ],
   "source": [
    "def Tính_Mức_KM(tuoi):\n",
    "    if type(tuoi) is not int: \n",
    "        print('Tuổi nhập vào không phải là số tự nhiên')\n",
    "        return None\n",
    "    elif not tuoi > 0:\n",
    "        print('Tuổi nhập vào phải là số tự nhiên lớn hơn 0')\n",
    "        return None\n",
    "    \n",
    "    if tuoi < 5 or tuoi > 60: km = 0.15\n",
    "    elif 5 < tuoi <= 10: km = 0.10\n",
    "    elif tuoi > 10 and tuoi <=18: km = 0.75\n",
    "    else: km = 0.05\n",
    "\n",
    "    return km\n",
    "\n",
    "km1 = Tính_Mức_KM(70)\n",
    "print(km1)\n",
    "\n",
    "km2 = Tính_Mức_KM('ABC')\n",
    "print(km2)"
   ]
  },
  {
   "cell_type": "markdown",
   "id": "e25f4e4a",
   "metadata": {},
   "source": [
    "# 5. Vòng lặp"
   ]
  },
  {
   "cell_type": "code",
   "execution_count": 66,
   "id": "4441b808",
   "metadata": {},
   "outputs": [
    {
     "name": "stdout",
     "output_type": "stream",
     "text": [
      "x = 1, y = 2\n",
      "x = 2, y = 4\n",
      "x = 3, y = 8\n",
      "x = 4, y = 16\n",
      "x = 5, y = 32\n",
      "x = 6, y = 64\n",
      "x = 7, y = 128\n",
      "x = 8, y = 256\n",
      "x = 9, y = 512\n"
     ]
    }
   ],
   "source": [
    "### Vòng lặp WHILE\n",
    "x = 1\n",
    "while x < 10:\n",
    "    y = 2**x  #2 mũ x\n",
    "    print(f\"x = {x}, y = {y}\")\n",
    "    x += 1"
   ]
  },
  {
   "cell_type": "code",
   "execution_count": 67,
   "id": "70c2a471",
   "metadata": {},
   "outputs": [
    {
     "name": "stdout",
     "output_type": "stream",
     "text": [
      "Xin chào bạn Nam\n",
      "Xin chào bạn Oanh\n",
      "Xin chào bạn Peter\n",
      "Xin chào bạn Laura\n"
     ]
    }
   ],
   "source": [
    "### Vòng lặp FOR (1)\n",
    "danh_sach_hv = [\"Nam\", \"Oanh\", \"Peter\", \"Laura\"]\n",
    "for hv in danh_sach_hv: # Lấy trực tiếp từng item\n",
    "    print(\"Xin chào bạn\", hv)"
   ]
  },
  {
   "cell_type": "code",
   "execution_count": 69,
   "id": "e1c97f40",
   "metadata": {},
   "outputs": [
    {
     "name": "stdout",
     "output_type": "stream",
     "text": [
      "0\n",
      "1\n",
      "2\n",
      "3\n"
     ]
    }
   ],
   "source": [
    "for i in range(4): print(i)"
   ]
  },
  {
   "cell_type": "code",
   "execution_count": 70,
   "id": "96a56d85",
   "metadata": {},
   "outputs": [
    {
     "name": "stdout",
     "output_type": "stream",
     "text": [
      "Xin chào bạn Nam\n",
      "Xin chào bạn Oanh\n",
      "Xin chào bạn Peter\n",
      "Xin chào bạn Laura\n"
     ]
    }
   ],
   "source": [
    "### Vòng lặp FOR (2)\n",
    "danh_sach_hv = [\"Nam\", \"Oanh\", \"Peter\", \"Laura\"]\n",
    "for i in range(4): # Lấy index của item\n",
    "    print(\"Xin chào bạn\", danh_sach_hv[i])"
   ]
  },
  {
   "cell_type": "code",
   "execution_count": 71,
   "id": "8956b5dc",
   "metadata": {},
   "outputs": [
    {
     "name": "stdout",
     "output_type": "stream",
     "text": [
      "x = 2, y = 4\n",
      "x = 4, y = 16\n",
      "x = 6, y = 64\n",
      "x = 8, y = 256\n"
     ]
    }
   ],
   "source": [
    "### Lệnh continue trong vòng lặp\n",
    "### Vòng lặp WHILE\n",
    "x = 1\n",
    "while x < 10:\n",
    "    if x%2 != 0: \n",
    "        x = x + 1\n",
    "        continue\n",
    "        \n",
    "    y = 2**x  #2 mũ x\n",
    "    print(f\"x = {x}, y = {y}\")\n",
    "    x += 1"
   ]
  },
  {
   "cell_type": "code",
   "execution_count": 72,
   "id": "a41ac16f",
   "metadata": {},
   "outputs": [
    {
     "name": "stdout",
     "output_type": "stream",
     "text": [
      "1\n",
      "3\n"
     ]
    }
   ],
   "source": [
    "### Lệnh continue trong vòng lặp\n",
    "### Vòng lặp FOR\n",
    "a = [1,2,3,4,5,6]\n",
    "for i in a:\n",
    "    if i%2 == 0: continue\n",
    "    if i > 4: break\n",
    "    print(i)\n",
    "    "
   ]
  },
  {
   "cell_type": "code",
   "execution_count": null,
   "id": "515bff8c",
   "metadata": {},
   "outputs": [],
   "source": [
    "### Ví dụ vòng lặp ko dùng while/for: Vòng lặp đệ quy \n",
    "def test(a):\n",
    "    a = a - 1 \n",
    "    if a > 1:\n",
    "        print(\"Tiếp tục gọi test(a)\")\n",
    "        a = test(a)\n",
    "    else: \n",
    "        print(\"Xong\")\n",
    "        return 1\n",
    "x = 10\n",
    "test(x)"
   ]
  }
 ],
 "metadata": {
  "kernelspec": {
   "display_name": "Python 3 (ipykernel)",
   "language": "python",
   "name": "python3"
  },
  "language_info": {
   "codemirror_mode": {
    "name": "ipython",
    "version": 3
   },
   "file_extension": ".py",
   "mimetype": "text/x-python",
   "name": "python",
   "nbconvert_exporter": "python",
   "pygments_lexer": "ipython3",
   "version": "3.9.7"
  }
 },
 "nbformat": 4,
 "nbformat_minor": 5
}
