{
 "cells": [
  {
   "cell_type": "markdown",
   "metadata": {},
   "source": [
    "1. Dữ liệu giá cổ phiếu: Viết vòng lặp xác định nếu giá cp lên 7% so với ngày hôm trước thì bán, xuống 6% so với ngày hôm trước thì mua \n",
    "gia_theo_ngay = [10.1, 9.5, 10.7, 10.8, 10.6, 10.0, 10.2, 9.5]"
   ]
  },
  {
   "cell_type": "code",
   "execution_count": 1,
   "metadata": {},
   "outputs": [
    {
     "name": "stdout",
     "output_type": "stream",
     "text": [
      "[[9.5, 'Giữ'], [10.7, 'Bán'], [10.8, 'Giữ'], [10.6, 'Giữ'], [10.0, 'Giữ'], [10.2, 'Giữ'], [9.5, 'Mua']]\n"
     ]
    }
   ],
   "source": [
    "gia_theo_ngay,a,b = [10.1, 9.5, 10.7, 10.8, 10.6, 10.0, 10.2, 9.5],[],[]\n",
    "for i in range(1,len(gia_theo_ngay)):\n",
    "    ratio = (gia_theo_ngay[i]/gia_theo_ngay[i-1]-1)*100\n",
    "    if ratio >= 7: a= [gia_theo_ngay[i],'Bán']\n",
    "    elif ratio<=-6: a= [gia_theo_ngay[i],'Mua']\n",
    "    else: a= [gia_theo_ngay[i],'Giữ']\n",
    "    b.append(a)\n",
    "print(b)    "
   ]
  },
  {
   "cell_type": "markdown",
   "metadata": {},
   "source": [
    "2. Viết hàm tính tiền bảo hiểm và thuế thu nhập cá nhân cho các nhân viên:\n",
    "● Input: lương, phụ cấp\n",
    "● Output: BHXH, PIT"
   ]
  },
  {
   "cell_type": "code",
   "execution_count": 2,
   "metadata": {},
   "outputs": [
    {
     "name": "stdout",
     "output_type": "stream",
     "text": [
      "Số tiền BHXH phải nộp là 1312500 và số tiền thuế TNCN phải nộp là 75000\n"
     ]
    }
   ],
   "source": [
    "def tien_bh_pit(luong,phu_cap):\n",
    "    if luong>0 and (luong+phu_cap)<=11000000 and phu_cap>0:\n",
    "        BHXH = (luong+phu_cap)*10.5/100\n",
    "        PIT = 0\n",
    "    elif (luong+phu_cap) > 11000000 and phu_cap>0:\n",
    "        BHXH = (luong+phu_cap)*10.5/100\n",
    "        PIT = (luong+phu_cap-11000000)*5/100\n",
    "    else: BHXH = 0\n",
    "    return print(f'Số tiền BHXH phải nộp là {BHXH:.0f} và số tiền thuế TNCN phải nộp là {PIT:.0f}')\n",
    "tien_bh_pit(12000000,500000)    "
   ]
  }
 ],
 "metadata": {
  "interpreter": {
   "hash": "9793e026600ea3138d2b4af1f570ba87428b67ac3db0391f1962ee6a9c241852"
  },
  "kernelspec": {
   "display_name": "Python 3.9.6 64-bit",
   "language": "python",
   "name": "python3"
  },
  "language_info": {
   "codemirror_mode": {
    "name": "ipython",
    "version": 3
   },
   "file_extension": ".py",
   "mimetype": "text/x-python",
   "name": "python",
   "nbconvert_exporter": "python",
   "pygments_lexer": "ipython3",
   "version": "3.9.6"
  },
  "orig_nbformat": 4
 },
 "nbformat": 4,
 "nbformat_minor": 2
}
