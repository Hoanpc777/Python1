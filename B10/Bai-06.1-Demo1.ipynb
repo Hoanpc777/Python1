{
 "cells": [
  {
   "cell_type": "code",
   "execution_count": null,
   "id": "8b3a05ef",
   "metadata": {},
   "outputs": [],
   "source": [
    "import pandas as pd\n",
    "import numpy as np\n",
    "from matplotlib import pyplot as plt\n",
    "np.set_printoptions(precision=3, suppress=True)\n",
    "\n",
    "print(pd.__version__)"
   ]
  },
  {
   "cell_type": "markdown",
   "id": "4255e1a5",
   "metadata": {},
   "source": [
    "# 1. Series"
   ]
  },
  {
   "cell_type": "markdown",
   "id": "39d07723",
   "metadata": {},
   "source": [
    "## 1.1. Khởi tạo Series"
   ]
  },
  {
   "cell_type": "code",
   "execution_count": null,
   "id": "784fccc7",
   "metadata": {
    "scrolled": true
   },
   "outputs": [],
   "source": [
    "s = pd.Series([5, 1, 3, 7, np.nan, 6, 8, 4])\n",
    "print(s)"
   ]
  },
  {
   "cell_type": "code",
   "execution_count": null,
   "id": "59be5d08",
   "metadata": {
    "scrolled": true
   },
   "outputs": [],
   "source": [
    "s = pd.Series(data=[5, 1, 3, 7, np.nan, 6, 8, 4], index=range(1,9), \n",
    "              dtype='float16', name='my-series', copy=False)\n",
    "print(s)"
   ]
  },
  {
   "cell_type": "code",
   "execution_count": null,
   "id": "5e2a55e6",
   "metadata": {},
   "outputs": [],
   "source": [
    "# Gán index theo ý muốn\n",
    "s.index = list(\"abcdefgh\")\n",
    "print(s)"
   ]
  },
  {
   "cell_type": "code",
   "execution_count": null,
   "id": "64fdac4b",
   "metadata": {},
   "outputs": [],
   "source": [
    "# Reset lại index theo thứ tự từ 0,1,2... --> n\n",
    "s = s.reset_index(drop=True)\n",
    "s"
   ]
  },
  {
   "cell_type": "code",
   "execution_count": null,
   "id": "d6d62dc4",
   "metadata": {},
   "outputs": [],
   "source": [
    "# Reset lại index theo thứ tự từ 0,1,2... --> n\n",
    "s.reset_index(drop=True, inplace=True)\n",
    "s"
   ]
  },
  {
   "cell_type": "code",
   "execution_count": null,
   "id": "ed7f5874",
   "metadata": {},
   "outputs": [],
   "source": [
    "s.index"
   ]
  },
  {
   "cell_type": "code",
   "execution_count": 311,
   "id": "64a1f185",
   "metadata": {},
   "outputs": [
    {
     "data": {
      "text/plain": [
       "array([ 5.,  1.,  3.,  7., nan,  6.,  8.,  4.], dtype=float16)"
      ]
     },
     "execution_count": 311,
     "metadata": {},
     "output_type": "execute_result"
    }
   ],
   "source": [
    "s.values"
   ]
  },
  {
   "cell_type": "code",
   "execution_count": 320,
   "id": "2ba432b3",
   "metadata": {},
   "outputs": [
    {
     "data": {
      "text/plain": [
       "<bound method Series.keys of 0    5.0\n",
       "1    1.0\n",
       "2    3.0\n",
       "3    7.0\n",
       "4    NaN\n",
       "5    6.0\n",
       "6    8.0\n",
       "7    4.0\n",
       "Name: my-series, dtype: float16>"
      ]
     },
     "execution_count": 320,
     "metadata": {},
     "output_type": "execute_result"
    }
   ],
   "source": [
    "s.keys"
   ]
  },
  {
   "cell_type": "code",
   "execution_count": 315,
   "id": "ff307eac",
   "metadata": {},
   "outputs": [
    {
     "data": {
      "text/plain": [
       "count    7.000000\n",
       "mean     4.855469\n",
       "std      2.410156\n",
       "min      1.000000\n",
       "25%      3.500000\n",
       "50%      5.000000\n",
       "75%      6.500000\n",
       "max      8.000000\n",
       "Name: my-series, dtype: float64"
      ]
     },
     "execution_count": 315,
     "metadata": {},
     "output_type": "execute_result"
    }
   ],
   "source": [
    "s.describe()"
   ]
  },
  {
   "cell_type": "markdown",
   "id": "7ba8c2aa",
   "metadata": {},
   "source": [
    "## 1.2. Truy cập phần tử trong Series"
   ]
  },
  {
   "cell_type": "code",
   "execution_count": null,
   "id": "830a8015",
   "metadata": {},
   "outputs": [],
   "source": [
    "# Truy cập phần tử dựa vào chỉ số\n",
    "s[0] = 7\n",
    "s"
   ]
  },
  {
   "cell_type": "code",
   "execution_count": null,
   "id": "f81144cb",
   "metadata": {},
   "outputs": [],
   "source": [
    "# Sử dụng hàm iloc: chỉ số dạng số học\n",
    "s.iloc[1] = 5\n",
    "s"
   ]
  },
  {
   "cell_type": "code",
   "execution_count": null,
   "id": "4b3c9f1f",
   "metadata": {},
   "outputs": [],
   "source": [
    "# Sử dụng hàm loc: chỉ số dạng text \n",
    "s.loc['e'] = 9\n",
    "s"
   ]
  },
  {
   "cell_type": "markdown",
   "id": "90403f7d",
   "metadata": {},
   "source": [
    "## 1.3. Slicing"
   ]
  },
  {
   "cell_type": "code",
   "execution_count": null,
   "id": "f3be06b2",
   "metadata": {
    "scrolled": true
   },
   "outputs": [],
   "source": [
    "s[1:3]"
   ]
  },
  {
   "cell_type": "code",
   "execution_count": null,
   "id": "4e453e6c",
   "metadata": {
    "scrolled": true
   },
   "outputs": [],
   "source": [
    "s[0:7:2]"
   ]
  },
  {
   "cell_type": "code",
   "execution_count": null,
   "id": "dcb613ac",
   "metadata": {},
   "outputs": [],
   "source": [
    "s[-3:-1]"
   ]
  },
  {
   "cell_type": "code",
   "execution_count": null,
   "id": "066409b1",
   "metadata": {},
   "outputs": [],
   "source": [
    "s[::-1]"
   ]
  },
  {
   "cell_type": "code",
   "execution_count": null,
   "id": "b29b116e",
   "metadata": {},
   "outputs": [],
   "source": [
    "# Sử dụng hàm iloc: chỉ số dạng số học\n",
    "s.iloc[1:3]"
   ]
  },
  {
   "cell_type": "code",
   "execution_count": null,
   "id": "97d6aa66",
   "metadata": {},
   "outputs": [],
   "source": [
    "# Sử dụng hàm loc: chỉ số dạng text\n",
    "s.loc['a':'f']"
   ]
  },
  {
   "cell_type": "markdown",
   "id": "9b2f662c",
   "metadata": {},
   "source": [
    "# 2. DataFrame"
   ]
  },
  {
   "cell_type": "markdown",
   "id": "543fce6e",
   "metadata": {},
   "source": [
    "## 2.1. Khởi tạo DataFrame"
   ]
  },
  {
   "cell_type": "code",
   "execution_count": null,
   "id": "4efb9d9e",
   "metadata": {},
   "outputs": [],
   "source": [
    "a = np.random.randint(0, 10, size=(10,4))\n",
    "a"
   ]
  },
  {
   "cell_type": "code",
   "execution_count": null,
   "id": "b40ebcdb",
   "metadata": {},
   "outputs": [],
   "source": [
    "df1 = pd.DataFrame(data=a, index=range(1,11), columns=list('ABCD'), dtype='uint8')\n",
    "df1"
   ]
  },
  {
   "cell_type": "code",
   "execution_count": 234,
   "id": "e41f246b",
   "metadata": {},
   "outputs": [
    {
     "data": {
      "text/plain": [
       "array([[3, 6, 9, 2],\n",
       "       [3, 5, 4, 2],\n",
       "       [0, 2, 2, 7],\n",
       "       [4, 9, 6, 4],\n",
       "       [1, 9, 8, 2],\n",
       "       [5, 9, 8, 2],\n",
       "       [1, 3, 6, 0],\n",
       "       [9, 5, 9, 6],\n",
       "       [6, 8, 8, 3],\n",
       "       [3, 6, 2, 7]], dtype=uint8)"
      ]
     },
     "execution_count": 234,
     "metadata": {},
     "output_type": "execute_result"
    }
   ],
   "source": [
    "# Lấy ra mảng Numpy\n",
    "df1.values"
   ]
  },
  {
   "cell_type": "code",
   "execution_count": null,
   "id": "5e428c38",
   "metadata": {},
   "outputs": [],
   "source": [
    "# Lấy ra mảng Numpy\n",
    "df1.to_numpy()"
   ]
  },
  {
   "cell_type": "code",
   "execution_count": null,
   "id": "d776d74c",
   "metadata": {},
   "outputs": [],
   "source": [
    "b = a.T\n",
    "d = {'A':b[0], 'B':b[1], 'C':b[2], 'D':b[3]}\n",
    "df2 = pd.DataFrame(d, copy=False)\n",
    "df2"
   ]
  },
  {
   "cell_type": "code",
   "execution_count": null,
   "id": "12b116c2",
   "metadata": {},
   "outputs": [],
   "source": [
    "df2['A'][0] = 1\n",
    "print(b)\n",
    "print(d)"
   ]
  },
  {
   "cell_type": "markdown",
   "id": "601588e1",
   "metadata": {},
   "source": [
    "## 2.2. Truy cập vào phần tử trong DataFrame"
   ]
  },
  {
   "cell_type": "code",
   "execution_count": null,
   "id": "9467e08e",
   "metadata": {},
   "outputs": [],
   "source": [
    "# Dùng slicing\n",
    "df2[1:5][['A','C']]"
   ]
  },
  {
   "cell_type": "code",
   "execution_count": null,
   "id": "140962f5",
   "metadata": {},
   "outputs": [],
   "source": [
    "df2[['A','C']][1:5]"
   ]
  },
  {
   "cell_type": "code",
   "execution_count": null,
   "id": "cf9fda2c",
   "metadata": {},
   "outputs": [],
   "source": [
    "# Dùng iloc, loc\n",
    "print(df2.iloc[1:3][['A','C']])\n",
    "print(df2.loc[1:3][['A', 'C']])"
   ]
  },
  {
   "cell_type": "code",
   "execution_count": null,
   "id": "e176c69a",
   "metadata": {},
   "outputs": [],
   "source": [
    "# Đảo ngược lại cách truy cập theo cột - dòng?\n",
    "# print(df2.iloc[['A','C']][1:3])\n",
    "print(df2.loc['A'][1:3])"
   ]
  },
  {
   "cell_type": "code",
   "execution_count": null,
   "id": "9e9dcf87",
   "metadata": {},
   "outputs": [],
   "source": [
    "# Dùng iat, at (single value)\n",
    "df2.at[1,'A']"
   ]
  },
  {
   "cell_type": "code",
   "execution_count": null,
   "id": "b0511e85",
   "metadata": {},
   "outputs": [],
   "source": [
    "df2.iat[1,1]"
   ]
  },
  {
   "cell_type": "code",
   "execution_count": null,
   "id": "e4d001ef",
   "metadata": {},
   "outputs": [],
   "source": [
    "# Dùng iloc truy cập nhiều dòng, nhiều cột theo index như array của Numpy\n",
    "df2.iloc[1:4,1:3]"
   ]
  },
  {
   "cell_type": "code",
   "execution_count": null,
   "id": "ad2a41a2",
   "metadata": {},
   "outputs": [],
   "source": [
    "df2.loc[1:4, ['A','C']]"
   ]
  },
  {
   "cell_type": "markdown",
   "id": "474fff9c",
   "metadata": {},
   "source": [
    "**Lọc theo giá trị của cột**"
   ]
  },
  {
   "cell_type": "code",
   "execution_count": 323,
   "id": "2f741e52",
   "metadata": {},
   "outputs": [
    {
     "data": {
      "text/html": [
       "<div>\n",
       "<style scoped>\n",
       "    .dataframe tbody tr th:only-of-type {\n",
       "        vertical-align: middle;\n",
       "    }\n",
       "\n",
       "    .dataframe tbody tr th {\n",
       "        vertical-align: top;\n",
       "    }\n",
       "\n",
       "    .dataframe thead th {\n",
       "        text-align: right;\n",
       "    }\n",
       "</style>\n",
       "<table border=\"1\" class=\"dataframe\">\n",
       "  <thead>\n",
       "    <tr style=\"text-align: right;\">\n",
       "      <th></th>\n",
       "      <th>A</th>\n",
       "      <th>B</th>\n",
       "      <th>C</th>\n",
       "      <th>D</th>\n",
       "    </tr>\n",
       "  </thead>\n",
       "  <tbody>\n",
       "    <tr>\n",
       "      <th>7</th>\n",
       "      <td>9</td>\n",
       "      <td>5</td>\n",
       "      <td>9</td>\n",
       "      <td>6</td>\n",
       "    </tr>\n",
       "    <tr>\n",
       "      <th>8</th>\n",
       "      <td>6</td>\n",
       "      <td>8</td>\n",
       "      <td>8</td>\n",
       "      <td>3</td>\n",
       "    </tr>\n",
       "  </tbody>\n",
       "</table>\n",
       "</div>"
      ],
      "text/plain": [
       "   A  B  C  D\n",
       "7  9  5  9  6\n",
       "8  6  8  8  3"
      ]
     },
     "execution_count": 323,
     "metadata": {},
     "output_type": "execute_result"
    }
   ],
   "source": [
    "df2.loc[df2['A'] > 5]"
   ]
  },
  {
   "cell_type": "code",
   "execution_count": 335,
   "id": "75002da3",
   "metadata": {
    "scrolled": false
   },
   "outputs": [
    {
     "data": {
      "text/html": [
       "<div>\n",
       "<style scoped>\n",
       "    .dataframe tbody tr th:only-of-type {\n",
       "        vertical-align: middle;\n",
       "    }\n",
       "\n",
       "    .dataframe tbody tr th {\n",
       "        vertical-align: top;\n",
       "    }\n",
       "\n",
       "    .dataframe thead th {\n",
       "        text-align: right;\n",
       "    }\n",
       "</style>\n",
       "<table border=\"1\" class=\"dataframe\">\n",
       "  <thead>\n",
       "    <tr style=\"text-align: right;\">\n",
       "      <th></th>\n",
       "      <th>A</th>\n",
       "      <th>B</th>\n",
       "      <th>C</th>\n",
       "      <th>D</th>\n",
       "    </tr>\n",
       "  </thead>\n",
       "  <tbody>\n",
       "    <tr>\n",
       "      <th>7</th>\n",
       "      <td>9</td>\n",
       "      <td>5</td>\n",
       "      <td>9</td>\n",
       "      <td>6</td>\n",
       "    </tr>\n",
       "  </tbody>\n",
       "</table>\n",
       "</div>"
      ],
      "text/plain": [
       "   A  B  C  D\n",
       "7  9  5  9  6"
      ]
     },
     "execution_count": 335,
     "metadata": {},
     "output_type": "execute_result"
    }
   ],
   "source": [
    "df2.loc[(df2['A'] > 2) & (df2['C'] > 8)]"
   ]
  },
  {
   "cell_type": "code",
   "execution_count": 338,
   "id": "000a56a3",
   "metadata": {
    "scrolled": false
   },
   "outputs": [
    {
     "data": {
      "text/html": [
       "<div>\n",
       "<style scoped>\n",
       "    .dataframe tbody tr th:only-of-type {\n",
       "        vertical-align: middle;\n",
       "    }\n",
       "\n",
       "    .dataframe tbody tr th {\n",
       "        vertical-align: top;\n",
       "    }\n",
       "\n",
       "    .dataframe thead th {\n",
       "        text-align: right;\n",
       "    }\n",
       "</style>\n",
       "<table border=\"1\" class=\"dataframe\">\n",
       "  <thead>\n",
       "    <tr style=\"text-align: right;\">\n",
       "      <th></th>\n",
       "      <th>A</th>\n",
       "      <th>B</th>\n",
       "      <th>C</th>\n",
       "      <th>D</th>\n",
       "    </tr>\n",
       "  </thead>\n",
       "  <tbody>\n",
       "    <tr>\n",
       "      <th>0</th>\n",
       "      <td>1</td>\n",
       "      <td>6</td>\n",
       "      <td>9</td>\n",
       "      <td>2</td>\n",
       "    </tr>\n",
       "    <tr>\n",
       "      <th>1</th>\n",
       "      <td>3</td>\n",
       "      <td>5</td>\n",
       "      <td>4</td>\n",
       "      <td>2</td>\n",
       "    </tr>\n",
       "    <tr>\n",
       "      <th>3</th>\n",
       "      <td>4</td>\n",
       "      <td>9</td>\n",
       "      <td>6</td>\n",
       "      <td>4</td>\n",
       "    </tr>\n",
       "    <tr>\n",
       "      <th>5</th>\n",
       "      <td>5</td>\n",
       "      <td>9</td>\n",
       "      <td>8</td>\n",
       "      <td>2</td>\n",
       "    </tr>\n",
       "    <tr>\n",
       "      <th>7</th>\n",
       "      <td>9</td>\n",
       "      <td>5</td>\n",
       "      <td>9</td>\n",
       "      <td>6</td>\n",
       "    </tr>\n",
       "    <tr>\n",
       "      <th>8</th>\n",
       "      <td>6</td>\n",
       "      <td>8</td>\n",
       "      <td>8</td>\n",
       "      <td>3</td>\n",
       "    </tr>\n",
       "    <tr>\n",
       "      <th>9</th>\n",
       "      <td>3</td>\n",
       "      <td>6</td>\n",
       "      <td>2</td>\n",
       "      <td>7</td>\n",
       "    </tr>\n",
       "  </tbody>\n",
       "</table>\n",
       "</div>"
      ],
      "text/plain": [
       "   A  B  C  D\n",
       "0  1  6  9  2\n",
       "1  3  5  4  2\n",
       "3  4  9  6  4\n",
       "5  5  9  8  2\n",
       "7  9  5  9  6\n",
       "8  6  8  8  3\n",
       "9  3  6  2  7"
      ]
     },
     "execution_count": 338,
     "metadata": {},
     "output_type": "execute_result"
    }
   ],
   "source": [
    "df2.loc[(df2['A'] > 2) | (df2['C'] > 8)]"
   ]
  },
  {
   "cell_type": "code",
   "execution_count": 332,
   "id": "e263a71b",
   "metadata": {
    "scrolled": true
   },
   "outputs": [
    {
     "data": {
      "text/html": [
       "<div>\n",
       "<style scoped>\n",
       "    .dataframe tbody tr th:only-of-type {\n",
       "        vertical-align: middle;\n",
       "    }\n",
       "\n",
       "    .dataframe tbody tr th {\n",
       "        vertical-align: top;\n",
       "    }\n",
       "\n",
       "    .dataframe thead th {\n",
       "        text-align: right;\n",
       "    }\n",
       "</style>\n",
       "<table border=\"1\" class=\"dataframe\">\n",
       "  <thead>\n",
       "    <tr style=\"text-align: right;\">\n",
       "      <th></th>\n",
       "      <th>A</th>\n",
       "      <th>B</th>\n",
       "      <th>C</th>\n",
       "      <th>D</th>\n",
       "    </tr>\n",
       "  </thead>\n",
       "  <tbody>\n",
       "    <tr>\n",
       "      <th>1</th>\n",
       "      <td>3</td>\n",
       "      <td>5</td>\n",
       "      <td>4</td>\n",
       "      <td>2</td>\n",
       "    </tr>\n",
       "    <tr>\n",
       "      <th>3</th>\n",
       "      <td>4</td>\n",
       "      <td>9</td>\n",
       "      <td>6</td>\n",
       "      <td>4</td>\n",
       "    </tr>\n",
       "    <tr>\n",
       "      <th>5</th>\n",
       "      <td>5</td>\n",
       "      <td>9</td>\n",
       "      <td>8</td>\n",
       "      <td>2</td>\n",
       "    </tr>\n",
       "    <tr>\n",
       "      <th>8</th>\n",
       "      <td>6</td>\n",
       "      <td>8</td>\n",
       "      <td>8</td>\n",
       "      <td>3</td>\n",
       "    </tr>\n",
       "    <tr>\n",
       "      <th>9</th>\n",
       "      <td>3</td>\n",
       "      <td>6</td>\n",
       "      <td>2</td>\n",
       "      <td>7</td>\n",
       "    </tr>\n",
       "  </tbody>\n",
       "</table>\n",
       "</div>"
      ],
      "text/plain": [
       "   A  B  C  D\n",
       "1  3  5  4  2\n",
       "3  4  9  6  4\n",
       "5  5  9  8  2\n",
       "8  6  8  8  3\n",
       "9  3  6  2  7"
      ]
     },
     "execution_count": 332,
     "metadata": {},
     "output_type": "execute_result"
    }
   ],
   "source": [
    "df2.loc[(df2['A'] > 2) & (df2['C']%2 == 0)]"
   ]
  },
  {
   "cell_type": "markdown",
   "id": "8830fb36",
   "metadata": {},
   "source": [
    "**Lặp qua các dòng, cột với iterrows, items**"
   ]
  },
  {
   "cell_type": "code",
   "execution_count": 339,
   "id": "871d259f",
   "metadata": {},
   "outputs": [
    {
     "name": "stdout",
     "output_type": "stream",
     "text": [
      "A\n",
      "B\n",
      "C\n",
      "D\n"
     ]
    }
   ],
   "source": [
    "for item in df2:\n",
    "    print(item)"
   ]
  },
  {
   "cell_type": "code",
   "execution_count": 255,
   "id": "0cb50822",
   "metadata": {},
   "outputs": [
    {
     "name": "stdout",
     "output_type": "stream",
     "text": [
      "Index(['A', 'B', 'C', 'D'], dtype='object') [1 6 9 2]\n",
      "Index(['A', 'B', 'C', 'D'], dtype='object') [3 5 4 2]\n",
      "Index(['A', 'B', 'C', 'D'], dtype='object') [0 2 2 7]\n",
      "Index(['A', 'B', 'C', 'D'], dtype='object') [4 9 6 4]\n",
      "Index(['A', 'B', 'C', 'D'], dtype='object') [1 9 8 2]\n",
      "Index(['A', 'B', 'C', 'D'], dtype='object') [5 9 8 2]\n",
      "Index(['A', 'B', 'C', 'D'], dtype='object') [1 3 6 0]\n",
      "Index(['A', 'B', 'C', 'D'], dtype='object') [9 5 9 6]\n",
      "Index(['A', 'B', 'C', 'D'], dtype='object') [6 8 8 3]\n",
      "Index(['A', 'B', 'C', 'D'], dtype='object') [3 6 2 7]\n",
      "<class 'pandas.core.series.Series'>\n"
     ]
    }
   ],
   "source": [
    "# Lặp qua các dòng trong DataFrame\n",
    "for idx,row in df2.iterrows():\n",
    "    print(row.index, row.values)\n",
    "print(type(row))"
   ]
  },
  {
   "cell_type": "code",
   "execution_count": 259,
   "id": "184f8b7a",
   "metadata": {},
   "outputs": [
    {
     "name": "stdout",
     "output_type": "stream",
     "text": [
      "A [1 3 0 4 1 5 1 9 6 3]\n",
      "B [6 5 2 9 9 9 3 5 8 6]\n",
      "C [9 4 2 6 8 8 6 9 8 2]\n",
      "D [2 2 7 4 2 2 0 6 3 7]\n",
      "<class 'pandas.core.series.Series'>\n"
     ]
    }
   ],
   "source": [
    "# Lặp qua các cột trong DataFrame\n",
    "for col_label, col_vals in df2.items():\n",
    "    print(col_label, col_vals.values)\n",
    "print(type(col_vals))"
   ]
  },
  {
   "cell_type": "code",
   "execution_count": 264,
   "id": "9dca71cc",
   "metadata": {},
   "outputs": [
    {
     "name": "stdout",
     "output_type": "stream",
     "text": [
      "Pandas(Index=0, A=1, B=6, C=9, D=2)\n",
      "Pandas(Index=1, A=3, B=5, C=4, D=2)\n",
      "Pandas(Index=2, A=0, B=2, C=2, D=7)\n",
      "Pandas(Index=3, A=4, B=9, C=6, D=4)\n",
      "Pandas(Index=4, A=1, B=9, C=8, D=2)\n",
      "Pandas(Index=5, A=5, B=9, C=8, D=2)\n",
      "Pandas(Index=6, A=1, B=3, C=6, D=0)\n",
      "Pandas(Index=7, A=9, B=5, C=9, D=6)\n",
      "Pandas(Index=8, A=6, B=8, C=8, D=3)\n",
      "Pandas(Index=9, A=3, B=6, C=2, D=7)\n"
     ]
    }
   ],
   "source": [
    "for t in df2.itertuples():\n",
    "    print(t)"
   ]
  },
  {
   "cell_type": "markdown",
   "id": "f50f5677",
   "metadata": {},
   "source": [
    "## 2.3. Lấy thông tin cơ bản của DataFrame"
   ]
  },
  {
   "cell_type": "code",
   "execution_count": null,
   "id": "98a5d3c7",
   "metadata": {},
   "outputs": [],
   "source": [
    "# Thông tin cột\n",
    "print(df1.columns)\n",
    "print(df1.columns.values)"
   ]
  },
  {
   "cell_type": "code",
   "execution_count": null,
   "id": "4bcb5b49",
   "metadata": {},
   "outputs": [],
   "source": [
    "# Thông tin index (dòng)\n",
    "print(df1.index)\n",
    "print(df1.index.values)"
   ]
  },
  {
   "cell_type": "code",
   "execution_count": null,
   "id": "19936e23",
   "metadata": {},
   "outputs": [],
   "source": [
    "# Thông tin về kích thước\n",
    "print(df1.shape)\n",
    "print(df1.ndim)\n",
    "print(df1.size)"
   ]
  },
  {
   "cell_type": "code",
   "execution_count": null,
   "id": "2e206986",
   "metadata": {},
   "outputs": [],
   "source": [
    "df1.head(3)"
   ]
  },
  {
   "cell_type": "code",
   "execution_count": null,
   "id": "53c27c2c",
   "metadata": {},
   "outputs": [],
   "source": [
    "df1.tail(3)"
   ]
  },
  {
   "cell_type": "code",
   "execution_count": null,
   "id": "ddfdbf17",
   "metadata": {},
   "outputs": [],
   "source": [
    "df1.info()"
   ]
  },
  {
   "cell_type": "code",
   "execution_count": null,
   "id": "72062572",
   "metadata": {},
   "outputs": [],
   "source": [
    "df1.describe()"
   ]
  },
  {
   "cell_type": "code",
   "execution_count": null,
   "id": "df04bc3a",
   "metadata": {},
   "outputs": [],
   "source": [
    "df1.memory_usage(index=False, deep=True)"
   ]
  },
  {
   "cell_type": "markdown",
   "id": "39fa60cf",
   "metadata": {},
   "source": [
    "## 2.4. Một số phép toán trên DataFrame"
   ]
  },
  {
   "cell_type": "code",
   "execution_count": null,
   "id": "ba96f58c",
   "metadata": {},
   "outputs": [],
   "source": [
    "df2[df2 > 3].head()"
   ]
  },
  {
   "cell_type": "code",
   "execution_count": null,
   "id": "68901132",
   "metadata": {},
   "outputs": [],
   "source": [
    "df1.reset_index() / df2"
   ]
  },
  {
   "cell_type": "code",
   "execution_count": 233,
   "id": "48a03fa6",
   "metadata": {},
   "outputs": [
    {
     "data": {
      "text/html": [
       "<div>\n",
       "<style scoped>\n",
       "    .dataframe tbody tr th:only-of-type {\n",
       "        vertical-align: middle;\n",
       "    }\n",
       "\n",
       "    .dataframe tbody tr th {\n",
       "        vertical-align: top;\n",
       "    }\n",
       "\n",
       "    .dataframe thead th {\n",
       "        text-align: right;\n",
       "    }\n",
       "</style>\n",
       "<table border=\"1\" class=\"dataframe\">\n",
       "  <thead>\n",
       "    <tr style=\"text-align: right;\">\n",
       "      <th></th>\n",
       "      <th>A</th>\n",
       "      <th>B</th>\n",
       "      <th>C</th>\n",
       "      <th>D</th>\n",
       "    </tr>\n",
       "  </thead>\n",
       "  <tbody>\n",
       "    <tr>\n",
       "      <th>1</th>\n",
       "      <td>4</td>\n",
       "      <td>7</td>\n",
       "      <td>10</td>\n",
       "      <td>3</td>\n",
       "    </tr>\n",
       "    <tr>\n",
       "      <th>2</th>\n",
       "      <td>4</td>\n",
       "      <td>6</td>\n",
       "      <td>5</td>\n",
       "      <td>3</td>\n",
       "    </tr>\n",
       "    <tr>\n",
       "      <th>3</th>\n",
       "      <td>1</td>\n",
       "      <td>3</td>\n",
       "      <td>3</td>\n",
       "      <td>8</td>\n",
       "    </tr>\n",
       "    <tr>\n",
       "      <th>4</th>\n",
       "      <td>5</td>\n",
       "      <td>10</td>\n",
       "      <td>7</td>\n",
       "      <td>5</td>\n",
       "    </tr>\n",
       "    <tr>\n",
       "      <th>5</th>\n",
       "      <td>2</td>\n",
       "      <td>10</td>\n",
       "      <td>9</td>\n",
       "      <td>3</td>\n",
       "    </tr>\n",
       "    <tr>\n",
       "      <th>6</th>\n",
       "      <td>6</td>\n",
       "      <td>10</td>\n",
       "      <td>9</td>\n",
       "      <td>3</td>\n",
       "    </tr>\n",
       "    <tr>\n",
       "      <th>7</th>\n",
       "      <td>2</td>\n",
       "      <td>4</td>\n",
       "      <td>7</td>\n",
       "      <td>1</td>\n",
       "    </tr>\n",
       "    <tr>\n",
       "      <th>8</th>\n",
       "      <td>10</td>\n",
       "      <td>6</td>\n",
       "      <td>10</td>\n",
       "      <td>7</td>\n",
       "    </tr>\n",
       "    <tr>\n",
       "      <th>9</th>\n",
       "      <td>7</td>\n",
       "      <td>9</td>\n",
       "      <td>9</td>\n",
       "      <td>4</td>\n",
       "    </tr>\n",
       "    <tr>\n",
       "      <th>10</th>\n",
       "      <td>4</td>\n",
       "      <td>7</td>\n",
       "      <td>3</td>\n",
       "      <td>8</td>\n",
       "    </tr>\n",
       "  </tbody>\n",
       "</table>\n",
       "</div>"
      ],
      "text/plain": [
       "     A   B   C  D\n",
       "1    4   7  10  3\n",
       "2    4   6   5  3\n",
       "3    1   3   3  8\n",
       "4    5  10   7  5\n",
       "5    2  10   9  3\n",
       "6    6  10   9  3\n",
       "7    2   4   7  1\n",
       "8   10   6  10  7\n",
       "9    7   9   9  4\n",
       "10   4   7   3  8"
      ]
     },
     "execution_count": 233,
     "metadata": {},
     "output_type": "execute_result"
    }
   ],
   "source": [
    "df1 + 1"
   ]
  },
  {
   "cell_type": "code",
   "execution_count": 236,
   "id": "86b8884b",
   "metadata": {},
   "outputs": [
    {
     "data": {
      "text/html": [
       "<div>\n",
       "<style scoped>\n",
       "    .dataframe tbody tr th:only-of-type {\n",
       "        vertical-align: middle;\n",
       "    }\n",
       "\n",
       "    .dataframe tbody tr th {\n",
       "        vertical-align: top;\n",
       "    }\n",
       "\n",
       "    .dataframe thead th {\n",
       "        text-align: right;\n",
       "    }\n",
       "</style>\n",
       "<table border=\"1\" class=\"dataframe\">\n",
       "  <thead>\n",
       "    <tr style=\"text-align: right;\">\n",
       "      <th></th>\n",
       "      <th>A</th>\n",
       "      <th>B</th>\n",
       "      <th>C</th>\n",
       "      <th>D</th>\n",
       "    </tr>\n",
       "  </thead>\n",
       "  <tbody>\n",
       "    <tr>\n",
       "      <th>1</th>\n",
       "      <td>4</td>\n",
       "      <td>8</td>\n",
       "      <td>12</td>\n",
       "      <td>6</td>\n",
       "    </tr>\n",
       "    <tr>\n",
       "      <th>2</th>\n",
       "      <td>4</td>\n",
       "      <td>7</td>\n",
       "      <td>7</td>\n",
       "      <td>6</td>\n",
       "    </tr>\n",
       "    <tr>\n",
       "      <th>3</th>\n",
       "      <td>1</td>\n",
       "      <td>4</td>\n",
       "      <td>5</td>\n",
       "      <td>11</td>\n",
       "    </tr>\n",
       "    <tr>\n",
       "      <th>4</th>\n",
       "      <td>5</td>\n",
       "      <td>11</td>\n",
       "      <td>9</td>\n",
       "      <td>8</td>\n",
       "    </tr>\n",
       "    <tr>\n",
       "      <th>5</th>\n",
       "      <td>2</td>\n",
       "      <td>11</td>\n",
       "      <td>11</td>\n",
       "      <td>6</td>\n",
       "    </tr>\n",
       "    <tr>\n",
       "      <th>6</th>\n",
       "      <td>6</td>\n",
       "      <td>11</td>\n",
       "      <td>11</td>\n",
       "      <td>6</td>\n",
       "    </tr>\n",
       "    <tr>\n",
       "      <th>7</th>\n",
       "      <td>2</td>\n",
       "      <td>5</td>\n",
       "      <td>9</td>\n",
       "      <td>4</td>\n",
       "    </tr>\n",
       "    <tr>\n",
       "      <th>8</th>\n",
       "      <td>10</td>\n",
       "      <td>7</td>\n",
       "      <td>12</td>\n",
       "      <td>10</td>\n",
       "    </tr>\n",
       "    <tr>\n",
       "      <th>9</th>\n",
       "      <td>7</td>\n",
       "      <td>10</td>\n",
       "      <td>11</td>\n",
       "      <td>7</td>\n",
       "    </tr>\n",
       "    <tr>\n",
       "      <th>10</th>\n",
       "      <td>4</td>\n",
       "      <td>8</td>\n",
       "      <td>5</td>\n",
       "      <td>11</td>\n",
       "    </tr>\n",
       "  </tbody>\n",
       "</table>\n",
       "</div>"
      ],
      "text/plain": [
       "     A   B   C   D\n",
       "1    4   8  12   6\n",
       "2    4   7   7   6\n",
       "3    1   4   5  11\n",
       "4    5  11   9   8\n",
       "5    2  11  11   6\n",
       "6    6  11  11   6\n",
       "7    2   5   9   4\n",
       "8   10   7  12  10\n",
       "9    7  10  11   7\n",
       "10   4   8   5  11"
      ]
     },
     "execution_count": 236,
     "metadata": {},
     "output_type": "execute_result"
    }
   ],
   "source": [
    "# Broadcasting\n",
    "df1 + np.array([1,2,3,4])"
   ]
  },
  {
   "cell_type": "markdown",
   "id": "12fe8dcc",
   "metadata": {},
   "source": [
    "## 2.5. Thêm/Xóa/Thay thế"
   ]
  },
  {
   "cell_type": "markdown",
   "id": "90c02f98",
   "metadata": {},
   "source": [
    "**Xóa cột**"
   ]
  },
  {
   "cell_type": "code",
   "execution_count": 270,
   "id": "4ce41b23",
   "metadata": {},
   "outputs": [
    {
     "data": {
      "text/plain": [
       "1     9\n",
       "2     4\n",
       "3     2\n",
       "4     6\n",
       "5     8\n",
       "6     8\n",
       "7     6\n",
       "8     9\n",
       "9     8\n",
       "10    2\n",
       "Name: C, dtype: uint8"
      ]
     },
     "execution_count": 270,
     "metadata": {},
     "output_type": "execute_result"
    }
   ],
   "source": [
    "df3 = df1.copy()\n",
    "df3.pop('C')"
   ]
  },
  {
   "cell_type": "code",
   "execution_count": null,
   "id": "d75c4561",
   "metadata": {},
   "outputs": [],
   "source": [
    "df3"
   ]
  },
  {
   "cell_type": "markdown",
   "id": "17267f4d",
   "metadata": {},
   "source": [
    "**Thêm cột**"
   ]
  },
  {
   "cell_type": "code",
   "execution_count": 290,
   "id": "633349ec",
   "metadata": {},
   "outputs": [],
   "source": [
    "df1['E'] = np.arange(10)"
   ]
  },
  {
   "cell_type": "code",
   "execution_count": 291,
   "id": "44350ef5",
   "metadata": {},
   "outputs": [
    {
     "data": {
      "text/html": [
       "<div>\n",
       "<style scoped>\n",
       "    .dataframe tbody tr th:only-of-type {\n",
       "        vertical-align: middle;\n",
       "    }\n",
       "\n",
       "    .dataframe tbody tr th {\n",
       "        vertical-align: top;\n",
       "    }\n",
       "\n",
       "    .dataframe thead th {\n",
       "        text-align: right;\n",
       "    }\n",
       "</style>\n",
       "<table border=\"1\" class=\"dataframe\">\n",
       "  <thead>\n",
       "    <tr style=\"text-align: right;\">\n",
       "      <th></th>\n",
       "      <th>A</th>\n",
       "      <th>B</th>\n",
       "      <th>C</th>\n",
       "      <th>D</th>\n",
       "      <th>E</th>\n",
       "    </tr>\n",
       "  </thead>\n",
       "  <tbody>\n",
       "    <tr>\n",
       "      <th>1</th>\n",
       "      <td>3</td>\n",
       "      <td>6</td>\n",
       "      <td>9</td>\n",
       "      <td>2</td>\n",
       "      <td>0</td>\n",
       "    </tr>\n",
       "    <tr>\n",
       "      <th>2</th>\n",
       "      <td>3</td>\n",
       "      <td>5</td>\n",
       "      <td>4</td>\n",
       "      <td>2</td>\n",
       "      <td>1</td>\n",
       "    </tr>\n",
       "    <tr>\n",
       "      <th>3</th>\n",
       "      <td>0</td>\n",
       "      <td>2</td>\n",
       "      <td>2</td>\n",
       "      <td>7</td>\n",
       "      <td>2</td>\n",
       "    </tr>\n",
       "    <tr>\n",
       "      <th>4</th>\n",
       "      <td>4</td>\n",
       "      <td>9</td>\n",
       "      <td>6</td>\n",
       "      <td>4</td>\n",
       "      <td>3</td>\n",
       "    </tr>\n",
       "    <tr>\n",
       "      <th>5</th>\n",
       "      <td>1</td>\n",
       "      <td>9</td>\n",
       "      <td>8</td>\n",
       "      <td>2</td>\n",
       "      <td>4</td>\n",
       "    </tr>\n",
       "    <tr>\n",
       "      <th>6</th>\n",
       "      <td>5</td>\n",
       "      <td>9</td>\n",
       "      <td>8</td>\n",
       "      <td>2</td>\n",
       "      <td>5</td>\n",
       "    </tr>\n",
       "    <tr>\n",
       "      <th>7</th>\n",
       "      <td>1</td>\n",
       "      <td>3</td>\n",
       "      <td>6</td>\n",
       "      <td>0</td>\n",
       "      <td>6</td>\n",
       "    </tr>\n",
       "    <tr>\n",
       "      <th>8</th>\n",
       "      <td>9</td>\n",
       "      <td>5</td>\n",
       "      <td>9</td>\n",
       "      <td>6</td>\n",
       "      <td>7</td>\n",
       "    </tr>\n",
       "    <tr>\n",
       "      <th>9</th>\n",
       "      <td>6</td>\n",
       "      <td>8</td>\n",
       "      <td>8</td>\n",
       "      <td>3</td>\n",
       "      <td>8</td>\n",
       "    </tr>\n",
       "    <tr>\n",
       "      <th>10</th>\n",
       "      <td>3</td>\n",
       "      <td>6</td>\n",
       "      <td>2</td>\n",
       "      <td>7</td>\n",
       "      <td>9</td>\n",
       "    </tr>\n",
       "  </tbody>\n",
       "</table>\n",
       "</div>"
      ],
      "text/plain": [
       "    A  B  C  D  E\n",
       "1   3  6  9  2  0\n",
       "2   3  5  4  2  1\n",
       "3   0  2  2  7  2\n",
       "4   4  9  6  4  3\n",
       "5   1  9  8  2  4\n",
       "6   5  9  8  2  5\n",
       "7   1  3  6  0  6\n",
       "8   9  5  9  6  7\n",
       "9   6  8  8  3  8\n",
       "10  3  6  2  7  9"
      ]
     },
     "execution_count": 291,
     "metadata": {},
     "output_type": "execute_result"
    }
   ],
   "source": [
    "df1"
   ]
  },
  {
   "cell_type": "code",
   "execution_count": 293,
   "id": "e245d673",
   "metadata": {},
   "outputs": [
    {
     "data": {
      "text/html": [
       "<div>\n",
       "<style scoped>\n",
       "    .dataframe tbody tr th:only-of-type {\n",
       "        vertical-align: middle;\n",
       "    }\n",
       "\n",
       "    .dataframe tbody tr th {\n",
       "        vertical-align: top;\n",
       "    }\n",
       "\n",
       "    .dataframe thead th {\n",
       "        text-align: right;\n",
       "    }\n",
       "</style>\n",
       "<table border=\"1\" class=\"dataframe\">\n",
       "  <thead>\n",
       "    <tr style=\"text-align: right;\">\n",
       "      <th></th>\n",
       "      <th>A</th>\n",
       "      <th>B</th>\n",
       "      <th>F</th>\n",
       "      <th>C</th>\n",
       "      <th>D</th>\n",
       "      <th>E</th>\n",
       "    </tr>\n",
       "  </thead>\n",
       "  <tbody>\n",
       "    <tr>\n",
       "      <th>1</th>\n",
       "      <td>3</td>\n",
       "      <td>6</td>\n",
       "      <td>9</td>\n",
       "      <td>9</td>\n",
       "      <td>2</td>\n",
       "      <td>0</td>\n",
       "    </tr>\n",
       "    <tr>\n",
       "      <th>2</th>\n",
       "      <td>3</td>\n",
       "      <td>5</td>\n",
       "      <td>8</td>\n",
       "      <td>4</td>\n",
       "      <td>2</td>\n",
       "      <td>1</td>\n",
       "    </tr>\n",
       "    <tr>\n",
       "      <th>3</th>\n",
       "      <td>0</td>\n",
       "      <td>2</td>\n",
       "      <td>7</td>\n",
       "      <td>2</td>\n",
       "      <td>7</td>\n",
       "      <td>2</td>\n",
       "    </tr>\n",
       "    <tr>\n",
       "      <th>4</th>\n",
       "      <td>4</td>\n",
       "      <td>9</td>\n",
       "      <td>6</td>\n",
       "      <td>6</td>\n",
       "      <td>4</td>\n",
       "      <td>3</td>\n",
       "    </tr>\n",
       "    <tr>\n",
       "      <th>5</th>\n",
       "      <td>1</td>\n",
       "      <td>9</td>\n",
       "      <td>5</td>\n",
       "      <td>8</td>\n",
       "      <td>2</td>\n",
       "      <td>4</td>\n",
       "    </tr>\n",
       "    <tr>\n",
       "      <th>6</th>\n",
       "      <td>5</td>\n",
       "      <td>9</td>\n",
       "      <td>4</td>\n",
       "      <td>8</td>\n",
       "      <td>2</td>\n",
       "      <td>5</td>\n",
       "    </tr>\n",
       "    <tr>\n",
       "      <th>7</th>\n",
       "      <td>1</td>\n",
       "      <td>3</td>\n",
       "      <td>3</td>\n",
       "      <td>6</td>\n",
       "      <td>0</td>\n",
       "      <td>6</td>\n",
       "    </tr>\n",
       "    <tr>\n",
       "      <th>8</th>\n",
       "      <td>9</td>\n",
       "      <td>5</td>\n",
       "      <td>2</td>\n",
       "      <td>9</td>\n",
       "      <td>6</td>\n",
       "      <td>7</td>\n",
       "    </tr>\n",
       "    <tr>\n",
       "      <th>9</th>\n",
       "      <td>6</td>\n",
       "      <td>8</td>\n",
       "      <td>1</td>\n",
       "      <td>8</td>\n",
       "      <td>3</td>\n",
       "      <td>8</td>\n",
       "    </tr>\n",
       "    <tr>\n",
       "      <th>10</th>\n",
       "      <td>3</td>\n",
       "      <td>6</td>\n",
       "      <td>0</td>\n",
       "      <td>2</td>\n",
       "      <td>7</td>\n",
       "      <td>9</td>\n",
       "    </tr>\n",
       "  </tbody>\n",
       "</table>\n",
       "</div>"
      ],
      "text/plain": [
       "    A  B  F  C  D  E\n",
       "1   3  6  9  9  2  0\n",
       "2   3  5  8  4  2  1\n",
       "3   0  2  7  2  7  2\n",
       "4   4  9  6  6  4  3\n",
       "5   1  9  5  8  2  4\n",
       "6   5  9  4  8  2  5\n",
       "7   1  3  3  6  0  6\n",
       "8   9  5  2  9  6  7\n",
       "9   6  8  1  8  3  8\n",
       "10  3  6  0  2  7  9"
      ]
     },
     "execution_count": 293,
     "metadata": {},
     "output_type": "execute_result"
    }
   ],
   "source": [
    "df1.insert(loc=2, column='F', value=np.arange(10)[::-1])\n",
    "df1"
   ]
  },
  {
   "cell_type": "markdown",
   "id": "5cb35b94",
   "metadata": {},
   "source": [
    "**Thay thế(Sửa)**"
   ]
  },
  {
   "cell_type": "code",
   "execution_count": 300,
   "id": "1692c979",
   "metadata": {},
   "outputs": [
    {
     "data": {
      "text/html": [
       "<div>\n",
       "<style scoped>\n",
       "    .dataframe tbody tr th:only-of-type {\n",
       "        vertical-align: middle;\n",
       "    }\n",
       "\n",
       "    .dataframe tbody tr th {\n",
       "        vertical-align: top;\n",
       "    }\n",
       "\n",
       "    .dataframe thead th {\n",
       "        text-align: right;\n",
       "    }\n",
       "</style>\n",
       "<table border=\"1\" class=\"dataframe\">\n",
       "  <thead>\n",
       "    <tr style=\"text-align: right;\">\n",
       "      <th></th>\n",
       "      <th>A</th>\n",
       "      <th>B</th>\n",
       "      <th>F</th>\n",
       "      <th>C</th>\n",
       "      <th>D</th>\n",
       "      <th>E</th>\n",
       "    </tr>\n",
       "  </thead>\n",
       "  <tbody>\n",
       "    <tr>\n",
       "      <th>1</th>\n",
       "      <td>3</td>\n",
       "      <td>6</td>\n",
       "      <td>19</td>\n",
       "      <td>19</td>\n",
       "      <td>2</td>\n",
       "      <td>10</td>\n",
       "    </tr>\n",
       "    <tr>\n",
       "      <th>2</th>\n",
       "      <td>3</td>\n",
       "      <td>5</td>\n",
       "      <td>8</td>\n",
       "      <td>4</td>\n",
       "      <td>2</td>\n",
       "      <td>1</td>\n",
       "    </tr>\n",
       "    <tr>\n",
       "      <th>3</th>\n",
       "      <td>10</td>\n",
       "      <td>2</td>\n",
       "      <td>7</td>\n",
       "      <td>2</td>\n",
       "      <td>7</td>\n",
       "      <td>2</td>\n",
       "    </tr>\n",
       "    <tr>\n",
       "      <th>4</th>\n",
       "      <td>4</td>\n",
       "      <td>19</td>\n",
       "      <td>6</td>\n",
       "      <td>6</td>\n",
       "      <td>4</td>\n",
       "      <td>3</td>\n",
       "    </tr>\n",
       "    <tr>\n",
       "      <th>5</th>\n",
       "      <td>1</td>\n",
       "      <td>19</td>\n",
       "      <td>5</td>\n",
       "      <td>8</td>\n",
       "      <td>2</td>\n",
       "      <td>4</td>\n",
       "    </tr>\n",
       "    <tr>\n",
       "      <th>6</th>\n",
       "      <td>5</td>\n",
       "      <td>19</td>\n",
       "      <td>4</td>\n",
       "      <td>8</td>\n",
       "      <td>2</td>\n",
       "      <td>5</td>\n",
       "    </tr>\n",
       "    <tr>\n",
       "      <th>7</th>\n",
       "      <td>1</td>\n",
       "      <td>3</td>\n",
       "      <td>3</td>\n",
       "      <td>6</td>\n",
       "      <td>10</td>\n",
       "      <td>6</td>\n",
       "    </tr>\n",
       "    <tr>\n",
       "      <th>8</th>\n",
       "      <td>19</td>\n",
       "      <td>5</td>\n",
       "      <td>2</td>\n",
       "      <td>19</td>\n",
       "      <td>6</td>\n",
       "      <td>7</td>\n",
       "    </tr>\n",
       "    <tr>\n",
       "      <th>9</th>\n",
       "      <td>6</td>\n",
       "      <td>8</td>\n",
       "      <td>1</td>\n",
       "      <td>8</td>\n",
       "      <td>3</td>\n",
       "      <td>8</td>\n",
       "    </tr>\n",
       "    <tr>\n",
       "      <th>10</th>\n",
       "      <td>3</td>\n",
       "      <td>6</td>\n",
       "      <td>10</td>\n",
       "      <td>2</td>\n",
       "      <td>7</td>\n",
       "      <td>19</td>\n",
       "    </tr>\n",
       "  </tbody>\n",
       "</table>\n",
       "</div>"
      ],
      "text/plain": [
       "     A   B   F   C   D   E\n",
       "1    3   6  19  19   2  10\n",
       "2    3   5   8   4   2   1\n",
       "3   10   2   7   2   7   2\n",
       "4    4  19   6   6   4   3\n",
       "5    1  19   5   8   2   4\n",
       "6    5  19   4   8   2   5\n",
       "7    1   3   3   6  10   6\n",
       "8   19   5   2  19   6   7\n",
       "9    6   8   1   8   3   8\n",
       "10   3   6  10   2   7  19"
      ]
     },
     "execution_count": 300,
     "metadata": {},
     "output_type": "execute_result"
    }
   ],
   "source": [
    "df1.replace([0,9],[10,19])"
   ]
  },
  {
   "cell_type": "markdown",
   "id": "a50c030e",
   "metadata": {},
   "source": [
    "**Sử dụng where và mask**"
   ]
  },
  {
   "cell_type": "code",
   "execution_count": 304,
   "id": "501e4fba",
   "metadata": {
    "scrolled": true
   },
   "outputs": [
    {
     "data": {
      "text/html": [
       "<div>\n",
       "<style scoped>\n",
       "    .dataframe tbody tr th:only-of-type {\n",
       "        vertical-align: middle;\n",
       "    }\n",
       "\n",
       "    .dataframe tbody tr th {\n",
       "        vertical-align: top;\n",
       "    }\n",
       "\n",
       "    .dataframe thead th {\n",
       "        text-align: right;\n",
       "    }\n",
       "</style>\n",
       "<table border=\"1\" class=\"dataframe\">\n",
       "  <thead>\n",
       "    <tr style=\"text-align: right;\">\n",
       "      <th></th>\n",
       "      <th>A</th>\n",
       "      <th>B</th>\n",
       "      <th>F</th>\n",
       "      <th>C</th>\n",
       "      <th>D</th>\n",
       "      <th>E</th>\n",
       "    </tr>\n",
       "  </thead>\n",
       "  <tbody>\n",
       "    <tr>\n",
       "      <th>1</th>\n",
       "      <td>5</td>\n",
       "      <td>6</td>\n",
       "      <td>9</td>\n",
       "      <td>9</td>\n",
       "      <td>5</td>\n",
       "      <td>5</td>\n",
       "    </tr>\n",
       "    <tr>\n",
       "      <th>2</th>\n",
       "      <td>5</td>\n",
       "      <td>5</td>\n",
       "      <td>8</td>\n",
       "      <td>5</td>\n",
       "      <td>5</td>\n",
       "      <td>5</td>\n",
       "    </tr>\n",
       "    <tr>\n",
       "      <th>3</th>\n",
       "      <td>5</td>\n",
       "      <td>5</td>\n",
       "      <td>7</td>\n",
       "      <td>5</td>\n",
       "      <td>7</td>\n",
       "      <td>5</td>\n",
       "    </tr>\n",
       "    <tr>\n",
       "      <th>4</th>\n",
       "      <td>5</td>\n",
       "      <td>9</td>\n",
       "      <td>6</td>\n",
       "      <td>6</td>\n",
       "      <td>5</td>\n",
       "      <td>5</td>\n",
       "    </tr>\n",
       "    <tr>\n",
       "      <th>5</th>\n",
       "      <td>5</td>\n",
       "      <td>9</td>\n",
       "      <td>5</td>\n",
       "      <td>8</td>\n",
       "      <td>5</td>\n",
       "      <td>5</td>\n",
       "    </tr>\n",
       "    <tr>\n",
       "      <th>6</th>\n",
       "      <td>5</td>\n",
       "      <td>9</td>\n",
       "      <td>5</td>\n",
       "      <td>8</td>\n",
       "      <td>5</td>\n",
       "      <td>5</td>\n",
       "    </tr>\n",
       "    <tr>\n",
       "      <th>7</th>\n",
       "      <td>5</td>\n",
       "      <td>5</td>\n",
       "      <td>5</td>\n",
       "      <td>6</td>\n",
       "      <td>5</td>\n",
       "      <td>6</td>\n",
       "    </tr>\n",
       "    <tr>\n",
       "      <th>8</th>\n",
       "      <td>9</td>\n",
       "      <td>5</td>\n",
       "      <td>5</td>\n",
       "      <td>9</td>\n",
       "      <td>6</td>\n",
       "      <td>7</td>\n",
       "    </tr>\n",
       "    <tr>\n",
       "      <th>9</th>\n",
       "      <td>6</td>\n",
       "      <td>8</td>\n",
       "      <td>5</td>\n",
       "      <td>8</td>\n",
       "      <td>5</td>\n",
       "      <td>8</td>\n",
       "    </tr>\n",
       "    <tr>\n",
       "      <th>10</th>\n",
       "      <td>5</td>\n",
       "      <td>6</td>\n",
       "      <td>5</td>\n",
       "      <td>5</td>\n",
       "      <td>7</td>\n",
       "      <td>9</td>\n",
       "    </tr>\n",
       "  </tbody>\n",
       "</table>\n",
       "</div>"
      ],
      "text/plain": [
       "    A  B  F  C  D  E\n",
       "1   5  6  9  9  5  5\n",
       "2   5  5  8  5  5  5\n",
       "3   5  5  7  5  7  5\n",
       "4   5  9  6  6  5  5\n",
       "5   5  9  5  8  5  5\n",
       "6   5  9  5  8  5  5\n",
       "7   5  5  5  6  5  6\n",
       "8   9  5  5  9  6  7\n",
       "9   6  8  5  8  5  8\n",
       "10  5  6  5  5  7  9"
      ]
     },
     "execution_count": 304,
     "metadata": {},
     "output_type": "execute_result"
    }
   ],
   "source": [
    "# Thay thế nếu điều kiện KHÔNG THỎA\n",
    "df1.where(df1 > 5, 5, inplace=False)"
   ]
  },
  {
   "cell_type": "code",
   "execution_count": 305,
   "id": "b368f373",
   "metadata": {
    "scrolled": true
   },
   "outputs": [
    {
     "data": {
      "text/html": [
       "<div>\n",
       "<style scoped>\n",
       "    .dataframe tbody tr th:only-of-type {\n",
       "        vertical-align: middle;\n",
       "    }\n",
       "\n",
       "    .dataframe tbody tr th {\n",
       "        vertical-align: top;\n",
       "    }\n",
       "\n",
       "    .dataframe thead th {\n",
       "        text-align: right;\n",
       "    }\n",
       "</style>\n",
       "<table border=\"1\" class=\"dataframe\">\n",
       "  <thead>\n",
       "    <tr style=\"text-align: right;\">\n",
       "      <th></th>\n",
       "      <th>A</th>\n",
       "      <th>B</th>\n",
       "      <th>F</th>\n",
       "      <th>C</th>\n",
       "      <th>D</th>\n",
       "      <th>E</th>\n",
       "    </tr>\n",
       "  </thead>\n",
       "  <tbody>\n",
       "    <tr>\n",
       "      <th>1</th>\n",
       "      <td>3</td>\n",
       "      <td>5</td>\n",
       "      <td>5</td>\n",
       "      <td>5</td>\n",
       "      <td>2</td>\n",
       "      <td>0</td>\n",
       "    </tr>\n",
       "    <tr>\n",
       "      <th>2</th>\n",
       "      <td>3</td>\n",
       "      <td>5</td>\n",
       "      <td>5</td>\n",
       "      <td>4</td>\n",
       "      <td>2</td>\n",
       "      <td>1</td>\n",
       "    </tr>\n",
       "    <tr>\n",
       "      <th>3</th>\n",
       "      <td>0</td>\n",
       "      <td>2</td>\n",
       "      <td>5</td>\n",
       "      <td>2</td>\n",
       "      <td>5</td>\n",
       "      <td>2</td>\n",
       "    </tr>\n",
       "    <tr>\n",
       "      <th>4</th>\n",
       "      <td>4</td>\n",
       "      <td>5</td>\n",
       "      <td>5</td>\n",
       "      <td>5</td>\n",
       "      <td>4</td>\n",
       "      <td>3</td>\n",
       "    </tr>\n",
       "    <tr>\n",
       "      <th>5</th>\n",
       "      <td>1</td>\n",
       "      <td>5</td>\n",
       "      <td>5</td>\n",
       "      <td>5</td>\n",
       "      <td>2</td>\n",
       "      <td>4</td>\n",
       "    </tr>\n",
       "    <tr>\n",
       "      <th>6</th>\n",
       "      <td>5</td>\n",
       "      <td>5</td>\n",
       "      <td>4</td>\n",
       "      <td>5</td>\n",
       "      <td>2</td>\n",
       "      <td>5</td>\n",
       "    </tr>\n",
       "    <tr>\n",
       "      <th>7</th>\n",
       "      <td>1</td>\n",
       "      <td>3</td>\n",
       "      <td>3</td>\n",
       "      <td>5</td>\n",
       "      <td>0</td>\n",
       "      <td>5</td>\n",
       "    </tr>\n",
       "    <tr>\n",
       "      <th>8</th>\n",
       "      <td>5</td>\n",
       "      <td>5</td>\n",
       "      <td>2</td>\n",
       "      <td>5</td>\n",
       "      <td>5</td>\n",
       "      <td>5</td>\n",
       "    </tr>\n",
       "    <tr>\n",
       "      <th>9</th>\n",
       "      <td>5</td>\n",
       "      <td>5</td>\n",
       "      <td>1</td>\n",
       "      <td>5</td>\n",
       "      <td>3</td>\n",
       "      <td>5</td>\n",
       "    </tr>\n",
       "    <tr>\n",
       "      <th>10</th>\n",
       "      <td>3</td>\n",
       "      <td>5</td>\n",
       "      <td>0</td>\n",
       "      <td>2</td>\n",
       "      <td>5</td>\n",
       "      <td>5</td>\n",
       "    </tr>\n",
       "  </tbody>\n",
       "</table>\n",
       "</div>"
      ],
      "text/plain": [
       "    A  B  F  C  D  E\n",
       "1   3  5  5  5  2  0\n",
       "2   3  5  5  4  2  1\n",
       "3   0  2  5  2  5  2\n",
       "4   4  5  5  5  4  3\n",
       "5   1  5  5  5  2  4\n",
       "6   5  5  4  5  2  5\n",
       "7   1  3  3  5  0  5\n",
       "8   5  5  2  5  5  5\n",
       "9   5  5  1  5  3  5\n",
       "10  3  5  0  2  5  5"
      ]
     },
     "execution_count": 305,
     "metadata": {},
     "output_type": "execute_result"
    }
   ],
   "source": [
    "# Thay thế nếu điều kiện THỎA\n",
    "df1.mask(df1 > 5, 5, inplace=False)"
   ]
  },
  {
   "cell_type": "markdown",
   "id": "f3907499",
   "metadata": {},
   "source": [
    "## 2.6. Ghép nối/Trộn DataFrame"
   ]
  },
  {
   "cell_type": "markdown",
   "id": "6f04d3bf",
   "metadata": {},
   "source": [
    "**2.6.1. Concat**"
   ]
  },
  {
   "cell_type": "code",
   "execution_count": 279,
   "id": "46a0e494",
   "metadata": {},
   "outputs": [],
   "source": [
    "np.random.seed(1)\n",
    "a1 = pd.DataFrame(np.random.randint(0, 10, size=(10,2)), columns=['C1', 'C2'])\n",
    "a2 = pd.DataFrame(np.random.randint(0, 10, size=(10,2)), columns=['C3', 'C4'])"
   ]
  },
  {
   "cell_type": "code",
   "execution_count": null,
   "id": "8e0dfb93",
   "metadata": {},
   "outputs": [],
   "source": [
    "pd.concat([a1,a2], axis=1)"
   ]
  },
  {
   "cell_type": "code",
   "execution_count": null,
   "id": "1d5ee88f",
   "metadata": {},
   "outputs": [],
   "source": [
    "np.random.seed(2)\n",
    "a3 = pd.DataFrame(np.random.randint(0, 10, size=(10,2)), columns=['C1', 'C2'])\n",
    "pd.concat([a1,a3]).reset_index(drop=True)"
   ]
  },
  {
   "cell_type": "markdown",
   "id": "5c7b61a8",
   "metadata": {},
   "source": [
    "**2.6.2. Append** (thực hiện cho dòng)"
   ]
  },
  {
   "cell_type": "code",
   "execution_count": null,
   "id": "649fe0e8",
   "metadata": {},
   "outputs": [],
   "source": [
    "# Appending chỉ thực hiện cho rows\n",
    "a1.append(a2, ignore_index=True)"
   ]
  },
  {
   "cell_type": "code",
   "execution_count": null,
   "id": "fa136542",
   "metadata": {},
   "outputs": [],
   "source": [
    "a1.append(a3)"
   ]
  },
  {
   "cell_type": "markdown",
   "id": "9d8a23d1",
   "metadata": {},
   "source": [
    "**2.6.3. Join** (thực hiện cho cột)"
   ]
  },
  {
   "cell_type": "code",
   "execution_count": 288,
   "id": "b0db9951",
   "metadata": {},
   "outputs": [
    {
     "data": {
      "text/html": [
       "<div>\n",
       "<style scoped>\n",
       "    .dataframe tbody tr th:only-of-type {\n",
       "        vertical-align: middle;\n",
       "    }\n",
       "\n",
       "    .dataframe tbody tr th {\n",
       "        vertical-align: top;\n",
       "    }\n",
       "\n",
       "    .dataframe thead th {\n",
       "        text-align: right;\n",
       "    }\n",
       "</style>\n",
       "<table border=\"1\" class=\"dataframe\">\n",
       "  <thead>\n",
       "    <tr style=\"text-align: right;\">\n",
       "      <th></th>\n",
       "      <th>C1</th>\n",
       "      <th>C2</th>\n",
       "      <th>C3</th>\n",
       "      <th>C4</th>\n",
       "    </tr>\n",
       "  </thead>\n",
       "  <tbody>\n",
       "    <tr>\n",
       "      <th>0</th>\n",
       "      <td>5</td>\n",
       "      <td>8</td>\n",
       "      <td>1</td>\n",
       "      <td>7</td>\n",
       "    </tr>\n",
       "    <tr>\n",
       "      <th>1</th>\n",
       "      <td>9</td>\n",
       "      <td>5</td>\n",
       "      <td>0</td>\n",
       "      <td>6</td>\n",
       "    </tr>\n",
       "    <tr>\n",
       "      <th>2</th>\n",
       "      <td>0</td>\n",
       "      <td>0</td>\n",
       "      <td>9</td>\n",
       "      <td>9</td>\n",
       "    </tr>\n",
       "    <tr>\n",
       "      <th>3</th>\n",
       "      <td>1</td>\n",
       "      <td>7</td>\n",
       "      <td>7</td>\n",
       "      <td>6</td>\n",
       "    </tr>\n",
       "    <tr>\n",
       "      <th>4</th>\n",
       "      <td>6</td>\n",
       "      <td>9</td>\n",
       "      <td>9</td>\n",
       "      <td>1</td>\n",
       "    </tr>\n",
       "    <tr>\n",
       "      <th>5</th>\n",
       "      <td>2</td>\n",
       "      <td>4</td>\n",
       "      <td>0</td>\n",
       "      <td>1</td>\n",
       "    </tr>\n",
       "    <tr>\n",
       "      <th>6</th>\n",
       "      <td>5</td>\n",
       "      <td>2</td>\n",
       "      <td>8</td>\n",
       "      <td>8</td>\n",
       "    </tr>\n",
       "    <tr>\n",
       "      <th>7</th>\n",
       "      <td>4</td>\n",
       "      <td>2</td>\n",
       "      <td>3</td>\n",
       "      <td>9</td>\n",
       "    </tr>\n",
       "    <tr>\n",
       "      <th>8</th>\n",
       "      <td>4</td>\n",
       "      <td>7</td>\n",
       "      <td>8</td>\n",
       "      <td>7</td>\n",
       "    </tr>\n",
       "    <tr>\n",
       "      <th>9</th>\n",
       "      <td>7</td>\n",
       "      <td>9</td>\n",
       "      <td>3</td>\n",
       "      <td>6</td>\n",
       "    </tr>\n",
       "  </tbody>\n",
       "</table>\n",
       "</div>"
      ],
      "text/plain": [
       "   C1  C2  C3  C4\n",
       "0   5   8   1   7\n",
       "1   9   5   0   6\n",
       "2   0   0   9   9\n",
       "3   1   7   7   6\n",
       "4   6   9   9   1\n",
       "5   2   4   0   1\n",
       "6   5   2   8   8\n",
       "7   4   2   3   9\n",
       "8   4   7   8   7\n",
       "9   7   9   3   6"
      ]
     },
     "execution_count": 288,
     "metadata": {},
     "output_type": "execute_result"
    }
   ],
   "source": [
    "a1.join(a2)"
   ]
  },
  {
   "cell_type": "code",
   "execution_count": null,
   "id": "ec5951f8",
   "metadata": {},
   "outputs": [],
   "source": [
    "# Trùng tên cột?\n",
    "a1.join(a3)"
   ]
  },
  {
   "cell_type": "markdown",
   "id": "90b5a28f",
   "metadata": {},
   "source": [
    "**2.6.4. Merge** (Theo kiểu SQL)"
   ]
  },
  {
   "cell_type": "code",
   "execution_count": 223,
   "id": "9a0470d3",
   "metadata": {},
   "outputs": [
    {
     "data": {
      "text/html": [
       "<div>\n",
       "<style scoped>\n",
       "    .dataframe tbody tr th:only-of-type {\n",
       "        vertical-align: middle;\n",
       "    }\n",
       "\n",
       "    .dataframe tbody tr th {\n",
       "        vertical-align: top;\n",
       "    }\n",
       "\n",
       "    .dataframe thead th {\n",
       "        text-align: right;\n",
       "    }\n",
       "</style>\n",
       "<table border=\"1\" class=\"dataframe\">\n",
       "  <thead>\n",
       "    <tr style=\"text-align: right;\">\n",
       "      <th></th>\n",
       "      <th>key</th>\n",
       "      <th>C1</th>\n",
       "      <th>C2</th>\n",
       "    </tr>\n",
       "  </thead>\n",
       "  <tbody>\n",
       "    <tr>\n",
       "      <th>0</th>\n",
       "      <td>foo</td>\n",
       "      <td>1</td>\n",
       "      <td>4</td>\n",
       "    </tr>\n",
       "    <tr>\n",
       "      <th>1</th>\n",
       "      <td>bar</td>\n",
       "      <td>2</td>\n",
       "      <td>5</td>\n",
       "    </tr>\n",
       "  </tbody>\n",
       "</table>\n",
       "</div>"
      ],
      "text/plain": [
       "   key  C1  C2\n",
       "0  foo   1   4\n",
       "1  bar   2   5"
      ]
     },
     "execution_count": 223,
     "metadata": {},
     "output_type": "execute_result"
    }
   ],
   "source": [
    "left = pd.DataFrame({\"key\": [\"foo\", \"bar\"], \"C1\": [1, 2]})\n",
    "right = pd.DataFrame({\"key\": [\"foo\", \"bar\", \"ok\"], \"C2\": [4, 5, 6]})\n",
    "pd.merge(left, right, on=\"key\")"
   ]
  },
  {
   "cell_type": "code",
   "execution_count": 231,
   "id": "08fee604",
   "metadata": {},
   "outputs": [
    {
     "data": {
      "text/html": [
       "<div>\n",
       "<style scoped>\n",
       "    .dataframe tbody tr th:only-of-type {\n",
       "        vertical-align: middle;\n",
       "    }\n",
       "\n",
       "    .dataframe tbody tr th {\n",
       "        vertical-align: top;\n",
       "    }\n",
       "\n",
       "    .dataframe thead th {\n",
       "        text-align: right;\n",
       "    }\n",
       "</style>\n",
       "<table border=\"1\" class=\"dataframe\">\n",
       "  <thead>\n",
       "    <tr style=\"text-align: right;\">\n",
       "      <th></th>\n",
       "      <th>product</th>\n",
       "      <th>ID</th>\n",
       "      <th>Aisle</th>\n",
       "    </tr>\n",
       "  </thead>\n",
       "  <tbody>\n",
       "    <tr>\n",
       "      <th>0</th>\n",
       "      <td>banana</td>\n",
       "      <td>1</td>\n",
       "      <td>fruits</td>\n",
       "    </tr>\n",
       "    <tr>\n",
       "      <th>1</th>\n",
       "      <td>beer</td>\n",
       "      <td>2</td>\n",
       "      <td>liquor</td>\n",
       "    </tr>\n",
       "    <tr>\n",
       "      <th>2</th>\n",
       "      <td>milk</td>\n",
       "      <td>5</td>\n",
       "      <td>drink</td>\n",
       "    </tr>\n",
       "    <tr>\n",
       "      <th>3</th>\n",
       "      <td>bread</td>\n",
       "      <td>7</td>\n",
       "      <td>food</td>\n",
       "    </tr>\n",
       "  </tbody>\n",
       "</table>\n",
       "</div>"
      ],
      "text/plain": [
       "  product  ID   Aisle\n",
       "0  banana   1  fruits\n",
       "1    beer   2  liquor\n",
       "2    milk   5   drink\n",
       "3   bread   7    food"
      ]
     },
     "execution_count": 231,
     "metadata": {},
     "output_type": "execute_result"
    }
   ],
   "source": [
    "product_order = pd.DataFrame({\"product\": [\"banana\", \"beer\", \"milk\", \"bread\"], \"ID\": [1, 2, 5, 7]})\n",
    "product_info = pd.DataFrame({\"ID\": [1,2,3,4,5,6,7], \n",
    "                      \"Aisle\": [\"fruits\", \"liquor\", \"coffee\", \"tea\", \"drink\", \"vegetables\", \"food\"]})\n",
    "pd.merge(product_order, product_info, on=\"ID\")"
   ]
  },
  {
   "cell_type": "code",
   "execution_count": 232,
   "id": "750647ee",
   "metadata": {},
   "outputs": [
    {
     "data": {
      "text/plain": [
       "0    fruits\n",
       "1    liquor\n",
       "2     drink\n",
       "3      food\n",
       "Name: Aisle, dtype: object"
      ]
     },
     "execution_count": 232,
     "metadata": {},
     "output_type": "execute_result"
    }
   ],
   "source": [
    "pd.merge(product_order, product_info, on=\"ID\")['Aisle']"
   ]
  }
 ],
 "metadata": {
  "kernelspec": {
   "display_name": "Python 3",
   "language": "python",
   "name": "python3"
  },
  "language_info": {
   "codemirror_mode": {
    "name": "ipython",
    "version": 3
   },
   "file_extension": ".py",
   "mimetype": "text/x-python",
   "name": "python",
   "nbconvert_exporter": "python",
   "pygments_lexer": "ipython3",
   "version": "3.8.11"
  }
 },
 "nbformat": 4,
 "nbformat_minor": 5
}
