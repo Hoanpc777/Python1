{
 "cells": [
  {
   "cell_type": "code",
   "execution_count": 1,
   "id": "8b3a05ef",
   "metadata": {},
   "outputs": [
    {
     "name": "stdout",
     "output_type": "stream",
     "text": [
      "1.3.4\n"
     ]
    }
   ],
   "source": [
    "import pandas as pd\n",
    "import numpy as np\n",
    "from matplotlib import pyplot as plt\n",
    "np.set_printoptions(precision=3, suppress=True)\n",
    "\n",
    "print(pd.__version__)"
   ]
  },
  {
   "cell_type": "markdown",
   "id": "7484a1d9",
   "metadata": {},
   "source": [
    "# 1. Text"
   ]
  },
  {
   "cell_type": "markdown",
   "id": "0d021358",
   "metadata": {},
   "source": [
    "## 1.1. Tạo dữ liệu string trong Pandas"
   ]
  },
  {
   "cell_type": "code",
   "execution_count": 2,
   "id": "731aaffd",
   "metadata": {
    "scrolled": true
   },
   "outputs": [
    {
     "data": {
      "text/plain": [
       "0    Hoàng\n",
       "1      Nam\n",
       "2    Thắng\n",
       "3      Vân\n",
       "dtype: object"
      ]
     },
     "execution_count": 2,
     "metadata": {},
     "output_type": "execute_result"
    }
   ],
   "source": [
    "pd.Series(['Hoàng', 'Nam', 'Thắng', 'Vân'])"
   ]
  },
  {
   "cell_type": "code",
   "execution_count": 3,
   "id": "313fcb28",
   "metadata": {
    "scrolled": true
   },
   "outputs": [
    {
     "data": {
      "text/plain": [
       "0    Hoàng\n",
       "1      Nam\n",
       "2    Thắng\n",
       "3      Vân\n",
       "dtype: string"
      ]
     },
     "execution_count": 3,
     "metadata": {},
     "output_type": "execute_result"
    }
   ],
   "source": [
    "pd.Series(['Hoàng', 'Nam', 'Thắng', 'Vân'], dtype='string')"
   ]
  },
  {
   "cell_type": "code",
   "execution_count": 4,
   "id": "fbc346be",
   "metadata": {},
   "outputs": [
    {
     "data": {
      "text/plain": [
       "0    Hoàng\n",
       "1      Nam\n",
       "2    Thắng\n",
       "3      Vân\n",
       "dtype: string"
      ]
     },
     "execution_count": 4,
     "metadata": {},
     "output_type": "execute_result"
    }
   ],
   "source": [
    "pd.Series(['Hoàng', 'Nam', 'Thắng', 'Vân'], dtype=pd.StringDtype())"
   ]
  },
  {
   "cell_type": "code",
   "execution_count": 6,
   "id": "e07493d8",
   "metadata": {},
   "outputs": [
    {
     "data": {
      "text/plain": [
       "0    Hoàng\n",
       "1      Nam\n",
       "2    Thắng\n",
       "3     <NA>\n",
       "4      Vân\n",
       "dtype: string"
      ]
     },
     "execution_count": 6,
     "metadata": {},
     "output_type": "execute_result"
    }
   ],
   "source": [
    "ds_hv = pd.Series(['Hoàng', 'Nam', 'Thắng', np.nan, 'Vân']).astype('string')\n",
    "ds_hv"
   ]
  },
  {
   "cell_type": "markdown",
   "id": "7ed2d23f",
   "metadata": {},
   "source": [
    "## 1.2. Một số thao tác trên string"
   ]
  },
  {
   "cell_type": "code",
   "execution_count": 15,
   "id": "47b4c85b",
   "metadata": {},
   "outputs": [
    {
     "data": {
      "text/plain": [
       "0       0\n",
       "1       1\n",
       "2       0\n",
       "3    <NA>\n",
       "4       0\n",
       "dtype: Int64"
      ]
     },
     "execution_count": 15,
     "metadata": {},
     "output_type": "execute_result"
    }
   ],
   "source": [
    "ds_hv.str.count('Nam')"
   ]
  },
  {
   "cell_type": "code",
   "execution_count": 16,
   "id": "d374b5dc",
   "metadata": {},
   "outputs": [
    {
     "data": {
      "text/plain": [
       "0    HOÀNG\n",
       "1      NAM\n",
       "2    THẮNG\n",
       "3     <NA>\n",
       "4      VÂN\n",
       "dtype: string"
      ]
     },
     "execution_count": 16,
     "metadata": {},
     "output_type": "execute_result"
    }
   ],
   "source": [
    "ds_hv.str.upper()"
   ]
  },
  {
   "cell_type": "code",
   "execution_count": 17,
   "id": "7886762d",
   "metadata": {},
   "outputs": [
    {
     "data": {
      "text/plain": [
       "0    hoàng\n",
       "1      nam\n",
       "2    thắng\n",
       "3     <NA>\n",
       "4      vân\n",
       "dtype: string"
      ]
     },
     "execution_count": 17,
     "metadata": {},
     "output_type": "execute_result"
    }
   ],
   "source": [
    "ds_hv.str.lower()"
   ]
  },
  {
   "cell_type": "markdown",
   "id": "d6c84a22",
   "metadata": {},
   "source": [
    "**Bỏ các item khuyết**"
   ]
  },
  {
   "cell_type": "code",
   "execution_count": 8,
   "id": "70ed7a7f",
   "metadata": {},
   "outputs": [
    {
     "data": {
      "text/plain": [
       "0    Hoàng  Minh\n",
       "1        Văn-Nam\n",
       "2     Quốc_Thắng\n",
       "3           <NA>\n",
       "4       Hồng Vân\n",
       "dtype: string"
      ]
     },
     "execution_count": 8,
     "metadata": {},
     "output_type": "execute_result"
    }
   ],
   "source": [
    "ds_hv = pd.Series(['Hoàng  Minh', 'Văn-Nam', 'Quốc_Thắng', np.nan, '  Hồng Vân']).astype('string')\n",
    "ds_hv"
   ]
  },
  {
   "cell_type": "code",
   "execution_count": 9,
   "id": "ee0b6714",
   "metadata": {},
   "outputs": [
    {
     "data": {
      "text/plain": [
       "0    Hoàng  Minh\n",
       "1        Văn-Nam\n",
       "2     Quốc_Thắng\n",
       "4       Hồng Vân\n",
       "dtype: string"
      ]
     },
     "execution_count": 9,
     "metadata": {},
     "output_type": "execute_result"
    }
   ],
   "source": [
    "ds_hv.dropna()"
   ]
  },
  {
   "cell_type": "markdown",
   "id": "b801d369",
   "metadata": {},
   "source": [
    "**Thay thế ký tự/chuỗi con**"
   ]
  },
  {
   "cell_type": "code",
   "execution_count": 32,
   "id": "d6e617ed",
   "metadata": {},
   "outputs": [
    {
     "data": {
      "text/plain": [
       "0    hoàng minh\n",
       "1       văn nam\n",
       "2    quốc thắng\n",
       "4      hồng vân\n",
       "dtype: string"
      ]
     },
     "execution_count": 32,
     "metadata": {},
     "output_type": "execute_result"
    }
   ],
   "source": [
    "ds_hv.dropna().str.strip().str.lower().str.replace('-', ' ').str.replace('_', ' ').str.replace('  ', ' ')"
   ]
  },
  {
   "cell_type": "markdown",
   "id": "2cdf5a8f",
   "metadata": {},
   "source": [
    "# 2. Datetime"
   ]
  },
  {
   "cell_type": "code",
   "execution_count": 10,
   "id": "3b3e2b08",
   "metadata": {},
   "outputs": [
    {
     "data": {
      "text/plain": [
       "DatetimeIndex(['2021-10-01', '2021-10-02', '2021-10-03', '2021-10-04',\n",
       "               '2021-10-05', '2021-10-06'],\n",
       "              dtype='datetime64[ns]', freq='D')"
      ]
     },
     "execution_count": 10,
     "metadata": {},
     "output_type": "execute_result"
    }
   ],
   "source": [
    "dates = pd.date_range(\"20211001\", periods=6)\n",
    "dates"
   ]
  },
  {
   "cell_type": "code",
   "execution_count": 11,
   "id": "86338333",
   "metadata": {},
   "outputs": [
    {
     "data": {
      "text/html": [
       "<div>\n",
       "<style scoped>\n",
       "    .dataframe tbody tr th:only-of-type {\n",
       "        vertical-align: middle;\n",
       "    }\n",
       "\n",
       "    .dataframe tbody tr th {\n",
       "        vertical-align: top;\n",
       "    }\n",
       "\n",
       "    .dataframe thead th {\n",
       "        text-align: right;\n",
       "    }\n",
       "</style>\n",
       "<table border=\"1\" class=\"dataframe\">\n",
       "  <thead>\n",
       "    <tr style=\"text-align: right;\">\n",
       "      <th></th>\n",
       "      <th>A</th>\n",
       "      <th>B</th>\n",
       "      <th>C</th>\n",
       "      <th>D</th>\n",
       "    </tr>\n",
       "  </thead>\n",
       "  <tbody>\n",
       "    <tr>\n",
       "      <th>2021-10-01</th>\n",
       "      <td>1.469510</td>\n",
       "      <td>0.111165</td>\n",
       "      <td>-0.777965</td>\n",
       "      <td>0.448555</td>\n",
       "    </tr>\n",
       "    <tr>\n",
       "      <th>2021-10-02</th>\n",
       "      <td>0.754355</td>\n",
       "      <td>-2.109391</td>\n",
       "      <td>0.358638</td>\n",
       "      <td>0.912181</td>\n",
       "    </tr>\n",
       "    <tr>\n",
       "      <th>2021-10-03</th>\n",
       "      <td>-1.772081</td>\n",
       "      <td>1.502868</td>\n",
       "      <td>-0.543024</td>\n",
       "      <td>-1.886569</td>\n",
       "    </tr>\n",
       "    <tr>\n",
       "      <th>2021-10-04</th>\n",
       "      <td>1.654469</td>\n",
       "      <td>0.422280</td>\n",
       "      <td>0.270141</td>\n",
       "      <td>-0.788358</td>\n",
       "    </tr>\n",
       "    <tr>\n",
       "      <th>2021-10-05</th>\n",
       "      <td>-1.471165</td>\n",
       "      <td>1.602458</td>\n",
       "      <td>-0.100699</td>\n",
       "      <td>-0.010625</td>\n",
       "    </tr>\n",
       "    <tr>\n",
       "      <th>2021-10-06</th>\n",
       "      <td>1.207255</td>\n",
       "      <td>0.055466</td>\n",
       "      <td>-0.564779</td>\n",
       "      <td>-0.132038</td>\n",
       "    </tr>\n",
       "  </tbody>\n",
       "</table>\n",
       "</div>"
      ],
      "text/plain": [
       "                   A         B         C         D\n",
       "2021-10-01  1.469510  0.111165 -0.777965  0.448555\n",
       "2021-10-02  0.754355 -2.109391  0.358638  0.912181\n",
       "2021-10-03 -1.772081  1.502868 -0.543024 -1.886569\n",
       "2021-10-04  1.654469  0.422280  0.270141 -0.788358\n",
       "2021-10-05 -1.471165  1.602458 -0.100699 -0.010625\n",
       "2021-10-06  1.207255  0.055466 -0.564779 -0.132038"
      ]
     },
     "execution_count": 11,
     "metadata": {},
     "output_type": "execute_result"
    }
   ],
   "source": [
    "df = pd.DataFrame(np.random.randn(6, 4), index=dates, columns=list(\"ABCD\"))\n",
    "df"
   ]
  },
  {
   "cell_type": "markdown",
   "id": "e4c9fb80",
   "metadata": {},
   "source": [
    "**Một số cách chuyển đổi từ text và dữ liệu số sang datetime**"
   ]
  },
  {
   "cell_type": "code",
   "execution_count": 12,
   "id": "4efb9d9e",
   "metadata": {},
   "outputs": [
    {
     "data": {
      "text/html": [
       "<div>\n",
       "<style scoped>\n",
       "    .dataframe tbody tr th:only-of-type {\n",
       "        vertical-align: middle;\n",
       "    }\n",
       "\n",
       "    .dataframe tbody tr th {\n",
       "        vertical-align: top;\n",
       "    }\n",
       "\n",
       "    .dataframe thead th {\n",
       "        text-align: right;\n",
       "    }\n",
       "</style>\n",
       "<table border=\"1\" class=\"dataframe\">\n",
       "  <thead>\n",
       "    <tr style=\"text-align: right;\">\n",
       "      <th></th>\n",
       "      <th>date</th>\n",
       "      <th>value</th>\n",
       "    </tr>\n",
       "  </thead>\n",
       "  <tbody>\n",
       "    <tr>\n",
       "      <th>0</th>\n",
       "      <td>3/10/2000</td>\n",
       "      <td>2</td>\n",
       "    </tr>\n",
       "    <tr>\n",
       "      <th>1</th>\n",
       "      <td>3/11/2000</td>\n",
       "      <td>3</td>\n",
       "    </tr>\n",
       "    <tr>\n",
       "      <th>2</th>\n",
       "      <td>3/12/2000</td>\n",
       "      <td>4</td>\n",
       "    </tr>\n",
       "  </tbody>\n",
       "</table>\n",
       "</div>"
      ],
      "text/plain": [
       "        date  value\n",
       "0  3/10/2000      2\n",
       "1  3/11/2000      3\n",
       "2  3/12/2000      4"
      ]
     },
     "execution_count": 12,
     "metadata": {},
     "output_type": "execute_result"
    }
   ],
   "source": [
    "df2 = pd.DataFrame({'date': ['3/10/2000', '3/11/2000', '3/12/2000'],\n",
    "                   'value': [2, 3, 4]})\n",
    "df2"
   ]
  },
  {
   "cell_type": "code",
   "execution_count": 13,
   "id": "2325ef8c",
   "metadata": {},
   "outputs": [
    {
     "data": {
      "text/html": [
       "<div>\n",
       "<style scoped>\n",
       "    .dataframe tbody tr th:only-of-type {\n",
       "        vertical-align: middle;\n",
       "    }\n",
       "\n",
       "    .dataframe tbody tr th {\n",
       "        vertical-align: top;\n",
       "    }\n",
       "\n",
       "    .dataframe thead th {\n",
       "        text-align: right;\n",
       "    }\n",
       "</style>\n",
       "<table border=\"1\" class=\"dataframe\">\n",
       "  <thead>\n",
       "    <tr style=\"text-align: right;\">\n",
       "      <th></th>\n",
       "      <th>date</th>\n",
       "      <th>value</th>\n",
       "    </tr>\n",
       "  </thead>\n",
       "  <tbody>\n",
       "    <tr>\n",
       "      <th>0</th>\n",
       "      <td>2000-10-03</td>\n",
       "      <td>2</td>\n",
       "    </tr>\n",
       "    <tr>\n",
       "      <th>1</th>\n",
       "      <td>2000-11-03</td>\n",
       "      <td>3</td>\n",
       "    </tr>\n",
       "    <tr>\n",
       "      <th>2</th>\n",
       "      <td>2000-12-03</td>\n",
       "      <td>4</td>\n",
       "    </tr>\n",
       "  </tbody>\n",
       "</table>\n",
       "</div>"
      ],
      "text/plain": [
       "        date  value\n",
       "0 2000-10-03      2\n",
       "1 2000-11-03      3\n",
       "2 2000-12-03      4"
      ]
     },
     "execution_count": 13,
     "metadata": {},
     "output_type": "execute_result"
    }
   ],
   "source": [
    "df2['date'] = pd.to_datetime(df2['date'], dayfirst=True)\n",
    "df2"
   ]
  },
  {
   "cell_type": "code",
   "execution_count": 14,
   "id": "f0b5c11c",
   "metadata": {},
   "outputs": [
    {
     "data": {
      "text/html": [
       "<div>\n",
       "<style scoped>\n",
       "    .dataframe tbody tr th:only-of-type {\n",
       "        vertical-align: middle;\n",
       "    }\n",
       "\n",
       "    .dataframe tbody tr th {\n",
       "        vertical-align: top;\n",
       "    }\n",
       "\n",
       "    .dataframe thead th {\n",
       "        text-align: right;\n",
       "    }\n",
       "</style>\n",
       "<table border=\"1\" class=\"dataframe\">\n",
       "  <thead>\n",
       "    <tr style=\"text-align: right;\">\n",
       "      <th></th>\n",
       "      <th>date</th>\n",
       "      <th>value</th>\n",
       "    </tr>\n",
       "  </thead>\n",
       "  <tbody>\n",
       "    <tr>\n",
       "      <th>0</th>\n",
       "      <td>2016-10-06 20:30:00</td>\n",
       "      <td>2</td>\n",
       "    </tr>\n",
       "    <tr>\n",
       "      <th>1</th>\n",
       "      <td>2016-01-07 19:45:30</td>\n",
       "      <td>3</td>\n",
       "    </tr>\n",
       "    <tr>\n",
       "      <th>2</th>\n",
       "      <td>2013-12-10 04:05:01</td>\n",
       "      <td>4</td>\n",
       "    </tr>\n",
       "  </tbody>\n",
       "</table>\n",
       "</div>"
      ],
      "text/plain": [
       "                 date  value\n",
       "0 2016-10-06 20:30:00      2\n",
       "1 2016-01-07 19:45:30      3\n",
       "2 2013-12-10 04:05:01      4"
      ]
     },
     "execution_count": 14,
     "metadata": {},
     "output_type": "execute_result"
    }
   ],
   "source": [
    "df3 = pd.DataFrame({'date': ['2016-6-10 20:30:0', \n",
    "                            '2016-7-1 19:45:30', \n",
    "                            '2013-10-12 4:5:1'],\n",
    "                   'value': [2, 3, 4]})\n",
    "df3['date'] = pd.to_datetime(df3['date'], format=\"%Y-%d-%m %H:%M:%S\")\n",
    "df3"
   ]
  },
  {
   "cell_type": "code",
   "execution_count": 15,
   "id": "d9feb85e",
   "metadata": {},
   "outputs": [
    {
     "data": {
      "text/html": [
       "<div>\n",
       "<style scoped>\n",
       "    .dataframe tbody tr th:only-of-type {\n",
       "        vertical-align: middle;\n",
       "    }\n",
       "\n",
       "    .dataframe tbody tr th {\n",
       "        vertical-align: top;\n",
       "    }\n",
       "\n",
       "    .dataframe thead th {\n",
       "        text-align: right;\n",
       "    }\n",
       "</style>\n",
       "<table border=\"1\" class=\"dataframe\">\n",
       "  <thead>\n",
       "    <tr style=\"text-align: right;\">\n",
       "      <th></th>\n",
       "      <th>year</th>\n",
       "      <th>month</th>\n",
       "      <th>day</th>\n",
       "      <th>hour</th>\n",
       "      <th>minute</th>\n",
       "      <th>date</th>\n",
       "    </tr>\n",
       "  </thead>\n",
       "  <tbody>\n",
       "    <tr>\n",
       "      <th>0</th>\n",
       "      <td>2015</td>\n",
       "      <td>2</td>\n",
       "      <td>4</td>\n",
       "      <td>12</td>\n",
       "      <td>30</td>\n",
       "      <td>2015-02-04 12:30:00</td>\n",
       "    </tr>\n",
       "    <tr>\n",
       "      <th>1</th>\n",
       "      <td>2015</td>\n",
       "      <td>3</td>\n",
       "      <td>5</td>\n",
       "      <td>15</td>\n",
       "      <td>45</td>\n",
       "      <td>2015-03-05 15:45:00</td>\n",
       "    </tr>\n",
       "    <tr>\n",
       "      <th>2</th>\n",
       "      <td>2016</td>\n",
       "      <td>3</td>\n",
       "      <td>8</td>\n",
       "      <td>11</td>\n",
       "      <td>50</td>\n",
       "      <td>2016-03-08 11:50:00</td>\n",
       "    </tr>\n",
       "  </tbody>\n",
       "</table>\n",
       "</div>"
      ],
      "text/plain": [
       "   year  month  day  hour  minute                date\n",
       "0  2015      2    4    12      30 2015-02-04 12:30:00\n",
       "1  2015      3    5    15      45 2015-03-05 15:45:00\n",
       "2  2016      3    8    11      50 2016-03-08 11:50:00"
      ]
     },
     "execution_count": 15,
     "metadata": {},
     "output_type": "execute_result"
    }
   ],
   "source": [
    "df4 = pd.DataFrame({'year': [2015, 2015, 2016],\n",
    "                    'month': [2, 3, 3],\n",
    "                    'day': [4, 5, 8],\n",
    "                    'hour': [12, 15, 11],\n",
    "                    'minute': [30, 45, 50]})\n",
    "df4['date'] = pd.to_datetime(df4)\n",
    "df4"
   ]
  },
  {
   "cell_type": "markdown",
   "id": "10d84ea3",
   "metadata": {},
   "source": [
    "**Select các dòng dữ liệu theo thời gian**"
   ]
  },
  {
   "cell_type": "code",
   "execution_count": 17,
   "id": "de2f22d6",
   "metadata": {},
   "outputs": [
    {
     "data": {
      "text/html": [
       "<div>\n",
       "<style scoped>\n",
       "    .dataframe tbody tr th:only-of-type {\n",
       "        vertical-align: middle;\n",
       "    }\n",
       "\n",
       "    .dataframe tbody tr th {\n",
       "        vertical-align: top;\n",
       "    }\n",
       "\n",
       "    .dataframe thead th {\n",
       "        text-align: right;\n",
       "    }\n",
       "</style>\n",
       "<table border=\"1\" class=\"dataframe\">\n",
       "  <thead>\n",
       "    <tr style=\"text-align: right;\">\n",
       "      <th></th>\n",
       "      <th>year</th>\n",
       "      <th>month</th>\n",
       "      <th>day</th>\n",
       "      <th>hour</th>\n",
       "      <th>minute</th>\n",
       "    </tr>\n",
       "    <tr>\n",
       "      <th>date</th>\n",
       "      <th></th>\n",
       "      <th></th>\n",
       "      <th></th>\n",
       "      <th></th>\n",
       "      <th></th>\n",
       "    </tr>\n",
       "  </thead>\n",
       "  <tbody>\n",
       "    <tr>\n",
       "      <th>2015-02-04 12:30:00</th>\n",
       "      <td>2015</td>\n",
       "      <td>2</td>\n",
       "      <td>4</td>\n",
       "      <td>12</td>\n",
       "      <td>30</td>\n",
       "    </tr>\n",
       "    <tr>\n",
       "      <th>2015-03-05 15:45:00</th>\n",
       "      <td>2015</td>\n",
       "      <td>3</td>\n",
       "      <td>5</td>\n",
       "      <td>15</td>\n",
       "      <td>45</td>\n",
       "    </tr>\n",
       "    <tr>\n",
       "      <th>2016-03-08 11:50:00</th>\n",
       "      <td>2016</td>\n",
       "      <td>3</td>\n",
       "      <td>8</td>\n",
       "      <td>11</td>\n",
       "      <td>50</td>\n",
       "    </tr>\n",
       "  </tbody>\n",
       "</table>\n",
       "</div>"
      ],
      "text/plain": [
       "                     year  month  day  hour  minute\n",
       "date                                               \n",
       "2015-02-04 12:30:00  2015      2    4    12      30\n",
       "2015-03-05 15:45:00  2015      3    5    15      45\n",
       "2016-03-08 11:50:00  2016      3    8    11      50"
      ]
     },
     "execution_count": 17,
     "metadata": {},
     "output_type": "execute_result"
    }
   ],
   "source": [
    "df4 = df4.set_index('date')\n",
    "df4"
   ]
  },
  {
   "cell_type": "code",
   "execution_count": 20,
   "id": "71454b02",
   "metadata": {},
   "outputs": [
    {
     "data": {
      "text/html": [
       "<div>\n",
       "<style scoped>\n",
       "    .dataframe tbody tr th:only-of-type {\n",
       "        vertical-align: middle;\n",
       "    }\n",
       "\n",
       "    .dataframe tbody tr th {\n",
       "        vertical-align: top;\n",
       "    }\n",
       "\n",
       "    .dataframe thead th {\n",
       "        text-align: right;\n",
       "    }\n",
       "</style>\n",
       "<table border=\"1\" class=\"dataframe\">\n",
       "  <thead>\n",
       "    <tr style=\"text-align: right;\">\n",
       "      <th></th>\n",
       "      <th>year</th>\n",
       "      <th>month</th>\n",
       "      <th>day</th>\n",
       "      <th>hour</th>\n",
       "      <th>minute</th>\n",
       "    </tr>\n",
       "    <tr>\n",
       "      <th>date</th>\n",
       "      <th></th>\n",
       "      <th></th>\n",
       "      <th></th>\n",
       "      <th></th>\n",
       "      <th></th>\n",
       "    </tr>\n",
       "  </thead>\n",
       "  <tbody>\n",
       "    <tr>\n",
       "      <th>2015-02-04 12:30:00</th>\n",
       "      <td>2015</td>\n",
       "      <td>2</td>\n",
       "      <td>4</td>\n",
       "      <td>12</td>\n",
       "      <td>30</td>\n",
       "    </tr>\n",
       "    <tr>\n",
       "      <th>2015-03-05 15:45:00</th>\n",
       "      <td>2015</td>\n",
       "      <td>3</td>\n",
       "      <td>5</td>\n",
       "      <td>15</td>\n",
       "      <td>45</td>\n",
       "    </tr>\n",
       "  </tbody>\n",
       "</table>\n",
       "</div>"
      ],
      "text/plain": [
       "                     year  month  day  hour  minute\n",
       "date                                               \n",
       "2015-02-04 12:30:00  2015      2    4    12      30\n",
       "2015-03-05 15:45:00  2015      3    5    15      45"
      ]
     },
     "execution_count": 20,
     "metadata": {},
     "output_type": "execute_result"
    }
   ],
   "source": [
    "df4.loc['2015']"
   ]
  },
  {
   "cell_type": "markdown",
   "id": "e74b1b37",
   "metadata": {},
   "source": [
    "# 3. Dữ liệu dạng categorical"
   ]
  },
  {
   "cell_type": "code",
   "execution_count": 21,
   "id": "b40ebcdb",
   "metadata": {},
   "outputs": [
    {
     "data": {
      "text/plain": [
       "0     very bad\n",
       "1         good\n",
       "2          bad\n",
       "3         good\n",
       "4    very good\n",
       "5         good\n",
       "6          bad\n",
       "dtype: category\n",
       "Categories (4, object): ['bad', 'good', 'very bad', 'very good']"
      ]
     },
     "execution_count": 21,
     "metadata": {},
     "output_type": "execute_result"
    }
   ],
   "source": [
    "sc1 = pd.Series(['very bad', 'good','bad', 'good', 'very good', 'good', 'bad'], dtype='category')\n",
    "sc1"
   ]
  },
  {
   "cell_type": "code",
   "execution_count": 22,
   "id": "9a4157f8",
   "metadata": {},
   "outputs": [
    {
     "data": {
      "text/plain": [
       "['very bad', 'good', 'bad', 'good', 'very good', 'good', 'bad']\n",
       "Categories (4, object): ['bad', 'good', 'very bad', 'very good']"
      ]
     },
     "execution_count": 22,
     "metadata": {},
     "output_type": "execute_result"
    }
   ],
   "source": [
    "pd.Categorical(['very bad','good','bad', 'good', 'very good', 'good', 'bad'])"
   ]
  },
  {
   "cell_type": "code",
   "execution_count": 23,
   "id": "837c1371",
   "metadata": {},
   "outputs": [
    {
     "data": {
      "text/plain": [
       "['very bad', 'good', 'bad', 'good', 'very good', 'good', 'bad']\n",
       "Categories (4, object): ['very bad' < 'bad' < 'good' < 'very good']"
      ]
     },
     "execution_count": 23,
     "metadata": {},
     "output_type": "execute_result"
    }
   ],
   "source": [
    "sc2 = pd.Categorical(['very bad','good','bad', 'good', 'very good', 'good', 'bad'], \n",
    "                     categories=['very bad', 'bad', 'good', 'very good'], ordered=True)\n",
    "sc2"
   ]
  },
  {
   "cell_type": "markdown",
   "id": "ba88209e",
   "metadata": {},
   "source": [
    "**Tự định nghĩa một loại dữ liệu Categorical**"
   ]
  },
  {
   "cell_type": "code",
   "execution_count": 63,
   "id": "395087c6",
   "metadata": {},
   "outputs": [
    {
     "data": {
      "text/plain": [
       "0     very bad\n",
       "1         good\n",
       "2          bad\n",
       "3         good\n",
       "4    very good\n",
       "5         good\n",
       "6          bad\n",
       "dtype: category\n",
       "Categories (4, object): ['very bad' < 'bad' < 'good' < 'very good']"
      ]
     },
     "execution_count": 63,
     "metadata": {},
     "output_type": "execute_result"
    }
   ],
   "source": [
    "from pandas.api.types import CategoricalDtype\n",
    "sc3 = pd.Series(['very bad', 'good','bad', 'good', 'very good', 'good', 'bad'])\n",
    "cat_type = CategoricalDtype(categories=['very bad', 'bad', 'good', 'very good'], ordered=True)\n",
    "sc3.astype(cat_type)"
   ]
  },
  {
   "cell_type": "markdown",
   "id": "21a5b389",
   "metadata": {},
   "source": [
    "**Sort dữ liệu với chỉ định thứ tự các category**"
   ]
  },
  {
   "cell_type": "code",
   "execution_count": 47,
   "id": "39f088b1",
   "metadata": {
    "scrolled": true
   },
   "outputs": [
    {
     "data": {
      "text/plain": [
       "2          bad\n",
       "6          bad\n",
       "1         good\n",
       "3         good\n",
       "5         good\n",
       "0     very bad\n",
       "4    very good\n",
       "dtype: category\n",
       "Categories (4, object): ['bad', 'good', 'very bad', 'very good']"
      ]
     },
     "execution_count": 47,
     "metadata": {},
     "output_type": "execute_result"
    }
   ],
   "source": [
    "sc1.sort_values()"
   ]
  },
  {
   "cell_type": "code",
   "execution_count": 50,
   "id": "faf59162",
   "metadata": {
    "scrolled": true
   },
   "outputs": [
    {
     "data": {
      "text/plain": [
       "0     very bad\n",
       "2          bad\n",
       "6          bad\n",
       "1         good\n",
       "3         good\n",
       "5         good\n",
       "4    very good\n",
       "dtype: category\n",
       "Categories (4, object): ['very bad' < 'bad' < 'good' < 'very good']"
      ]
     },
     "execution_count": 50,
     "metadata": {},
     "output_type": "execute_result"
    }
   ],
   "source": [
    "pd.Series(sc2).sort_values()"
   ]
  },
  {
   "cell_type": "code",
   "execution_count": 65,
   "id": "83aefe33",
   "metadata": {},
   "outputs": [
    {
     "data": {
      "text/plain": [
       "0     very bad\n",
       "2          bad\n",
       "6          bad\n",
       "1         good\n",
       "3         good\n",
       "5         good\n",
       "4    very good\n",
       "dtype: category\n",
       "Categories (4, object): ['very bad' < 'bad' < 'good' < 'very good']"
      ]
     },
     "execution_count": 65,
     "metadata": {},
     "output_type": "execute_result"
    }
   ],
   "source": [
    "sc3 = sc3.astype(cat_type)\n",
    "sc3.sort_values()"
   ]
  }
 ],
 "metadata": {
  "kernelspec": {
   "display_name": "Python 3 (ipykernel)",
   "language": "python",
   "name": "python3"
  },
  "language_info": {
   "codemirror_mode": {
    "name": "ipython",
    "version": 3
   },
   "file_extension": ".py",
   "mimetype": "text/x-python",
   "name": "python",
   "nbconvert_exporter": "python",
   "pygments_lexer": "ipython3",
   "version": "3.9.7"
  }
 },
 "nbformat": 4,
 "nbformat_minor": 5
}
