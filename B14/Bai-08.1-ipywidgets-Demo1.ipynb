{
 "cells": [
  {
   "cell_type": "code",
   "execution_count": 65,
   "id": "35813bd9",
   "metadata": {},
   "outputs": [
    {
     "name": "stdout",
     "output_type": "stream",
     "text": [
      "Defaulting to user installation because normal site-packages is not writeable\n",
      "Requirement already satisfied: ipywidgets in c:\\users\\laptop88\\appdata\\roaming\\python\\python310\\site-packages (7.6.5)\n",
      "Requirement already satisfied: ipython>=4.0.0 in c:\\users\\laptop88\\appdata\\roaming\\python\\python310\\site-packages (from ipywidgets) (8.1.0)\n",
      "Requirement already satisfied: traitlets>=4.3.1 in c:\\users\\laptop88\\appdata\\roaming\\python\\python310\\site-packages (from ipywidgets) (5.1.1)\n",
      "Requirement already satisfied: ipykernel>=4.5.1 in c:\\users\\laptop88\\appdata\\roaming\\python\\python310\\site-packages (from ipywidgets) (6.9.1)\n",
      "Requirement already satisfied: ipython-genutils~=0.2.0 in c:\\users\\laptop88\\appdata\\roaming\\python\\python310\\site-packages (from ipywidgets) (0.2.0)\n",
      "Requirement already satisfied: nbformat>=4.2.0 in c:\\users\\laptop88\\appdata\\roaming\\python\\python310\\site-packages (from ipywidgets) (5.1.3)\n",
      "Requirement already satisfied: jupyterlab-widgets>=1.0.0 in c:\\users\\laptop88\\appdata\\roaming\\python\\python310\\site-packages (from ipywidgets) (1.0.2)\n",
      "Requirement already satisfied: widgetsnbextension~=3.5.0 in c:\\users\\laptop88\\appdata\\roaming\\python\\python310\\site-packages (from ipywidgets) (3.5.2)\n",
      "Requirement already satisfied: matplotlib-inline<0.2.0,>=0.1.0 in c:\\users\\laptop88\\appdata\\roaming\\python\\python310\\site-packages (from ipykernel>=4.5.1->ipywidgets) (0.1.3)\n",
      "Requirement already satisfied: nest-asyncio in c:\\users\\laptop88\\appdata\\roaming\\python\\python310\\site-packages (from ipykernel>=4.5.1->ipywidgets) (1.5.4)\n",
      "Requirement already satisfied: debugpy<2.0,>=1.0.0 in c:\\users\\laptop88\\appdata\\roaming\\python\\python310\\site-packages (from ipykernel>=4.5.1->ipywidgets) (1.5.1)\n",
      "Requirement already satisfied: jupyter-client<8.0 in c:\\users\\laptop88\\appdata\\roaming\\python\\python310\\site-packages (from ipykernel>=4.5.1->ipywidgets) (7.1.2)\n",
      "Requirement already satisfied: tornado<7.0,>=4.2 in c:\\users\\laptop88\\appdata\\roaming\\python\\python310\\site-packages (from ipykernel>=4.5.1->ipywidgets) (6.1)\n",
      "Requirement already satisfied: decorator in c:\\users\\laptop88\\appdata\\roaming\\python\\python310\\site-packages (from ipython>=4.0.0->ipywidgets) (5.1.1)\n",
      "Requirement already satisfied: pygments>=2.4.0 in c:\\users\\laptop88\\appdata\\roaming\\python\\python310\\site-packages (from ipython>=4.0.0->ipywidgets) (2.11.2)\n",
      "Requirement already satisfied: stack-data in c:\\users\\laptop88\\appdata\\roaming\\python\\python310\\site-packages (from ipython>=4.0.0->ipywidgets) (0.2.0)\n",
      "Requirement already satisfied: backcall in c:\\users\\laptop88\\appdata\\roaming\\python\\python310\\site-packages (from ipython>=4.0.0->ipywidgets) (0.2.0)\n",
      "Requirement already satisfied: colorama in c:\\users\\laptop88\\appdata\\roaming\\python\\python310\\site-packages (from ipython>=4.0.0->ipywidgets) (0.4.4)\n",
      "Requirement already satisfied: pickleshare in c:\\users\\laptop88\\appdata\\roaming\\python\\python310\\site-packages (from ipython>=4.0.0->ipywidgets) (0.7.5)\n",
      "Requirement already satisfied: setuptools>=18.5 in c:\\program files\\python310\\lib\\site-packages (from ipython>=4.0.0->ipywidgets) (58.1.0)\n",
      "Requirement already satisfied: jedi>=0.16 in c:\\users\\laptop88\\appdata\\roaming\\python\\python310\\site-packages (from ipython>=4.0.0->ipywidgets) (0.18.1)\n",
      "Requirement already satisfied: prompt-toolkit!=3.0.0,!=3.0.1,<3.1.0,>=2.0.0 in c:\\users\\laptop88\\appdata\\roaming\\python\\python310\\site-packages (from ipython>=4.0.0->ipywidgets) (3.0.28)\n",
      "Requirement already satisfied: jsonschema!=2.5.0,>=2.4 in c:\\users\\laptop88\\appdata\\roaming\\python\\python310\\site-packages (from nbformat>=4.2.0->ipywidgets) (4.4.0)\n",
      "Requirement already satisfied: jupyter-core in c:\\users\\laptop88\\appdata\\roaming\\python\\python310\\site-packages (from nbformat>=4.2.0->ipywidgets) (4.9.2)\n",
      "Requirement already satisfied: notebook>=4.4.1 in c:\\users\\laptop88\\appdata\\roaming\\python\\python310\\site-packages (from widgetsnbextension~=3.5.0->ipywidgets) (6.4.8)\n",
      "Requirement already satisfied: parso<0.9.0,>=0.8.0 in c:\\users\\laptop88\\appdata\\roaming\\python\\python310\\site-packages (from jedi>=0.16->ipython>=4.0.0->ipywidgets) (0.8.3)\n",
      "Requirement already satisfied: pyrsistent!=0.17.0,!=0.17.1,!=0.17.2,>=0.14.0 in c:\\users\\laptop88\\appdata\\roaming\\python\\python310\\site-packages (from jsonschema!=2.5.0,>=2.4->nbformat>=4.2.0->ipywidgets) (0.18.1)\n",
      "Requirement already satisfied: attrs>=17.4.0 in c:\\users\\laptop88\\appdata\\roaming\\python\\python310\\site-packages (from jsonschema!=2.5.0,>=2.4->nbformat>=4.2.0->ipywidgets) (21.4.0)\n",
      "Note: you may need to restart the kernel to use updated packages.\n",
      "Requirement already satisfied: python-dateutil>=2.1 in c:\\users\\laptop88\\appdata\\roaming\\python\\python310\\site-packages (from jupyter-client<8.0->ipykernel>=4.5.1->ipywidgets) (2.8.2)\n",
      "Requirement already satisfied: pyzmq>=13 in c:\\users\\laptop88\\appdata\\roaming\\python\\python310\\site-packages (from jupyter-client<8.0->ipykernel>=4.5.1->ipywidgets) (22.3.0)\n",
      "Requirement already satisfied: entrypoints in c:\\users\\laptop88\\appdata\\roaming\\python\\python310\\site-packages (from jupyter-client<8.0->ipykernel>=4.5.1->ipywidgets) (0.4)\n",
      "Requirement already satisfied: pywin32>=1.0 in c:\\users\\laptop88\\appdata\\roaming\\python\\python310\\site-packages (from jupyter-core->nbformat>=4.2.0->ipywidgets) (303)\n",
      "Requirement already satisfied: terminado>=0.8.3 in c:\\users\\laptop88\\appdata\\roaming\\python\\python310\\site-packages (from notebook>=4.4.1->widgetsnbextension~=3.5.0->ipywidgets) (0.13.1)\n",
      "Requirement already satisfied: Send2Trash>=1.8.0 in c:\\users\\laptop88\\appdata\\roaming\\python\\python310\\site-packages (from notebook>=4.4.1->widgetsnbextension~=3.5.0->ipywidgets) (1.8.0)\n",
      "Requirement already satisfied: jinja2 in c:\\users\\laptop88\\appdata\\roaming\\python\\python310\\site-packages (from notebook>=4.4.1->widgetsnbextension~=3.5.0->ipywidgets) (3.0.3)\n",
      "Requirement already satisfied: nbconvert in c:\\users\\laptop88\\appdata\\roaming\\python\\python310\\site-packages (from notebook>=4.4.1->widgetsnbextension~=3.5.0->ipywidgets) (6.4.2)\n",
      "Requirement already satisfied: argon2-cffi in c:\\users\\laptop88\\appdata\\roaming\\python\\python310\\site-packages (from notebook>=4.4.1->widgetsnbextension~=3.5.0->ipywidgets) (21.3.0)\n",
      "Requirement already satisfied: prometheus-client in c:\\users\\laptop88\\appdata\\roaming\\python\\python310\\site-packages (from notebook>=4.4.1->widgetsnbextension~=3.5.0->ipywidgets) (0.13.1)\n",
      "Requirement already satisfied: wcwidth in c:\\users\\laptop88\\appdata\\roaming\\python\\python310\\site-packages (from prompt-toolkit!=3.0.0,!=3.0.1,<3.1.0,>=2.0.0->ipython>=4.0.0->ipywidgets) (0.2.5)\n",
      "Requirement already satisfied: asttokens in c:\\users\\laptop88\\appdata\\roaming\\python\\python310\\site-packages (from stack-data->ipython>=4.0.0->ipywidgets) (2.0.5)\n",
      "Requirement already satisfied: executing in c:\\users\\laptop88\\appdata\\roaming\\python\\python310\\site-packages (from stack-data->ipython>=4.0.0->ipywidgets) (0.8.3)\n",
      "Requirement already satisfied: pure-eval in c:\\users\\laptop88\\appdata\\roaming\\python\\python310\\site-packages (from stack-data->ipython>=4.0.0->ipywidgets) (0.2.2)\n",
      "Requirement already satisfied: six>=1.5 in c:\\users\\laptop88\\appdata\\roaming\\python\\python310\\site-packages (from python-dateutil>=2.1->jupyter-client<8.0->ipykernel>=4.5.1->ipywidgets) (1.16.0)\n",
      "Requirement already satisfied: pywinpty>=1.1.0 in c:\\users\\laptop88\\appdata\\roaming\\python\\python310\\site-packages (from terminado>=0.8.3->notebook>=4.4.1->widgetsnbextension~=3.5.0->ipywidgets) (2.0.2)\n",
      "Requirement already satisfied: argon2-cffi-bindings in c:\\users\\laptop88\\appdata\\roaming\\python\\python310\\site-packages (from argon2-cffi->notebook>=4.4.1->widgetsnbextension~=3.5.0->ipywidgets) (21.2.0)\n",
      "Requirement already satisfied: MarkupSafe>=2.0 in c:\\users\\laptop88\\appdata\\roaming\\python\\python310\\site-packages (from jinja2->notebook>=4.4.1->widgetsnbextension~=3.5.0->ipywidgets) (2.1.0)\n",
      "Requirement already satisfied: mistune<2,>=0.8.1 in c:\\users\\laptop88\\appdata\\roaming\\python\\python310\\site-packages (from nbconvert->notebook>=4.4.1->widgetsnbextension~=3.5.0->ipywidgets) (0.8.4)\n",
      "Requirement already satisfied: bleach in c:\\users\\laptop88\\appdata\\roaming\\python\\python310\\site-packages (from nbconvert->notebook>=4.4.1->widgetsnbextension~=3.5.0->ipywidgets) (4.1.0)\n",
      "Requirement already satisfied: pandocfilters>=1.4.1 in c:\\users\\laptop88\\appdata\\roaming\\python\\python310\\site-packages (from nbconvert->notebook>=4.4.1->widgetsnbextension~=3.5.0->ipywidgets) (1.5.0)\n",
      "Requirement already satisfied: defusedxml in c:\\users\\laptop88\\appdata\\roaming\\python\\python310\\site-packages (from nbconvert->notebook>=4.4.1->widgetsnbextension~=3.5.0->ipywidgets) (0.7.1)\n",
      "Requirement already satisfied: jupyterlab-pygments in c:\\users\\laptop88\\appdata\\roaming\\python\\python310\\site-packages (from nbconvert->notebook>=4.4.1->widgetsnbextension~=3.5.0->ipywidgets) (0.1.2)\n",
      "Requirement already satisfied: testpath in c:\\users\\laptop88\\appdata\\roaming\\python\\python310\\site-packages (from nbconvert->notebook>=4.4.1->widgetsnbextension~=3.5.0->ipywidgets) (0.6.0)\n",
      "Requirement already satisfied: nbclient<0.6.0,>=0.5.0 in c:\\users\\laptop88\\appdata\\roaming\\python\\python310\\site-packages (from nbconvert->notebook>=4.4.1->widgetsnbextension~=3.5.0->ipywidgets) (0.5.11)\n",
      "Requirement already satisfied: cffi>=1.0.1 in c:\\users\\laptop88\\appdata\\roaming\\python\\python310\\site-packages (from argon2-cffi-bindings->argon2-cffi->notebook>=4.4.1->widgetsnbextension~=3.5.0->ipywidgets) (1.15.0)\n",
      "Requirement already satisfied: packaging in c:\\users\\laptop88\\appdata\\roaming\\python\\python310\\site-packages (from bleach->nbconvert->notebook>=4.4.1->widgetsnbextension~=3.5.0->ipywidgets) (21.3)\n",
      "Requirement already satisfied: webencodings in c:\\users\\laptop88\\appdata\\roaming\\python\\python310\\site-packages (from bleach->nbconvert->notebook>=4.4.1->widgetsnbextension~=3.5.0->ipywidgets) (0.5.1)\n",
      "Requirement already satisfied: pycparser in c:\\users\\laptop88\\appdata\\roaming\\python\\python310\\site-packages (from cffi>=1.0.1->argon2-cffi-bindings->argon2-cffi->notebook>=4.4.1->widgetsnbextension~=3.5.0->ipywidgets) (2.21)\n",
      "Requirement already satisfied: pyparsing!=3.0.5,>=2.0.2 in c:\\users\\laptop88\\appdata\\roaming\\python\\python310\\site-packages (from packaging->bleach->nbconvert->notebook>=4.4.1->widgetsnbextension~=3.5.0->ipywidgets) (3.0.7)\n"
     ]
    }
   ],
   "source": [
    "# Cài đặt (nếu chưa có sẵn)\n",
    "%pip install ipywidgets"
   ]
  },
  {
   "cell_type": "code",
   "execution_count": 66,
   "id": "2f38563e",
   "metadata": {},
   "outputs": [],
   "source": [
    "import pandas as pd\n",
    "import numpy as np\n",
    "import seaborn as sns\n",
    "from matplotlib import pyplot as plt\n",
    "import ipywidgets as widgets"
   ]
  },
  {
   "cell_type": "code",
   "execution_count": 67,
   "id": "cc90eea1",
   "metadata": {},
   "outputs": [],
   "source": [
    "# Không nên dùng inline\n",
    "#%matplotlib inline"
   ]
  },
  {
   "cell_type": "code",
   "execution_count": 68,
   "id": "fb1b5489",
   "metadata": {},
   "outputs": [],
   "source": [
    "sns.set(rc={'figure.figsize':(7, 5)})"
   ]
  },
  {
   "cell_type": "markdown",
   "id": "f564bbe1",
   "metadata": {},
   "source": [
    "**Review: Linear Regression với y=ax+b**"
   ]
  },
  {
   "cell_type": "code",
   "execution_count": 69,
   "id": "affd0153",
   "metadata": {},
   "outputs": [
    {
     "data": {
      "text/plain": [
       "200"
      ]
     },
     "execution_count": 69,
     "metadata": {},
     "output_type": "execute_result"
    }
   ],
   "source": [
    "# Linear Regression voi y = ax + b\n",
    "a = 3\n",
    "b = np.random.normal(0,2,200) #Phân bố chuẩn\n",
    "x = np.linspace(0,10,200) #Tạo dãy số cách đều nhau\n",
    "y = a*x + b\n",
    "y.size"
   ]
  },
  {
   "cell_type": "code",
   "execution_count": 70,
   "id": "6b033ba2",
   "metadata": {},
   "outputs": [
    {
     "data": {
      "image/png": "[encoded data removed]",
      "text/plain": [
       "<Figure size 504x360 with 1 Axes>"
      ]
     },
     "metadata": {},
     "output_type": "display_data"
    }
   ],
   "source": [
    "def Ve_Ham_So(aa=2):\n",
    "    bb = 0\n",
    "    xx = np.array([0,10])\n",
    "    yy = xx*aa + bb\n",
    "    sns.scatterplot(x=x,y=y)\n",
    "    sns.lineplot(x=xx, y=yy, color='red')\n",
    "    \n",
    "    plt.xlim([-1,12])\n",
    "    plt.ylim([-10,40])\n",
    "    plt.show()\n",
    "    plt.close('all')\n",
    "Ve_Ham_So(1)"
   ]
  },
  {
   "cell_type": "markdown",
   "id": "78068d51",
   "metadata": {},
   "source": [
    "# 1. Giới thiệu"
   ]
  },
  {
   "cell_type": "markdown",
   "id": "2a2d4149",
   "metadata": {},
   "source": [
    "**Tự tìm giá trị cho a và b**"
   ]
  },
  {
   "cell_type": "code",
   "execution_count": 71,
   "id": "df01d01c",
   "metadata": {},
   "outputs": [
    {
     "data": {
      "application/vnd.jupyter.widget-view+json": {
       "model_id": "fd95cf8708d3471c8a91e6d55e116dac",
       "version_major": 2,
       "version_minor": 0
      },
      "text/plain": [
       "interactive(children=(FloatSlider(value=2.0, description='aa', max=5.0, step=0.2), Output()), _dom_classes=('w…"
      ]
     },
     "metadata": {},
     "output_type": "display_data"
    }
   ],
   "source": [
    "w = widgets.interact(Ve_Ham_So, aa=(0,5,0.2))"
   ]
  },
  {
   "cell_type": "code",
   "execution_count": 72,
   "id": "b952f9fd",
   "metadata": {},
   "outputs": [],
   "source": [
    "def Ve_Ham_So2(aa=2, bb=0, cc='r', show_line=True, text='Linear Regression'):\n",
    "    xx = np.array([0,10])\n",
    "    yy = xx*aa + bb\n",
    "    sns.scatterplot(x=x,y=y)\n",
    "    \n",
    "    if show_line:\n",
    "        sns.lineplot(x=xx, y=yy, color=cc)\n",
    "    plt.annotate(text, (0, 35))\n",
    "    \n",
    "    plt.xlim([-1,12])\n",
    "    plt.ylim([-10,40])\n",
    "    plt.show()\n",
    "    plt.close('all')"
   ]
  },
  {
   "cell_type": "code",
   "execution_count": 73,
   "id": "2c567846",
   "metadata": {},
   "outputs": [
    {
     "data": {
      "image/png": "[encoded data removed]",
      "text/plain": [
       "<Figure size 504x360 with 1 Axes>"
      ]
     },
     "metadata": {},
     "output_type": "display_data"
    }
   ],
   "source": [
    "Ve_Ham_So2()"
   ]
  },
  {
   "cell_type": "code",
   "execution_count": 74,
   "id": "907c4b51",
   "metadata": {},
   "outputs": [
    {
     "data": {
      "application/vnd.jupyter.widget-view+json": {
       "model_id": "dfb9c7bf839d4048af15ef03e236db87",
       "version_major": 2,
       "version_minor": 0
      },
      "text/plain": [
       "interactive(children=(FloatSlider(value=2.0, description='aa', max=5.0, step=0.2), FloatSlider(value=0.0, desc…"
      ]
     },
     "metadata": {},
     "output_type": "display_data"
    }
   ],
   "source": [
    "w = widgets.interact(Ve_Ham_So2, \n",
    "                     aa=(0,5,0.2), \n",
    "                     bb=(-2,2,0.2), \n",
    "                     cc=['red', 'green', 'blue'],\n",
    "                     show_line=False,\n",
    "                    )"
   ]
  },
  {
   "cell_type": "markdown",
   "id": "9d953c06",
   "metadata": {},
   "source": [
    "# 2. Các loại widgets thông dụng\n",
    "\n",
    "Tham khảo: https://ipywidgets.readthedocs.io/en/stable/examples/Widget%20List.html"
   ]
  },
  {
   "cell_type": "code",
   "execution_count": 75,
   "id": "d0a50f6e",
   "metadata": {},
   "outputs": [],
   "source": [
    "# ipywidgets có sử dụng hàm display, clear_output của module display thuộc thư viện IPython\n",
    "# (nhằm hiển thị các widgets một cách chủ động)\n",
    "# IPython là thư viện nền tảng của Python nên cần import để sử dụng\n",
    "\n",
    "from IPython.display import display, clear_output"
   ]
  },
  {
   "cell_type": "markdown",
   "id": "4bec72ec",
   "metadata": {},
   "source": [
    "## 2.1. Slider"
   ]
  },
  {
   "cell_type": "code",
   "execution_count": 76,
   "id": "c0d0fa69",
   "metadata": {},
   "outputs": [
    {
     "data": {
      "application/vnd.jupyter.widget-view+json": {
       "model_id": "546adf509886452889ab74fd312d0fb2",
       "version_major": 2,
       "version_minor": 0
      },
      "text/plain": [
       "IntSlider(value=3, max=10, step=2)"
      ]
     },
     "metadata": {},
     "output_type": "display_data"
    },
    {
     "name": "stdout",
     "output_type": "stream",
     "text": [
      "<class 'ipywidgets.widgets.widget_int.IntSlider'>\n"
     ]
    }
   ],
   "source": [
    "w0 = widgets.Intr(value=3, min=0, max=10, step=2)\n",
    "display(w0)\n",
    "print(type(w0)) #class"
   ]
  },
  {
   "cell_type": "code",
   "execution_count": 77,
   "id": "ba1414b7",
   "metadata": {},
   "outputs": [
    {
     "data": {
      "application/vnd.jupyter.widget-view+json": {
       "model_id": "c71ba5ae3d514d549b588f6540e2082e",
       "version_major": 2,
       "version_minor": 0
      },
      "text/plain": [
       "FloatSlider(value=2.5, max=5.6, min=1.2, step=0.2)"
      ]
     },
     "metadata": {},
     "output_type": "display_data"
    }
   ],
   "source": [
    "widgets.FloatSlider(value=2.5, min=1.2, max=5.6, step=0.2)"
   ]
  },
  {
   "cell_type": "code",
   "execution_count": 78,
   "id": "3390e744",
   "metadata": {},
   "outputs": [
    {
     "data": {
      "application/vnd.jupyter.widget-view+json": {
       "model_id": "7ea6c2605af043f3898cf2cb83eddfbf",
       "version_major": 2,
       "version_minor": 0
      },
      "text/plain": [
       "FloatSlider(value=2.5, max=5.6, min=1.2, step=0.2)"
      ]
     },
     "metadata": {},
     "output_type": "display_data"
    }
   ],
   "source": [
    "w1 = widgets.FloatSlider(value=2.5, min=1.2, max=5.6, step=0.2)\n",
    "display(w1)"
   ]
  },
  {
   "cell_type": "markdown",
   "id": "52fd4275",
   "metadata": {},
   "source": [
    "**Tạo biến trỏ đến widget để lấy ra kết quả**"
   ]
  },
  {
   "cell_type": "code",
   "execution_count": 79,
   "id": "2fe4f07a",
   "metadata": {},
   "outputs": [
    {
     "name": "stdout",
     "output_type": "stream",
     "text": [
      "2.5\n"
     ]
    }
   ],
   "source": [
    "print(w1.value)"
   ]
  },
  {
   "cell_type": "markdown",
   "id": "0913dfcf",
   "metadata": {},
   "source": [
    "**HBox và VBox**"
   ]
  },
  {
   "cell_type": "code",
   "execution_count": 80,
   "id": "50a06b8a",
   "metadata": {},
   "outputs": [
    {
     "data": {
      "application/vnd.jupyter.widget-view+json": {
       "model_id": "b6c2728d1fd143acae5e99da5bba206d",
       "version_major": 2,
       "version_minor": 0
      },
      "text/plain": [
       "HBox(children=(IntSlider(value=3, max=10, step=2), FloatSlider(value=2.5, max=5.6, min=1.2, step=0.2)))"
      ]
     },
     "metadata": {},
     "output_type": "display_data"
    }
   ],
   "source": [
    "widgets.HBox([w0,w1])"
   ]
  },
  {
   "cell_type": "code",
   "execution_count": 81,
   "id": "b0adf8b4",
   "metadata": {},
   "outputs": [
    {
     "data": {
      "application/vnd.jupyter.widget-view+json": {
       "model_id": "afa74ea7cd2149f2bf8479180d28c342",
       "version_major": 2,
       "version_minor": 0
      },
      "text/plain": [
       "VBox(children=(IntSlider(value=3, max=10, step=2), FloatSlider(value=2.5, max=5.6, min=1.2, step=0.2)))"
      ]
     },
     "metadata": {},
     "output_type": "display_data"
    }
   ],
   "source": [
    "widgets.VBox([w0,w1])"
   ]
  },
  {
   "cell_type": "markdown",
   "id": "ce703ea8",
   "metadata": {},
   "source": [
    "## 2.2. Textbox & Label"
   ]
  },
  {
   "cell_type": "code",
   "execution_count": 82,
   "id": "301477ca",
   "metadata": {},
   "outputs": [
    {
     "data": {
      "application/vnd.jupyter.widget-view+json": {
       "model_id": "c90502db0a0d4a7fb27e183ecba45b72",
       "version_major": 2,
       "version_minor": 0
      },
      "text/plain": [
       "IntText(value=10, step=3)"
      ]
     },
     "metadata": {},
     "output_type": "display_data"
    }
   ],
   "source": [
    "widgets.IntText(value=10, step=3)"
   ]
  },
  {
   "cell_type": "code",
   "execution_count": 83,
   "id": "7f8d696c",
   "metadata": {},
   "outputs": [
    {
     "data": {
      "application/vnd.jupyter.widget-view+json": {
       "model_id": "03d9190bdac041298ff1778af0f97b86",
       "version_major": 2,
       "version_minor": 0
      },
      "text/plain": [
       "BoundedIntText(value=3, max=6, min=-3)"
      ]
     },
     "metadata": {},
     "output_type": "display_data"
    }
   ],
   "source": [
    "widgets.BoundedIntText(value=3, min=-3, max=6, step=1)"
   ]
  },
  {
   "cell_type": "code",
   "execution_count": 84,
   "id": "1f926257",
   "metadata": {},
   "outputs": [
    {
     "data": {
      "application/vnd.jupyter.widget-view+json": {
       "model_id": "8de68df32a7e4662a8bc210dcc1b9ec5",
       "version_major": 2,
       "version_minor": 0
      },
      "text/plain": [
       "FloatText(value=2.3, step=0.5)"
      ]
     },
     "metadata": {},
     "output_type": "display_data"
    }
   ],
   "source": [
    "widgets.FloatText(value=2.3, step=0.5)"
   ]
  },
  {
   "cell_type": "code",
   "execution_count": 85,
   "id": "5da08361",
   "metadata": {},
   "outputs": [
    {
     "data": {
      "application/vnd.jupyter.widget-view+json": {
       "model_id": "ec5b880f1d544d4da75cf0f0ec65993b",
       "version_major": 2,
       "version_minor": 0
      },
      "text/plain": [
       "BoundedFloatText(value=1.2, description='Nhập số Thực:', max=5.6, min=1.2, step=0.2)"
      ]
     },
     "metadata": {},
     "output_type": "display_data"
    }
   ],
   "source": [
    "widgets.BoundedFloatText(description='Nhập số Thực:', \n",
    "                         min=1.2, max=5.6, step=0.2\n",
    "                        )"
   ]
  },
  {
   "cell_type": "markdown",
   "id": "76d3cc5c",
   "metadata": {},
   "source": [
    "**Tạo biến trỏ đến widget để lấy ra kết quả**"
   ]
  },
  {
   "cell_type": "code",
   "execution_count": 86,
   "id": "afca6f10",
   "metadata": {},
   "outputs": [
    {
     "data": {
      "application/vnd.jupyter.widget-view+json": {
       "model_id": "2f73a583e2b74f6e8096bdb3125419c6",
       "version_major": 2,
       "version_minor": 0
      },
      "text/plain": [
       "BoundedFloatText(value=1.2, description='Nhập số Thực:', max=5.6, min=1.2, step=0.2, style=DescriptionStyle(de…"
      ]
     },
     "metadata": {},
     "output_type": "display_data"
    }
   ],
   "source": [
    "# Thêm description\n",
    "# Lưu ý: Cần set tham số style để hiển thị được description dài\n",
    "w2 = widgets.BoundedFloatText(description='Nhập số Thực:', \n",
    "                              min=1.2, max=5.6, step=0.2,\n",
    "                              style = {'description_width': 'initial'},\n",
    "                             )\n",
    "display(w2)"
   ]
  },
  {
   "cell_type": "code",
   "execution_count": 87,
   "id": "5bda238a",
   "metadata": {},
   "outputs": [
    {
     "name": "stdout",
     "output_type": "stream",
     "text": [
      "1.2\n"
     ]
    }
   ],
   "source": [
    "# Lấy ra kết quả đã nhập\n",
    "print(w2.value)"
   ]
  },
  {
   "cell_type": "markdown",
   "id": "e995464b",
   "metadata": {},
   "source": [
    "**Kết hợp 2 widgets bằng `.link`, `.dlink` hoặc `.jslink`**\n",
    "1. .link và .dlink: Python kernel, sẽ không hoạt động sau khi tắt kernel\n",
    "2. .jslink: Javascript (client), vẫn chạy sau khi tắt kernel"
   ]
  },
  {
   "cell_type": "code",
   "execution_count": 88,
   "id": "dd9b63ce",
   "metadata": {},
   "outputs": [
    {
     "data": {
      "application/vnd.jupyter.widget-view+json": {
       "model_id": "cdbf94e8caf940389592ad808d7c26db",
       "version_major": 2,
       "version_minor": 0
      },
      "text/plain": [
       "FloatSlider(value=2.5, max=5.6, min=1.2, step=0.2)"
      ]
     },
     "metadata": {},
     "output_type": "display_data"
    },
    {
     "data": {
      "application/vnd.jupyter.widget-view+json": {
       "model_id": "f024d0b2373f47fd86aeb13fe69cca51",
       "version_major": 2,
       "version_minor": 0
      },
      "text/plain": [
       "BoundedFloatText(value=2.5, description='Nhập số Thực:', max=5.6, min=1.2, step=0.2, style=DescriptionStyle(de…"
      ]
     },
     "metadata": {},
     "output_type": "display_data"
    }
   ],
   "source": [
    "# LƯU Ý: Nếu gọi display cho biến đã display rồi và dùng hàm link có thể \n",
    "# gây loop vô tận!!!\n",
    "# Cần đặt tên biến mới (hoặc xóa biến cũ)\n",
    "\n",
    "w3 = widgets.FloatSlider(value=2.5, min=1.2, max=5.6, step=0.2)\n",
    "w4 = widgets.BoundedFloatText(description='Nhập số Thực:', \n",
    "                              min=1.2, max=5.6, step=0.2,\n",
    "                              style = {'description_width': 'initial'},\n",
    "                             )\n",
    "widgets.link((w3, 'value'), (w4, 'value'))\n",
    "display(w3,w4)"
   ]
  },
  {
   "cell_type": "code",
   "execution_count": 89,
   "id": "41774393",
   "metadata": {},
   "outputs": [
    {
     "data": {
      "application/vnd.jupyter.widget-view+json": {
       "model_id": "80f5b655066a4667825c28b96a7550c0",
       "version_major": 2,
       "version_minor": 0
      },
      "text/plain": [
       "FloatSlider(value=2.5, max=5.6, min=1.2, step=0.2)"
      ]
     },
     "metadata": {},
     "output_type": "display_data"
    },
    {
     "data": {
      "application/vnd.jupyter.widget-view+json": {
       "model_id": "586591eb763d4f149b85859e40dcb002",
       "version_major": 2,
       "version_minor": 0
      },
      "text/plain": [
       "BoundedFloatText(value=1.2, description='Nhập số Thực:', max=5.6, min=1.2, step=0.2, style=DescriptionStyle(de…"
      ]
     },
     "metadata": {},
     "output_type": "display_data"
    }
   ],
   "source": [
    "# Sử dụng jslink\n",
    "\n",
    "w3 = widgets.FloatSlider(value=2.5, min=1.2, max=5.6, step=0.2)\n",
    "w4 = widgets.BoundedFloatText(description='Nhập số Thực:', \n",
    "                              min=1.2, max=5.6, step=0.2,\n",
    "                              style = {'description_width': 'initial'},\n",
    "                             )\n",
    "widgets.jslink((w3, 'value'), (w4, 'value'))\n",
    "display(w3,w4)"
   ]
  },
  {
   "cell_type": "markdown",
   "id": "3c787947",
   "metadata": {},
   "source": [
    "**TextBox và TextArea cho dữ liệu chuỗi**"
   ]
  },
  {
   "cell_type": "code",
   "execution_count": 90,
   "id": "27d7104c",
   "metadata": {},
   "outputs": [
    {
     "data": {
      "application/vnd.jupyter.widget-view+json": {
       "model_id": "174c31227118492aacfb6689b5b15dd6",
       "version_major": 2,
       "version_minor": 0
      },
      "text/plain": [
       "Text(value='abc', description='Nhập Text Vào Đây', style=DescriptionStyle(description_width='initial'))"
      ]
     },
     "metadata": {},
     "output_type": "display_data"
    }
   ],
   "source": [
    "# Ví dụ: nhập tên, password\n",
    "wText1 = widgets.Text(value='abc', description='Nhập Text Vào Đây',                      \n",
    "                      style = {'description_width': 'initial'})\n",
    "display(wText1)"
   ]
  },
  {
   "cell_type": "code",
   "execution_count": 91,
   "id": "0d6f0917",
   "metadata": {},
   "outputs": [
    {
     "name": "stdout",
     "output_type": "stream",
     "text": [
      "['_dom_classes', '_model_module', '_model_module_version', '_model_name', '_view_count', '_view_module', '_view_module_version', '_view_name', 'continuous_update', 'description', 'description_tooltip', 'disabled', 'layout', 'placeholder', 'style', 'value']\n",
      "abc\n"
     ]
    }
   ],
   "source": [
    "print(wText1.keys)\n",
    "print(wText1.value)"
   ]
  },
  {
   "cell_type": "code",
   "execution_count": 92,
   "id": "eba2bd6c",
   "metadata": {},
   "outputs": [
    {
     "data": {
      "application/vnd.jupyter.widget-view+json": {
       "model_id": "5dd2096235234d19a81f0b49ac8964ee",
       "version_major": 2,
       "version_minor": 0
      },
      "text/plain": [
       "Textarea(value='abc \\n xyz', description='Nhập Text Vào Đây')"
      ]
     },
     "metadata": {},
     "output_type": "display_data"
    }
   ],
   "source": [
    "wText2 = widgets.Textarea(value='abc \\n xyz', description='Nhập Text Vào Đây')\n",
    "display(wText2)"
   ]
  },
  {
   "cell_type": "code",
   "execution_count": 93,
   "id": "2b592507",
   "metadata": {},
   "outputs": [
    {
     "data": {
      "text/plain": [
       "'abc \\n xyz'"
      ]
     },
     "execution_count": 93,
     "metadata": {},
     "output_type": "execute_result"
    }
   ],
   "source": [
    "wText2.value"
   ]
  },
  {
   "cell_type": "markdown",
   "id": "75e6d720",
   "metadata": {},
   "source": [
    "**Sử dụng `widgets.Label()` để tạo description**"
   ]
  },
  {
   "cell_type": "code",
   "execution_count": 94,
   "id": "b337c77c",
   "metadata": {},
   "outputs": [
    {
     "data": {
      "application/vnd.jupyter.widget-view+json": {
       "model_id": "20120a2a3580403080204a578da2051b",
       "version_major": 2,
       "version_minor": 0
      },
      "text/plain": [
       "Label(value='Nhập Text Vào Đây')"
      ]
     },
     "metadata": {},
     "output_type": "display_data"
    },
    {
     "data": {
      "application/vnd.jupyter.widget-view+json": {
       "model_id": "554ce3305519479185420020a62a7b4c",
       "version_major": 2,
       "version_minor": 0
      },
      "text/plain": [
       "Textarea(value='abc \\n xyz')"
      ]
     },
     "metadata": {},
     "output_type": "display_data"
    }
   ],
   "source": [
    "wLabel = widgets.Label(value='Nhập Text Vào Đây')\n",
    "wText2 = widgets.Textarea(value='abc \\n xyz', continuous_update=True)\n",
    "display(wLabel, wText2)"
   ]
  },
  {
   "cell_type": "code",
   "execution_count": 95,
   "id": "ca47a0cf",
   "metadata": {},
   "outputs": [
    {
     "data": {
      "application/vnd.jupyter.widget-view+json": {
       "model_id": "683947d70de04b2e8ac34dcdcde23156",
       "version_major": 2,
       "version_minor": 0
      },
      "text/plain": [
       "VBox(children=(Label(value='Nhập Text Vào Đây'), Textarea(value='abc \\n xyz')))"
      ]
     },
     "metadata": {},
     "output_type": "display_data"
    }
   ],
   "source": [
    "wTextareaBox = widgets.VBox([wLabel, wText2])\n",
    "display(wTextareaBox)"
   ]
  },
  {
   "cell_type": "markdown",
   "id": "a1578b03",
   "metadata": {},
   "source": [
    "## 2.3. Checkbox & Radiobuttons"
   ]
  },
  {
   "cell_type": "code",
   "execution_count": 96,
   "id": "0c722617",
   "metadata": {},
   "outputs": [
    {
     "data": {
      "application/vnd.jupyter.widget-view+json": {
       "model_id": "91ec68d715d94f68bb6f08a19eac5dfe",
       "version_major": 2,
       "version_minor": 0
      },
      "text/plain": [
       "Checkbox(value=True, description='Hiển thị')"
      ]
     },
     "metadata": {},
     "output_type": "display_data"
    }
   ],
   "source": [
    "wCheckbox = widgets.Checkbox(value=True, description='Hiển thị')\n",
    "display(wCheckbox)"
   ]
  },
  {
   "cell_type": "code",
   "execution_count": 97,
   "id": "69216bbd",
   "metadata": {},
   "outputs": [
    {
     "data": {
      "text/plain": [
       "True"
      ]
     },
     "execution_count": 97,
     "metadata": {},
     "output_type": "execute_result"
    }
   ],
   "source": [
    "wCheckbox.value"
   ]
  },
  {
   "cell_type": "code",
   "execution_count": 98,
   "id": "7c5d29cb",
   "metadata": {},
   "outputs": [
    {
     "data": {
      "application/vnd.jupyter.widget-view+json": {
       "model_id": "3a7b583c82c1429ba24bae64284f8d44",
       "version_major": 2,
       "version_minor": 0
      },
      "text/plain": [
       "RadioButtons(description='Ngành học của bạn', options=('IT', 'Kinh tế - Tài chính', 'Kỹ thuật - Công nghệ', 'K…"
      ]
     },
     "metadata": {},
     "output_type": "display_data"
    }
   ],
   "source": [
    "wRB = widgets.RadioButtons(description='Ngành học của bạn',\n",
    "                           options=['IT', 'Kinh tế - Tài chính', 'Kỹ thuật - Công nghệ', 'Khác']\n",
    "                          )\n",
    "display(wRB)"
   ]
  },
  {
   "cell_type": "code",
   "execution_count": 99,
   "id": "516d497e",
   "metadata": {},
   "outputs": [
    {
     "name": "stdout",
     "output_type": "stream",
     "text": [
      "IT\n",
      "0\n"
     ]
    }
   ],
   "source": [
    "print(wRB.value)\n",
    "print(wRB.index)"
   ]
  },
  {
   "cell_type": "markdown",
   "id": "10793256",
   "metadata": {},
   "source": [
    "## 2.4. Dropdown list"
   ]
  },
  {
   "cell_type": "code",
   "execution_count": 100,
   "id": "3b35d18a",
   "metadata": {},
   "outputs": [
    {
     "data": {
      "application/vnd.jupyter.widget-view+json": {
       "model_id": "ea3d1ee269ab4c0ebe0ec43a7ae7a3a3",
       "version_major": 2,
       "version_minor": 0
      },
      "text/plain": [
       "Select(description='Chọn Loại Biểu Đồ', index=1, options=('Cột', 'Scatter', 'Histogram'), value='Scatter')"
      ]
     },
     "metadata": {},
     "output_type": "display_data"
    }
   ],
   "source": [
    "wSelect = widgets.Select(description='Chọn Loại Biểu Đồ',\n",
    "                         label='Scatter', #value='Histogram',\n",
    "                         row=2,\n",
    "                         options=['Cột', 'Scatter', 'Histogram']\n",
    "                        )\n",
    "display(wSelect)"
   ]
  },
  {
   "cell_type": "code",
   "execution_count": 101,
   "id": "e2f06477",
   "metadata": {},
   "outputs": [
    {
     "name": "stdout",
     "output_type": "stream",
     "text": [
      "Scatter\n",
      "1\n"
     ]
    }
   ],
   "source": [
    "print(wSelect.value)\n",
    "print(wSelect.index)"
   ]
  },
  {
   "cell_type": "code",
   "execution_count": 102,
   "id": "54cea8a2",
   "metadata": {},
   "outputs": [
    {
     "data": {
      "application/vnd.jupyter.widget-view+json": {
       "model_id": "ba32323c5b324b2992af4a9cdc05db22",
       "version_major": 2,
       "version_minor": 0
      },
      "text/plain": [
       "SelectMultiple(description='Chọn Chi Nhánh', index=(0,), options=('CN1', 'CN2', 'CN3', 'CN4', 'CN5'), value=('…"
      ]
     },
     "metadata": {},
     "output_type": "display_data"
    }
   ],
   "source": [
    "wSelectM = widgets.SelectMultiple(description='Chọn Chi Nhánh',\n",
    "                                  options=['CN1', 'CN2', 'CN3', 'CN4', 'CN5'],\n",
    "                                  value=['CN1'],\n",
    "                                  row=3\n",
    "                                 )\n",
    "display(wSelectM)"
   ]
  },
  {
   "cell_type": "code",
   "execution_count": 103,
   "id": "235d9720",
   "metadata": {},
   "outputs": [
    {
     "name": "stdout",
     "output_type": "stream",
     "text": [
      "(0,)\n",
      "('CN1',)\n"
     ]
    }
   ],
   "source": [
    "print(wSelectM.index)\n",
    "print(wSelectM.value)"
   ]
  },
  {
   "cell_type": "markdown",
   "id": "2f7f82fd",
   "metadata": {},
   "source": [
    "## 2.5. Buttons"
   ]
  },
  {
   "cell_type": "code",
   "execution_count": 104,
   "id": "f53a1f0e",
   "metadata": {},
   "outputs": [
    {
     "data": {
      "application/vnd.jupyter.widget-view+json": {
       "model_id": "55f7e10366004368afbc804a71c6e1bd",
       "version_major": 2,
       "version_minor": 0
      },
      "text/plain": [
       "Button(button_style='info', description='Chọn', icon='check', style=ButtonStyle(), tooltip='Bấm vào đây')"
      ]
     },
     "metadata": {},
     "output_type": "display_data"
    }
   ],
   "source": [
    "# button_style: 'success', 'info', 'warning', 'danger' or ''\n",
    "wButton = widgets.Button(description='Chọn',\n",
    "                         button_style='info',\n",
    "                         tooltip='Bấm vào đây',\n",
    "                         icon='check' # 'fa-bullhorn', 'bullhorn','folder-open',...\n",
    "              )\n",
    "display(wButton)"
   ]
  },
  {
   "cell_type": "code",
   "execution_count": 137,
   "id": "eadb7d6b",
   "metadata": {},
   "outputs": [
    {
     "data": {
      "application/vnd.jupyter.widget-view+json": {
       "model_id": "55f7e10366004368afbc804a71c6e1bd",
       "version_major": 2,
       "version_minor": 0
      },
      "text/plain": [
       "Button(button_style='info', description='Chọn', icon='check', style=ButtonStyle(), tooltip='Bấm vào đây')"
      ]
     },
     "metadata": {},
     "output_type": "display_data"
    }
   ],
   "source": [
    "def ThucHien(click):\n",
    "    print(click)\n",
    "    print('Xin chao cac ban')\n",
    "wButton.on_click(ThucHien)\n",
    "display(wButton)\n",
    "# display(Thuchien())"
   ]
  },
  {
   "cell_type": "markdown",
   "id": "f423940c",
   "metadata": {},
   "source": [
    "## 2.6. Output widgets"
   ]
  },
  {
   "cell_type": "code",
   "execution_count": 106,
   "id": "876770e7",
   "metadata": {},
   "outputs": [
    {
     "data": {
      "application/vnd.jupyter.widget-view+json": {
       "model_id": "d7fe00718f544443bb9c4ff703cc549e",
       "version_major": 2,
       "version_minor": 0
      },
      "text/plain": [
       "Output(layout=Layout(border='1px solid black'))"
      ]
     },
     "metadata": {},
     "output_type": "display_data"
    }
   ],
   "source": [
    "wOutput = widgets.Output(layout={'border': '1px solid black'})\n",
    "display(wOutput)"
   ]
  },
  {
   "cell_type": "code",
   "execution_count": 107,
   "id": "1b937528",
   "metadata": {},
   "outputs": [],
   "source": [
    "with wOutput:\n",
    "    wOutput.clear_output()\n",
    "    print('abc')\n",
    "    print('xyz')\n",
    "    print('234')\n",
    "    display(wButton)    "
   ]
  },
  {
   "cell_type": "code",
   "execution_count": 129,
   "id": "a84a6708",
   "metadata": {},
   "outputs": [
    {
     "data": {
      "application/vnd.jupyter.widget-view+json": {
       "model_id": "d7fe00718f544443bb9c4ff703cc549e",
       "version_major": 2,
       "version_minor": 0
      },
      "text/plain": [
       "Output(layout=Layout(border='1px solid black'), outputs=({'name': 'stdout', 'text': 'abc\\nxyz\\n234\\nabc\\nxyz\\n…"
      ]
     },
     "metadata": {},
     "output_type": "display_data"
    }
   ],
   "source": [
    "display(wOutput)\n",
    "with wOutput:\n",
    "    def ThucHien1(click):\n",
    "        # wOutput.clear_output()\n",
    "        print('Da Bam Nut')\n",
    "        #display(wButton)\n",
    "        \n",
    "    wOutput.clear_output()\n",
    "    print('abc')\n",
    "    print('xyz')\n",
    "    print('234')\n",
    "    \n",
    "    display(wButton)\n",
    "    wButton.on_click(ThucHien1)"
   ]
  },
  {
   "cell_type": "code",
   "execution_count": 127,
   "id": "5f3b2772",
   "metadata": {},
   "outputs": [
    {
     "data": {
      "application/vnd.jupyter.widget-view+json": {
       "model_id": "27eda1c5133340eba2b92b993b8311c5",
       "version_major": 2,
       "version_minor": 0
      },
      "text/plain": [
       "HBox(children=(Button(button_style='info', description='Chọn', icon='check', style=ButtonStyle(), tooltip='Bấm…"
      ]
     },
     "metadata": {},
     "output_type": "display_data"
    }
   ],
   "source": [
    "wButton2 = widgets.Button(description='Chọn',\n",
    "                         button_style='info',\n",
    "                         tooltip='Bấm vào đây',\n",
    "                         icon='check' # 'fa-bullhorn', 'bullhorn','folder-open',...\n",
    "              )\n",
    "wButton2.on_click(ThucHien2)\n",
    "def ThucHien2(click):\n",
    "    wOutput.clear_output()\n",
    "    with wOutput:\n",
    "        print('Hello World!')\n",
    "widgets.HBox([wButton2, wOutput])"
   ]
  },
  {
   "cell_type": "markdown",
   "id": "832e01d4",
   "metadata": {},
   "source": [
    "# 3. Hàm `widgets.interact()`"
   ]
  },
  {
   "cell_type": "code",
   "execution_count": 110,
   "id": "83762866",
   "metadata": {
    "scrolled": false
   },
   "outputs": [
    {
     "data": {
      "application/vnd.jupyter.widget-view+json": {
       "model_id": "99126884c632434da8ac6cd163711f60",
       "version_major": 2,
       "version_minor": 0
      },
      "text/plain": [
       "interactive(children=(IntSlider(value=2, description='aa', max=6, min=-2), IntSlider(value=5, description='bb'…"
      ]
     },
     "metadata": {},
     "output_type": "display_data"
    }
   ],
   "source": [
    "# cú pháp decorator\n",
    "@widgets.interact()\n",
    "def Ve_Ham_So3(aa=2, bb=5, cc='r', show_line=False, text='Linear Regression'):\n",
    "    xx = np.array([0,10])\n",
    "    yy = xx*aa + bb\n",
    "    sns.scatterplot(x=x,y=y)\n",
    "    \n",
    "    if show_line:\n",
    "        sns.lineplot(x=xx, y=yy, color=cc)\n",
    "    plt.annotate(text, (0, 35))\n",
    "    \n",
    "    plt.xlim([-1,12])\n",
    "    plt.ylim([-10,40])\n",
    "    plt.show()\n",
    "    plt.close('all')"
   ]
  },
  {
   "cell_type": "code",
   "execution_count": 111,
   "id": "13a3a6da",
   "metadata": {},
   "outputs": [
    {
     "data": {
      "image/png": "[encoded data removed]",
      "text/plain": [
       "<Figure size 504x360 with 1 Axes>"
      ]
     },
     "metadata": {},
     "output_type": "display_data"
    }
   ],
   "source": [
    "Ve_Ham_So3(aa=3, bb=3, cc='r', show_line=True, text='Linear')"
   ]
  },
  {
   "cell_type": "markdown",
   "id": "4a49185b",
   "metadata": {},
   "source": [
    "**Sử dụng `interact` cho từng widgets**"
   ]
  },
  {
   "cell_type": "code",
   "execution_count": 112,
   "id": "9ffb2657",
   "metadata": {},
   "outputs": [
    {
     "data": {
      "application/vnd.jupyter.widget-view+json": {
       "model_id": "4500ce76199a43d691837e9dbb24cebe",
       "version_major": 2,
       "version_minor": 0
      },
      "text/plain": [
       "IntSlider(value=20, description='Int:', max=50, step=5)"
      ]
     },
     "metadata": {},
     "output_type": "display_data"
    },
    {
     "data": {
      "application/vnd.jupyter.widget-view+json": {
       "model_id": "9f1045113d804db9b17e61f133f6eb98",
       "version_major": 2,
       "version_minor": 0
      },
      "text/plain": [
       "FloatSlider(value=0.5, description='Float:', max=1.0, step=0.02)"
      ]
     },
     "metadata": {},
     "output_type": "display_data"
    },
    {
     "data": {
      "application/vnd.jupyter.widget-view+json": {
       "model_id": "9350fb510c0347e09cb91b1b582c2e1d",
       "version_major": 2,
       "version_minor": 0
      },
      "text/plain": [
       "SelectMultiple(description='Chọn Chi Nhánh', index=(0,), options=('CN1', 'CN2', 'CN3', 'CN4', 'CN5'), value=('…"
      ]
     },
     "metadata": {},
     "output_type": "display_data"
    }
   ],
   "source": [
    "w0 = widgets.IntSlider(description='Int:', value=20, min=0, max=50, step=5)\n",
    "w1 = widgets.FloatSlider(description='Float:', value=0.5, min=0, max=1, step=0.02)\n",
    "wSelectM = widgets.SelectMultiple(description='Chọn Chi Nhánh',\n",
    "                                  options=['CN1', 'CN2', 'CN3', 'CN4', 'CN5'],\n",
    "                                  value=['CN1'],\n",
    "                                  row=3\n",
    "                                 )\n",
    "def InKetQua(thamso1=1, thamso2=2.1, thamso3='ABC'):\n",
    "    print(thamso1)\n",
    "    print(thamso2)\n",
    "    print(thamso3)\n",
    "#     t = thamso1 + thamso2\n",
    "#     print(t)\n",
    "    \n",
    "display(w0, w1, wSelectM)"
   ]
  },
  {
   "cell_type": "code",
   "execution_count": 113,
   "id": "78a612fd",
   "metadata": {},
   "outputs": [
    {
     "data": {
      "application/vnd.jupyter.widget-view+json": {
       "model_id": "7e0f1c49cbab49fb994a4c9bcbc8034f",
       "version_major": 2,
       "version_minor": 0
      },
      "text/plain": [
       "interactive(children=(IntSlider(value=20, description='Int:', max=50, step=5), Output()), _dom_classes=('widge…"
      ]
     },
     "metadata": {},
     "output_type": "display_data"
    }
   ],
   "source": [
    "# Thay đổi tham số đầu tiên, fix 2 tham số còn lại\n",
    "wInteract1 = widgets.interact(InKetQua, thamso1=w0, \n",
    "                              thamso2=widgets.fixed(0.5), \n",
    "                              thamso3=widgets.fixed('XYZ'))\n"
   ]
  },
  {
   "cell_type": "code",
   "execution_count": 114,
   "id": "c61cd662",
   "metadata": {},
   "outputs": [
    {
     "data": {
      "application/vnd.jupyter.widget-view+json": {
       "model_id": "9ca523b6481a4cb39119afc61b8b5dd9",
       "version_major": 2,
       "version_minor": 0
      },
      "text/plain": [
       "interactive(children=(IntSlider(value=1, description='thamso1', max=3, min=-1), FloatSlider(value=0.5, descrip…"
      ]
     },
     "metadata": {},
     "output_type": "display_data"
    }
   ],
   "source": [
    "# Chỉ gán widget cho tham số thứ 2\n",
    "# ==> 2 tham số còn lại được tự tạo ra\n",
    "wInteract2 = widgets.interact(InKetQua, thamso2=w1)"
   ]
  },
  {
   "cell_type": "code",
   "execution_count": 115,
   "id": "5f14adf5",
   "metadata": {},
   "outputs": [
    {
     "data": {
      "application/vnd.jupyter.widget-view+json": {
       "model_id": "d9bbeb128e284174aa070ef73ab102c0",
       "version_major": 2,
       "version_minor": 0
      },
      "text/plain": [
       "interactive(children=(IntSlider(value=1, description='thamso1', max=3, min=-1), FloatSlider(value=2.1, descrip…"
      ]
     },
     "metadata": {},
     "output_type": "display_data"
    }
   ],
   "source": [
    "# Tương tự với tham số 3\n",
    "wInteract3 = widgets.interact(InKetQua, thamso3=wSelectM)"
   ]
  },
  {
   "cell_type": "code",
   "execution_count": 116,
   "id": "0d6c9745",
   "metadata": {},
   "outputs": [
    {
     "data": {
      "application/vnd.jupyter.widget-view+json": {
       "model_id": "1c9e059c3daa423fbb88431be8cf4cb9",
       "version_major": 2,
       "version_minor": 0
      },
      "text/plain": [
       "interactive(children=(IntSlider(value=20, description='Int:', max=50, step=5), FloatSlider(value=0.5, descript…"
      ]
     },
     "metadata": {},
     "output_type": "display_data"
    }
   ],
   "source": [
    "# Gán widget cho cùng lúc 3 tham số\n",
    "wInteract1 = widgets.interact(InKetQua, \n",
    "                              thamso1=w0, \n",
    "                              thamso2=w1, \n",
    "                              thamso3=wSelectM\n",
    "                             )"
   ]
  },
  {
   "cell_type": "markdown",
   "id": "c83cfc17",
   "metadata": {},
   "source": [
    "**Sử dụng cú pháp 'decorator'**"
   ]
  },
  {
   "cell_type": "code",
   "execution_count": 117,
   "id": "de200c71",
   "metadata": {},
   "outputs": [
    {
     "data": {
      "application/vnd.jupyter.widget-view+json": {
       "model_id": "39efdd54ada74a85802b37eb03c428a2",
       "version_major": 2,
       "version_minor": 0
      },
      "text/plain": [
       "interactive(children=(IntSlider(value=20, description='Int:', max=50, step=5), FloatSlider(value=0.5, descript…"
      ]
     },
     "metadata": {},
     "output_type": "display_data"
    }
   ],
   "source": [
    "@widgets.interact(kq1=w0, kq2=w1, kq3=wSelectM)\n",
    "def InKetQua1(kq1=1, kq2=1, kq3=''):\n",
    "    print(kq1)\n",
    "    print(kq2)\n",
    "    print(kq3)"
   ]
  },
  {
   "cell_type": "markdown",
   "id": "af063b76",
   "metadata": {},
   "source": [
    "# 4. Hàm `widgets.interactive()` và `widgets.interactive_output()`"
   ]
  },
  {
   "cell_type": "markdown",
   "id": "a7bbd295",
   "metadata": {},
   "source": [
    "**Sử dụng hàm `.interactive`**"
   ]
  },
  {
   "cell_type": "code",
   "execution_count": 118,
   "id": "884d08d9",
   "metadata": {},
   "outputs": [
    {
     "data": {
      "application/vnd.jupyter.widget-view+json": {
       "model_id": "bb44c80a7add4350b78fe7770b0b2fde",
       "version_major": 2,
       "version_minor": 0
      },
      "text/plain": [
       "HBox(children=(VBox(children=(IntSlider(value=20, description='Int:', max=50, step=5), FloatSlider(value=0.5, …"
      ]
     },
     "metadata": {},
     "output_type": "display_data"
    },
    {
     "data": {
      "application/vnd.jupyter.widget-view+json": {
       "model_id": "fcb1211d05a84b9a81a72b9065804a58",
       "version_major": 2,
       "version_minor": 0
      },
      "text/plain": [
       "interactive(children=(IntSlider(value=20, description='Int:', max=50, step=5), FloatSlider(value=0.5, descript…"
      ]
     },
     "metadata": {},
     "output_type": "display_data"
    }
   ],
   "source": [
    "# Giả sử bạn muốn sắp xếp các widgets theo ý mình\n",
    "box = widgets.HBox([widgets.VBox([w0,w1]), wSelectM])\n",
    "display(box)\n",
    "\n",
    "# Sau đó muốn tạo interact widgets:\n",
    "wInKetQua = widgets.interact(InKetQua1, kq1=w0, kq2=w1, kq3=wSelectM)"
   ]
  },
  {
   "cell_type": "code",
   "execution_count": 119,
   "id": "79514219",
   "metadata": {},
   "outputs": [
    {
     "data": {
      "application/vnd.jupyter.widget-view+json": {
       "model_id": "cec7afbe6e414eab94c6bdcf9566e08b",
       "version_major": 2,
       "version_minor": 0
      },
      "text/plain": [
       "HBox(children=(VBox(children=(IntSlider(value=20, description='Int:', max=50, step=5), FloatSlider(value=0.5, …"
      ]
     },
     "metadata": {},
     "output_type": "display_data"
    },
    {
     "data": {
      "application/vnd.jupyter.widget-view+json": {
       "model_id": "d7fe00718f544443bb9c4ff703cc549e",
       "version_major": 2,
       "version_minor": 0
      },
      "text/plain": [
       "Output(layout=Layout(border='1px solid black'), outputs=({'name': 'stdout', 'text': 'abc\\nxyz\\n234\\nabc\\nxyz\\n…"
      ]
     },
     "metadata": {},
     "output_type": "display_data"
    }
   ],
   "source": [
    "# Tạo ra một output widget và sử dụng interactive\n",
    "def InKetQua2(kq1=1, kq2=1, kq3=''):\n",
    "    with wOutput:\n",
    "        wOutput.clear_output()\n",
    "        print(kq1)\n",
    "        print(kq2)\n",
    "        print(kq3)\n",
    "        #Ve_Ham_So2()\n",
    "\n",
    "# Hiển thị box\n",
    "box = widgets.HBox([widgets.VBox([w0,w1]), wSelectM])\n",
    "display(box)\n",
    "# Tạo kết nối từ các widgets trong box đến hàm\n",
    "wInKetQua2 = widgets.interactive(InKetQua2, kq1=w0, kq2=w1, kq3=wSelectM)\n",
    "\n",
    "# Hiển thị output widget\n",
    "display(wOutput)"
   ]
  },
  {
   "cell_type": "code",
   "execution_count": 120,
   "id": "f36c09b0",
   "metadata": {},
   "outputs": [
    {
     "data": {
      "application/vnd.jupyter.widget-view+json": {
       "model_id": "73257fb2d8174fe69736188f0cca5397",
       "version_major": 2,
       "version_minor": 0
      },
      "text/plain": [
       "interactive(children=(IntSlider(value=20, description='Int:', max=50, step=5), FloatSlider(value=0.5, descript…"
      ]
     },
     "metadata": {},
     "output_type": "display_data"
    }
   ],
   "source": [
    "# Lưu ý: nếu chỉ display kết quả trả về của interactive \n",
    "#        thì kết quả giống với việc sử dụng interact\n",
    "display(wInKetQua2)"
   ]
  },
  {
   "cell_type": "code",
   "execution_count": 121,
   "id": "89baae81",
   "metadata": {},
   "outputs": [
    {
     "data": {
      "text/plain": [
       "['_dom_classes',\n",
       " '_model_module',\n",
       " '_model_module_version',\n",
       " '_model_name',\n",
       " '_view_count',\n",
       " '_view_module',\n",
       " '_view_module_version',\n",
       " '_view_name',\n",
       " 'box_style',\n",
       " 'children',\n",
       " 'layout']"
      ]
     },
     "execution_count": 121,
     "metadata": {},
     "output_type": "execute_result"
    }
   ],
   "source": [
    "wInKetQua2.keys"
   ]
  },
  {
   "cell_type": "code",
   "execution_count": 122,
   "id": "fe14641b",
   "metadata": {},
   "outputs": [
    {
     "data": {
      "text/plain": [
       "(IntSlider(value=20, description='Int:', max=50, step=5),\n",
       " FloatSlider(value=0.5, description='Float:', max=1.0, step=0.02),\n",
       " SelectMultiple(description='Chọn Chi Nhánh', index=(0,), options=('CN1', 'CN2', 'CN3', 'CN4', 'CN5'), value=('CN1',)),\n",
       " Output())"
      ]
     },
     "execution_count": 122,
     "metadata": {},
     "output_type": "execute_result"
    }
   ],
   "source": [
    "wInKetQua2.children"
   ]
  },
  {
   "cell_type": "markdown",
   "id": "b1b93970",
   "metadata": {},
   "source": [
    "**Sử dụng hàm `.interactive_output`**"
   ]
  },
  {
   "cell_type": "code",
   "execution_count": 123,
   "id": "b052ac6b",
   "metadata": {},
   "outputs": [
    {
     "data": {
      "application/vnd.jupyter.widget-view+json": {
       "model_id": "65bf77128dc1480faac609f158c7c894",
       "version_major": 2,
       "version_minor": 0
      },
      "text/plain": [
       "HBox(children=(VBox(children=(IntSlider(value=0, description='a'), IntSlider(value=0, description='b'), IntSli…"
      ]
     },
     "metadata": {},
     "output_type": "display_data"
    }
   ],
   "source": [
    "aW = widgets.IntSlider(description='a')\n",
    "bW = widgets.IntSlider(description='b')\n",
    "cW = widgets.IntSlider(description='c')\n",
    "\n",
    "def f(a, b, c):\n",
    "    print('{}*{}*{}={}'.format(a, b, c, a*b*c))\n",
    "\n",
    "out = widgets.interactive_output(f, {'a': aW, 'b': bW, 'c': cW})\n",
    "\n",
    "widgets.HBox([widgets.VBox([aW, bW, cW]), out])"
   ]
  },
  {
   "cell_type": "code",
   "execution_count": 124,
   "id": "4f61c3e9",
   "metadata": {},
   "outputs": [
    {
     "data": {
      "application/vnd.jupyter.widget-view+json": {
       "model_id": "6029eeeb7c024c2cb5a07e71766283f7",
       "version_major": 2,
       "version_minor": 0
      },
      "text/plain": [
       "HBox(children=(VBox(children=(IntSlider(value=20, description='Int:', max=50, step=5), FloatSlider(value=0.5, …"
      ]
     },
     "metadata": {},
     "output_type": "display_data"
    },
    {
     "data": {
      "application/vnd.jupyter.widget-view+json": {
       "model_id": "7a5e5b501d2a48959a9cd33c8f3474c2",
       "version_major": 2,
       "version_minor": 0
      },
      "text/plain": [
       "Output()"
      ]
     },
     "metadata": {},
     "output_type": "display_data"
    }
   ],
   "source": [
    "def InKetQua3(kq1=1, kq2=1, kq3=''):\n",
    "    print(kq1)\n",
    "    print(kq2)\n",
    "    print(kq3)\n",
    "    Ve_Ham_So2()\n",
    "box = widgets.HBox([widgets.VBox([w0,w1]), wSelectM])\n",
    "out = widgets.interactive_output(InKetQua3, \n",
    "                                 {'kq1':w0, 'kq2':w1, 'kq3':wSelectM})\n",
    "display(box, out)"
   ]
  },
  {
   "cell_type": "code",
   "execution_count": 138,
   "id": "51247895",
   "metadata": {},
   "outputs": [
    {
     "data": {
      "application/vnd.jupyter.widget-view+json": {
       "model_id": "2a87d72c7e4c495a98f2cb97484a1c82",
       "version_major": 2,
       "version_minor": 0
      },
      "text/plain": [
       "IntSlider(value=20, description='Top:', max=50, step=5)"
      ]
     },
     "metadata": {},
     "output_type": "display_data"
    },
    {
     "data": {
      "application/vnd.jupyter.widget-view+json": {
       "model_id": "d93ce8cb4dc343589aa7d1aedd1b7067",
       "version_major": 2,
       "version_minor": 0
      },
      "text/plain": [
       "IntSlider(value=20, description='Top:', max=50, step=5)"
      ]
     },
     "metadata": {},
     "output_type": "display_data"
    },
    {
     "data": {
      "application/vnd.jupyter.widget-view+json": {
       "model_id": "996b1ab3b9b44ff0aa9adc023fb952e4",
       "version_major": 2,
       "version_minor": 0
      },
      "text/plain": [
       "IntSlider(value=20, description='Top:', max=50, step=5)"
      ]
     },
     "metadata": {},
     "output_type": "display_data"
    }
   ],
   "source": [
    "a = widgets.IntSlider(description='Top:', value=20, min=0, max=50, step=5)\n",
    "b = widgets.IntSlider(description='Top:', value=20, min=0, max=50, step=5)\n",
    "c = widgets.IntSlider(description='Top:', value=20, min=0, max=50, step=5)\n",
    "def on_value_change(change):\n",
    "    new_a = change['new']\n",
    "    b.value = new_a\n",
    "    c.value = b.value\n",
    "a.observe(on_value_change, names='value')\n",
    "display(a,b,c)\n",
    "b.layout.visibility = 'hidden'\n"
   ]
  },
  {
   "cell_type": "code",
   "execution_count": 139,
   "id": "fad36bef",
   "metadata": {},
   "outputs": [
    {
     "data": {
      "application/vnd.jupyter.widget-view+json": {
       "model_id": "53f7bfc1bbc7422e88a12a898d680c06",
       "version_major": 2,
       "version_minor": 0
      },
      "text/plain": [
       "Button(description='Click Me!', style=ButtonStyle())"
      ]
     },
     "metadata": {},
     "output_type": "display_data"
    },
    {
     "data": {
      "application/vnd.jupyter.widget-view+json": {
       "model_id": "e44a54a113be4fd685f1585bddc39e40",
       "version_major": 2,
       "version_minor": 0
      },
      "text/plain": [
       "Output()"
      ]
     },
     "metadata": {},
     "output_type": "display_data"
    }
   ],
   "source": [
    "import ipywidgets as widgets\n",
    "from IPython.display import display\n",
    "button = widgets.Button(description=\"Click Me!\")\n",
    "output = widgets.Output()\n",
    "\n",
    "def on_button_clicked(b):\n",
    "    with output:\n",
    "        print(\"Button clicked.\")\n",
    "\n",
    "button.on_click(on_button_clicked)\n",
    "display(button,output)"
   ]
  }
 ],
 "metadata": {
  "kernelspec": {
   "display_name": "Python 3 (ipykernel)",
   "language": "python",
   "name": "python3"
  },
  "language_info": {
   "codemirror_mode": {
    "name": "ipython",
    "version": 3
   },
   "file_extension": ".py",
   "mimetype": "text/x-python",
   "name": "python",
   "nbconvert_exporter": "python",
   "pygments_lexer": "ipython3",
   "version": "3.9.7"
  }
 },
 "nbformat": 4,
 "nbformat_minor": 5
}
