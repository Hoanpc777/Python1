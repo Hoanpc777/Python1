{
 "cells": [
  {
   "cell_type": "markdown",
   "metadata": {},
   "source": [
    "# Thực hiện lại phần demo trên dữ liệu InstaCart"
   ]
  },
  {
   "cell_type": "markdown",
   "metadata": {},
   "source": [
    "* Sử dụng hàm 'interactive' thay cho hàm 'interact'"
   ]
  },
  {
   "cell_type": "code",
   "execution_count": 1,
   "metadata": {},
   "outputs": [],
   "source": [
    "import pandas as pd\n",
    "import numpy as np\n",
    "import seaborn as sns\n",
    "from matplotlib import pyplot as plt\n",
    "import ipywidgets as widgets\n",
    "import squarify\n",
    "from IPython.display import display, clear_output\n",
    "from matplotlib.widgets import Button"
   ]
  },
  {
   "cell_type": "code",
   "execution_count": 2,
   "metadata": {},
   "outputs": [
    {
     "data": {
      "text/html": [
       "<div>\n",
       "<style scoped>\n",
       "    .dataframe tbody tr th:only-of-type {\n",
       "        vertical-align: middle;\n",
       "    }\n",
       "\n",
       "    .dataframe tbody tr th {\n",
       "        vertical-align: top;\n",
       "    }\n",
       "\n",
       "    .dataframe thead th {\n",
       "        text-align: right;\n",
       "    }\n",
       "</style>\n",
       "<table border=\"1\" class=\"dataframe\">\n",
       "  <thead>\n",
       "    <tr style=\"text-align: right;\">\n",
       "      <th></th>\n",
       "      <th>aisle_id</th>\n",
       "      <th>counts</th>\n",
       "      <th>aisle</th>\n",
       "      <th>department_id</th>\n",
       "      <th>department</th>\n",
       "    </tr>\n",
       "  </thead>\n",
       "  <tbody>\n",
       "    <tr>\n",
       "      <th>0</th>\n",
       "      <td>1</td>\n",
       "      <td>15632</td>\n",
       "      <td>prepared soups salads</td>\n",
       "      <td>20</td>\n",
       "      <td>deli</td>\n",
       "    </tr>\n",
       "    <tr>\n",
       "      <th>1</th>\n",
       "      <td>13</td>\n",
       "      <td>21357</td>\n",
       "      <td>prepared meals</td>\n",
       "      <td>20</td>\n",
       "      <td>deli</td>\n",
       "    </tr>\n",
       "    <tr>\n",
       "      <th>2</th>\n",
       "      <td>14</td>\n",
       "      <td>28085</td>\n",
       "      <td>tofu meat alternatives</td>\n",
       "      <td>20</td>\n",
       "      <td>deli</td>\n",
       "    </tr>\n",
       "    <tr>\n",
       "      <th>3</th>\n",
       "      <td>67</td>\n",
       "      <td>76837</td>\n",
       "      <td>fresh dips tapenades</td>\n",
       "      <td>20</td>\n",
       "      <td>deli</td>\n",
       "    </tr>\n",
       "    <tr>\n",
       "      <th>4</th>\n",
       "      <td>96</td>\n",
       "      <td>85093</td>\n",
       "      <td>lunch meat</td>\n",
       "      <td>20</td>\n",
       "      <td>deli</td>\n",
       "    </tr>\n",
       "  </tbody>\n",
       "</table>\n",
       "</div>"
      ],
      "text/plain": [
       "   aisle_id  counts                   aisle  department_id department\n",
       "0         1   15632   prepared soups salads             20       deli\n",
       "1        13   21357          prepared meals             20       deli\n",
       "2        14   28085  tofu meat alternatives             20       deli\n",
       "3        67   76837    fresh dips tapenades             20       deli\n",
       "4        96   85093              lunch meat             20       deli"
      ]
     },
     "execution_count": 2,
     "metadata": {},
     "output_type": "execute_result"
    }
   ],
   "source": [
    "df = pd.read_csv('data/aisle_deparment_counts.csv')\n",
    "df.head(5)"
   ]
  },
  {
   "cell_type": "code",
   "execution_count": 3,
   "metadata": {},
   "outputs": [
    {
     "data": {
      "text/html": [
       "<div>\n",
       "<style scoped>\n",
       "    .dataframe tbody tr th:only-of-type {\n",
       "        vertical-align: middle;\n",
       "    }\n",
       "\n",
       "    .dataframe tbody tr th {\n",
       "        vertical-align: top;\n",
       "    }\n",
       "\n",
       "    .dataframe thead th {\n",
       "        text-align: right;\n",
       "    }\n",
       "</style>\n",
       "<table border=\"1\" class=\"dataframe\">\n",
       "  <thead>\n",
       "    <tr style=\"text-align: right;\">\n",
       "      <th></th>\n",
       "      <th>counts</th>\n",
       "      <th>aisle</th>\n",
       "    </tr>\n",
       "  </thead>\n",
       "  <tbody>\n",
       "    <tr>\n",
       "      <th>0</th>\n",
       "      <td>15632</td>\n",
       "      <td>prepared soups salads</td>\n",
       "    </tr>\n",
       "    <tr>\n",
       "      <th>1</th>\n",
       "      <td>21357</td>\n",
       "      <td>prepared meals</td>\n",
       "    </tr>\n",
       "    <tr>\n",
       "      <th>2</th>\n",
       "      <td>28085</td>\n",
       "      <td>tofu meat alternatives</td>\n",
       "    </tr>\n",
       "    <tr>\n",
       "      <th>3</th>\n",
       "      <td>76837</td>\n",
       "      <td>fresh dips tapenades</td>\n",
       "    </tr>\n",
       "    <tr>\n",
       "      <th>4</th>\n",
       "      <td>85093</td>\n",
       "      <td>lunch meat</td>\n",
       "    </tr>\n",
       "    <tr>\n",
       "      <th>5</th>\n",
       "      <td>17897</td>\n",
       "      <td>specialty cheeses</td>\n",
       "    </tr>\n",
       "    <tr>\n",
       "      <th>6</th>\n",
       "      <td>211480</td>\n",
       "      <td>packaged cheese</td>\n",
       "    </tr>\n",
       "    <tr>\n",
       "      <th>7</th>\n",
       "      <td>54690</td>\n",
       "      <td>butter</td>\n",
       "    </tr>\n",
       "    <tr>\n",
       "      <th>8</th>\n",
       "      <td>68635</td>\n",
       "      <td>cream</td>\n",
       "    </tr>\n",
       "    <tr>\n",
       "      <th>9</th>\n",
       "      <td>8199</td>\n",
       "      <td>refrigerated pudding desserts</td>\n",
       "    </tr>\n",
       "    <tr>\n",
       "      <th>10</th>\n",
       "      <td>192052</td>\n",
       "      <td>milk</td>\n",
       "    </tr>\n",
       "    <tr>\n",
       "      <th>11</th>\n",
       "      <td>97746</td>\n",
       "      <td>eggs</td>\n",
       "    </tr>\n",
       "    <tr>\n",
       "      <th>12</th>\n",
       "      <td>138111</td>\n",
       "      <td>soy lactosefree</td>\n",
       "    </tr>\n",
       "    <tr>\n",
       "      <th>13</th>\n",
       "      <td>66386</td>\n",
       "      <td>other creams cheeses</td>\n",
       "    </tr>\n",
       "    <tr>\n",
       "      <th>14</th>\n",
       "      <td>313279</td>\n",
       "      <td>yogurt</td>\n",
       "    </tr>\n",
       "    <tr>\n",
       "      <th>15</th>\n",
       "      <td>98222</td>\n",
       "      <td>energy granola bars</td>\n",
       "    </tr>\n",
       "    <tr>\n",
       "      <th>16</th>\n",
       "      <td>35179</td>\n",
       "      <td>popcorn jerky</td>\n",
       "    </tr>\n",
       "    <tr>\n",
       "      <th>17</th>\n",
       "      <td>64790</td>\n",
       "      <td>candy chocolate</td>\n",
       "    </tr>\n",
       "    <tr>\n",
       "      <th>18</th>\n",
       "      <td>4840</td>\n",
       "      <td>mint gum</td>\n",
       "    </tr>\n",
       "    <tr>\n",
       "      <th>19</th>\n",
       "      <td>38232</td>\n",
       "      <td>fruit vegetable snacks</td>\n",
       "    </tr>\n",
       "    <tr>\n",
       "      <th>20</th>\n",
       "      <td>5363258</td>\n",
       "      <td>others</td>\n",
       "    </tr>\n",
       "  </tbody>\n",
       "</table>\n",
       "</div>"
      ],
      "text/plain": [
       "     counts                          aisle\n",
       "0     15632          prepared soups salads\n",
       "1     21357                 prepared meals\n",
       "2     28085         tofu meat alternatives\n",
       "3     76837           fresh dips tapenades\n",
       "4     85093                     lunch meat\n",
       "5     17897              specialty cheeses\n",
       "6    211480                packaged cheese\n",
       "7     54690                         butter\n",
       "8     68635                          cream\n",
       "9      8199  refrigerated pudding desserts\n",
       "10   192052                           milk\n",
       "11    97746                           eggs\n",
       "12   138111                soy lactosefree\n",
       "13    66386           other creams cheeses\n",
       "14   313279                         yogurt\n",
       "15    98222            energy granola bars\n",
       "16    35179                  popcorn jerky\n",
       "17    64790                candy chocolate\n",
       "18     4840                       mint gum\n",
       "19    38232         fruit vegetable snacks\n",
       "20  5363258                         others"
      ]
     },
     "execution_count": 3,
     "metadata": {},
     "output_type": "execute_result"
    }
   ],
   "source": [
    "N = 20\n",
    "df1 = df[['counts', 'aisle']][0:N]\n",
    "other_count = df['counts'][N:].sum()\n",
    "other = pd.DataFrame({'counts': [other_count], 'aisle': ['others']})\n",
    "df2 = pd.concat([df1,other], ignore_index=True)\n",
    "df2"
   ]
  },
  {
   "cell_type": "code",
   "execution_count": 4,
   "metadata": {},
   "outputs": [
    {
     "data": {
      "application/vnd.jupyter.widget-view+json": {
       "model_id": "d28f3cabac914c2388a5130c1b8e6b1b",
       "version_major": 2,
       "version_minor": 0
      },
      "text/plain": [
       "interactive(children=(IntSlider(value=20, description='Top:', max=50, step=5), Output()), _dom_classes=('widge…"
      ]
     },
     "metadata": {},
     "output_type": "display_data"
    }
   ],
   "source": [
    "# Tạo ra một output widget và sử dụng interactive\n",
    "def VeTreemap(N=20):\n",
    "    df2 = df[['counts', 'aisle']][0:N]\n",
    "    other = pd.DataFrame({'counts': [df['counts'][N:].sum()], 'aisle': ['others']})\n",
    "    df2 = df2.append(other , ignore_index=True)\n",
    "\n",
    "    fig,ax=plt.subplots(figsize=(15,7))\n",
    "    squarify.plot(sizes=df2['counts'], label=df2['aisle'])\n",
    "    plt.axis('off')\n",
    "    plt.show()\n",
    "    plt.close('all')\n",
    "\n",
    "# Hiển thị slideload\n",
    "w0 = widgets.IntSlider(description='Top:', value=20, min=0, max=50, step=5)\n",
    "# Tạo kết nối từ các widgets trong box đến hàm\n",
    "wInKetQua = widgets.interactive(VeTreemap, N=w0)\n",
    "\n",
    "# Hiển thị output widget\n",
    "display(wInKetQua)"
   ]
  },
  {
   "cell_type": "markdown",
   "metadata": {},
   "source": [
    "* Bổ sung thêm Button sao cho sau khi chọn các options xong, phải click lên Button mới thực hiện vẽ lại figure"
   ]
  },
  {
   "cell_type": "code",
   "execution_count": 5,
   "metadata": {},
   "outputs": [
    {
     "data": {
      "application/vnd.jupyter.widget-view+json": {
       "model_id": "169776644a8a4140943022643612957d",
       "version_major": 2,
       "version_minor": 0
      },
      "text/plain": [
       "IntSlider(value=20, description='Top:', max=50, step=5)"
      ]
     },
     "metadata": {},
     "output_type": "display_data"
    },
    {
     "data": {
      "application/vnd.jupyter.widget-view+json": {
       "model_id": "4614177c059e414f880a0c6dfbf7ec6e",
       "version_major": 2,
       "version_minor": 0
      },
      "text/plain": [
       "Button(button_style='info', description='Chọn', icon='check', style=ButtonStyle(), tooltip='Bấm vào đây')"
      ]
     },
     "metadata": {},
     "output_type": "display_data"
    },
    {
     "data": {
      "application/vnd.jupyter.widget-view+json": {
       "model_id": "6d23636fc874453398262d107290f05c",
       "version_major": 2,
       "version_minor": 0
      },
      "text/plain": [
       "Output(layout=Layout(border='1px solid black'))"
      ]
     },
     "metadata": {},
     "output_type": "display_data"
    }
   ],
   "source": [
    "# Tạo ra một output widget và sử dụng interactive\n",
    "op = widgets.Output(layout={'border': '1px solid black'})\n",
    "def clickedd(b):\n",
    "    op.clear_output()\n",
    "    with op:\n",
    "        df2 = df[['counts', 'aisle']][0:slide.value]\n",
    "        other = pd.DataFrame({'counts': [df['counts'][slide.value:].sum()], 'aisle': ['others']})\n",
    "        df2 = df2.append(other , ignore_index=True)\n",
    "\n",
    "        fig,ax=plt.subplots(figsize=(15,7))\n",
    "        squarify.plot(sizes=df2['counts'], label=df2['aisle'])\n",
    "        plt.axis('off')\n",
    "        plt.show()\n",
    "        plt.close('all')\n",
    "    \n",
    "# Hiển thị slideload\n",
    "slide = widgets.IntSlider(description='Top:', value=20, min=0, max=50, step=5)\n",
    "# Button\n",
    "butt = widgets.Button(description='Chọn',\n",
    "                         button_style='info',\n",
    "                         tooltip='Bấm vào đây',\n",
    "                         icon='check' # 'fa-bullhorn', 'bullhorn','folder-open',...\n",
    "              )\n",
    "# butt.on_click(clickk)\n",
    "butt.on_click(clickedd)\n",
    "# Hiển thị output widget\n",
    "display(slide,butt,op)"
   ]
  }
 ],
 "metadata": {
  "interpreter": {
   "hash": "b89b5cfaba6639976dc87ff2fec6d58faec662063367e2c229c520fe71072417"
  },
  "kernelspec": {
   "display_name": "Python 3.10.2 64-bit",
   "language": "python",
   "name": "python3"
  },
  "language_info": {
   "codemirror_mode": {
    "name": "ipython",
    "version": 3
   },
   "file_extension": ".py",
   "mimetype": "text/x-python",
   "name": "python",
   "nbconvert_exporter": "python",
   "pygments_lexer": "ipython3",
   "version": "3.10.2"
  },
  "orig_nbformat": 4
 },
 "nbformat": 4,
 "nbformat_minor": 2
}
