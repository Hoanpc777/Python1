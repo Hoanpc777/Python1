{
 "cells": [
  {
   "cell_type": "code",
   "execution_count": null,
   "id": "9006b339",
   "metadata": {},
   "outputs": [],
   "source": [
    "import numpy as np\n",
    "import pandas as pd"
   ]
  },
  {
   "cell_type": "code",
   "execution_count": null,
   "id": "26ce6c6d",
   "metadata": {},
   "outputs": [],
   "source": [
    "import sqlite3"
   ]
  },
  {
   "cell_type": "markdown",
   "id": "a3fcf2ea",
   "metadata": {},
   "source": [
    "# 1. Làm quen SQL"
   ]
  },
  {
   "cell_type": "code",
   "execution_count": null,
   "id": "6868e6c0",
   "metadata": {},
   "outputs": [],
   "source": [
    "# Kết nối đế CSDL\n",
    "conn = sqlite3.connect('database/Chinook_Sqlite.sqlite')"
   ]
  },
  {
   "cell_type": "code",
   "execution_count": null,
   "id": "8525c6c9",
   "metadata": {},
   "outputs": [],
   "source": [
    "# Tạo cursor để thực thi lệnh truy vấn\n",
    "cursor = conn.cursor()"
   ]
  },
  {
   "cell_type": "code",
   "execution_count": null,
   "id": "412289ea",
   "metadata": {},
   "outputs": [],
   "source": [
    "# Thực thi lệnh và gọi hàm fetchall để trả về toàn bộ kết quả\n",
    "cursor.execute(\"SELECT name FROM sqlite_master WHERE type='table';\")\n",
    "res = cursor.fetchall()"
   ]
  },
  {
   "cell_type": "code",
   "execution_count": null,
   "id": "cc12784f",
   "metadata": {},
   "outputs": [],
   "source": [
    "print(res)"
   ]
  },
  {
   "cell_type": "code",
   "execution_count": null,
   "id": "ac27a187",
   "metadata": {},
   "outputs": [],
   "source": [
    "# Truy vấn thông tin của một bảng nào đó\n",
    "cursor.execute(\"PRAGMA table_info(Employee)\")\n",
    "info = cursor.fetchall()"
   ]
  },
  {
   "cell_type": "code",
   "execution_count": null,
   "id": "e8c1682a",
   "metadata": {},
   "outputs": [],
   "source": [
    "print(*info, sep='\\n')"
   ]
  },
  {
   "cell_type": "code",
   "execution_count": null,
   "id": "8ad68072",
   "metadata": {},
   "outputs": [],
   "source": [
    "# Lấy ra thông tin mô tả chung của truy vấn hiện tại\n",
    "cursor.description"
   ]
  },
  {
   "cell_type": "code",
   "execution_count": null,
   "id": "1ae40025",
   "metadata": {},
   "outputs": [],
   "source": [
    "# Biến thông tin đã truy vấn thành dataframe của pandas\n",
    "pd.DataFrame(info, columns= [item[0] for item in cursor.description])"
   ]
  },
  {
   "cell_type": "code",
   "execution_count": null,
   "id": "82299bcd",
   "metadata": {},
   "outputs": [],
   "source": [
    "# Truy vấn thử thông tin từ 1 bảng nào đó\n",
    "cursor.execute(\"SELECT EmployeeId, Firstname, Lastname FROM Employee LIMIT(10)\")\n",
    "cursor.fetchall()"
   ]
  },
  {
   "cell_type": "code",
   "execution_count": null,
   "id": "eada2efa",
   "metadata": {},
   "outputs": [],
   "source": [
    "# Tạo câu truy vấn (dễ kiểm tra hơn)\n",
    "query = \"\"\"\n",
    "        SELECT EmployeeId, Firstname, Lastname, HireDate, Country \n",
    "        FROM Employee \n",
    "        WHERE Country != 'USA'\n",
    "        LIMIT(20)\n",
    "\"\"\"\n",
    "cursor.execute(query)\n",
    "df = pd.DataFrame(cursor.fetchall(), columns=[item[0] for item in cursor.description])"
   ]
  },
  {
   "cell_type": "code",
   "execution_count": null,
   "id": "ce359ae7",
   "metadata": {},
   "outputs": [],
   "source": [
    "df.sample(5)"
   ]
  },
  {
   "cell_type": "code",
   "execution_count": null,
   "id": "7dc545ae",
   "metadata": {},
   "outputs": [],
   "source": [
    "# Truy vấn với sự sắp xếp theo 1 cột nào đó\n",
    "query = \"\"\"\n",
    "        SELECT EmployeeId, Firstname, Lastname, HireDate, Country \n",
    "        FROM Employee \n",
    "        WHERE Country != 'USA'\n",
    "        ORDER BY HireDate Desc\n",
    "        LIMIT(20)\n",
    "\"\"\"\n",
    "cursor.execute(query)\n",
    "df = pd.DataFrame(cursor.fetchall(), columns=[item[0] for item in cursor.description])\n",
    "df.head(5)"
   ]
  },
  {
   "cell_type": "code",
   "execution_count": null,
   "id": "aba86f30",
   "metadata": {},
   "outputs": [],
   "source": [
    "# Truy vấn với việc chuyển đổi text sang Date\n",
    "query = \"\"\"\n",
    "        SELECT EmployeeId, Firstname, Lastname, DATE(HireDate) as HireDate, Country \n",
    "        FROM Employee \n",
    "        WHERE Country != 'USA'\n",
    "        ORDER BY HireDate Desc\n",
    "        LIMIT(20)\n",
    "\"\"\"\n",
    "cursor.execute(query)\n",
    "df = pd.DataFrame(cursor.fetchall(), columns=[item[0] for item in cursor.description])\n",
    "df.head(5)"
   ]
  },
  {
   "cell_type": "code",
   "execution_count": null,
   "id": "6c76304d",
   "metadata": {},
   "outputs": [],
   "source": [
    "# Truy vấn với ràng buộc về ngày\n",
    "query = \"\"\"\n",
    "        SELECT EmployeeId, Firstname, Lastname, DATE(HireDate) as HireDate, Country \n",
    "        FROM Employee \n",
    "        WHERE Country != 'USA' AND HireDate BETWEEN '2003-05-01' AND '2004-01-31'\n",
    "        ORDER BY HireDate Desc\n",
    "        LIMIT(20)\n",
    "\"\"\"\n",
    "cursor.execute(query)\n",
    "df = pd.DataFrame(cursor.fetchall(), columns=[item[0] for item in cursor.description])\n",
    "df.head(5)"
   ]
  },
  {
   "cell_type": "markdown",
   "id": "d4a9870f",
   "metadata": {},
   "source": [
    "# Demo với SQLite"
   ]
  },
  {
   "cell_type": "markdown",
   "id": "8f6e1176",
   "metadata": {},
   "source": [
    "## (1) Kết nối database"
   ]
  },
  {
   "cell_type": "code",
   "execution_count": 84,
   "id": "9fb27db0",
   "metadata": {},
   "outputs": [],
   "source": [
    "# db = sqlite3.connect(':memory:')\n",
    "con = sqlite3.connect('database/example.db')"
   ]
  },
  {
   "cell_type": "code",
   "execution_count": 85,
   "id": "6e00bbe7",
   "metadata": {},
   "outputs": [],
   "source": [
    "cur = con.cursor()"
   ]
  },
  {
   "cell_type": "markdown",
   "id": "809be5cf",
   "metadata": {},
   "source": [
    "## (2) Một số lệnh đơn giản"
   ]
  },
  {
   "cell_type": "markdown",
   "id": "21b79ffe",
   "metadata": {},
   "source": [
    "**Tạo bảng PhongBan**"
   ]
  },
  {
   "cell_type": "code",
   "execution_count": 98,
   "id": "14c116d9",
   "metadata": {},
   "outputs": [],
   "source": [
    "query = \"\"\"\n",
    "        CREATE TABLE phongban (id INTEGER,\n",
    "                               ten VARCHAR(40) NOT NULL, id_truongphong INTEGER,\n",
    "                               PRIMARY KEY (id)\n",
    "                               )\n",
    "\"\"\"\n",
    "cur.execute(query)\n",
    "con.commit()"
   ]
  },
  {
   "cell_type": "code",
   "execution_count": 97,
   "id": "936a8329",
   "metadata": {},
   "outputs": [],
   "source": [
    "# Thử xóa phòng ban\n",
    "cur.execute(\"DROP TABLE IF EXISTS phongban\")\n",
    "con.commit()"
   ]
  },
  {
   "cell_type": "code",
   "execution_count": 99,
   "id": "69aab0ce",
   "metadata": {},
   "outputs": [],
   "source": [
    "# Thêm data vào bảng phongban\n",
    "query = \"\"\"\n",
    "        INSERT INTO phongban (ten)\n",
    "        VALUES('Phong Nhan Su')\n",
    "\"\"\"\n",
    "cur.execute(query)\n",
    "con.commit()"
   ]
  },
  {
   "cell_type": "code",
   "execution_count": 82,
   "id": "8975a46d",
   "metadata": {},
   "outputs": [],
   "source": [
    "#con.close()"
   ]
  },
  {
   "cell_type": "code",
   "execution_count": 100,
   "id": "d6704f70",
   "metadata": {},
   "outputs": [],
   "source": [
    "query = \"\"\"\n",
    "        INSERT INTO phongban \n",
    "        VALUES(2, 'Phong Ke Toan', NULL)\n",
    "\"\"\"\n",
    "cur.execute(query)\n",
    "con.commit()"
   ]
  },
  {
   "cell_type": "code",
   "execution_count": 101,
   "id": "d3265169",
   "metadata": {},
   "outputs": [],
   "source": [
    "query = \"\"\"\n",
    "        INSERT INTO phongban (ten)\n",
    "        VALUES('Phong Phong San Xuat')\n",
    "\"\"\"\n",
    "cur.execute(query)\n",
    "con.commit()"
   ]
  },
  {
   "cell_type": "code",
   "execution_count": 103,
   "id": "bcdd7adf",
   "metadata": {},
   "outputs": [
    {
     "data": {
      "text/plain": [
       "<sqlite3.Cursor at 0x7fb9c931c0a0>"
      ]
     },
     "execution_count": 103,
     "metadata": {},
     "output_type": "execute_result"
    }
   ],
   "source": [
    "# Thêm một list các phòng ban bằng lệnh executemany \n",
    "phongban_list = [\n",
    "    ('Phong Kinh Doanh - Marketing', None),\n",
    "    ('Phong Ky Thuat', None),\n",
    "    ('Phong R&D', None)\n",
    "]\n",
    "cur.executemany(\"insert into phongban (ten, id_truongphong) values(?,?)\", phongban_list)\n",
    "con.commit()"
   ]
  },
  {
   "cell_type": "code",
   "execution_count": 104,
   "id": "6909295f",
   "metadata": {},
   "outputs": [],
   "source": []
  },
  {
   "cell_type": "markdown",
   "id": "c3c7a9ff",
   "metadata": {},
   "source": [
    "**Tạo bảng NhanVien**"
   ]
  },
  {
   "cell_type": "code",
   "execution_count": 91,
   "id": "aa19a9e7",
   "metadata": {},
   "outputs": [],
   "source": [
    "query = \"\"\"\n",
    "        CREATE TABLE nhanvien (id INTEGER PRIMARY KEY,\n",
    "                               ho TEXT NOT NULL, ten TEXT NOT NULL,\n",
    "                               email TEXT NOT NULL UNIQUE,\n",
    "                               id_phongban INTEGER NOT NULL, \n",
    "                               id_quanly INTEGER UNIQUE,\n",
    "                               ngay_batdau DATETIME,\n",
    "                               luong REAL NOT NULL)\n",
    "\"\"\"\n",
    "cur.execute(query)\n",
    "con.commit()"
   ]
  },
  {
   "cell_type": "code",
   "execution_count": 105,
   "id": "10c3ced6",
   "metadata": {},
   "outputs": [],
   "source": [
    "query = \"\"\"\n",
    "        INSERT INTO nhanvien (ho, ten, email, id_phongban, luong)\n",
    "        VALUES('Tran', 'Van A', 'atran@gmail.com', 3, 15000)\n",
    "\"\"\"\n",
    "cur.execute(query)\n",
    "con.commit()"
   ]
  },
  {
   "cell_type": "code",
   "execution_count": 108,
   "id": "a2b52170",
   "metadata": {},
   "outputs": [],
   "source": [
    "query = \"\"\"\n",
    "        INSERT INTO nhanvien (ho, ten, email, id_phongban, luong)\n",
    "        VALUES('Nguyen', 'Van B', 'bnguyen@gmail.com', 3, 11000)\n",
    "\"\"\"\n",
    "cur.execute(query)\n",
    "con.commit()"
   ]
  },
  {
   "cell_type": "markdown",
   "id": "35b2df2f",
   "metadata": {},
   "source": [
    "**Update thông tin cho các bảng sau khi thêm được thông tin nhân viên**"
   ]
  },
  {
   "cell_type": "code",
   "execution_count": 109,
   "id": "c4f3ac1b",
   "metadata": {},
   "outputs": [
    {
     "data": {
      "text/plain": [
       "[(1, 'Tran', 'Van A', 'atran@gmail.com', 3, None, None, 15000.0),\n",
       " (2, 'Nguyen', 'Van B', 'bnguyen@gmail.com', 3, None, None, 11000.0)]"
      ]
     },
     "execution_count": 109,
     "metadata": {},
     "output_type": "execute_result"
    }
   ],
   "source": [
    "cur.execute(\"SELECT * FROM nhanvien WHERE id_phongban=3\")\n",
    "cur.fetchall()"
   ]
  },
  {
   "cell_type": "code",
   "execution_count": 110,
   "id": "28034a79",
   "metadata": {},
   "outputs": [],
   "source": [
    "# Update trưởng phòng cho phòng id=3\n",
    "query = \"\"\"\n",
    "        UPDATE phongban\n",
    "        SET id_truongphong=2\n",
    "        WHERE id=3\n",
    "\"\"\"\n",
    "cur.execute(query)\n",
    "con.commit()"
   ]
  },
  {
   "cell_type": "code",
   "execution_count": 111,
   "id": "91dc0da7",
   "metadata": {},
   "outputs": [],
   "source": [
    "# Update người quản lý cho nhân viên có id=1\n",
    "query = \"\"\"\n",
    "        UPDATE nhanvien\n",
    "        SET id_quanly=2\n",
    "        WHERE id=1\n",
    "\"\"\"\n",
    "cur.execute(query)\n",
    "con.commit()"
   ]
  },
  {
   "cell_type": "code",
   "execution_count": null,
   "id": "da7591a4",
   "metadata": {},
   "outputs": [],
   "source": []
  }
 ],
 "metadata": {
  "kernelspec": {
   "display_name": "Python 3",
   "language": "python",
   "name": "python3"
  },
  "language_info": {
   "codemirror_mode": {
    "name": "ipython",
    "version": 3
   },
   "file_extension": ".py",
   "mimetype": "text/x-python",
   "name": "python",
   "nbconvert_exporter": "python",
   "pygments_lexer": "ipython3",
   "version": "3.8.11"
  }
 },
 "nbformat": 4,
 "nbformat_minor": 5
}
