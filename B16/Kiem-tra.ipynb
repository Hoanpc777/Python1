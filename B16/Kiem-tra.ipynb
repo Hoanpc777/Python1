{
 "cells": [
  {
   "cell_type": "code",
   "execution_count": 1,
   "id": "9bf1b734",
   "metadata": {},
   "outputs": [],
   "source": [
    "import numpy as np\n",
    "import pandas as pd\n",
    "import sqlite3"
   ]
  },
  {
   "cell_type": "markdown",
   "id": "a2a42a86",
   "metadata": {},
   "source": [
    "**Kiem tra cac bang**"
   ]
  },
  {
   "cell_type": "code",
   "execution_count": 5,
   "id": "136f9409",
   "metadata": {},
   "outputs": [],
   "source": [
    "conn = sqlite3.connect('database/example.db')\n",
    "cursor = conn.cursor()"
   ]
  },
  {
   "cell_type": "code",
   "execution_count": 31,
   "id": "be60de16",
   "metadata": {},
   "outputs": [
    {
     "data": {
      "text/plain": [
       "[('nhanvien',), ('phongban',)]"
      ]
     },
     "execution_count": 31,
     "metadata": {},
     "output_type": "execute_result"
    }
   ],
   "source": [
    "cursor.execute(\"SELECT name FROM sqlite_master WHERE type='table';\")\n",
    "res = cursor.fetchall()\n",
    "res"
   ]
  },
  {
   "cell_type": "code",
   "execution_count": 21,
   "id": "6049be06",
   "metadata": {},
   "outputs": [
    {
     "data": {
      "text/plain": [
       "(('name', None, None, None, None, None, None),)"
      ]
     },
     "execution_count": 21,
     "metadata": {},
     "output_type": "execute_result"
    }
   ],
   "source": [
    "cursor.description"
   ]
  },
  {
   "cell_type": "markdown",
   "id": "5f4b77da",
   "metadata": {},
   "source": [
    "**Kiem tra bang phongban**"
   ]
  },
  {
   "cell_type": "code",
   "execution_count": 28,
   "id": "4abe8278",
   "metadata": {},
   "outputs": [
    {
     "data": {
      "text/plain": [
       "[(1, 'Phong Nhan Su', None),\n",
       " (2, 'Phong Ke Toan', None),\n",
       " (3, 'Phong Phong San Xuat', None),\n",
       " (4, 'Phong Kinh Doanh - Marketing', None),\n",
       " (5, 'Phong Ky Thuat', None),\n",
       " (6, 'Phong R&D', None)]"
      ]
     },
     "execution_count": 28,
     "metadata": {},
     "output_type": "execute_result"
    }
   ],
   "source": [
    "cursor.execute(\"SELECT * FROM phongban\")\n",
    "cursor.fetchall()"
   ]
  },
  {
   "cell_type": "code",
   "execution_count": 24,
   "id": "0b341382",
   "metadata": {},
   "outputs": [
    {
     "data": {
      "text/plain": [
       "-1"
      ]
     },
     "execution_count": 24,
     "metadata": {},
     "output_type": "execute_result"
    }
   ],
   "source": [
    "cursor.rowcount"
   ]
  },
  {
   "cell_type": "code",
   "execution_count": 29,
   "id": "d095271c",
   "metadata": {},
   "outputs": [
    {
     "name": "stdout",
     "output_type": "stream",
     "text": [
      "(1, 'Phong Nhan Su', None)\n",
      "(2, 'Phong Ke Toan', None)\n",
      "(3, 'Phong Phong San Xuat', None)\n"
     ]
    }
   ],
   "source": [
    "cursor.execute(\"SELECT * FROM phongban\")\n",
    "print(cursor.fetchone())\n",
    "print(cursor.fetchone())\n",
    "print(cursor.fetchone())"
   ]
  },
  {
   "cell_type": "code",
   "execution_count": 34,
   "id": "54ecbb35",
   "metadata": {},
   "outputs": [
    {
     "name": "stdout",
     "output_type": "stream",
     "text": [
      "(1, 'Phong Nhan Su', None)\n",
      "(2, 'Phong Ke Toan', None)\n",
      "(3, 'Phong Phong San Xuat', 2)\n",
      "(4, 'Phong Kinh Doanh - Marketing', None)\n",
      "(5, 'Phong Ky Thuat', None)\n",
      "(6, 'Phong R&D', None)\n"
     ]
    }
   ],
   "source": [
    "for row in cursor.execute(\"SELECT * FROM phongban\"):\n",
    "    print(row)"
   ]
  },
  {
   "cell_type": "markdown",
   "id": "eb6cc356",
   "metadata": {},
   "source": [
    "**Kiem tra bang nhanvien**"
   ]
  },
  {
   "cell_type": "code",
   "execution_count": 35,
   "id": "9701997d",
   "metadata": {},
   "outputs": [
    {
     "data": {
      "text/plain": [
       "[(1, 'Tran', 'Van A', 'atran@gmail.com', 3, 2, None, 15000.0),\n",
       " (2, 'Nguyen', 'Van B', 'bnguyen@gmail.com', 3, None, None, 11000.0)]"
      ]
     },
     "execution_count": 35,
     "metadata": {},
     "output_type": "execute_result"
    }
   ],
   "source": [
    "cursor.execute(\"SELECT * FROM nhanvien\")\n",
    "cursor.fetchall()"
   ]
  }
 ],
 "metadata": {
  "kernelspec": {
   "display_name": "Python 3",
   "language": "python",
   "name": "python3"
  },
  "language_info": {
   "codemirror_mode": {
    "name": "ipython",
    "version": 3
   },
   "file_extension": ".py",
   "mimetype": "text/x-python",
   "name": "python",
   "nbconvert_exporter": "python",
   "pygments_lexer": "ipython3",
   "version": "3.8.11"
  }
 },
 "nbformat": 4,
 "nbformat_minor": 5
}
