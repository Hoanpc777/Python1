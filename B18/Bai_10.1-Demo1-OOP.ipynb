{
 "cells": [
  {
   "cell_type": "markdown",
   "id": "032fb745",
   "metadata": {},
   "source": [
    "## Khởi tạo class"
   ]
  },
  {
   "cell_type": "markdown",
   "id": "3185426c",
   "metadata": {},
   "source": [
    "**Class variable**"
   ]
  },
  {
   "cell_type": "code",
   "execution_count": 85,
   "id": "0070b17c",
   "metadata": {},
   "outputs": [],
   "source": [
    "class HocVien:\n",
    "    ten = 'Chua Co'\n",
    "    tuoi = 0\n",
    "hv = HocVien()"
   ]
  },
  {
   "cell_type": "code",
   "execution_count": 86,
   "id": "72850c12",
   "metadata": {},
   "outputs": [
    {
     "data": {
      "text/plain": [
       "'Chua Co'"
      ]
     },
     "execution_count": 86,
     "metadata": {},
     "output_type": "execute_result"
    }
   ],
   "source": [
    "hv.ten"
   ]
  },
  {
   "cell_type": "code",
   "execution_count": 87,
   "id": "e30b7052",
   "metadata": {},
   "outputs": [],
   "source": [
    "hv.ten = \"Nam\"\n",
    "hv.tuoi = 20"
   ]
  },
  {
   "cell_type": "code",
   "execution_count": 88,
   "id": "d704a17e",
   "metadata": {},
   "outputs": [
    {
     "name": "stdout",
     "output_type": "stream",
     "text": [
      "Nam\n",
      "20\n"
     ]
    }
   ],
   "source": [
    "print(hv.ten)\n",
    "print(hv.tuoi)"
   ]
  },
  {
   "cell_type": "code",
   "execution_count": 89,
   "id": "143cb85a",
   "metadata": {},
   "outputs": [
    {
     "name": "stdout",
     "output_type": "stream",
     "text": [
      "Chua Co\n"
     ]
    }
   ],
   "source": [
    "print(HocVien.ten)"
   ]
  },
  {
   "cell_type": "code",
   "execution_count": 90,
   "id": "370f9385",
   "metadata": {},
   "outputs": [],
   "source": [
    "hv2 = HocVien()\n",
    "hv2.ten = 'Mai'\n",
    "hv2.tuoi = 26"
   ]
  },
  {
   "cell_type": "code",
   "execution_count": 91,
   "id": "8cf0d39b",
   "metadata": {},
   "outputs": [
    {
     "name": "stdout",
     "output_type": "stream",
     "text": [
      "Mai\n",
      "26\n"
     ]
    }
   ],
   "source": [
    "print(hv2.ten)\n",
    "print(hv2.tuoi)"
   ]
  },
  {
   "cell_type": "code",
   "execution_count": 92,
   "id": "9ed6a7e8",
   "metadata": {},
   "outputs": [
    {
     "name": "stdout",
     "output_type": "stream",
     "text": [
      "Nam\n",
      "20\n"
     ]
    }
   ],
   "source": [
    "print(hv.ten)\n",
    "print(hv.tuoi)"
   ]
  },
  {
   "cell_type": "code",
   "execution_count": 96,
   "id": "857cc10d",
   "metadata": {},
   "outputs": [
    {
     "name": "stdout",
     "output_type": "stream",
     "text": [
      "Chua Co\n",
      "0\n"
     ]
    }
   ],
   "source": [
    "# Lớp có phương thức\n",
    "class HocVien():\n",
    "    ten = 'Chua Co'\n",
    "    tuoi = 0\n",
    "    def HienThiThongTin(self):\n",
    "        print(self.ten)\n",
    "        print(self.tuoi)\n",
    "hv = HocVien()\n",
    "hv.HienThiThongTin()"
   ]
  },
  {
   "cell_type": "code",
   "execution_count": 97,
   "id": "96942a78",
   "metadata": {},
   "outputs": [
    {
     "name": "stdout",
     "output_type": "stream",
     "text": [
      "Nam\n",
      "20\n"
     ]
    }
   ],
   "source": [
    "hv.ten = \"Nam\"\n",
    "hv.tuoi = 20\n",
    "hv.HienThiThongTin()"
   ]
  },
  {
   "cell_type": "markdown",
   "id": "4d94285a",
   "metadata": {},
   "source": [
    "**Instance variable**"
   ]
  },
  {
   "cell_type": "code",
   "execution_count": 110,
   "id": "8ce1c3c9",
   "metadata": {},
   "outputs": [
    {
     "name": "stdout",
     "output_type": "stream",
     "text": [
      "Thông tin của HV là: Nam, 20\n"
     ]
    }
   ],
   "source": [
    "class HocVien():\n",
    "    ten = None\n",
    "    tuoi = None\n",
    "    \n",
    "    def HienThiThongTin(self):\n",
    "        self.thongtin = \"Thông tin của HV là: \" + self.ten + \", \" + str(self.tuoi)\n",
    "        print(self.thongtin)\n",
    "        \n",
    "    def HienThiThongTin2(self):\n",
    "        print(\"I am\", self.thongtin)\n",
    "        \n",
    "hv = HocVien()        \n",
    "hv.ten = \"Nam\"\n",
    "hv.tuoi = 20\n",
    "hv.HienThiThongTin()"
   ]
  },
  {
   "cell_type": "code",
   "execution_count": 111,
   "id": "e6e2172b",
   "metadata": {},
   "outputs": [
    {
     "data": {
      "text/plain": [
       "'Thông tin của HV là: Nam, 20'"
      ]
     },
     "execution_count": 111,
     "metadata": {},
     "output_type": "execute_result"
    }
   ],
   "source": [
    "hv.thongtin"
   ]
  },
  {
   "cell_type": "code",
   "execution_count": 112,
   "id": "dc16690a",
   "metadata": {},
   "outputs": [
    {
     "name": "stdout",
     "output_type": "stream",
     "text": [
      "I am Thông tin của HV là: Nam, 20\n"
     ]
    }
   ],
   "source": [
    "hv.HienThiThongTin2()"
   ]
  },
  {
   "cell_type": "code",
   "execution_count": 113,
   "id": "cfa91866",
   "metadata": {},
   "outputs": [
    {
     "ename": "AttributeError",
     "evalue": "type object 'HocVien' has no attribute 'thongtin'",
     "output_type": "error",
     "traceback": [
      "\u001b[0;31m---------------------------------------------------------------------------\u001b[0m",
      "\u001b[0;31mAttributeError\u001b[0m                            Traceback (most recent call last)",
      "\u001b[0;32m<ipython-input-113-023e1283cc14>\u001b[0m in \u001b[0;36m<module>\u001b[0;34m\u001b[0m\n\u001b[1;32m      1\u001b[0m \u001b[0;31m# Trường hợp này sẽ không truy cập được biến 'tentuoi' từ lớp HocVien\u001b[0m\u001b[0;34m\u001b[0m\u001b[0;34m\u001b[0m\u001b[0;34m\u001b[0m\u001b[0m\n\u001b[0;32m----> 2\u001b[0;31m \u001b[0mHocVien\u001b[0m\u001b[0;34m.\u001b[0m\u001b[0mthongtin\u001b[0m\u001b[0;34m\u001b[0m\u001b[0;34m\u001b[0m\u001b[0m\n\u001b[0m",
      "\u001b[0;31mAttributeError\u001b[0m: type object 'HocVien' has no attribute 'thongtin'"
     ]
    }
   ],
   "source": [
    "# Trường hợp này sẽ không truy cập được biến 'tentuoi' từ lớp HocVien\n",
    "HocVien.thongtin"
   ]
  },
  {
   "cell_type": "markdown",
   "id": "09009ad4",
   "metadata": {},
   "source": [
    "**Phương thức __init__()**"
   ]
  },
  {
   "cell_type": "code",
   "execution_count": 114,
   "id": "3aded41d",
   "metadata": {},
   "outputs": [],
   "source": [
    "class HocVien():\n",
    "    def __init__(self, tenHV, tuoiHV):\n",
    "        self.ten = tenHV\n",
    "        self.tuoi = tuoiHV\n",
    "    \n",
    "    def HienThiThongTin(self):\n",
    "        self.thongtin = \"Thông tin của HV là: \" + self.ten + \", \" + str(self.tuoi)\n",
    "        print(self.thongtin)"
   ]
  },
  {
   "cell_type": "code",
   "execution_count": 115,
   "id": "50ac5af9",
   "metadata": {},
   "outputs": [
    {
     "name": "stdout",
     "output_type": "stream",
     "text": [
      "Thông tin của HV là: Quyết, 30\n"
     ]
    }
   ],
   "source": [
    "hv3 = HocVien(\"Quyết\", 30)\n",
    "hv3.HienThiThongTin()"
   ]
  },
  {
   "cell_type": "code",
   "execution_count": null,
   "id": "12a71fe9",
   "metadata": {},
   "outputs": [],
   "source": [
    "class HocVien():\n",
    "    def __init__(self, tenHV, tuoiHV):\n",
    "        self.ten = tenHV\n",
    "        self.tuoi = tuoiHV\n",
    "    def HienThiThongTin(self):\n",
    "        self.tentuoi = self.ten + \",\" + str(self.tuoi)\n",
    "        print(self.tentuoi)\n",
    "        \n",
    "    def HienThiThongTin2(self):\n",
    "        print(\"I am\", self.tentuoi)"
   ]
  },
  {
   "cell_type": "code",
   "execution_count": null,
   "id": "0ce7b9ae",
   "metadata": {},
   "outputs": [],
   "source": [
    "hv = HocVien('Nam', 20)\n",
    "hv.HienThiThongTin()"
   ]
  },
  {
   "cell_type": "markdown",
   "id": "b048363f",
   "metadata": {},
   "source": [
    "## Inheritance"
   ]
  },
  {
   "cell_type": "code",
   "execution_count": 119,
   "id": "9ebea91b",
   "metadata": {},
   "outputs": [],
   "source": [
    "class Nguoi():\n",
    "    def __init__(self, ten, tuoi):\n",
    "        self.ten = ten\n",
    "        self.tuoi = tuoi\n",
    "        \n",
    "    def HienThiThongTin(self):\n",
    "        print(\"Thông tin của Người:\")\n",
    "        print(self.ten)\n",
    "        print(self.tuoi)"
   ]
  },
  {
   "cell_type": "code",
   "execution_count": 120,
   "id": "c2690426",
   "metadata": {},
   "outputs": [
    {
     "name": "stdout",
     "output_type": "stream",
     "text": [
      "Thông tin của Người:\n",
      "Nam\n",
      "29\n"
     ]
    }
   ],
   "source": [
    "hv1 = Nguoi(\"Nam\", 29)\n",
    "hv1.HienThiThongTin()"
   ]
  },
  {
   "cell_type": "code",
   "execution_count": 121,
   "id": "bd5c519e",
   "metadata": {},
   "outputs": [
    {
     "name": "stdout",
     "output_type": "stream",
     "text": [
      "Thông tin của Người:\n",
      "Lan\n",
      "40\n"
     ]
    }
   ],
   "source": [
    "gv1 = Nguoi(\"Lan\", 40)\n",
    "gv1.HienThiThongTin()"
   ]
  },
  {
   "cell_type": "code",
   "execution_count": 127,
   "id": "605dcb36",
   "metadata": {},
   "outputs": [],
   "source": [
    "class HocVien2(Nguoi):\n",
    "    def ThamGiaHoc(self, monhoc, hocphi=5.0):\n",
    "        self.monhoc = monhoc\n",
    "        self.hocphi = hocphi\n",
    "        \n",
    "    def ThongTinHocTap(self):\n",
    "        print(\"Thông tin học tập:\")\n",
    "        print(self.monhoc)\n",
    "        print(self.hocphi)"
   ]
  },
  {
   "cell_type": "code",
   "execution_count": 124,
   "id": "20de1f3e",
   "metadata": {},
   "outputs": [],
   "source": [
    "class GiangVien2(Nguoi):\n",
    "    def GiangDay(self, monhoc, sogio = 45):\n",
    "        self.monhoc = monhoc\n",
    "        self.sogio = sogio\n",
    "        \n",
    "    def ThongTinGiangDay(self):\n",
    "        print(self.monhoc)\n",
    "        print(self.sogio)\n",
    "    "
   ]
  },
  {
   "cell_type": "markdown",
   "id": "130d825f",
   "metadata": {},
   "source": [
    "**Đối tượng của lớp HocVien**"
   ]
  },
  {
   "cell_type": "code",
   "execution_count": 128,
   "id": "cbc34b2f",
   "metadata": {},
   "outputs": [
    {
     "name": "stdout",
     "output_type": "stream",
     "text": [
      "Thông tin của Người:\n",
      "Nam\n",
      "20\n"
     ]
    }
   ],
   "source": [
    "hv = HocVien2('Nam', 20)\n",
    "hv.HienThiThongTin()"
   ]
  },
  {
   "cell_type": "code",
   "execution_count": 129,
   "id": "fe83f379",
   "metadata": {},
   "outputs": [
    {
     "name": "stdout",
     "output_type": "stream",
     "text": [
      "Thông tin học tập:\n",
      "Lap Trinh Python\n",
      "6\n"
     ]
    }
   ],
   "source": [
    "hv.ThamGiaHoc(\"Lap Trinh Python\", 6)\n",
    "hv.ThongTinHocTap()"
   ]
  },
  {
   "cell_type": "markdown",
   "id": "9961f423",
   "metadata": {},
   "source": [
    "**Đối tượng của lớp GiangVien**"
   ]
  },
  {
   "cell_type": "code",
   "execution_count": 131,
   "id": "cd31a6d9",
   "metadata": {},
   "outputs": [
    {
     "name": "stdout",
     "output_type": "stream",
     "text": [
      "Thông tin của Người:\n",
      "Lan\n",
      "40\n"
     ]
    }
   ],
   "source": [
    "gv = GiangVien2('Lan', 40)\n",
    "gv.HienThiThongTin()"
   ]
  },
  {
   "cell_type": "code",
   "execution_count": 132,
   "id": "162fd408",
   "metadata": {},
   "outputs": [
    {
     "name": "stdout",
     "output_type": "stream",
     "text": [
      "Phan Tich Du Lieu\n",
      "30\n"
     ]
    }
   ],
   "source": [
    "gv.GiangDay(\"Phan Tich Du Lieu\", 30)\n",
    "gv.ThongTinGiangDay()"
   ]
  },
  {
   "cell_type": "markdown",
   "id": "12f7da2e",
   "metadata": {},
   "source": [
    "**Hàm __init__ trong lớp dẫn xuất**"
   ]
  },
  {
   "cell_type": "code",
   "execution_count": 134,
   "id": "cd23fb2a",
   "metadata": {},
   "outputs": [],
   "source": [
    "class HocVien(Nguoi):\n",
    "    def __init__(self, ten, tuoi, monhoc, hocphi=5.0):\n",
    "        self.monhoc = monhoc\n",
    "        self.hocphi = hocphi\n",
    "        super().__init__(ten, tuoi)\n",
    "        \n",
    "    def ThongTinHocTap(self):\n",
    "        print(self.monhoc)\n",
    "        print(self.hocphi)\n",
    "\n",
    "class GiangVien(Nguoi):\n",
    "    def __init__(self, ten, tuoi, monhoc, sogio = 45):\n",
    "        self.monhoc = monhoc\n",
    "        self.sogio = sogio\n",
    "        super().__init__(ten, tuoi)\n",
    "        \n",
    "    def ThongTinGiangDay(self):\n",
    "        print(self.monhoc)\n",
    "        print(self.sogio)"
   ]
  },
  {
   "cell_type": "code",
   "execution_count": 135,
   "id": "2a6a6775",
   "metadata": {},
   "outputs": [
    {
     "name": "stdout",
     "output_type": "stream",
     "text": [
      "Thông tin của Người:\n",
      "Nam\n",
      "20\n",
      "Lap Trinh Python\n",
      "7\n"
     ]
    }
   ],
   "source": [
    "hv = HocVien('Nam', 20, 'Lap Trinh Python', 7)\n",
    "hv.HienThiThongTin()\n",
    "hv.ThongTinHocTap()"
   ]
  },
  {
   "cell_type": "code",
   "execution_count": 136,
   "id": "e23f0a90",
   "metadata": {},
   "outputs": [
    {
     "name": "stdout",
     "output_type": "stream",
     "text": [
      "Thông tin của Người:\n",
      "Lan\n",
      "40\n",
      "Lap Trinh Web\n",
      "60\n"
     ]
    }
   ],
   "source": [
    "gv = GiangVien('Lan', 40, 'Lap Trinh Web', 60)\n",
    "gv.HienThiThongTin()\n",
    "gv.ThongTinGiangDay()"
   ]
  },
  {
   "cell_type": "code",
   "execution_count": 140,
   "id": "905e8723",
   "metadata": {},
   "outputs": [],
   "source": [
    "def ThucHien(nguoi):\n",
    "    nguoi.HienThiThongTin()"
   ]
  },
  {
   "cell_type": "code",
   "execution_count": 141,
   "id": "120c81f8",
   "metadata": {},
   "outputs": [
    {
     "name": "stdout",
     "output_type": "stream",
     "text": [
      "Thông tin của Người:\n",
      "Lan\n",
      "40\n"
     ]
    }
   ],
   "source": [
    "ThucHien(gv)"
   ]
  },
  {
   "cell_type": "code",
   "execution_count": 142,
   "id": "07bf9b25",
   "metadata": {},
   "outputs": [
    {
     "name": "stdout",
     "output_type": "stream",
     "text": [
      "Thông tin của Người:\n",
      "Nam\n",
      "20\n"
     ]
    }
   ],
   "source": [
    "ThucHien(hv)"
   ]
  },
  {
   "cell_type": "markdown",
   "id": "dcbbcd11",
   "metadata": {},
   "source": [
    "## Polymorphism"
   ]
  },
  {
   "cell_type": "code",
   "execution_count": null,
   "id": "9056142a",
   "metadata": {},
   "outputs": [],
   "source": [
    "class NguoiViet():\n",
    "    def Chao_Mung(self):\n",
    "        print(\"Xin Chào!\")\n",
    "        \n",
    "class NguoiAnh():\n",
    "    def Chao_Mung(self):\n",
    "        print(\"Hello!\")"
   ]
  },
  {
   "cell_type": "code",
   "execution_count": 137,
   "id": "68240c89",
   "metadata": {},
   "outputs": [
    {
     "name": "stdout",
     "output_type": "stream",
     "text": [
      "Xin Chào!\n",
      "Hello!\n"
     ]
    }
   ],
   "source": [
    "a1 = NguoiViet()\n",
    "a2 = NguoiAnh()\n",
    "a1.Chao_Mung()\n",
    "a2.Chao_Mung()"
   ]
  },
  {
   "cell_type": "code",
   "execution_count": 138,
   "id": "59bad7ac",
   "metadata": {},
   "outputs": [
    {
     "name": "stdout",
     "output_type": "stream",
     "text": [
      "Xin Chào!\n"
     ]
    }
   ],
   "source": [
    "def ThucHienChaoMung(nguoi):\n",
    "    nguoi.Chao_Mung()\n",
    "ThucHienChaoMung(a1)"
   ]
  },
  {
   "cell_type": "code",
   "execution_count": 139,
   "id": "9c74209a",
   "metadata": {},
   "outputs": [
    {
     "name": "stdout",
     "output_type": "stream",
     "text": [
      "Hello!\n"
     ]
    }
   ],
   "source": [
    "ThucHienChaoMung(a2)"
   ]
  }
 ],
 "metadata": {
  "kernelspec": {
   "display_name": "Python 3",
   "language": "python",
   "name": "python3"
  },
  "language_info": {
   "codemirror_mode": {
    "name": "ipython",
    "version": 3
   },
   "file_extension": ".py",
   "mimetype": "text/x-python",
   "name": "python",
   "nbconvert_exporter": "python",
   "pygments_lexer": "ipython3",
   "version": "3.8.11"
  }
 },
 "nbformat": 4,
 "nbformat_minor": 5
}
