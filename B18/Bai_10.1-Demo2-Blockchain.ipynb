{
 "cells": [
  {
   "cell_type": "markdown",
   "metadata": {},
   "source": [
    "# Demo Blockchain đơn giản với Python\n",
    "# Blockchain và Data Science: Tuy xa mà gần, tuy gần mà xa :D "
   ]
  },
  {
   "cell_type": "code",
   "execution_count": 10,
   "metadata": {},
   "outputs": [
    {
     "name": "stdout",
     "output_type": "stream",
     "text": [
      "Số Nonce Lớn Nhất: 4294967296\n",
      "Số Mục Tiêu: 110427941548649020598956093796432407239217743554726184882600387580788736\n",
      "BlockNo: 0\n",
      "Dữ Liệu của Block: Genesis\n",
      "Số Nonce đã đào được: 0\n",
      "Block Hash: 0e72bf34b371e1a57f617de269bc9b685c4e2255c1ad55315d0a1f1fa5a32c07\n",
      "Prev Hash: 0\n"
     ]
    }
   ],
   "source": [
    "import datetime\n",
    "import hashlib\n",
    "\n",
    "class Block:\n",
    "    blockNo = 0\n",
    "    data, next, hash = None, None, None \n",
    "    nonce = 0\n",
    "    prev_hash = 0x0\n",
    "    timestamp = datetime.datetime.now()\n",
    "\n",
    "    def __init__(self, data):\n",
    "        self.data = data\n",
    "\n",
    "    def hashing(self):\n",
    "        h = hashlib.sha256()\n",
    "        h.update(str(self.nonce).encode('utf-8') + str(self.data).encode('utf-8') +\n",
    "                str(self.prev_hash).encode('utf-8') + str(self.timestamp).encode('utf-8') +\n",
    "                str(self.blockNo).encode('utf-8'))\n",
    "        self.hash_value = h.hexdigest()\n",
    "        return self.hash_value\n",
    "\n",
    "    def __str__(self):\n",
    "        return \"BlockNo: \" + str(self.blockNo) + \"\\nDữ Liệu của Block: \" + str(self.data) + \\\n",
    "        \"\\nSố Nonce đã đào được: \" + str(self.nonce) + \"\\nBlock Hash: \" + str(self.hash_value) + \\\n",
    "        \"\\nPrev Hash: \" + str(self.prev_hash)\n",
    "\n",
    "class BlockChain:\n",
    "    difficulty = 20\n",
    "    maxNonce = 2**32\n",
    "    target = 2 ** (256 - difficulty)\n",
    "    block = Block(\"Genesis\")\n",
    "    block.hashing()\n",
    "    print(\"Số Nonce Lớn Nhất:\", maxNonce)\n",
    "    print(\"Số Mục Tiêu:\", target)\n",
    "    print(block)\n",
    "    \n",
    "    head = block\n",
    "    def add(self, new_block):\n",
    "        new_block.prev_hash = self.block.hash_value\n",
    "        new_block.blockNo = self.block.blockNo + 1\n",
    "\n",
    "        self.block.next = new_block\n",
    "        self.block = new_block\n",
    "\n",
    "    def mine(self, block):\n",
    "        print(\"--------------\\nĐang đào đây. Xin chờ chút...\")\n",
    "        for i in range(self.maxNonce):\n",
    "            temp = int(block.hashing(), 16)\n",
    "            if temp <= self.target:\n",
    "                self.add(block)\n",
    "                print(block)\n",
    "                break\n",
    "            else:\n",
    "                block.nonce = i+1\n",
    "\n",
    "bc = BlockChain()"
   ]
  },
  {
   "cell_type": "code",
   "execution_count": 11,
   "metadata": {},
   "outputs": [
    {
     "name": "stdout",
     "output_type": "stream",
     "text": [
      "--------------\n",
      "Đang đào đây. Xin chờ chút...\n",
      "BlockNo: 1\n",
      "Dữ Liệu của Block: Dữ Liệu: Lap Trinh Python\n",
      "Số Nonce đã đào được: 245392\n",
      "Block Hash: 00000b367db9785acbf2eb8bd548207c6ab899bc417d307f623a65e1a87883c4\n",
      "Prev Hash: 0e72bf34b371e1a57f617de269bc9b685c4e2255c1ad55315d0a1f1fa5a32c07\n"
     ]
    }
   ],
   "source": [
    "new_block = Block(\"Dữ Liệu: Lap Trinh Python\")\n",
    "bc.mine(new_block)"
   ]
  },
  {
   "cell_type": "code",
   "execution_count": 12,
   "metadata": {},
   "outputs": [
    {
     "name": "stdout",
     "output_type": "stream",
     "text": [
      "--------------\n",
      "Đang đào đây. Xin chờ chút...\n",
      "BlockNo: 2\n",
      "Dữ Liệu của Block: Dữ Liệu: Lap Trinh Web\n",
      "Số Nonce đã đào được: 2335897\n",
      "Block Hash: 00000b1c1731f69a58b4cc44f2c5c32c3c12657c4a8376363f420c43d24edaa9\n",
      "Prev Hash: 00000b367db9785acbf2eb8bd548207c6ab899bc417d307f623a65e1a87883c4\n"
     ]
    }
   ],
   "source": [
    "new_block = Block(\"Dữ Liệu: Lap Trinh Web\")\n",
    "bc.mine(new_block)"
   ]
  },
  {
   "cell_type": "code",
   "execution_count": 13,
   "metadata": {},
   "outputs": [
    {
     "name": "stdout",
     "output_type": "stream",
     "text": [
      "--------------\n",
      "Đang đào đây. Xin chờ chút...\n",
      "BlockNo: 3\n",
      "Dữ Liệu của Block: Cảm ơn các bạn lớp Data Analytics\n",
      "Số Nonce đã đào được: 176351\n",
      "Block Hash: 0000044e445625bb7c4687c803a0122bf1f9a79bc6910393152107c52fb29aca\n",
      "Prev Hash: 00000b1c1731f69a58b4cc44f2c5c32c3c12657c4a8376363f420c43d24edaa9\n"
     ]
    }
   ],
   "source": [
    "new_block = Block(\"Cảm ơn các bạn lớp Data Analytics\")\n",
    "bc.mine(new_block)"
   ]
  }
 ],
 "metadata": {
  "kernelspec": {
   "display_name": "Python 3",
   "language": "python",
   "name": "python3"
  },
  "language_info": {
   "codemirror_mode": {
    "name": "ipython",
    "version": 3
   },
   "file_extension": ".py",
   "mimetype": "text/x-python",
   "name": "python",
   "nbconvert_exporter": "python",
   "pygments_lexer": "ipython3",
   "version": "3.8.11"
  }
 },
 "nbformat": 4,
 "nbformat_minor": 4
}
