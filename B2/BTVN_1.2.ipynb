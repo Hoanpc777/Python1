{
 "cells": [
  {
   "cell_type": "markdown",
   "id": "b92e1653",
   "metadata": {},
   "source": [
    "Vui chơi với list. Viết mã để thực hiện:\n",
    "1.1. Chỉ lấy các phần tử ở vị trí chẵn trong chuỗi (0,2,4,6…)\n",
    "1.2. Chỉ lấy các phần tử ở vị trí lẻ trong chuỗi (1,3,5…)"
   ]
  },
  {
   "cell_type": "code",
   "execution_count": 1,
   "id": "03ae32dd",
   "metadata": {},
   "outputs": [
    {
     "name": "stdout",
     "output_type": "stream",
     "text": [
      "List: [0, 1, 2, 3, 4, 5, 6, 7, 8, 9, 10, 11, 12, 13, 14, 15, 16, 17, 18, 19, 20] \n",
      "Even List: [0, 2, 4, 6, 8, 10, 12, 14, 16, 18, 20] \n",
      "Odd List: [1, 3, 5, 7, 9, 11, 13, 15, 17, 19]\n"
     ]
    }
   ],
   "source": [
    "ds = [i for i in range(21)]\n",
    "\n",
    "even_position = ds[::2]\n",
    "odd_position = ds[1::2]\n",
    "print(f'List: {ds} \\nEven List: {even_position} \\nOdd List: {odd_position}')"
   ]
  },
  {
   "cell_type": "markdown",
   "id": "331a199d",
   "metadata": {},
   "source": [
    "Thực hiện lại các bài tập trong bài trước và lưu kết quả vào file text"
   ]
  },
  {
   "cell_type": "code",
   "execution_count": 5,
   "id": "7055a314",
   "metadata": {},
   "outputs": [],
   "source": [
    "fh= open('HW_week_1.txt', 'w')\n",
    "fh.write(str(ds))\n",
    "fh.write(\"\\nVị trí chẵn là: \"+ str(even_position))\n",
    "fh.write(\"\\nVị trí lẻ là: \"+ str(odd_position))\n",
    "fh.close()"
   ]
  },
  {
   "cell_type": "markdown",
   "id": "0da2b3c1",
   "metadata": {},
   "source": [
    "Đọc file “example_bai_1.2.csv” và tính:\n",
    "3.1. Tần số & Tần suất khách hàng mua ở Tp HCM, Hà Nội, Đà Nẵng\n",
    "3.2. Tần số & Tần suất khách hàng Nam/Nữ\n",
    "3.3. Mean, median của Tổng đơn và Rating\n",
    "3.4. Nâng cao: tính mode của số làm tròn thuộc Tổng đơn và Rating"
   ]
  },
  {
   "cell_type": "code",
   "execution_count": 4,
   "id": "84197c9f",
   "metadata": {},
   "outputs": [
    {
     "name": "stdout",
     "output_type": "stream",
     "text": [
      "Phân bố đơn hàng theo thành phố\n",
      "Hà Nội: Tần số = 274, Tần suất = 27.4%\n",
      "TP HCM: Tần số = 490, Tần suất = 49.0%\n",
      "Đà Nẵng: Tần số = 236, Tần suất = 23.6%\n",
      "\n",
      "Phân bố đơn hàng theo giới tính\n",
      "Nam: Tần số = 499, Tần suất = 49.9%\n",
      "Nữ: Tần số = 501, Tần suất = 50.1%\n"
     ]
    }
   ],
   "source": [
    "import csv\n",
    "\n",
    "def readFile(filePath):\n",
    "    output = []\n",
    "    with open(filePath, mode = 'r',encoding='utf-8') as f:\n",
    "        data_reader = csv.reader(f)\n",
    "        next(data_reader)\n",
    "        for row in data_reader:\n",
    "            output.append(row)\n",
    "    return output\n",
    "\n",
    "def print_output(city_name,counts,rates):\n",
    "    print(f'{city_name}: Tần số = {counts}, Tần suất = {round(rates,2)}%')\n",
    "\n",
    "raw_data = readFile('example_bai_1.2.csv')\n",
    "\n",
    "HN_counts=0\n",
    "HCM_counts=0\n",
    "DN_counts=0\n",
    "dt_size = len(raw_data)\n",
    "\n",
    "# #Cách 1\n",
    "for value in raw_data:\n",
    "    if value[0] == \"Hà Nội\": HN_counts += 1\n",
    "    elif value[0] == \"TP HCM\": HCM_counts += 1\n",
    "    elif value[0] == \"Đà Nẵng\": DN_counts += 1\n",
    "\n",
    "Male_counts = 0\n",
    "Female_counts = 0\n",
    "for value in raw_data:\n",
    "    if value[1] == \"Nam\": Male_counts += 1\n",
    "    elif value[1] == \"Nữ\": Female_counts += 1\n",
    "\n",
    "print('Phân bố đơn hàng theo thành phố')\n",
    "print_output(\"Hà Nội\",HN_counts, (HN_counts/dt_size)*100)\n",
    "print_output(\"TP HCM\",HCM_counts, (HCM_counts/dt_size)*100)\n",
    "print_output(\"Đà Nẵng\",DN_counts, (DN_counts/dt_size)*100)\n",
    "\n",
    "print('\\nPhân bố đơn hàng theo giới tính')\n",
    "print_output(\"Nam\",Male_counts, (Male_counts/dt_size)*100)\n",
    "print_output(\"Nữ\",Female_counts, (Female_counts/dt_size)*100)"
   ]
  },
  {
   "cell_type": "code",
   "execution_count": 5,
   "id": "b22ec454",
   "metadata": {},
   "outputs": [
    {
     "name": "stdout",
     "output_type": "stream",
     "text": [
      "Phân bố đơn hàng theo thành phố\n",
      "Hà Nội: Tần số = 274, Tần suất = 27.4%\n",
      "TP HCM: Tần số = 490, Tần suất = 49.0%\n",
      "Đà Nẵng: Tần số = 236, Tần suất = 23.6%\n",
      "\n",
      "Phân bố đơn hàng theo giới tính\n",
      "Nữ: Tần số = 501, Tần suất = 50.1%\n",
      "Nam: Tần số = 499, Tần suất = 49.9%\n"
     ]
    }
   ],
   "source": [
    "#Cách 2\n",
    "city = [item[0] for item in raw_data]\n",
    "gender = [item[1] for item in raw_data]\n",
    "city_object = {x: [city.count(x), 100 * city.count(x) / len(city)] for x in set(city)}\n",
    "gender_object = {x: [gender.count(x), 100 * gender.count(x) / len(city)] for x in set(gender)}\n",
    "\n",
    "def print_output(dic):\n",
    "    for item in dic:\n",
    "        print(f'{item}: Tần số = {dic[item][0]}, Tần suất = {dic[item][1]}%')\n",
    "\n",
    "print('Phân bố đơn hàng theo thành phố')\n",
    "print_output(city_object)\n",
    "print('\\nPhân bố đơn hàng theo giới tính')\n",
    "print_output(gender_object)"
   ]
  },
  {
   "cell_type": "code",
   "execution_count": 6,
   "id": "21c0d5fc",
   "metadata": {},
   "outputs": [
    {
     "name": "stdout",
     "output_type": "stream",
     "text": [
      "Tính toán theo tổng đơn: Mean = 322.97, Median = 254.58\n",
      "Tính toán theo rating: Mean = 6.97, Median = 7.00\n"
     ]
    }
   ],
   "source": [
    "def Tinh_mean_median(data_sorted,temp):\n",
    "    data_size = len(data_sorted)\n",
    "    mean_value = sum(data_sorted)/data_size\n",
    "    if data_size%2 == 1:\n",
    "        median_value = data_sorted[data_size//2]\n",
    "    else:\n",
    "        median_value = (data_sorted[data_size//2] + data_sorted[data_size//2 + 1 ])/2\n",
    "    print(\"Tính toán theo \" + temp + \": Mean = %.2f, Median = %.2f\" %(mean_value,median_value))\n",
    "\n",
    "bill = [float(item[2]) for item in raw_data]\n",
    "rating = [float(item[3]) for item in raw_data]\n",
    "\n",
    "Tinh_mean_median(sorted(bill),\"tổng đơn\")\n",
    "Tinh_mean_median(sorted(rating),\"rating\")"
   ]
  }
 ],
 "metadata": {
  "kernelspec": {
   "display_name": "Python 3 (ipykernel)",
   "language": "python",
   "name": "python3"
  },
  "language_info": {
   "codemirror_mode": {
    "name": "ipython",
    "version": 3
   },
   "file_extension": ".py",
   "mimetype": "text/x-python",
   "name": "python",
   "nbconvert_exporter": "python",
   "pygments_lexer": "ipython3",
   "version": "3.8.8"
  }
 },
 "nbformat": 4,
 "nbformat_minor": 5
}
