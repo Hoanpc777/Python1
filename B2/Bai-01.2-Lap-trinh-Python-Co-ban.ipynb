{
 "cells": [
  {
   "cell_type": "markdown",
   "id": "085789cd",
   "metadata": {},
   "source": [
    "# Having a goal without doing something about it, is like loving someone without letting them know it. - unknown-\n",
    "![alt text](Figure1.jpg)"
   ]
  },
  {
   "cell_type": "markdown",
   "id": "1a6532a9",
   "metadata": {},
   "source": [
    "# 1) List/Array"
   ]
  },
  {
   "cell_type": "markdown",
   "id": "a634ddef",
   "metadata": {},
   "source": [
    "### 1.1) Các thao tác cơ bản"
   ]
  },
  {
   "cell_type": "markdown",
   "id": "7353396a",
   "metadata": {},
   "source": [
    "**Khởi tạo list và đếm số phần tử**"
   ]
  },
  {
   "cell_type": "code",
   "execution_count": 1,
   "id": "d38aa21a",
   "metadata": {},
   "outputs": [
    {
     "name": "stdout",
     "output_type": "stream",
     "text": [
      "[]\n",
      "0\n"
     ]
    }
   ],
   "source": [
    "# Khởi tạo list rỗng\n",
    "ds_học_viên = []\n",
    "print(ds_học_viên)\n",
    "\n",
    "chiều_dài_chuỗi = len(ds_học_viên)\n",
    "print(chiều_dài_chuỗi)"
   ]
  },
  {
   "cell_type": "code",
   "execution_count": 89,
   "id": "8645a43b",
   "metadata": {},
   "outputs": [
    {
     "name": "stdout",
     "output_type": "stream",
     "text": [
      "['Nam', 'Lan', 'Mai', 'Việt']\n",
      "4\n"
     ]
    }
   ],
   "source": [
    "# Khởi tạo list cơ bản\n",
    "ds_học_viên = [\"Nam\", \"Lan\", \"Mai\", \"Việt\"]\n",
    "print(ds_học_viên)\n",
    "\n",
    "chiều_dài_chuỗi = len(ds_học_viên)\n",
    "print(chiều_dài_chuỗi)"
   ]
  },
  {
   "cell_type": "code",
   "execution_count": 92,
   "id": "b2adcf5c",
   "metadata": {},
   "outputs": [
    {
     "name": "stdout",
     "output_type": "stream",
     "text": [
      "['Mai', 'Việt']\n"
     ]
    }
   ],
   "source": [
    "# Khởi tạo list với list comprehension\n",
    "ds_học_viên2 = [ds_học_viên[i] for i in range(chiều_dài_chuỗi) if i>1]\n",
    "print(ds_học_viên2)"
   ]
  },
  {
   "cell_type": "markdown",
   "id": "944146c0",
   "metadata": {},
   "source": [
    "**Indexing và Slicing**"
   ]
  },
  {
   "cell_type": "code",
   "execution_count": 39,
   "id": "e024a957",
   "metadata": {},
   "outputs": [
    {
     "name": "stdout",
     "output_type": "stream",
     "text": [
      "Nam\n",
      "Lan\n",
      "Việt\n",
      "Mai\n"
     ]
    }
   ],
   "source": [
    "# Indexing (thao tác trên chỉ số của danh sách)\n",
    "ds_học_viên = [\"Nam\", \"Lan\", \"Mai\", \"Việt\"]\n",
    "print(ds_học_viên[0])\n",
    "print(ds_học_viên[1])\n",
    "print(ds_học_viên[-1])\n",
    "print(ds_học_viên[-2])"
   ]
  },
  {
   "cell_type": "code",
   "execution_count": 50,
   "id": "c4cf83f9",
   "metadata": {},
   "outputs": [
    {
     "name": "stdout",
     "output_type": "stream",
     "text": [
      "['Nam', 'Lan']\n",
      "['Long', 'Mai']\n",
      "['Việt', 'Peter', 'Alex']\n"
     ]
    }
   ],
   "source": [
    "# Slicing (thao tác \"cắt lát\" danh sách)\n",
    "ds_học_viên = ['Nam', 'Lan', 'Long', 'Mai', 'Việt', 'Peter', 'Alex']\n",
    "ds_nhóm1 = ds_học_viên[:2]\n",
    "print(ds_nhóm1)\n",
    "\n",
    "ds_nhóm2 = ds_học_viên[2:4]\n",
    "print(ds_nhóm2)\n",
    "\n",
    "ds_nhóm3 = ds_học_viên[4:]\n",
    "print(ds_nhóm3)"
   ]
  },
  {
   "cell_type": "code",
   "execution_count": 52,
   "id": "9b64f95d",
   "metadata": {},
   "outputs": [
    {
     "name": "stdout",
     "output_type": "stream",
     "text": [
      "[]\n",
      "['Mai', 'Việt']\n"
     ]
    }
   ],
   "source": [
    "# Slicing ngược\n",
    "ds_học_viên = ['Nam', 'Lan', 'Long', 'Mai', 'Việt', 'Peter', 'Alex']\n",
    "\n",
    "ds_nhóm2 = ds_học_viên[-2:-4]\n",
    "print(ds_nhóm2)\n",
    "\n",
    "ds_nhóm3 = ds_học_viên[-4:-2]\n",
    "print(ds_nhóm3)"
   ]
  },
  {
   "cell_type": "markdown",
   "id": "89fba435",
   "metadata": {},
   "source": [
    "**Đảo ngược list**"
   ]
  },
  {
   "cell_type": "code",
   "execution_count": 44,
   "id": "390a386a",
   "metadata": {},
   "outputs": [
    {
     "name": "stdout",
     "output_type": "stream",
     "text": [
      "['Nam', 'Lan', 'Mai', 'Việt']\n",
      "['Việt', 'Mai', 'Lan', 'Nam']\n"
     ]
    }
   ],
   "source": [
    "# Reversing (cách 1)\n",
    "ds_học_viên = [\"Nam\", \"Lan\", \"Mai\", \"Việt\"]\n",
    "print(ds_học_viên)\n",
    "\n",
    "ds_học_viên.reverse()\n",
    "print(ds_học_viên)"
   ]
  },
  {
   "cell_type": "code",
   "execution_count": 47,
   "id": "4b44b3cf",
   "metadata": {},
   "outputs": [
    {
     "name": "stdout",
     "output_type": "stream",
     "text": [
      "['Nam', 'Lan', 'Mai', 'Việt']\n",
      "['Việt', 'Mai', 'Lan', 'Nam']\n"
     ]
    }
   ],
   "source": [
    "# Reversing (cách 2)\n",
    "ds_học_viên = [\"Nam\", \"Lan\", \"Mai\", \"Việt\"]\n",
    "print(ds_học_viên)\n",
    "\n",
    "ds_học_viên_đảo = list(reversed(ds_học_viên))\n",
    "print(ds_học_viên_đảo)"
   ]
  },
  {
   "cell_type": "code",
   "execution_count": 80,
   "id": "7f031637",
   "metadata": {},
   "outputs": [
    {
     "name": "stdout",
     "output_type": "stream",
     "text": [
      "['Nam', 'Lan', 'Mai', 'Việt', 'Quang']\n",
      "['Quang', 'Việt', 'Mai', 'Lan', 'Nam']\n"
     ]
    }
   ],
   "source": [
    "# Reversing (cách 3)\n",
    "ds_học_viên = [\"Nam\", \"Lan\", \"Mai\", \"Việt\", \"Quang\"]\n",
    "print(ds_học_viên)\n",
    "\n",
    "ds_học_viên_đảo = ds_học_viên[-1::-1]\n",
    "# ds_học_viên_đảo = ds_học_viên[::-1]\n",
    "print(ds_học_viên_đảo)"
   ]
  },
  {
   "cell_type": "markdown",
   "id": "30995cd1",
   "metadata": {},
   "source": [
    "### 1.2) Thêm/Xóa/Sửa"
   ]
  },
  {
   "cell_type": "markdown",
   "id": "4cdbf8e6",
   "metadata": {},
   "source": [
    "**Thêm vào list**"
   ]
  },
  {
   "cell_type": "code",
   "execution_count": 5,
   "id": "88628e4b",
   "metadata": {},
   "outputs": [
    {
     "name": "stdout",
     "output_type": "stream",
     "text": [
      "['Nam', 'Lan', 'Mai', 'Việt']\n",
      "['Nam', 'Lan', 'Mai', 'Việt', 'Peter']\n",
      "['Nam', 'Lan', 'Long', 'Mai', 'Việt', 'Peter']\n",
      "['Nam', 'Lan', 'Long', 'Mai', 'Việt', 'Peter', 'Alex']\n",
      "['Nam', 'Lan', 'Long', 'Mai', 'Việt', 'Peter', 'Alex', 'Yeong-ho', 'Mai']\n"
     ]
    }
   ],
   "source": [
    "ds_học_viên = [\"Nam\", \"Lan\", \"Mai\", \"Việt\"]\n",
    "print(ds_học_viên)\n",
    "\n",
    "# Thêm 1 hay nhiều phần tử với phép cộng 1 list khác\n",
    "ds_học_viên = ds_học_viên + [\"Peter\"]\n",
    "print(ds_học_viên)\n",
    "\n",
    "# Thêm 1 phần tử với hàm insert()\n",
    "ds_học_viên.insert(2, \"Long\")\n",
    "print(ds_học_viên)\n",
    "\n",
    "# Thêm 1 phần tử với hàm append()\n",
    "ds_học_viên.append(\"Alex\")\n",
    "print(ds_học_viên)\n",
    "\n",
    "# Thêm 1 hay nhiều phần tử với hàm extend()\n",
    "ds_học_viên.extend([\"Yeong-ho\", \"Mai\"])\n",
    "print(ds_học_viên)"
   ]
  },
  {
   "cell_type": "markdown",
   "id": "060b4471",
   "metadata": {},
   "source": [
    "**Xóa khỏi list**"
   ]
  },
  {
   "cell_type": "code",
   "execution_count": 14,
   "id": "0edbfed3",
   "metadata": {},
   "outputs": [
    {
     "name": "stdout",
     "output_type": "stream",
     "text": [
      "['Nam', 'Lan', 'Long', 'Việt', 'Peter', 'Alex', 'Yeong-ho', 'Mai']\n",
      "['Nam', 'Lan', 'Long', 'Peter', 'Alex', 'Yeong-ho', 'Mai']\n",
      "['Nam', 'Lan', 'Long', 'Peter', 'Yeong-ho', 'Mai']\n"
     ]
    }
   ],
   "source": [
    "# Xóa\n",
    "ds_học_viên.remove(\"Mai\")\n",
    "print(ds_học_viên)\n",
    "\n",
    "ds_học_viên.pop(3)\n",
    "print(ds_học_viên)\n",
    "\n",
    "del(ds_học_viên[4])\n",
    "print(ds_học_viên)"
   ]
  },
  {
   "cell_type": "code",
   "execution_count": 16,
   "id": "631d026a",
   "metadata": {},
   "outputs": [
    {
     "name": "stdout",
     "output_type": "stream",
     "text": [
      "['Nam', 'Lan', 'Long', 'Peter', 'Yeong-hoon', 'Mai']\n"
     ]
    }
   ],
   "source": [
    "# Sửa\n",
    "ds_học_viên[4] = \"Yeong-hoon\"\n",
    "print(ds_học_viên)"
   ]
  },
  {
   "cell_type": "markdown",
   "id": "fce7ea96",
   "metadata": {},
   "source": [
    "**So sánh list với tuple**"
   ]
  },
  {
   "cell_type": "code",
   "execution_count": 31,
   "id": "de2341ee",
   "metadata": {},
   "outputs": [
    {
     "data": {
      "text/plain": [
       "(2, 4)"
      ]
     },
     "execution_count": 31,
     "metadata": {},
     "output_type": "execute_result"
    }
   ],
   "source": [
    "t = (1,2,4,5)\n",
    "t[1:3]"
   ]
  },
  {
   "cell_type": "code",
   "execution_count": 33,
   "id": "c7b27326",
   "metadata": {},
   "outputs": [
    {
     "ename": "TypeError",
     "evalue": "'tuple' object doesn't support item deletion",
     "output_type": "error",
     "traceback": [
      "\u001b[0;31m---------------------------------------------------------------------------\u001b[0m",
      "\u001b[0;31mTypeError\u001b[0m                                 Traceback (most recent call last)",
      "\u001b[0;32m<ipython-input-33-77cea8bc7ee1>\u001b[0m in \u001b[0;36m<module>\u001b[0;34m\u001b[0m\n\u001b[0;32m----> 1\u001b[0;31m \u001b[0;32mdel\u001b[0m \u001b[0mt\u001b[0m\u001b[0;34m[\u001b[0m\u001b[0;36m1\u001b[0m\u001b[0;34m]\u001b[0m\u001b[0;34m\u001b[0m\u001b[0;34m\u001b[0m\u001b[0m\n\u001b[0m",
      "\u001b[0;31mTypeError\u001b[0m: 'tuple' object doesn't support item deletion"
     ]
    }
   ],
   "source": [
    "del t[1]"
   ]
  },
  {
   "cell_type": "code",
   "execution_count": 36,
   "id": "2c05cf5c",
   "metadata": {},
   "outputs": [
    {
     "data": {
      "text/plain": [
       "[1, 2, 4, 5]"
      ]
     },
     "execution_count": 36,
     "metadata": {},
     "output_type": "execute_result"
    }
   ],
   "source": [
    "# Biến tuple thành list\n",
    "l = list(t)\n",
    "l"
   ]
  },
  {
   "cell_type": "code",
   "execution_count": 37,
   "id": "e1b25c65",
   "metadata": {},
   "outputs": [
    {
     "data": {
      "text/plain": [
       "('Nam', 'Lan', 'Long', 'Việt', 'Peter', 'Alex', 'Yeong-ho', 'Mai')"
      ]
     },
     "execution_count": 37,
     "metadata": {},
     "output_type": "execute_result"
    }
   ],
   "source": [
    "# Biến list thành tuple\n",
    "tuple(ds_học_viên)"
   ]
  },
  {
   "cell_type": "markdown",
   "id": "2b3f2e1b",
   "metadata": {},
   "source": [
    "### 1.3. Tìm kiếm"
   ]
  },
  {
   "cell_type": "code",
   "execution_count": 17,
   "id": "92264a73",
   "metadata": {},
   "outputs": [
    {
     "name": "stdout",
     "output_type": "stream",
     "text": [
      "Yeong-hoon\n",
      "Lan\n"
     ]
    }
   ],
   "source": [
    "# Tìm Min/Max\n",
    "ma = max(ds_học_viên)\n",
    "mi = min(ds_học_viên)\n",
    "print(ma)\n",
    "print(mi)"
   ]
  },
  {
   "cell_type": "code",
   "execution_count": 18,
   "id": "a1c4efdf",
   "metadata": {},
   "outputs": [
    {
     "name": "stdout",
     "output_type": "stream",
     "text": [
      "8\n",
      "3\n"
     ]
    }
   ],
   "source": [
    "# Tìm Min/Max\n",
    "ds_chi_tieu = [5, 6, 3, 7, 3, 8]\n",
    "ma = max(ds_chi_tieu)\n",
    "mi = min(ds_chi_tieu)\n",
    "print(ma)\n",
    "print(mi)"
   ]
  },
  {
   "cell_type": "code",
   "execution_count": 25,
   "id": "61f6338d",
   "metadata": {},
   "outputs": [
    {
     "name": "stdout",
     "output_type": "stream",
     "text": [
      "2\n"
     ]
    }
   ],
   "source": [
    "# Tìm giá trị nào đó\n",
    "ds_học_viên = ['Nam', 'Lan', 'Long', 'Việt', 'Peter', \n",
    "               'Alex', 'Yeong-ho', 'Mai']\n",
    "index = ds_học_viên.index('Long')\n",
    "print(index)"
   ]
  },
  {
   "cell_type": "code",
   "execution_count": 28,
   "id": "4ae328db",
   "metadata": {},
   "outputs": [
    {
     "name": "stdout",
     "output_type": "stream",
     "text": [
      "3\n",
      "Không có số 4 trong ds_chi_tieu\n"
     ]
    }
   ],
   "source": [
    "ds_chi_tieu = [5, 6, 3, 7, 3, 8]\n",
    "index = ds_chi_tieu.index(7)\n",
    "print(index)\n",
    "\n",
    "if 4 in ds_chi_tieu:\n",
    "    print(ds_chi_tieu.index(4))\n",
    "else:\n",
    "    print(\"Không có số 4 trong ds_chi_tieu\")"
   ]
  },
  {
   "cell_type": "markdown",
   "id": "0c121ab5",
   "metadata": {},
   "source": [
    "### 1.4. Sắp xếp"
   ]
  },
  {
   "cell_type": "code",
   "execution_count": 6,
   "id": "0b6a7a44",
   "metadata": {
    "scrolled": true
   },
   "outputs": [
    {
     "name": "stdout",
     "output_type": "stream",
     "text": [
      "['Alex', 'Lan', 'Long', 'Mai', 'Mai', 'Nam', 'Peter', 'Việt', 'Yeong-ho']\n",
      "[8, 7, 6, 5, 3, 3]\n"
     ]
    }
   ],
   "source": [
    "# Sắp xếp tăng\n",
    "ds_học_viên2 = sorted(ds_học_viên)\n",
    "print(ds_học_viên2)\n",
    "\n",
    "# Sắp xếp giảm\n",
    "ds_chi_tieu = sorted([5, 6, 3, 7, 3, 8], reverse=True)\n",
    "print(ds_chi_tieu)"
   ]
  },
  {
   "cell_type": "code",
   "execution_count": 10,
   "id": "2afc5f1c",
   "metadata": {},
   "outputs": [
    {
     "data": {
      "text/plain": [
       "['Yeong-ho', 'Việt', 'Peter', 'Nam', 'Mai', 'Mai', 'Long', 'Lan', 'Alex']"
      ]
     },
     "execution_count": 10,
     "metadata": {},
     "output_type": "execute_result"
    }
   ],
   "source": [
    "# Sắp xếp với phương thức sort() của list\n",
    "ds_học_viên.sort(reverse=True)\n",
    "ds_học_viên"
   ]
  },
  {
   "cell_type": "markdown",
   "id": "9571b477",
   "metadata": {},
   "source": [
    "**Sắp ngẫu nhiên**"
   ]
  },
  {
   "cell_type": "code",
   "execution_count": 8,
   "id": "97c78be7",
   "metadata": {},
   "outputs": [
    {
     "name": "stdout",
     "output_type": "stream",
     "text": [
      "['Yeong-ho', 'Alex', 'Việt', 'Long', 'Peter', 'Lan', 'Mai', 'Nam']\n"
     ]
    }
   ],
   "source": [
    "# Sắp ngẫu nhiên với hàm random.shuffle\n",
    "import random\n",
    "\n",
    "ds_học_viên = ['Nam', 'Lan', 'Long', 'Việt', 'Peter', \n",
    "               'Alex', 'Yeong-ho', 'Mai']\n",
    "random.shuffle(ds_học_viên)\n",
    "\n",
    "print(ds_học_viên) "
   ]
  },
  {
   "cell_type": "code",
   "execution_count": 21,
   "id": "329a0fc9",
   "metadata": {},
   "outputs": [
    {
     "name": "stdout",
     "output_type": "stream",
     "text": [
      "None\n",
      "['Nam', 'Yeong-ho', 'Lan', 'Long', 'Mai', 'Việt', 'Peter', 'Alex']\n"
     ]
    }
   ],
   "source": [
    "# Sắp ngẫu nhiên với hàm random.shuffle (giữ nguyên cách sắp xếp)\n",
    "import random\n",
    "\n",
    "ds_học_viên = ['Nam', 'Lan', 'Long', 'Việt', 'Peter', \n",
    "               'Alex', 'Yeong-ho', 'Mai']\n",
    "random.shuffle(ds_học_viên, lambda: 0.63)\n",
    "print(ds_học_viên) "
   ]
  },
  {
   "cell_type": "code",
   "execution_count": 22,
   "id": "4368882f",
   "metadata": {},
   "outputs": [
    {
     "name": "stdout",
     "output_type": "stream",
     "text": [
      "['Nam', 'Lan', 'Long', 'Việt', 'Peter', 'Alex', 'Yeong-ho', 'Mai']\n",
      "['Peter', 'Alex', 'Yeong-ho']\n"
     ]
    }
   ],
   "source": [
    "# Lấy ra một tập con với hàm random.sample()\n",
    "import random\n",
    "\n",
    "ds_học_viên = ['Nam', 'Lan', 'Long', 'Việt', 'Peter', \n",
    "               'Alex', 'Yeong-ho', 'Mai']\n",
    "ds_nhom1 = random.sample(ds_học_viên, k=3)\n",
    "\n",
    "print(ds_học_viên)\n",
    "print(ds_nhom1)"
   ]
  },
  {
   "cell_type": "markdown",
   "id": "996be4fe",
   "metadata": {},
   "source": [
    "### 1.5) Vòng lặp với enumerate"
   ]
  },
  {
   "cell_type": "code",
   "execution_count": 23,
   "id": "fcc75848",
   "metadata": {},
   "outputs": [
    {
     "name": "stdout",
     "output_type": "stream",
     "text": [
      "(0, 'Nam')\n",
      "(1, 'Lan')\n",
      "(2, 'Long')\n",
      "(3, 'Việt')\n",
      "(4, 'Peter')\n",
      "(5, 'Alex')\n",
      "(6, 'Yeong-ho')\n",
      "(7, 'Mai')\n"
     ]
    }
   ],
   "source": [
    "ds_học_viên = ['Nam', 'Lan', 'Long', 'Việt', 'Peter', \n",
    "               'Alex', 'Yeong-ho', 'Mai']\n",
    "a = enumerate(ds_học_viên)\n",
    "for item in a:\n",
    "    print(item)"
   ]
  },
  {
   "cell_type": "code",
   "execution_count": 87,
   "id": "a5dbf935",
   "metadata": {},
   "outputs": [
    {
     "name": "stdout",
     "output_type": "stream",
     "text": [
      "Học viên thứ  1  Tên là Nam\n",
      "Học viên thứ  2  Tên là Lan\n",
      "Học viên thứ  3  Tên là Long\n",
      "Học viên thứ  4  Tên là Việt\n",
      "Học viên thứ  5  Tên là Peter\n",
      "Học viên thứ  6  Tên là Alex\n",
      "Học viên thứ  7  Tên là Yeong-ho\n",
      "Học viên thứ  8  Tên là Mai\n"
     ]
    }
   ],
   "source": [
    "ds_học_viên = ['Nam', 'Lan', 'Long', 'Việt', 'Peter', \n",
    "               'Alex', 'Yeong-ho', 'Mai']\n",
    "for i, hv in enumerate(ds_học_viên):\n",
    "    print(\"Học viên thứ \", i+1, \" Tên là\", hv)"
   ]
  },
  {
   "cell_type": "code",
   "execution_count": 85,
   "id": "588f9e23",
   "metadata": {},
   "outputs": [
    {
     "name": "stdout",
     "output_type": "stream",
     "text": [
      "Học viên thứ  0  tên là Nam\n",
      "Học viên thứ  1  tên là Lan\n",
      "Học viên thứ  2  tên là Long\n",
      "Học viên thứ  3  tên là Việt\n",
      "Học viên thứ  4  tên là Peter\n",
      "Học viên thứ  5  tên là Alex\n",
      "Học viên thứ  6  tên là Yeong-ho\n",
      "Học viên thứ  7  tên là Mai\n"
     ]
    }
   ],
   "source": [
    "# Tương đương với\n",
    "ds_học_viên = ['Nam', 'Lan', 'Long', 'Việt', 'Peter', \n",
    "               'Alex', 'Yeong-ho', 'Mai']\n",
    "for i in range(len(ds_học_viên)):\n",
    "    print(\"Học viên thứ \", i, \" tên là\", ds_học_viên[i])"
   ]
  },
  {
   "cell_type": "markdown",
   "id": "f028b1b4",
   "metadata": {},
   "source": [
    "### 1.6. Ghép 2 list với hàm `zip()`"
   ]
  },
  {
   "cell_type": "code",
   "execution_count": 45,
   "id": "2503e108",
   "metadata": {},
   "outputs": [
    {
     "data": {
      "text/plain": [
       "<zip at 0x7f04f84a7f40>"
      ]
     },
     "execution_count": 45,
     "metadata": {},
     "output_type": "execute_result"
    }
   ],
   "source": [
    "L1 = [9,3,5,7]\n",
    "L2 = [4,2,8,6]\n",
    "zip(L1, L2)"
   ]
  },
  {
   "cell_type": "code",
   "execution_count": 46,
   "id": "3793a2ae",
   "metadata": {},
   "outputs": [
    {
     "name": "stdout",
     "output_type": "stream",
     "text": [
      "(9, 4)\n",
      "(3, 2)\n",
      "(5, 8)\n",
      "(7, 6)\n"
     ]
    }
   ],
   "source": [
    "for item in zip(L1,L2):\n",
    "    print(item)"
   ]
  },
  {
   "cell_type": "code",
   "execution_count": 47,
   "id": "ec5b8c48",
   "metadata": {},
   "outputs": [
    {
     "data": {
      "text/plain": [
       "[(9, 4), (3, 2), (5, 8), (7, 6)]"
      ]
     },
     "execution_count": 47,
     "metadata": {},
     "output_type": "execute_result"
    }
   ],
   "source": [
    "L = list(zip(L1,L2))\n",
    "L"
   ]
  },
  {
   "cell_type": "markdown",
   "id": "3a3bf432",
   "metadata": {},
   "source": [
    "**Thực hiện sắp xếp 2 list cùng nhau dựa trên thứ tự của 1 list**"
   ]
  },
  {
   "cell_type": "code",
   "execution_count": 49,
   "id": "0d3face5",
   "metadata": {},
   "outputs": [
    {
     "data": {
      "text/plain": [
       "[(3, 2), (5, 8), (7, 6), (9, 4)]"
      ]
     },
     "execution_count": 49,
     "metadata": {},
     "output_type": "execute_result"
    }
   ],
   "source": [
    "sorted(zip(L1,L2), key=lambda x: x[0])"
   ]
  },
  {
   "cell_type": "markdown",
   "id": "2110f3ab",
   "metadata": {},
   "source": [
    "# 2) Đọc ghi file cơ bản"
   ]
  },
  {
   "cell_type": "code",
   "execution_count": null,
   "id": "28eb1ebf",
   "metadata": {},
   "outputs": [],
   "source": [
    "# Kiểm tra thư mục đang làm việc\n",
    "%pwd"
   ]
  },
  {
   "cell_type": "markdown",
   "id": "6cca7dd9",
   "metadata": {},
   "source": [
    "### 2.1) .txt file"
   ]
  },
  {
   "cell_type": "code",
   "execution_count": 103,
   "id": "35ed5187",
   "metadata": {},
   "outputs": [],
   "source": [
    "ds_học_viên = ['Nam', 'Lan', 'Long', 'Việt', 'Peter', \n",
    "               'Alex', 'Yeong-ho', 'Mai']\n",
    "f = open(\"danh_sach_hv.txt\", mode='w', encoding='utf-8')\n",
    "for hv in ds_học_viên:\n",
    "    f.write(hv + \"\\n\")\n",
    "f.close()"
   ]
  },
  {
   "cell_type": "code",
   "execution_count": 102,
   "id": "680761ec",
   "metadata": {},
   "outputs": [],
   "source": [
    "f = open(\"danh_sach_hv.txt\", mode='w', encoding='utf-8')\n",
    "f.writelines(ds_học_viên)\n",
    "f.close()"
   ]
  },
  {
   "cell_type": "code",
   "execution_count": 108,
   "id": "0fc90d50",
   "metadata": {},
   "outputs": [
    {
     "name": "stdout",
     "output_type": "stream",
     "text": [
      "['Nam\\n', 'Lan\\n', 'Long\\n', 'Việt\\n', 'Peter\\n', 'Alex\\n', 'Yeong-ho\\n', 'Mai\\n']\n",
      "Nam\n",
      "Lan\n",
      "Long\n",
      "Việt\n",
      "Peter\n",
      "Alex\n",
      "Yeong-ho\n",
      "Mai\n"
     ]
    }
   ],
   "source": [
    "f = open(\"danh_sach_hv.txt\", mode='r')\n",
    "ds = f.readlines()\n",
    "f.close()\n",
    "\n",
    "print(ds)\n",
    "for hv in ds:\n",
    "    print(hv.strip())"
   ]
  },
  {
   "cell_type": "markdown",
   "id": "daf90144",
   "metadata": {},
   "source": [
    "### 2.2) .csv file"
   ]
  },
  {
   "cell_type": "code",
   "execution_count": 115,
   "id": "14aa8f5a",
   "metadata": {},
   "outputs": [],
   "source": [
    "import csv\n",
    "ds_học_viên = ['Nam', 'Lan', 'Long', 'Việt', 'Peter', \n",
    "               'Alex', 'Yeong-ho', 'Mai']\n",
    "with open('ds_hoc_vien.csv', 'w') as f:\n",
    "    data_writer = csv.writer(f)\n",
    "    data_writer.writerow(ds_học_viên)\n",
    "    data_writer.writerow(ds_học_viên[::-1])"
   ]
  },
  {
   "cell_type": "code",
   "execution_count": 123,
   "id": "92ec9e37",
   "metadata": {},
   "outputs": [
    {
     "name": "stdout",
     "output_type": "stream",
     "text": [
      "<class '_csv.reader'>\n",
      "['Tên', ' Tuổi']\n",
      "['Nam', ' 22']\n",
      "['Mai', ' 25']\n",
      "['Tùng', ' 32']\n",
      "['Long', ' 28']\n"
     ]
    }
   ],
   "source": [
    "import csv\n",
    "\n",
    "with open('hoc_vien.csv', 'r') as f:\n",
    "    data_reader = csv.reader(f)\n",
    "    print(type(data_reader))\n",
    "    for row in data_reader:\n",
    "        print(row)\n",
    "        # print(type(row), type(row[0]))"
   ]
  },
  {
   "cell_type": "code",
   "execution_count": 128,
   "id": "3e0bc97f",
   "metadata": {},
   "outputs": [
    {
     "name": "stdout",
     "output_type": "stream",
     "text": [
      "<class 'csv.DictReader'>\n",
      "{'Tên': 'Nam', ' Tuổi': ' 22'}\n",
      "<class 'dict'> <class 'str'> <class 'str'>\n",
      "{'Tên': 'Mai', ' Tuổi': ' 25'}\n",
      "<class 'dict'> <class 'str'> <class 'str'>\n",
      "{'Tên': 'Tùng', ' Tuổi': ' 32'}\n",
      "<class 'dict'> <class 'str'> <class 'str'>\n",
      "{'Tên': 'Long', ' Tuổi': ' 28'}\n",
      "<class 'dict'> <class 'str'> <class 'str'>\n"
     ]
    }
   ],
   "source": [
    "import csv\n",
    "\n",
    "with open('hoc_vien.csv', 'r') as f:\n",
    "    data_reader = csv.DictReader(f)\n",
    "    print(type(data_reader))\n",
    "    for row in data_reader:\n",
    "        print(row)\n",
    "        print(type(row), type(row['Tên']), type(row[' Tuổi']))"
   ]
  },
  {
   "cell_type": "code",
   "execution_count": 159,
   "id": "9c2d6c34",
   "metadata": {},
   "outputs": [
    {
     "name": "stdout",
     "output_type": "stream",
     "text": [
      "<class 'csv.DictReader'>\n",
      "{'Tên': 'Nam', 'Tuổi': '22'}\n",
      "{'Tên': 'MaiAnh', 'Tuổi': '25'}\n",
      "{'Tên': 'Tùng', 'Tuổi': '32'}\n",
      "{'Tên': 'Long', 'Tuổi': '28'}\n"
     ]
    }
   ],
   "source": [
    "import csv\n",
    "\n",
    "with open('hoc_vien.csv', 'r') as f:\n",
    "    data_reader = csv.DictReader(f, delimiter='|', \n",
    "                                 skipinitialspace=True, \n",
    "                                 escapechar='-', \n",
    "                                 quotechar='\"')\n",
    "    print(type(data_reader))\n",
    "    for row in data_reader:\n",
    "        print(row)"
   ]
  },
  {
   "cell_type": "markdown",
   "id": "e2598642",
   "metadata": {},
   "source": [
    "### 2.3) Excel file"
   ]
  },
  {
   "cell_type": "code",
   "execution_count": 111,
   "id": "3fb899c4",
   "metadata": {},
   "outputs": [
    {
     "name": "stdout",
     "output_type": "stream",
     "text": [
      "2.0.1\n",
      "1.4.4\n"
     ]
    }
   ],
   "source": [
    "import xlrd\n",
    "print(xlrd.__version__)\n",
    "import xlsxwriter\n",
    "print(xlsxwriter.__version__)"
   ]
  },
  {
   "cell_type": "markdown",
   "id": "a1e36a33",
   "metadata": {},
   "source": [
    "# 3) Một số thống kê cơ bản"
   ]
  },
  {
   "cell_type": "code",
   "execution_count": 2,
   "id": "c46926d6",
   "metadata": {},
   "outputs": [
    {
     "name": "stdout",
     "output_type": "stream",
     "text": [
      "Số người chọn Hà Nội: 2\n",
      "Số người chọn Sài Gòn: 1\n",
      "Số người chọn Đà Nẵng: 4\n",
      "Số người chọn Đà Lạt: 5\n",
      "Số người chọn Quy Nhơn: 4\n"
     ]
    }
   ],
   "source": [
    "# 3.1. Độ đo tần số: \n",
    "# Hà Nội, Sài Gòn, Đà Nẵng, Đà Lạt, Quy Nhơn\n",
    "ds_du_lich = ['HN', 'SG', 'ĐN', 'QN', 'HN', \n",
    "              'ĐL', 'ĐL', 'ĐN', 'QN', 'ĐL', \n",
    "              'QN', 'ĐN', 'ĐN', 'ĐL', 'QN', 'ĐL']\n",
    "count_HN = 0\n",
    "count_SG = 0\n",
    "count_ĐN = 0\n",
    "count_ĐL = 0\n",
    "count_QN = 0\n",
    "\n",
    "for tp in ds_du_lich:\n",
    "    if tp == 'HN': count_HN += 1\n",
    "    if tp == 'SG': count_SG += 1\n",
    "    if tp == 'ĐN': count_ĐN += 1\n",
    "    if tp == 'ĐL': count_ĐL += 1\n",
    "    if tp == 'QN': count_QN += 1\n",
    "\n",
    "print(\"Số người chọn Hà Nội:\", count_HN)\n",
    "print(\"Số người chọn Sài Gòn:\", count_SG)\n",
    "print(\"Số người chọn Đà Nẵng:\", count_ĐN)\n",
    "print(\"Số người chọn Đà Lạt:\", count_ĐL)\n",
    "print(\"Số người chọn Quy Nhơn:\", count_QN)"
   ]
  },
  {
   "cell_type": "code",
   "execution_count": 6,
   "id": "a35d8e4d",
   "metadata": {},
   "outputs": [
    {
     "name": "stdout",
     "output_type": "stream",
     "text": [
      "16\n",
      "12.5\n"
     ]
    }
   ],
   "source": [
    "# Tính phần trăm\n",
    "count_ds = len(ds_du_lich)\n",
    "print(count_ds)\n",
    "pct_HN = 100*count_HN/count_ds\n",
    "print(pct_HN)"
   ]
  },
  {
   "cell_type": "code",
   "execution_count": 50,
   "id": "a4bf828b",
   "metadata": {},
   "outputs": [
    {
     "name": "stdout",
     "output_type": "stream",
     "text": [
      "23\n",
      "24.70\n",
      "25\n"
     ]
    }
   ],
   "source": [
    "# 3.2. Độ đo về khuynh hướng tập trung\n",
    "ds_tuoi_hv = [20,22,23,25,27,34, 23, 21, 19, 24, 25, 27, 29, 28, 26, 29, 25, 24,20,22,23,25,27]\n",
    "print(len(ds_tuoi_hv))\n",
    "mean = sum(ds_tuoi_hv)/len(ds_tuoi_hv)\n",
    "print(\"%.2f\"%(mean))\n",
    "sorted_ds_tuoi_hv = sorted(ds_tuoi_hv)\n",
    "median = sorted_ds_tuoi_hv[11]\n",
    "print(median)"
   ]
  },
  {
   "cell_type": "code",
   "execution_count": 51,
   "id": "1694b9d5",
   "metadata": {},
   "outputs": [
    {
     "name": "stdout",
     "output_type": "stream",
     "text": [
      "[19, 20, 21, 22, 23, 24, 25, 26, 27, 28, 29, 34]\n",
      "[1, 2, 1, 2, 3, 2, 4, 1, 3, 1, 2, 1]\n",
      "4\n",
      "6\n",
      "25\n"
     ]
    }
   ],
   "source": [
    "ds_so_tuoi = sorted(set(sorted_ds_tuoi_hv))\n",
    "print(ds_so_tuoi)\n",
    "ds_count = []\n",
    "for i in range(len(ds_so_tuoi)):\n",
    "    so_tuoi = ds_so_tuoi[i]\n",
    "    count = 0\n",
    "    for j in range(len(ds_tuoi_hv)):\n",
    "        tuoi_hv = ds_tuoi_hv[j]\n",
    "        if so_tuoi == tuoi_hv:\n",
    "            count += 1\n",
    "    ds_count.append(count)\n",
    "print(ds_count)\n",
    "max_count = max(ds_count)\n",
    "print(max_count)\n",
    "\n",
    "max_count_index = ds_count.index(max_count)\n",
    "print(max_count_index)\n",
    "\n",
    "mode = ds_so_tuoi[max_count_index]\n",
    "print(mode)"
   ]
  },
  {
   "cell_type": "markdown",
   "id": "3559e851",
   "metadata": {},
   "source": [
    "**Nếu tổng số items của danh sách là số chẵn thì tính median thế nào?**"
   ]
  }
 ],
 "metadata": {
  "kernelspec": {
   "display_name": "Python 3 (ipykernel)",
   "language": "python",
   "name": "python3"
  },
  "language_info": {
   "codemirror_mode": {
    "name": "ipython",
    "version": 3
   },
   "file_extension": ".py",
   "mimetype": "text/x-python",
   "name": "python",
   "nbconvert_exporter": "python",
   "pygments_lexer": "ipython3",
   "version": "3.9.7"
  }
 },
 "nbformat": 4,
 "nbformat_minor": 5
}
