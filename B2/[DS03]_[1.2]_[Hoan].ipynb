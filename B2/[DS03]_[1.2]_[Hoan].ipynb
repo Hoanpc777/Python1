{
 "cells": [
  {
   "cell_type": "markdown",
   "metadata": {},
   "source": [
    "1.1. Chỉ lấy các phần tử ở vị trí chẵn trong chuỗi (0,2,4,6...,20)"
   ]
  },
  {
   "cell_type": "code",
   "execution_count": 2,
   "metadata": {},
   "outputs": [
    {
     "name": "stdout",
     "output_type": "stream",
     "text": [
      "[2, 6, 10, 14, 18]\n"
     ]
    }
   ],
   "source": [
    "#Create a new list\n",
    "ls = []\n",
    "ls1 = []\n",
    "#Create even list\n",
    "for i in range(0,21):\n",
    "    if i%2 ==0:\n",
    "        ls.append(i)\n",
    "#Create a list that has even index\n",
    "for i,j in enumerate(ls,1):\n",
    "    if i%2==0:\n",
    "        ls1.append(j)\n",
    "print(ls1)"
   ]
  },
  {
   "cell_type": "markdown",
   "metadata": {},
   "source": [
    "1.2. Chỉ lấy các phần tử ở vị trí lẻ trong chuỗi (1,3,5...,19)"
   ]
  },
  {
   "cell_type": "code",
   "execution_count": 3,
   "metadata": {},
   "outputs": [
    {
     "name": "stdout",
     "output_type": "stream",
     "text": [
      "[1, 5, 9, 13, 17]\n"
     ]
    }
   ],
   "source": [
    "#Create a new list\n",
    "ls = []\n",
    "ls1 = []\n",
    "#Create odd list\n",
    "for i in range(0,21):\n",
    "    if i%2 ==1:\n",
    "        ls.append(i)\n",
    "#Create a list that has odd index\n",
    "for i,j in enumerate(ls,1):\n",
    "    if i%2==1:\n",
    "        ls1.append(j)\n",
    "print(ls1)"
   ]
  },
  {
   "cell_type": "markdown",
   "metadata": {},
   "source": [
    "2. Thực hiện lại các bài tập trong bài trước và lưu kết quả vào file text"
   ]
  },
  {
   "cell_type": "markdown",
   "metadata": {},
   "source": [
    "3.1. Đọc file “example_bai_1.2.csv” và tính tần số & tần suất khách hàng mua ở Tp HCM, Hà Nội, Đà Nẵng"
   ]
  },
  {
   "cell_type": "code",
   "execution_count": 4,
   "metadata": {},
   "outputs": [
    {
     "name": "stdout",
     "output_type": "stream",
     "text": [
      "Khu vực người Hà Nội là 274 người, tỷ lệ là 27.40%\n",
      "Khu vực người TP HCM là 490 người, tỷ lệ là 49.00%\n",
      "Khu vực người Đà Nẵng là 236 người, tỷ lệ là 23.60%\n"
     ]
    }
   ],
   "source": [
    "#Check directory\n",
    "%pwd\n",
    "#import module\n",
    "import csv, os\n",
    "cwd = os.chdir(r'C:\\Users\\Hoanpc.TSTDESK01\\Desktop\\Python\\B2')\n",
    "# csv file name\n",
    "filename = \"example_bai_1.2.csv\"\n",
    "# initializing the titles and rows list\n",
    "title, rows, area, area_1 = [],[],[],[]\n",
    "KV1,KV2,KV3 = 0,0,0\n",
    "with open(filename, 'r',encoding=\"utf8\") as f:\n",
    "    #creating a csv reader obj\n",
    "    csvreader = csv.reader(f)\n",
    "    # extracting field names through first row\n",
    "    title = next(csvreader)\n",
    "    # extracting each data row one by one\n",
    "    for row in csvreader:\n",
    "        rows.append(row)\n",
    "#Create list Locations\n",
    "for i in rows:\n",
    "    j = [i[0]]\n",
    "    area.append(j)\n",
    "#Unique list locations\n",
    "for i in area:\n",
    "    if i not in area_1:\n",
    "        area_1.append(i)\n",
    "#Count elements for each area(location)\n",
    "for i in area:\n",
    "    if i == area_1[0]: KV1+=1\n",
    "    if i == area_1[1]: KV2+=1\n",
    "    if i == area_1[2]: KV3+=1\n",
    "#Count total numbers of elements\n",
    "Total = len(area)\n",
    "#Caculat ratio index\n",
    "pct1 = KV1/Total*100\n",
    "pct2 = KV2/Total*100\n",
    "pct3 = KV3/Total*100\n",
    "print(f'Khu vực người {area_1[0][0]} là {KV1} người, tỷ lệ là {pct1:.2f}%')\n",
    "print(f'Khu vực người {area_1[1][0]} là {KV2} người, tỷ lệ là {pct2:.2f}%')\n",
    "print(f'Khu vực người {area_1[2][0]} là {KV3} người, tỷ lệ là {pct3:.2f}%')"
   ]
  },
  {
   "cell_type": "markdown",
   "metadata": {},
   "source": [
    "3.2. Đọc file “example_bai_1.2.csv” và tính tần số & tần suất khách hàng mua là Nam/Nữ"
   ]
  },
  {
   "cell_type": "code",
   "execution_count": 6,
   "metadata": {},
   "outputs": [
    {
     "name": "stdout",
     "output_type": "stream",
     "text": [
      "Số ['Nữ'] là 501, tỷ lệ là 50.10%\n",
      "Số ['Nam'] là 499, tỷ lệ là 49.90%\n"
     ]
    }
   ],
   "source": [
    "#Create list and distinct list of sex (maybe including 'gay' in data)\n",
    "sex, sex_1, SL1, SL2= [],[],0,0\n",
    "#Create sex list\n",
    "for i in rows:\n",
    "    j = [i[1]]\n",
    "    sex.append(j)\n",
    "#Create unique list\n",
    "for i in sex:\n",
    "    if i not in sex_1:\n",
    "        sex_1.append(i)\n",
    "# Count number of each element\n",
    "for i in sex:\n",
    "    if i == sex_1[0]: SL1+=1\n",
    "    if i == sex_1[1]: SL2+=1\n",
    "#Calculate ratio index\n",
    "S1 = SL1/Total*100\n",
    "S2 = SL2/Total*100\n",
    "print(f'Số {sex_1[0]} là {SL1}, tỷ lệ là {S1:.2f}%')\n",
    "print(f'Số {sex_1[1]} là {SL2}, tỷ lệ là {S2:.2f}%')"
   ]
  },
  {
   "cell_type": "markdown",
   "metadata": {},
   "source": [
    "3.3.Đọc file “example_bai_1.2.csv” và tính mean, median của Tổng đơn và Rating"
   ]
  },
  {
   "cell_type": "code",
   "execution_count": 25,
   "metadata": {},
   "outputs": [
    {
     "name": "stdout",
     "output_type": "stream",
     "text": [
      "Mean của tổng đơn là 322.97 và Median là 253.848\n"
     ]
    }
   ],
   "source": [
    "#New object\n",
    "tong_don,tong_don_1,tong_don_2,gt = [],[],[],0\n",
    "#Create list tổng đơn\n",
    "for i in rows:\n",
    "    #Get list tổng đơn\n",
    "    j = [i[2]]\n",
    "    #Convert list type of string of tổng đơn to list type of number of tổng đơn\n",
    "    tong_don.append(float(j[0]))\n",
    "#Calculate mean\n",
    "gt = sum(tong_don)\n",
    "Mean_Tong_don = gt/Total\n",
    "#Sorted\n",
    "tong_don=sorted(tong_don,reverse=False)\n",
    "#Find if total number is even or odd then how to find the median in this list\n",
    "if Total%2==0:\n",
    "    for i in enumerate(tong_don,1):\n",
    "        tong_don_1.append(i)\n",
    "        # print(list(tong_don_2[len(i)/2])[1])\n",
    "    Median_tong_don = ((tong_don_1[int(Total/2)-1][1])+(tong_don_1[int(Total/2)][1]))/2\n",
    "if Total%2!=0:\n",
    "    for i in enumerate(tong_don,1):\n",
    "        tong_don_1.append(i)\n",
    "        # print(list(tong_don_2[len(i)/2])[1])\n",
    "    Median_tong_don = tong_don_1[Total//2][1]\n",
    "print(f'Mean của tổng đơn là {Mean_Tong_don:.2f} và Median là {Median_tong_don}')"
   ]
  },
  {
   "cell_type": "code",
   "execution_count": null,
   "metadata": {},
   "outputs": [],
   "source": []
  }
 ],
 "metadata": {
  "interpreter": {
   "hash": "9793e026600ea3138d2b4af1f570ba87428b67ac3db0391f1962ee6a9c241852"
  },
  "kernelspec": {
   "display_name": "Python 3.9.6 64-bit",
   "language": "python",
   "name": "python3"
  },
  "language_info": {
   "codemirror_mode": {
    "name": "ipython",
    "version": 3
   },
   "file_extension": ".py",
   "mimetype": "text/x-python",
   "name": "python",
   "nbconvert_exporter": "python",
   "pygments_lexer": "ipython3",
   "version": "3.9.6"
  },
  "orig_nbformat": 4
 },
 "nbformat": 4,
 "nbformat_minor": 2
}
