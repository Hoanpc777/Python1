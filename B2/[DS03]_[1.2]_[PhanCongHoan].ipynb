{
 "cells": [
  {
   "cell_type": "markdown",
   "metadata": {},
   "source": [
    "1.1. Chỉ lấy các phần tử ở vị trí chẵn trong chuỗi (0,2,4,6...,20)"
   ]
  },
  {
   "cell_type": "code",
   "execution_count": 1,
   "metadata": {},
   "outputs": [
    {
     "name": "stdout",
     "output_type": "stream",
     "text": [
      "[2, 6, 10, 14, 18]\n"
     ]
    }
   ],
   "source": [
    "#Create a new list\n",
    "ls = range(0,20,2)\n",
    "ls1 = []\n",
    "#Create a list that has even index\n",
    "for i,j in enumerate(ls,1):\n",
    "    if i%2==0:\n",
    "        ls1.append(j)\n",
    "print(ls1)"
   ]
  },
  {
   "cell_type": "markdown",
   "metadata": {},
   "source": [
    "1.2. Chỉ lấy các phần tử ở vị trí lẻ trong chuỗi (1,3,5...,19)"
   ]
  },
  {
   "cell_type": "code",
   "execution_count": 2,
   "metadata": {},
   "outputs": [
    {
     "name": "stdout",
     "output_type": "stream",
     "text": [
      "[1, 5, 9, 13, 17]\n"
     ]
    }
   ],
   "source": [
    "#Create a new list\n",
    "ls = range(1,19,2)\n",
    "ls1 = []\n",
    "#Create a list that has odd index\n",
    "for i,j in enumerate(ls,1):\n",
    "    if i%2==1:\n",
    "        ls1.append(j)\n",
    "print(ls1)"
   ]
  },
  {
   "cell_type": "markdown",
   "metadata": {},
   "source": [
    "2. Thực hiện lại các bài tập trong bài trước và lưu kết quả vào file text"
   ]
  },
  {
   "cell_type": "code",
   "execution_count": 3,
   "metadata": {},
   "outputs": [],
   "source": [
    "#B1.1\n",
    "gia_theo_ngay,a,b = [10.1, 9.5, 10.7, 10.8, 10.6, 10.0, 10.2, 9.5],[],[]\n",
    "for i in range(1,len(gia_theo_ngay)):\n",
    "    ratio = (gia_theo_ngay[i]/gia_theo_ngay[i-1]-1)*100\n",
    "    if ratio >= 7: a= [gia_theo_ngay[i],'Bán']\n",
    "    elif ratio<=-6: a= [gia_theo_ngay[i],'Mua']\n",
    "    else: a= [gia_theo_ngay[i],'Giữ']\n",
    "    b.append(a)\n",
    "    \n",
    "#B1.2\n",
    "def tien_bh_pit(luong,phu_cap):\n",
    "    if luong>0 and (luong+phu_cap)<=11000000 and phu_cap>0:\n",
    "        BHXH = (luong+phu_cap)*10.5/100\n",
    "        PIT = 0\n",
    "    elif (luong+phu_cap) > 11000000 and phu_cap>0:\n",
    "        BHXH = (luong+phu_cap)*10.5/100\n",
    "        PIT = (luong+phu_cap-11000000)*5/100\n",
    "    else: BHXH = 0\n",
    "    return f'Số tiền BHXH phải nộp là {BHXH:.0f} và số tiền thuế TNCN phải nộp là {PIT:.0f}'\n",
    "# Create and saving in text file\n",
    "file = open('hoanpc.txt', 'w+', encoding=\"utf-8\")\n",
    "file.writelines(str(b)+\"\\n\"+tien_bh_pit(12000000,100000))\n",
    "file.close()"
   ]
  },
  {
   "cell_type": "markdown",
   "metadata": {},
   "source": [
    "3.1. Đọc file “example_bai_1.2.csv” và tính tần số & tần suất khách hàng mua ở Tp HCM, Hà Nội, Đà Nẵng"
   ]
  },
  {
   "cell_type": "code",
   "execution_count": 4,
   "metadata": {},
   "outputs": [
    {
     "name": "stdout",
     "output_type": "stream",
     "text": [
      "Khu vực người TP HCM là 490 người, tỷ lệ là 49.00%\n",
      "Khu vực người Hà Nội là 274 người, tỷ lệ là 27.40%\n",
      "Khu vực người Đà Nẵng là 236 người, tỷ lệ là 23.60%\n"
     ]
    }
   ],
   "source": [
    "#Check directory\n",
    "%pwd\n",
    "#import module\n",
    "import csv, os\n",
    "cwd = os.chdir(r'C:\\Users\\Hoanpc.TSTDESK01\\Desktop\\Python\\B2')\n",
    "# csv file name\n",
    "filename = \"example_bai_1.2.csv\"\n",
    "# initializing the titles and rows list\n",
    "title, rows, area, area_1 = [],[],[],[]\n",
    "KV1,KV2,KV3 = 0,0,0\n",
    "with open(filename, 'r',encoding=\"utf8\") as f:\n",
    "    #creating a csv reader obj\n",
    "    csvreader = csv.reader(f)\n",
    "    # extracting field names through first row\n",
    "    title = next(csvreader)\n",
    "    # extracting each data row one by one\n",
    "    for row in csvreader:\n",
    "        rows.append(row)\n",
    "#Create list Locations\n",
    "area = [i[0] for i in rows]\n",
    "area_1 = list(set(area))\n",
    "#Count elements for each area(location)\n",
    "for i in area:\n",
    "    if i == area_1[0]: KV1+=1\n",
    "    if i == area_1[1]: KV2+=1\n",
    "    if i == area_1[2]: KV3+=1\n",
    "#Count total numbers of elements\n",
    "Total = len(area)\n",
    "#Caculat ratio index\n",
    "pct1 = KV1/Total*100\n",
    "pct2 = KV2/Total*100\n",
    "pct3 = KV3/Total*100\n",
    "print(f'Khu vực người {area_1[0]} là {KV1} người, tỷ lệ là {pct1:.2f}%')\n",
    "print(f'Khu vực người {area_1[1]} là {KV2} người, tỷ lệ là {pct2:.2f}%')\n",
    "print(f'Khu vực người {area_1[2]} là {KV3} người, tỷ lệ là {pct3:.2f}%')"
   ]
  },
  {
   "cell_type": "markdown",
   "metadata": {},
   "source": [
    "3.2. Đọc file “example_bai_1.2.csv” và tính tần số & tần suất khách hàng mua là Nam/Nữ"
   ]
  },
  {
   "cell_type": "code",
   "execution_count": 5,
   "metadata": {},
   "outputs": [
    {
     "name": "stdout",
     "output_type": "stream",
     "text": [
      "Số Nữ là 501, tỷ lệ là 50.10%\n",
      "Số Nam là 499, tỷ lệ là 49.90%\n"
     ]
    }
   ],
   "source": [
    "#Create list and distinct list of sex (maybe including 'gay' in data)\n",
    "sex, sex_1, SL1, SL2= [],[],0,0\n",
    "#Create sex list\n",
    "sex = [i[1] for i in rows]\n",
    "#Create unique list\n",
    "sex_1 = list(set(sex))\n",
    "# Count number of each element\n",
    "for i in sex:\n",
    "    if i == sex_1[0]: SL1+=1\n",
    "    if i == sex_1[1]: SL2+=1\n",
    "#Calculate ratio index\n",
    "S1 = SL1/Total*100\n",
    "S2 = SL2/Total*100\n",
    "print(f'Số {sex_1[0]} là {SL1}, tỷ lệ là {S1:.2f}%')\n",
    "print(f'Số {sex_1[1]} là {SL2}, tỷ lệ là {S2:.2f}%')"
   ]
  },
  {
   "cell_type": "markdown",
   "metadata": {},
   "source": [
    "3.3.Đọc file “example_bai_1.2.csv” và tính mean, median của Tổng đơn và Rating"
   ]
  },
  {
   "cell_type": "code",
   "execution_count": 6,
   "metadata": {},
   "outputs": [
    {
     "name": "stdout",
     "output_type": "stream",
     "text": [
      "Mean của tổng đơn là 3.85 và Median là 3.0\n"
     ]
    }
   ],
   "source": [
    "#New object\n",
    "tong_don,tong_don_1,tong_don_2,gt = [],[],[],0\n",
    "#Create list tổng đơn\n",
    "tong_don = [float(i[2][0]) for i in rows]\n",
    "#Calculate mean\n",
    "gt = sum(tong_don)\n",
    "Mean_Tong_don = gt/Total\n",
    "#Sorted\n",
    "tong_don=sorted(tong_don,reverse=False)\n",
    "#Find if total number is even or odd then how to find the median in this list\n",
    "if Total%2==0:\n",
    "    for i in enumerate(tong_don,1):\n",
    "        tong_don_1.append(i)\n",
    "    Median_tong_don = ((tong_don_1[int(Total/2)-1][1])+(tong_don_1[int(Total/2)][1]))/2\n",
    "if Total%2!=0:\n",
    "    for i in enumerate(tong_don,1):\n",
    "        tong_don_1.append(i)\n",
    "    Median_tong_don = tong_don_1[Total//2][1]\n",
    "print(f'Mean của tổng đơn là {Mean_Tong_don:.2f} và Median là {Median_tong_don}')"
   ]
  },
  {
   "cell_type": "code",
   "execution_count": 7,
   "metadata": {},
   "outputs": [
    {
     "name": "stdout",
     "output_type": "stream",
     "text": [
      "Mean của rating là 6.49 và Median là 6.0\n"
     ]
    }
   ],
   "source": [
    "#New object\n",
    "rating,rating_1,rating_2,gt = [],[],[],0\n",
    "#Create list rating\n",
    "rating = [float(i[3][0]) for i in rows]\n",
    "#Calculate mean\n",
    "gt = sum(rating)\n",
    "Mean_rating = gt/Total\n",
    "#Sorted\n",
    "rating=sorted(rating,reverse=False)\n",
    "#Find if total number is even or odd then how to find the median in this list\n",
    "if Total%2==0:\n",
    "    for i in enumerate(rating,1):\n",
    "        rating_1.append(i)\n",
    "    Median_rating = ((rating_1[int(Total/2)-1][1])+(rating_1[int(Total/2)][1]))/2\n",
    "if Total%2!=0:\n",
    "    for i in enumerate(rating,1):\n",
    "        rating_1.append(i)\n",
    "    Median_rating = rating_1[Total//2][1]\n",
    "print(f'Mean của rating là {Mean_rating:.2f} và Median là {Median_rating}')"
   ]
  }
 ],
 "metadata": {
  "interpreter": {
   "hash": "9793e026600ea3138d2b4af1f570ba87428b67ac3db0391f1962ee6a9c241852"
  },
  "kernelspec": {
   "display_name": "Python 3.9.6 64-bit",
   "language": "python",
   "name": "python3"
  },
  "language_info": {
   "codemirror_mode": {
    "name": "ipython",
    "version": 3
   },
   "file_extension": ".py",
   "mimetype": "text/x-python",
   "name": "python",
   "nbconvert_exporter": "python",
   "pygments_lexer": "ipython3",
   "version": "3.9.6"
  },
  "orig_nbformat": 4
 },
 "nbformat": 4,
 "nbformat_minor": 2
}
