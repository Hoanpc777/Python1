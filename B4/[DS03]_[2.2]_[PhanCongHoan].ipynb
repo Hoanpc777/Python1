{
 "cells": [
  {
   "cell_type": "markdown",
   "metadata": {},
   "source": [
    "1. Sử dụng dữ liệu bán hàng 'supermarket_sales_vn.csv':\n",
    "Vẽ biểu đồ cột, pie về tần số, tuần suất đơn hàng theo\n",
    "− Địa phương (HN, SG, ĐN)\n",
    "− Giới tính"
   ]
  },
  {
   "cell_type": "code",
   "execution_count": 4,
   "metadata": {},
   "outputs": [
    {
     "data": {
      "image/png": "[encoded data removed]",
      "text/plain": [
       "<Figure size 432x288 with 1 Axes>"
      ]
     },
     "metadata": {
      "needs_background": "light"
     },
     "output_type": "display_data"
    }
   ],
   "source": [
    "#Check directory\n",
    "%pwd\n",
    "#import module\n",
    "import csv, os\n",
    "import matplotlib.pyplot as plt\n",
    "data =[]\n",
    "with open('data/supermarket_sales_vn.csv', 'r',encoding=\"utf8\") as f:\n",
    "    fcsv = csv.reader(f)\n",
    "    next(fcsv)\n",
    "    for i in fcsv:\n",
    "        data.append(i)\n",
    "area = [i[1]for i in data]\n",
    "sex = [i[3]for i in data]\n",
    "area_obj = {i: [area.count(i), 100*area.count(i)/len(area)]for i in set(area)}\n",
    "sex_obj = {i: [sex.count(i), 100*sex.count(i)/len(sex)]for i in set(sex)}\n",
    "#Create fig\n",
    "fig = plt.figure() \n",
    "areas = list(area_obj.keys())\n",
    "area_tanso = [i[0]for i in list(area_obj.values())]\n",
    "area_tansuat = [i[1]for i in list(area_obj.values())]\n",
    "plt.bar(areas, area_tanso, color ='maroon',\n",
    "        width = 0.4)\n",
    " \n",
    "plt.xlabel(\"Khu vực\")\n",
    "plt.ylabel(\"Tần số\")\n",
    "plt.title(\"Tần số theo địa phương\")\n",
    "plt.show()\n",
    "\n",
    "    "
   ]
  },
  {
   "cell_type": "code",
   "execution_count": null,
   "metadata": {},
   "outputs": [],
   "source": []
  }
 ],
 "metadata": {
  "interpreter": {
   "hash": "7689402e3d376ceec3c78f164079f885590863b4f463a2db9394fb12093f7c4f"
  },
  "kernelspec": {
   "display_name": "Python 3.10.1 64-bit",
   "language": "python",
   "name": "python3"
  },
  "language_info": {
   "codemirror_mode": {
    "name": "ipython",
    "version": 3
   },
   "file_extension": ".py",
   "mimetype": "text/x-python",
   "name": "python",
   "nbconvert_exporter": "python",
   "pygments_lexer": "ipython3",
   "version": "3.10.1"
  },
  "orig_nbformat": 4
 },
 "nbformat": 4,
 "nbformat_minor": 2
}
