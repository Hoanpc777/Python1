{
 "cells": [
  {
   "cell_type": "markdown",
   "id": "2a491e26",
   "metadata": {},
   "source": [
    "# Phần 1: Giới thiệu Numpy"
   ]
  },
  {
   "cell_type": "markdown",
   "id": "eb724dcb",
   "metadata": {},
   "source": [
    "## 1.1. Cơ bản về Numpy"
   ]
  },
  {
   "cell_type": "code",
   "execution_count": 1,
   "id": "0e77ddbd",
   "metadata": {},
   "outputs": [
    {
     "name": "stdout",
     "output_type": "stream",
     "text": [
      "1.19.5\n"
     ]
    }
   ],
   "source": [
    "import numpy as np\n",
    "print(np.__version__)\n",
    "np.set_printoptions(precision=3) # chỉ in 3 số thập phân\n",
    "np.set_printoptions(threshold=20)# chỉ in tối đa 20 phần tử\n",
    "np.set_printoptions(suppress=True) # không dùng scientific notation"
   ]
  },
  {
   "cell_type": "code",
   "execution_count": 41,
   "id": "380a4a2e",
   "metadata": {},
   "outputs": [
    {
     "name": "stdout",
     "output_type": "stream",
     "text": [
      "1.123456789\n"
     ]
    }
   ],
   "source": [
    "np.set_printoptions(precision=3, suppress=True)\n",
    "print(np.float(1.123456789))"
   ]
  },
  {
   "cell_type": "code",
   "execution_count": 48,
   "id": "d26d8305",
   "metadata": {},
   "outputs": [
    {
     "name": "stdout",
     "output_type": "stream",
     "text": [
      "[0.0000001]\n"
     ]
    }
   ],
   "source": [
    "np.set_printoptions(precision=7, suppress=True)\n",
    "print(np.array([0.000000123456789]))"
   ]
  },
  {
   "cell_type": "markdown",
   "id": "20dd6ec1",
   "metadata": {},
   "source": [
    "## 1.2. Tạo đối tượng dữ liệu trong Numpy "
   ]
  },
  {
   "cell_type": "code",
   "execution_count": 2,
   "id": "feab5de6",
   "metadata": {},
   "outputs": [
    {
     "name": "stdout",
     "output_type": "stream",
     "text": [
      "[1, 2, 3]\n",
      "[1 2 3]\n",
      "[1, 2, 3]\n"
     ]
    }
   ],
   "source": [
    "# Khởi tạo mảng 1 chiều\n",
    "a = [1,2,3]\n",
    "print(a)\n",
    "\n",
    "b = np.array([1,2,3])\n",
    "print(b)\n",
    "\n",
    "c = list(b)\n",
    "print(c)"
   ]
  },
  {
   "cell_type": "code",
   "execution_count": 5,
   "id": "5f4a80dd",
   "metadata": {},
   "outputs": [
    {
     "name": "stdout",
     "output_type": "stream",
     "text": [
      "[[4 5 6]\n",
      " [7 8 9]]\n"
     ]
    }
   ],
   "source": [
    "# Khởi tạo mảng 2 chiều\n",
    "d = np.array([[4,5,6],[7,8,9]])\n",
    "print(d)"
   ]
  },
  {
   "cell_type": "code",
   "execution_count": 6,
   "id": "ed14751d",
   "metadata": {},
   "outputs": [
    {
     "name": "stdout",
     "output_type": "stream",
     "text": [
      "[[0. 0. 0.]\n",
      " [0. 0. 0.]]\n",
      "<class 'numpy.ndarray'>\n",
      "float64\n"
     ]
    }
   ],
   "source": [
    "# Khởi tạo 1 mảng rỗng\n",
    "a = np.ndarray(shape=[2,3])\n",
    "print(a)\n",
    "print(type(a))\n",
    "print(a.dtype)"
   ]
  },
  {
   "cell_type": "code",
   "execution_count": 4,
   "id": "88772ad8",
   "metadata": {},
   "outputs": [
    {
     "name": "stdout",
     "output_type": "stream",
     "text": [
      "[[4. 5. 6.]\n",
      " [7. 8. 9.]]\n",
      "<class 'numpy.ndarray'>\n",
      "float32\n"
     ]
    }
   ],
   "source": [
    "# Khởi tạo bằng np.array và thực hiện ép kiểu\n",
    "b = np.array([[4,5,6],[7,8,9]]).astype(np.float32)\n",
    "print(b)\n",
    "print(type(b))\n",
    "print(b.dtype)"
   ]
  },
  {
   "cell_type": "code",
   "execution_count": 7,
   "id": "dd69842b",
   "metadata": {},
   "outputs": [
    {
     "name": "stdout",
     "output_type": "stream",
     "text": [
      "[[4. 5. 6.]\n",
      " [7. 8. 9.]]\n",
      "<class 'numpy.ndarray'>\n",
      "float32\n"
     ]
    }
   ],
   "source": [
    "# Khởi tạo bằng np.asarray và thực hiện ép kiểu\n",
    "b = np.asarray([[4,5,6],[7,8,9]]).astype(np.float32)\n",
    "print(b)\n",
    "print(type(b))\n",
    "print(b.dtype)"
   ]
  },
  {
   "cell_type": "code",
   "execution_count": 8,
   "id": "62a4574d",
   "metadata": {},
   "outputs": [
    {
     "name": "stdout",
     "output_type": "stream",
     "text": [
      "True\n",
      "False\n"
     ]
    }
   ],
   "source": [
    "# So sánh khởi tạo bằng asarray và array \n",
    "a = np.array([1,2,3])\n",
    "b = np.asarray(a)\n",
    "c = np.array(a)\n",
    "print(b is a)\n",
    "print(c is a)"
   ]
  },
  {
   "cell_type": "code",
   "execution_count": 11,
   "id": "89fc8364",
   "metadata": {},
   "outputs": [
    {
     "name": "stdout",
     "output_type": "stream",
     "text": [
      "[5 2 3]\n",
      "[5 2 3]\n",
      "[1 2 7]\n"
     ]
    }
   ],
   "source": [
    "b[0] = 5\n",
    "c[2] = 7\n",
    "print(a)\n",
    "print(b)\n",
    "print(c)"
   ]
  },
  {
   "cell_type": "markdown",
   "id": "f2ea77f9",
   "metadata": {},
   "source": [
    "### Một số hàm tạo ndarray đặc biệt"
   ]
  },
  {
   "cell_type": "code",
   "execution_count": 12,
   "id": "ce8f17f4",
   "metadata": {},
   "outputs": [
    {
     "name": "stdout",
     "output_type": "stream",
     "text": [
      "[[10 10 10]\n",
      " [10 10 10]\n",
      " [10 10 10]\n",
      " [10 10 10]]\n"
     ]
    }
   ],
   "source": [
    "a = np.full([4,3], 10)\n",
    "print(a)"
   ]
  },
  {
   "cell_type": "code",
   "execution_count": 13,
   "id": "01156568",
   "metadata": {
    "scrolled": true
   },
   "outputs": [
    {
     "name": "stdout",
     "output_type": "stream",
     "text": [
      "[5.    5.444 5.889 6.333 6.778 7.222 7.667 8.111 8.556 9.   ]\n"
     ]
    }
   ],
   "source": [
    "# Tạo một dãy các số thực cách đều nhau\n",
    "a = np.linspace(start=5, stop=9, num=10)\n",
    "print(a)"
   ]
  },
  {
   "cell_type": "code",
   "execution_count": 16,
   "id": "bd65dd0e",
   "metadata": {
    "scrolled": true
   },
   "outputs": [
    {
     "name": "stdout",
     "output_type": "stream",
     "text": [
      "50\n"
     ]
    }
   ],
   "source": [
    "a = np.linspace(2,5)\n",
    "print(len(a))"
   ]
  },
  {
   "cell_type": "code",
   "execution_count": null,
   "id": "3b70cfab",
   "metadata": {},
   "outputs": [],
   "source": [
    "# Tạo một chuỗi các số giống hàm range()\n",
    "a = np.arange(start=5, stop=9, step=0.5, dtype=np.float32)\n",
    "print(a)"
   ]
  },
  {
   "cell_type": "code",
   "execution_count": 18,
   "id": "5c5e02bf",
   "metadata": {},
   "outputs": [
    {
     "name": "stdout",
     "output_type": "stream",
     "text": [
      "[0 1 2 3 4 5 6 7 8]\n"
     ]
    }
   ],
   "source": [
    "# Có thể không cần start và step\n",
    "a = np.arange(9, dtype=np.int)\n",
    "print(a)"
   ]
  },
  {
   "cell_type": "markdown",
   "id": "993ac513",
   "metadata": {},
   "source": [
    "**Hàm random**"
   ]
  },
  {
   "cell_type": "code",
   "execution_count": 49,
   "id": "1916d924",
   "metadata": {},
   "outputs": [
    {
     "name": "stdout",
     "output_type": "stream",
     "text": [
      "0.4553304470805122\n",
      "0.05183928307335872\n"
     ]
    }
   ],
   "source": [
    "# Tạo ra 1 số thực ngẫu nhiên (từ 0-1)\n",
    "a = np.random.random()\n",
    "print(a)\n",
    "b = np.random.rand()\n",
    "print(b)"
   ]
  },
  {
   "cell_type": "code",
   "execution_count": 53,
   "id": "3baa2c94",
   "metadata": {},
   "outputs": [
    {
     "name": "stdout",
     "output_type": "stream",
     "text": [
      "[[[0.417022  0.7203245 0.0001144 0.3023326]\n",
      "  [0.1467559 0.0923386 0.1862602 0.3455607]\n",
      "  [0.3967675 0.5388167 0.4191945 0.6852195]]\n",
      "\n",
      " [[0.2044522 0.8781174 0.0273876 0.6704675]\n",
      "  [0.4173048 0.5586898 0.1403869 0.1981015]\n",
      "  [0.8007446 0.9682616 0.3134242 0.6923226]]]\n"
     ]
    }
   ],
   "source": [
    "# Tạo ra mảng số thực ngẫu nhiên (từ 0-1)\n",
    "#np.random.seed(1)\n",
    "a = np.random.random(size=(2,3,4))\n",
    "print(a)"
   ]
  },
  {
   "cell_type": "code",
   "execution_count": 54,
   "id": "f49eec3f",
   "metadata": {},
   "outputs": [
    {
     "name": "stdout",
     "output_type": "stream",
     "text": [
      "[[[0.417022  0.7203245 0.0001144 0.3023326]\n",
      "  [0.1467559 0.0923386 0.1862602 0.3455607]\n",
      "  [0.3967675 0.5388167 0.4191945 0.6852195]]\n",
      "\n",
      " [[0.2044522 0.8781174 0.0273876 0.6704675]\n",
      "  [0.4173048 0.5586898 0.1403869 0.1981015]\n",
      "  [0.8007446 0.9682616 0.3134242 0.6923226]]]\n"
     ]
    }
   ],
   "source": [
    "#np.random.seed(1)\n",
    "b = np.random.rand(2,3,4)\n",
    "print(b)"
   ]
  },
  {
   "cell_type": "code",
   "execution_count": 55,
   "id": "163eb252",
   "metadata": {},
   "outputs": [
    {
     "name": "stdout",
     "output_type": "stream",
     "text": [
      "[[2 1 2]\n",
      " [9 9 4]]\n",
      "3\n",
      "2\n"
     ]
    },
    {
     "name": "stderr",
     "output_type": "stream",
     "text": [
      "<ipython-input-55-ad4f13ca5afa>:6: DeprecationWarning: This function is deprecated. Please call randint(1, 5 + 1) instead\n",
      "  b = np.random.random_integers(5) # low=1, high=5\n"
     ]
    }
   ],
   "source": [
    "# Tạo ra 1/mảng số nguyên ngẫu nhiên\n",
    "a = np.random.randint(1,10, size=(2,3)) # low=1, high=10\n",
    "print(a)\n",
    "b = np.random.randint(1, 5+1) # low=1, high=5\n",
    "print(b)\n",
    "b = np.random.random_integers(5) # low=1, high=5\n",
    "print(b)"
   ]
  },
  {
   "cell_type": "code",
   "execution_count": 56,
   "id": "00d7b938",
   "metadata": {},
   "outputs": [
    {
     "name": "stdout",
     "output_type": "stream",
     "text": [
      "[11.8631163 13.4138699  8.2161725 13.4711931  8.7377833  8.1853133\n",
      " 10.7495039  9.0532345  9.0909584  9.8293239 13.0063768 12.3212822\n",
      "  9.0341172  6.386742   8.1691048  9.860532   8.3000905 10.1012465\n",
      " 11.4101448  6.6401161]\n",
      "[6.0932082 6.5254449 9.6088209 3.3488108 3.0791388 5.8010364 9.5494432\n",
      " 5.4375363 5.8654046 7.8893659 1.4081116 2.2596951 8.1316323 1.2682122\n",
      " 8.9481293 5.8670937 5.0318216 9.0292228 4.3982591 5.8458222]\n"
     ]
    }
   ],
   "source": [
    "# Tạo ra mảng số thực ngẫu nhiên theo phân bố\n",
    "# Phân bố chuẩn\n",
    "a = np.random.normal(10.0, 2.0, 20) # mean = 10, std=2\n",
    "print(a)\n",
    "# Phân bố đều\n",
    "b = np.random.uniform(1.0, 10.0, 20) # low=1, high=10\n",
    "print(b)"
   ]
  },
  {
   "cell_type": "markdown",
   "id": "2010d98f",
   "metadata": {},
   "source": [
    "**Dữ liệu có cấu trúc**"
   ]
  },
  {
   "cell_type": "code",
   "execution_count": 57,
   "id": "26e61137",
   "metadata": {},
   "outputs": [
    {
     "name": "stdout",
     "output_type": "stream",
     "text": [
      "[('Hoàng', 23) ('Chiến', 25) ('Mai', 30)]\n"
     ]
    }
   ],
   "source": [
    "#new_type = [('name','S10'), ('age',int)]\n",
    "#values = [('Nam', 23), ('Lan', 25), ('Mai', 30)]\n",
    "new_type = [('name',np.unicode_,8), ('age',int)] #utf-8, utf-16\n",
    "values = [('Hoàng', 23), ('Chiến', 25), ('Mai', 30)]\n",
    "\n",
    "a = np.array(values, dtype=new_type)\n",
    "print(a)"
   ]
  },
  {
   "cell_type": "code",
   "execution_count": 58,
   "id": "a346de92",
   "metadata": {},
   "outputs": [
    {
     "ename": "ValueError",
     "evalue": "invalid literal for int() with base 10: 'Hoàng'",
     "output_type": "error",
     "traceback": [
      "\u001b[0;31m---------------------------------------------------------------------------\u001b[0m",
      "\u001b[0;31mValueError\u001b[0m                                Traceback (most recent call last)",
      "\u001b[0;32m<ipython-input-58-7124a7bb9be1>\u001b[0m in \u001b[0;36m<module>\u001b[0;34m\u001b[0m\n\u001b[1;32m      3\u001b[0m \u001b[0mvalues\u001b[0m \u001b[0;34m=\u001b[0m \u001b[0;34m[\u001b[0m\u001b[0;34m[\u001b[0m\u001b[0;34m'Hoàng'\u001b[0m\u001b[0;34m,\u001b[0m \u001b[0;36m23\u001b[0m\u001b[0;34m]\u001b[0m\u001b[0;34m,\u001b[0m \u001b[0;34m[\u001b[0m\u001b[0;34m'Chiến'\u001b[0m\u001b[0;34m,\u001b[0m \u001b[0;36m25\u001b[0m\u001b[0;34m]\u001b[0m\u001b[0;34m,\u001b[0m \u001b[0;34m[\u001b[0m\u001b[0;34m'Mai'\u001b[0m\u001b[0;34m,\u001b[0m \u001b[0;36m30\u001b[0m\u001b[0;34m]\u001b[0m\u001b[0;34m]\u001b[0m\u001b[0;34m\u001b[0m\u001b[0;34m\u001b[0m\u001b[0m\n\u001b[1;32m      4\u001b[0m \u001b[0;34m\u001b[0m\u001b[0m\n\u001b[0;32m----> 5\u001b[0;31m \u001b[0ma\u001b[0m \u001b[0;34m=\u001b[0m \u001b[0mnp\u001b[0m\u001b[0;34m.\u001b[0m\u001b[0marray\u001b[0m\u001b[0;34m(\u001b[0m\u001b[0mvalues\u001b[0m\u001b[0;34m,\u001b[0m \u001b[0mdtype\u001b[0m\u001b[0;34m=\u001b[0m\u001b[0mnew_type\u001b[0m\u001b[0;34m)\u001b[0m\u001b[0;34m\u001b[0m\u001b[0;34m\u001b[0m\u001b[0m\n\u001b[0m\u001b[1;32m      6\u001b[0m \u001b[0mprint\u001b[0m\u001b[0;34m(\u001b[0m\u001b[0ma\u001b[0m\u001b[0;34m)\u001b[0m\u001b[0;34m\u001b[0m\u001b[0;34m\u001b[0m\u001b[0m\n",
      "\u001b[0;31mValueError\u001b[0m: invalid literal for int() with base 10: 'Hoàng'"
     ]
    }
   ],
   "source": [
    "# Không hoạt động với thành phần cũng là list\n",
    "new_type = [('name',np.unicode_,8), ('age',int)] #utf-8, utf-16\n",
    "values = [['Hoàng', 23], ['Chiến', 25], ['Mai', 30]]\n",
    "\n",
    "a = np.array(values, dtype=new_type)\n",
    "print(a)"
   ]
  },
  {
   "cell_type": "markdown",
   "id": "2c7851fa",
   "metadata": {},
   "source": [
    "### So sánh kích thước kiểu dữ liệu với numpy"
   ]
  },
  {
   "cell_type": "code",
   "execution_count": null,
   "id": "41a1f0e3",
   "metadata": {},
   "outputs": [],
   "source": [
    "# Dùng hàm sys.getsizeof để lấy kích thước của đối tượng trên RAM\n",
    "import sys \n",
    "a = 13\n",
    "print(type(a), sys.getsizeof(a))"
   ]
  },
  {
   "cell_type": "code",
   "execution_count": 59,
   "id": "f190014a",
   "metadata": {},
   "outputs": [
    {
     "name": "stdout",
     "output_type": "stream",
     "text": [
      "<class 'int'> 28\n",
      "<class 'list'> 24056\n"
     ]
    }
   ],
   "source": [
    "b = [1,2,3]*1000\n",
    "print(type(b), sys.getsizeof(b))"
   ]
  },
  {
   "cell_type": "code",
   "execution_count": 61,
   "id": "4caf8db5",
   "metadata": {},
   "outputs": [
    {
     "name": "stdout",
     "output_type": "stream",
     "text": [
      "<class 'list'> 24056\n"
     ]
    }
   ],
   "source": [
    "# So sánh kích thước list với mảng trên RAM\n",
    "b = [1,2,3]*1000\n",
    "print(type(b), sys.getsizeof(b))"
   ]
  },
  {
   "cell_type": "code",
   "execution_count": 62,
   "id": "6e1f93dc",
   "metadata": {},
   "outputs": [
    {
     "name": "stdout",
     "output_type": "stream",
     "text": [
      "<class 'numpy.ndarray'> 12096\n"
     ]
    }
   ],
   "source": [
    "c = np.array(b).astype(np.int32)\n",
    "print(type(c), sys.getsizeof(c))"
   ]
  },
  {
   "cell_type": "code",
   "execution_count": 63,
   "id": "8604bb88",
   "metadata": {},
   "outputs": [
    {
     "name": "stdout",
     "output_type": "stream",
     "text": [
      "[3. 4.]\n",
      "2 8 16\n",
      "112\n",
      "32\n"
     ]
    }
   ],
   "source": [
    "# Kiểm tra kích thước khi mảng và thành phần mảng bị đổi sang đối tượng Python\n",
    "b = np.array([3,4], dtype=np.float64)\n",
    "print(b)\n",
    "print(b.size, b.itemsize, b.nbytes)\n",
    "print(sys.getsizeof(b))\n",
    "print(sys.getsizeof(b[0]))"
   ]
  },
  {
   "cell_type": "markdown",
   "id": "7f64a3bd",
   "metadata": {},
   "source": [
    "## 1.3. Dimensions và Shapes"
   ]
  },
  {
   "cell_type": "code",
   "execution_count": 64,
   "id": "668f551b",
   "metadata": {},
   "outputs": [
    {
     "name": "stdout",
     "output_type": "stream",
     "text": [
      "[[[0.2875609 0.5082482 0.498041  0.7816695]\n",
      "  [0.1224035 0.2898574 0.0271845 0.5669873]\n",
      "  [0.4684055 0.4892015 0.9117266 0.6411635]]\n",
      "\n",
      " [[0.40222   0.0871942 0.7059167 0.4355212]\n",
      "  [0.2212792 0.8095352 0.645391  0.4484552]\n",
      "  [0.9796147 0.2224898 0.4249429 0.3725055]]]\n",
      "3\n",
      "(2, 3, 4)\n",
      "24 24\n"
     ]
    }
   ],
   "source": [
    "# Kiểm tra số chiều, shape, kích thước\n",
    "# Thiết lập seed để mỗi lần random vẫn ra các số cũ\n",
    "np.random.seed(100000) \n",
    "\n",
    "a = np.random.random(size=(2,3,4))\n",
    "print(a)\n",
    "print(a.ndim)\n",
    "print(a.shape)\n",
    "print(a.size, np.size(a))"
   ]
  },
  {
   "cell_type": "code",
   "execution_count": 65,
   "id": "297ee25e",
   "metadata": {
    "scrolled": true
   },
   "outputs": [
    {
     "name": "stdout",
     "output_type": "stream",
     "text": [
      "[[0.2875609 0.5082482 0.498041  0.7816695]\n",
      " [0.1224035 0.2898574 0.0271845 0.5669873]]\n",
      "0.027184512861676335\n",
      "[0.5082482 0.498041  0.1224035]\n"
     ]
    }
   ],
   "source": [
    "# Truy cập phần tử trong mảng 2 chiều\n",
    "np.random.seed(100000) \n",
    "a = np.random.random(size=(2,4))\n",
    "print(a)\n",
    "print(a[1,2])"
   ]
  },
  {
   "cell_type": "code",
   "execution_count": 66,
   "id": "63c39300",
   "metadata": {
    "scrolled": true
   },
   "outputs": [
    {
     "name": "stdout",
     "output_type": "stream",
     "text": [
      "[[[0.2875609 0.5082482 0.498041  0.7816695]\n",
      "  [0.1224035 0.2898574 0.0271845 0.5669873]\n",
      "  [0.4684055 0.4892015 0.9117266 0.6411635]]\n",
      "\n",
      " [[0.40222   0.0871942 0.7059167 0.4355212]\n",
      "  [0.2212792 0.8095352 0.645391  0.4484552]\n",
      "  [0.9796147 0.2224898 0.4249429 0.3725055]]]\n",
      "0.5082481908477833\n",
      "0.9796147047787436\n"
     ]
    }
   ],
   "source": [
    "# Truy cập phần tử trong mảng nhiều chiều\n",
    "np.random.seed(100000) \n",
    "a = np.random.random(size=(2,3,4))\n",
    "print(a)\n",
    "print(a[0,0,1])\n",
    "print(a[1,2,0])"
   ]
  },
  {
   "cell_type": "markdown",
   "id": "fcba6ee7",
   "metadata": {},
   "source": [
    "**Truy cập theo cách tự lặp** (ít dùng)"
   ]
  },
  {
   "cell_type": "code",
   "execution_count": 67,
   "id": "556b1135",
   "metadata": {
    "scrolled": true
   },
   "outputs": [
    {
     "name": "stdout",
     "output_type": "stream",
     "text": [
      "[[0.1224035 0.2898574 0.0271845 0.5669873]\n",
      " [0.4684055 0.4892015 0.9117266 0.6411635]\n",
      " [0.40222   0.0871942 0.7059167 0.4355212]]\n"
     ]
    }
   ],
   "source": [
    "# Truy cập phần tử trong mảng nhiều chiều \n",
    "print(a[[0,0,1],[1,2,0]])\n",
    "# 1. Lấy theo chiều 0 ba lần theo [0,0,1]\n",
    "# 2. Lấy theo chiều 1 ba lần theo [1,2,0]"
   ]
  },
  {
   "cell_type": "markdown",
   "id": "3c6964eb",
   "metadata": {},
   "source": [
    "**Mảng có nhiều chiều có độ lớn bằng 1**"
   ]
  },
  {
   "cell_type": "code",
   "execution_count": 69,
   "id": "8e13109b",
   "metadata": {},
   "outputs": [
    {
     "name": "stdout",
     "output_type": "stream",
     "text": [
      "[[[1 2]]]\n",
      "(1, 1, 2) \n",
      "\n",
      "[1 2]\n"
     ]
    }
   ],
   "source": [
    "a = np.array([[[1,2]]])\n",
    "\n",
    "print(a)\n",
    "print(a.shape, \"\\n\")\n",
    "\n",
    "# Dùng hàm squeeze() để bỏ hết các chiều có size 1\n",
    "print(a.squeeze())"
   ]
  },
  {
   "cell_type": "markdown",
   "id": "34e7bc24",
   "metadata": {},
   "source": [
    "# Phần 2: Một số thao tác thông dụng"
   ]
  },
  {
   "cell_type": "markdown",
   "id": "85e7802e",
   "metadata": {},
   "source": [
    "## 2.1. Các phép toán cơ bản"
   ]
  },
  {
   "cell_type": "code",
   "execution_count": 70,
   "id": "f9887ec9",
   "metadata": {},
   "outputs": [
    {
     "name": "stdout",
     "output_type": "stream",
     "text": [
      "[[3 3 3 3 3]\n",
      " [3 3 3 3 3]\n",
      " [3 3 3 3 3]]\n",
      "[0 1 2 3 4]\n",
      "[[3 4 5 6 7]\n",
      " [3 4 5 6 7]\n",
      " [3 4 5 6 7]]\n",
      "[[4 4 4 4 4]\n",
      " [4 4 4 4 4]\n",
      " [4 4 4 4 4]]\n"
     ]
    }
   ],
   "source": [
    "# Phép cộng và broadcasting\n",
    "a = np.full(shape=(3,5), fill_value=3)\n",
    "b = np.arange(5)\n",
    "print(a)\n",
    "print(b)\n",
    "\n",
    "c = a+b # Cộng mảng 2 chiều và mảng 1 chiều\n",
    "print(c)\n",
    "\n",
    "d = a+1 # Cộng mảng 2 chiều và một gía trị\n",
    "print(d)"
   ]
  },
  {
   "cell_type": "code",
   "execution_count": 71,
   "id": "fd0d0c5d",
   "metadata": {},
   "outputs": [
    {
     "name": "stdout",
     "output_type": "stream",
     "text": [
      "[[ inf 3.   1.5  1.   0.75]\n",
      " [ inf 3.   1.5  1.   0.75]\n",
      " [ inf 3.   1.5  1.   0.75]]\n",
      "[[2. 2. 2. 2. 2.]\n",
      " [2. 2. 2. 2. 2.]\n",
      " [2. 2. 2. 2. 2.]]\n"
     ]
    },
    {
     "name": "stderr",
     "output_type": "stream",
     "text": [
      "<ipython-input-71-cc6d8de94840>:2: RuntimeWarning: divide by zero encountered in true_divide\n",
      "  c = a/b # Numpy cho phép chia 0 nhưng cảnh báo\n"
     ]
    }
   ],
   "source": [
    "# Phép chia và broadcasting\n",
    "c = a/b # Numpy cho phép chia 0 nhưng cảnh báo\n",
    "print(c)\n",
    "\n",
    "d = a/1.5 # Chia mảng 2 chiều cho một gía trị\n",
    "print(d)"
   ]
  },
  {
   "cell_type": "code",
   "execution_count": 72,
   "id": "b74178e8",
   "metadata": {},
   "outputs": [
    {
     "name": "stdout",
     "output_type": "stream",
     "text": [
      "inf\n",
      "nan\n",
      "18.75\n"
     ]
    }
   ],
   "source": [
    "# Tính tổng khi có giá trị inf hoặc nan\n",
    "tong_c = np.sum(c)\n",
    "print(tong_c)\n",
    "\n",
    "c[np.isinf(c)] = np.nan\n",
    "tong_c = np.sum(c)\n",
    "print(tong_c)\n",
    "\n",
    "tong_c = np.nansum(c)\n",
    "print(tong_c)"
   ]
  },
  {
   "cell_type": "code",
   "execution_count": 73,
   "id": "15cb72dd",
   "metadata": {},
   "outputs": [
    {
     "name": "stdout",
     "output_type": "stream",
     "text": [
      "48\n"
     ]
    }
   ],
   "source": [
    "# Tính tích tất cả các giá trị trong mảng\n",
    "a = np.array([[4,2],[2,3]])\n",
    "print(np.prod(a))"
   ]
  },
  {
   "cell_type": "code",
   "execution_count": 74,
   "id": "0cd87809",
   "metadata": {},
   "outputs": [
    {
     "name": "stdout",
     "output_type": "stream",
     "text": [
      "[ 2  1  4 -6]\n"
     ]
    }
   ],
   "source": [
    "# Tính độ sai khác giữa 2 phần tử liền kề\n",
    "a = np.array([20, 22, 23, 27, 21])\n",
    "c = np.diff(a)\n",
    "print(c)"
   ]
  },
  {
   "cell_type": "code",
   "execution_count": 75,
   "id": "d21b60df",
   "metadata": {},
   "outputs": [
    {
     "name": "stdout",
     "output_type": "stream",
     "text": [
      "[[19  7  0  1]\n",
      " [ 0 13  8  9]\n",
      " [ 4 13 15 10]] \n",
      "\n",
      "[[-12  -7   1]\n",
      " [ 13  -5   1]\n",
      " [  9   2  -5]] \n",
      "\n",
      "[[-19   6   8   8]\n",
      " [  4   0   7   1]]\n"
     ]
    }
   ],
   "source": [
    "# Tính độ sai khác giữa 2 phần tử liền kề\n",
    "np.random.seed(1000)\n",
    "a = np.random.randint(0, 20, size=(3,4))\n",
    "print(a, \"\\n\")\n",
    "\n",
    "c = np.diff(a)\n",
    "print(c,\"\\n\")\n",
    "\n",
    "d = np.diff(a, axis=0)\n",
    "print(d)"
   ]
  },
  {
   "cell_type": "markdown",
   "id": "c2f1d72a",
   "metadata": {},
   "source": [
    "## 2.2. Cắt/Chia-phần/Ghép mảng"
   ]
  },
  {
   "cell_type": "code",
   "execution_count": 76,
   "id": "77477f69",
   "metadata": {},
   "outputs": [
    {
     "name": "stdout",
     "output_type": "stream",
     "text": [
      "[[19  7  0  1]\n",
      " [ 0 13  8  9]\n",
      " [ 4 13 15 10]] \n",
      "\n",
      "[array([[19,  7,  0,  1]]), array([[ 0, 13,  8,  9]]), array([[ 4, 13, 15, 10]])]\n",
      "[[19  7  0  1]]\n",
      "[[ 0 13  8  9]]\n",
      "[[ 4 13 15 10]]\n",
      "[19  7  0  1]\n",
      "[ 0 13  8  9]\n",
      "[ 4 13 15 10]\n"
     ]
    }
   ],
   "source": [
    "# Cắt mảng theo chiều dọc\n",
    "np.random.seed(1000)\n",
    "a = np.random.randint(0, 20, size=(3,4))\n",
    "print(a, \"\\n\")\n",
    "b = np.split(a, 3)\n",
    "print(b)\n",
    "print(b[0])\n",
    "print(b[1])\n",
    "print(b[2])\n",
    "\n",
    "print(b[0].squeeze())\n",
    "print(b[1].squeeze())\n",
    "print(b[2].squeeze())"
   ]
  },
  {
   "cell_type": "code",
   "execution_count": 77,
   "id": "e4a7ca2f",
   "metadata": {},
   "outputs": [
    {
     "name": "stdout",
     "output_type": "stream",
     "text": [
      "[[19  7  0  1]\n",
      " [ 0 13  8  9]\n",
      " [ 4 13 15 10]] \n",
      "\n",
      "[array([[19,  7],\n",
      "       [ 0, 13],\n",
      "       [ 4, 13]]), array([[ 0,  1],\n",
      "       [ 8,  9],\n",
      "       [15, 10]])] \n",
      "\n",
      "[[19  7]\n",
      " [ 0 13]\n",
      " [ 4 13]]\n",
      "[[ 0  1]\n",
      " [ 8  9]\n",
      " [15 10]]\n"
     ]
    }
   ],
   "source": [
    "# Cắt mảng theo chiều ngang\n",
    "np.random.seed(1000)\n",
    "a = np.random.randint(0, 20, size=(3,4))\n",
    "print(a, \"\\n\")\n",
    "b = np.split(a, 2, axis=1)\n",
    "print(b, \"\\n\")\n",
    "print(b[0])\n",
    "print(b[1])"
   ]
  },
  {
   "cell_type": "code",
   "execution_count": null,
   "id": "35c2f374",
   "metadata": {},
   "outputs": [],
   "source": [
    "# Cắt mảng theo chiều ngang\n",
    "np.random.seed(1000)\n",
    "a = np.random.randint(0, 20, size=(3,6))\n",
    "print(a, \"\\n\")\n",
    "b = np.split(a, [1,3,4], axis=1) #Từ 0:1, 1:3, 3:4, 4:\n",
    "print(b, \"\\n\")"
   ]
  },
  {
   "cell_type": "code",
   "execution_count": 78,
   "id": "44707651",
   "metadata": {},
   "outputs": [
    {
     "name": "stdout",
     "output_type": "stream",
     "text": [
      "[[19  7  0  1  0 13]\n",
      " [ 8  9  4 13 15 10]\n",
      " [ 9  4 18  9 18 13]] \n",
      "\n",
      "[[ 7  1  0]\n",
      " [ 9 13 15]\n",
      " [ 4  9 18]] \n",
      "\n"
     ]
    }
   ],
   "source": [
    "# Cắt một số cột\n",
    "np.random.seed(1000)\n",
    "a = np.random.randint(0, 20, size=(3,6))\n",
    "print(a, \"\\n\")\n",
    "b = a[:,[1,3,4]]\n",
    "\n",
    "print(b, \"\\n\")"
   ]
  },
  {
   "cell_type": "code",
   "execution_count": 79,
   "id": "54811b98",
   "metadata": {
    "scrolled": true
   },
   "outputs": [
    {
     "name": "stdout",
     "output_type": "stream",
     "text": [
      "[[19  7  0  1  0 13]\n",
      " [ 8  9  4 13 15 10]\n",
      " [ 9  4 18  9 18 13]] \n",
      "\n",
      "[18 10 14  5 12 11] \n",
      "\n",
      "[[19  7  0  1  0 13]\n",
      " [ 8  9  4 13 15 10]\n",
      " [ 9  4 18  9 18 13]\n",
      " [18 10 14  5 12 11]]\n"
     ]
    }
   ],
   "source": [
    "# Ghép mảng: concatenate theo chiều dọc\n",
    "np.random.seed(1000)\n",
    "a = np.random.randint(0, 20, size=(3,6))\n",
    "b = np.random.randint(0, 20, size=6)\n",
    "print(a, \"\\n\")\n",
    "print(b, \"\\n\")\n",
    "c = np.concatenate([a,[b]])\n",
    "print(c)"
   ]
  },
  {
   "cell_type": "code",
   "execution_count": 80,
   "id": "abbeddc7",
   "metadata": {},
   "outputs": [
    {
     "name": "stdout",
     "output_type": "stream",
     "text": [
      "[[19  7]\n",
      " [ 0  1]\n",
      " [ 0 13]\n",
      " [ 8  9]\n",
      " [ 4 13]] \n",
      "\n",
      "[[15 10  9  4]\n",
      " [18  9 18 13]\n",
      " [18 10 14  5]\n",
      " [12 11 11  0]\n",
      " [18  4  7 16]] \n",
      "\n",
      "[[19  7 15 10  9  4]\n",
      " [ 0  1 18  9 18 13]\n",
      " [ 0 13 18 10 14  5]\n",
      " [ 8  9 12 11 11  0]\n",
      " [ 4 13 18  4  7 16]]\n"
     ]
    }
   ],
   "source": [
    "# Ghép mảng: concantenate theo chiều ngang\n",
    "np.random.seed(1000)\n",
    "a = np.random.randint(0, 20, size=(5,2))\n",
    "b = np.random.randint(0, 20, size=(5,4))\n",
    "print(a, \"\\n\")\n",
    "print(b, \"\\n\")\n",
    "c = np.concatenate([a,b], axis=1)\n",
    "print(c)"
   ]
  },
  {
   "cell_type": "markdown",
   "id": "e642c25d",
   "metadata": {},
   "source": [
    "## 2.3. Sắp xếp/Tìm kiếm/Đếm"
   ]
  },
  {
   "cell_type": "markdown",
   "id": "d607ccc8",
   "metadata": {},
   "source": [
    "### 2.3.1. Sắp xếp"
   ]
  },
  {
   "cell_type": "code",
   "execution_count": 81,
   "id": "7ed6b33a",
   "metadata": {},
   "outputs": [
    {
     "name": "stdout",
     "output_type": "stream",
     "text": [
      "[[19 20 20 ... 25 27 34]\n",
      " [18 21 22 ... 25 26 27]\n",
      " [20 48 48 ... 86 90 92]\n",
      " [ 6  8 11 ... 78 85 90]]\n"
     ]
    }
   ],
   "source": [
    "# Hàm np.sort\n",
    "ds1 = [20, 22, 23, 25, 27, 34, 23, 21, 19, 20]\n",
    "ds2 = [24, 25, 24, 21, 22, 26, 18, 25, 24, 27]\n",
    "ds3 = [83, 74, 64, 86, 20, 53, 48, 92, 48, 90]\n",
    "ds4 = [70, 85, 90, 78, 6,  11, 31, 8,  31, 31]\n",
    "\n",
    "ds = np.sort([ds1, ds2, ds3, ds4])\n",
    "print(ds)"
   ]
  },
  {
   "cell_type": "code",
   "execution_count": 82,
   "id": "503c99d0",
   "metadata": {},
   "outputs": [
    {
     "name": "stdout",
     "output_type": "stream",
     "text": [
      "[20 22 23 25 27 34 23 21 19 20]\n",
      "[19 20 20 21 22 23 23 25 27 34]\n"
     ]
    }
   ],
   "source": [
    "# Hàm a.sort\n",
    "ds1 = [20, 22, 23, 25, 27, 34, 23, 21, 19, 20]\n",
    "ds = np.array(ds1)\n",
    "print(ds)\n",
    "ds.sort()\n",
    "print(ds)"
   ]
  },
  {
   "cell_type": "code",
   "execution_count": null,
   "id": "5e546b9a",
   "metadata": {},
   "outputs": [],
   "source": [
    "# Sắp xếp theo chiều giảm dần\n",
    "ds1 = [20, 22, 23, 25, 27, 34, 23, 21, 19, 20]\n",
    "ds = np.sort(ds1)\n",
    "#print(ds[::-1])\n",
    "#print(np.flip(ds))\n",
    "#print(-np.sort(-ds))"
   ]
  },
  {
   "cell_type": "code",
   "execution_count": 83,
   "id": "68e6c8a5",
   "metadata": {},
   "outputs": [
    {
     "name": "stdout",
     "output_type": "stream",
     "text": [
      "[[20 22 23 ...  8 19 20]\n",
      " [24 25 24 ... 21 24 27]\n",
      " [70 74 64 ... 25 31 31]\n",
      " [83 85 90 ... 92 48 90]]\n"
     ]
    }
   ],
   "source": [
    "# Hàm np.sort\n",
    "# Sắp xếp theo item giữa các danh sách với nhau (trộn)\n",
    "ds1 = [20, 22, 23, 25, 27, 34, 23, 21, 19, 20]\n",
    "ds2 = [24, 25, 24, 21, 22, 26, 18, 25, 24, 27]\n",
    "ds3 = [83, 74, 64, 86, 20, 53, 48, 92, 48, 90]\n",
    "ds4 = [70, 85, 90, 78, 6,  11, 31, 8,  31, 31]\n",
    "\n",
    "ds = np.sort([ds1, ds2, ds3, ds4], axis=0)\n",
    "print(ds)"
   ]
  },
  {
   "cell_type": "code",
   "execution_count": 84,
   "id": "cd1cc586",
   "metadata": {},
   "outputs": [
    {
     "name": "stdout",
     "output_type": "stream",
     "text": [
      "[[11 17  0 13 18]\n",
      " [ 1 11 14 15 15]\n",
      " [17  5 11 12  5]\n",
      " ...\n",
      " [13 19 14 15  9]\n",
      " [ 6 18  9  9 12]\n",
      " [19  4  8  1  3]]\n",
      "[[ 0 11 13 17 18]\n",
      " [ 1 11 14 15 15]\n",
      " [ 5  5 11 12 17]\n",
      " ...\n",
      " [ 9 13 14 15 19]\n",
      " [ 6  9  9 12 18]\n",
      " [ 1  3  4  8 19]]\n"
     ]
    }
   ],
   "source": [
    "# Sort một ma trận với: \n",
    "# axis=0: các thành phần trên 1 cột được sắp xếp (hàng bị phá vỡ)\n",
    "# axis=1: các thành phần trên 1 hàng được sắp xếp (cột bị phá vỡ)\n",
    "\n",
    "ds = np.random.randint(0,20,[10,5])\n",
    "print(ds)\n",
    "\n",
    "ds_sorted = np.sort(ds, axis=1)\n",
    "print(ds_sorted)"
   ]
  },
  {
   "cell_type": "code",
   "execution_count": 85,
   "id": "f53b25f5",
   "metadata": {},
   "outputs": [
    {
     "name": "stdout",
     "output_type": "stream",
     "text": [
      "[8 0 9 7 1 2 6 3 4 5]\n",
      "[19, 20, 20, 21, 22, 23, 23, 25, 27, 34]\n"
     ]
    }
   ],
   "source": [
    "# Hàm np.argsort()\n",
    "ds1 = [20, 22, 23, 25, 27, 34, 23, 21, 19, 20]\n",
    "a = np.argsort(ds1)\n",
    "print(a)\n",
    "print([ds1[i] for i in a])"
   ]
  },
  {
   "cell_type": "code",
   "execution_count": 86,
   "id": "2ee016e8",
   "metadata": {},
   "outputs": [
    {
     "name": "stdout",
     "output_type": "stream",
     "text": [
      "[6 3 4 8 0 2 7 1 5 9]\n",
      "23 18\n",
      "25 21\n",
      "27 22\n",
      "19 24\n",
      "20 24\n",
      "23 24\n",
      "21 25\n",
      "22 25\n",
      "34 26\n",
      "20 27\n"
     ]
    }
   ],
   "source": [
    "# Hàm lexsort(keys)\n",
    "# (Sắp xếp các danh sách cùng nhau)\n",
    "ds1 = [20, 22, 23, 25, 27, 34, 23, 21, 19, 20]\n",
    "ds2 = [24, 25, 24, 21, 22, 26, 18, 25, 24, 27]\n",
    "\n",
    "# Sắp xếp theo ds2\n",
    "chỉ_số_đã_sắp_xếp_theo_ds2 = np.lexsort([ds1, ds2])\n",
    "print(chỉ_số_đã_sắp_xếp_theo_ds2)\n",
    "for i in chỉ_số_đã_sắp_xếp_theo_ds2:\n",
    "    print(ds1[i], ds2[i])"
   ]
  },
  {
   "cell_type": "code",
   "execution_count": 87,
   "id": "b7cd71a3",
   "metadata": {},
   "outputs": [
    {
     "name": "stdout",
     "output_type": "stream",
     "text": [
      "[4 7 5 6 8 9 0 3 1 2]\n",
      "27 22 20 6\n",
      "21 25 92 8\n",
      "34 26 53 11\n",
      "23 18 48 31\n",
      "19 24 48 31\n",
      "20 27 90 31\n",
      "20 24 83 70\n",
      "25 21 86 78\n",
      "22 25 74 85\n",
      "23 24 64 90\n"
     ]
    }
   ],
   "source": [
    "# Hàm lexsort(keys)\n",
    "# (Sắp xếp các danh sách cùng nhau)\n",
    "ds1 = [20, 22, 23, 25, 27, 34, 23, 21, 19, 20]\n",
    "ds2 = [24, 25, 24, 21, 22, 26, 18, 25, 24, 27]\n",
    "ds3 = [83, 74, 64, 86, 20, 53, 48, 92, 48, 90]\n",
    "ds4 = [70, 85, 90, 78, 6,  11, 31, 8,  31, 31]\n",
    "\n",
    "# Sắp xếp theo ds4 trước, rồi đến ds3, ds2\n",
    "chỉ_số_đã_sắp_xếp_theo_ds4 = np.lexsort([ds1,ds2,ds3,ds4])\n",
    "print(chỉ_số_đã_sắp_xếp_theo_ds4)\n",
    "for i in chỉ_số_đã_sắp_xếp_theo_ds4:\n",
    "    print(ds1[i], ds2[i], ds3[i], ds4[i])"
   ]
  },
  {
   "cell_type": "code",
   "execution_count": 88,
   "id": "3d3a3dac",
   "metadata": {},
   "outputs": [
    {
     "name": "stdout",
     "output_type": "stream",
     "text": [
      "[[[[13 13 13  7]\n",
      "   [18  0  4 14]\n",
      "   [17  5 13  1]\n",
      "   [17  7  4 16]\n",
      "   [ 2  0 12 11]]\n",
      "\n",
      "  [[10 15  8  0]\n",
      "   [19  0  3  3]\n",
      "   [11  3  6  4]\n",
      "   [ 2  4  4 18]\n",
      "   [17 12 15 18]]\n",
      "\n",
      "  [[ 3  0 12 12]\n",
      "   [12 18 17 16]\n",
      "   [15  8  9  1]\n",
      "   [17 14 13  0]\n",
      "   [ 2  2  1 10]]]\n",
      "\n",
      "\n",
      " [[[ 8  2 14 16]\n",
      "   [ 1 17  1  3]\n",
      "   [13 13  6 14]\n",
      "   [ 4  6 12 15]\n",
      "   [14  8  1 12]]\n",
      "\n",
      "  [[19 10 13  0]\n",
      "   [10 17 17  6]\n",
      "   [ 9 10  5 17]\n",
      "   [17 19 13  3]\n",
      "   [ 9 11  0  2]]\n",
      "\n",
      "  [[12 16  2  8]\n",
      "   [12  5  3 18]\n",
      "   [12  5  3  7]\n",
      "   [ 3 11 13  4]\n",
      "   [10 10  0 15]]]]\n",
      "[[[1 0 2 3]\n",
      "  [2 0 3 1]\n",
      "  [2 1 0 3]\n",
      "  [0 1 2 3]\n",
      "  [2 1 3 0]]\n",
      "\n",
      " [[3 1 2 0]\n",
      "  [3 0 1 2]\n",
      "  [2 0 1 3]\n",
      "  [3 2 0 1]\n",
      "  [2 3 0 1]]\n",
      "\n",
      " [[2 3 0 1]\n",
      "  [2 1 0 3]\n",
      "  [2 1 3 0]\n",
      "  [0 3 1 2]\n",
      "  [2 0 1 3]]]\n"
     ]
    }
   ],
   "source": [
    "# Sắp xếp mảng nhiều chiều bằng lexsort\n",
    "# Lưu ý: hầu như không thấy dùng\n",
    "ds = np.random.randint(0,20,[2,3,5,4])\n",
    "print(ds)\n",
    "\n",
    "ds_sorted = np.lexsort(ds, axis=-1)\n",
    "print(ds_sorted)"
   ]
  },
  {
   "cell_type": "markdown",
   "id": "69599b6a",
   "metadata": {},
   "source": [
    "**Làm thế nào để sắp xếp mảng theo một cột nào đó, hoặc theo nhiều cột**"
   ]
  },
  {
   "cell_type": "code",
   "execution_count": 89,
   "id": "eb1a1e67",
   "metadata": {},
   "outputs": [
    {
     "name": "stdout",
     "output_type": "stream",
     "text": [
      "[[ 5 16  7  9]\n",
      " [ 6 19  9 10]\n",
      " [ 8 14  7 15]\n",
      " [16  2  3 19]\n",
      " [ 7  1  6 14]\n",
      " [19  4 12 18]]\n",
      "[4 3 5 2 0 1]\n",
      "[[ 7  1  6 14]\n",
      " [16  2  3 19]\n",
      " [19  4 12 18]\n",
      " [ 8 14  7 15]\n",
      " [ 5 16  7  9]\n",
      " [ 6 19  9 10]]\n"
     ]
    }
   ],
   "source": [
    "# Dùng argsort để tạo ra danh sách sắp xếp theo 1 cột nào đó\n",
    "ds = np.random.randint(0,20,[6,4])\n",
    "print(ds)\n",
    "\n",
    "sorted_rows = np.argsort(ds[:,1])\n",
    "print(sorted_rows)\n",
    "print(ds[sorted_rows])"
   ]
  },
  {
   "cell_type": "code",
   "execution_count": 90,
   "id": "42a93182",
   "metadata": {},
   "outputs": [
    {
     "name": "stdout",
     "output_type": "stream",
     "text": [
      "[3 4 2 0 1 5]\n",
      "[[16  2  3 19]\n",
      " [ 7  1  6 14]\n",
      " [ 8 14  7 15]\n",
      " [ 5 16  7  9]\n",
      " [ 6 19  9 10]\n",
      " [19  4 12 18]]\n"
     ]
    }
   ],
   "source": [
    "# Dùng lexsort để tạo ra danh sách sắp xếp theo vài cột nào đó\n",
    "sorted_rows = np.lexsort((ds[:,1], ds[:,2]))\n",
    "print(sorted_rows)\n",
    "print(ds[sorted_rows])"
   ]
  },
  {
   "cell_type": "markdown",
   "id": "72819199",
   "metadata": {},
   "source": [
    "### 2.3.2. Tìm kiếm"
   ]
  },
  {
   "cell_type": "code",
   "execution_count": 91,
   "id": "2735dfc9",
   "metadata": {},
   "outputs": [
    {
     "name": "stdout",
     "output_type": "stream",
     "text": [
      "[20 22 23 21 22 26 18 21 19 20]\n"
     ]
    }
   ],
   "source": [
    "ds1 = np.array([20, 22, 23, 25, 27, 34, 23, 21, 19, 20])\n",
    "ds2 = np.array([24, 25, 24, 21, 22, 26, 18, 25, 24, 27])\n",
    "chon = np.where(ds1<ds2, ds1, ds2)\n",
    "print(chon)"
   ]
  },
  {
   "cell_type": "code",
   "execution_count": 92,
   "id": "9f088c1c",
   "metadata": {},
   "outputs": [
    {
     "name": "stdout",
     "output_type": "stream",
     "text": [
      "[14  3  0 16 17 14  3 15  9  4]\n",
      "(array([0, 3, 4, 5, 7]),)\n"
     ]
    }
   ],
   "source": [
    "# Tìm kiếm theo điều kiện với where\n",
    "a = np.random.randint(0,20,10)\n",
    "print(a)\n",
    "b = np.where(a>=10)\n",
    "print(b)"
   ]
  },
  {
   "cell_type": "code",
   "execution_count": 93,
   "id": "a0807f1a",
   "metadata": {},
   "outputs": [
    {
     "name": "stdout",
     "output_type": "stream",
     "text": [
      "[[ 2 17 18 19]\n",
      " [19 15  3 12]\n",
      " [ 7  6 11 13]\n",
      " [14 10 16  4]\n",
      " [ 7  7  4  9]\n",
      " [19 13  1 11]]\n",
      "Chỉ số: (array([0, 0, 0, 1, 1, 1, 2, 2, 3, 3, 5, 5, 5]), array([1, 2, 3, 0, 1, 3, 2, 3, 0, 2, 0, 1, 3]))\n",
      "Danh sách các phần tử thỏa đk: [17 18 19 19 15 12 11 13 14 16 19 13 11]\n",
      "\n",
      "\n",
      "[(0, 1), (0, 2), (0, 3), (1, 0), (1, 1), (1, 3), (2, 2), (2, 3), (3, 0), (3, 2), (5, 0), (5, 1), (5, 3)]\n",
      "[17, 18, 19, 19, 15, 12, 11, 13, 14, 16, 19, 13, 11]\n"
     ]
    }
   ],
   "source": [
    "# Tìm kiếm theo điều kiện với where\n",
    "a = np.random.randint(0,20,[6,4])\n",
    "b = np.where(a>10)\n",
    "print(a)\n",
    "print(\"Chỉ số:\", b)\n",
    "print(\"Danh sách các phần tử thỏa đk:\", a[b])\n",
    "print(\"\\n\")\n",
    "print([(b[0][i], b[1][i]) for i in range(b[0].size)])\n",
    "print([a[b[0][i], b[1][i]] for i in range(b[0].size)])"
   ]
  },
  {
   "cell_type": "code",
   "execution_count": 94,
   "id": "8c75d213",
   "metadata": {},
   "outputs": [
    {
     "name": "stdout",
     "output_type": "stream",
     "text": [
      "[17 18 19 19 15 12 11 13 14 16 19 13 11]\n"
     ]
    }
   ],
   "source": [
    "# Truy cập nhanh\n",
    "print(a[np.where(a>10)])"
   ]
  },
  {
   "cell_type": "code",
   "execution_count": 95,
   "id": "fc2d6607",
   "metadata": {},
   "outputs": [
    {
     "name": "stdout",
     "output_type": "stream",
     "text": [
      "[[28  6 24 18]\n",
      " [22 26  6 12]\n",
      " [29 15 23 22]\n",
      " [24 10 19 10]\n",
      " [13 19 16  4]\n",
      " [24 10 27 28]]\n",
      "[ 4  6 10 12 13 15 16 18 19 22 23 24 26 27 28 29]\n"
     ]
    }
   ],
   "source": [
    "# Tìm các thành phần duy nhất trong mảng\n",
    "a = np.random.randint(0,30,[6,4])\n",
    "print(a)\n",
    "b = np.unique(a)\n",
    "print(b)"
   ]
  },
  {
   "cell_type": "code",
   "execution_count": null,
   "id": "495f85d5",
   "metadata": {},
   "outputs": [],
   "source": [
    "# Kiểm tra nếu tất cả hay bất cứ thành phần nào thỏa điều kiện\n",
    "# Tất cả: all\n",
    "# Bất cứ: any\n",
    "a = np.random.randint(0,30,[6,4])\n",
    "print(a)\n",
    "print(np.any(a==28))\n",
    "print(np.all(a==28))"
   ]
  },
  {
   "cell_type": "code",
   "execution_count": null,
   "id": "2e0defc8",
   "metadata": {},
   "outputs": [],
   "source": []
  },
  {
   "cell_type": "markdown",
   "id": "36944770",
   "metadata": {},
   "source": [
    "### 2.3.3. Đếm"
   ]
  },
  {
   "cell_type": "code",
   "execution_count": 96,
   "id": "7b57a7a4",
   "metadata": {},
   "outputs": [
    {
     "name": "stdout",
     "output_type": "stream",
     "text": [
      "[8 9 3 8 8 0 5 3 9 9 5 7 6 0 4 7 8 1 6 2]\n",
      "18\n"
     ]
    }
   ],
   "source": [
    "# Đếm các phần tử khác 0\n",
    "np.random.seed(3)\n",
    "a = np.random.randint(low=0,high=10,size=20)\n",
    "print(a)\n",
    "print(np.count_nonzero(a))"
   ]
  },
  {
   "cell_type": "code",
   "execution_count": 97,
   "id": "d30dfb6e",
   "metadata": {},
   "outputs": [
    {
     "name": "stdout",
     "output_type": "stream",
     "text": [
      "[8 9 3 8 8 0 5 3 9 9 5 7 6 0 4 7 8 1 6 2]\n",
      "[2 1 1 2 1 2 2 2 4 3]\n"
     ]
    }
   ],
   "source": [
    "# Dùng hàm bincount để đếm số lần xuất hiện của mỗi giá trị trong bins\n",
    "np.random.seed(3)\n",
    "a = np.random.randint(low=0,high=10,size=20)\n",
    "print(a)\n",
    "b = np.bincount(a)\n",
    "print(b)"
   ]
  },
  {
   "cell_type": "code",
   "execution_count": 98,
   "id": "a15c68fb",
   "metadata": {},
   "outputs": [
    {
     "name": "stdout",
     "output_type": "stream",
     "text": [
      "[8 9 3 8 8]\n",
      "[0 0 0 1 0 0 0 0 3 1]\n"
     ]
    }
   ],
   "source": [
    "# Lưu ý: bincount đếm cả những phần tử không xuất hiện\n",
    "# nếu bin vẫn nằm trong range\n",
    "np.random.seed(3)\n",
    "a = np.random.randint(low=0,high=10,size=5)\n",
    "print(a)\n",
    "b = np.bincount(a)\n",
    "print(b)"
   ]
  },
  {
   "cell_type": "code",
   "execution_count": 99,
   "id": "b9677600",
   "metadata": {},
   "outputs": [
    {
     "name": "stdout",
     "output_type": "stream",
     "text": [
      "[0 1 2 3 4 5 6 7 8 9]\n",
      "[2 1 1 2 1 2 2 2 4 3]\n"
     ]
    }
   ],
   "source": [
    "# Chỉ đếm những giá trị xuất hiện trong mảng\n",
    "# Dùng np.unique với tham số return_counts=True\n",
    "np.random.seed(3)\n",
    "a = np.random.randint(low=0,high=10,size=20)\n",
    "u,c = np.unique(a, return_counts=True)\n",
    "print(u)\n",
    "print(c)"
   ]
  },
  {
   "cell_type": "code",
   "execution_count": 100,
   "id": "04a7df87",
   "metadata": {},
   "outputs": [
    {
     "name": "stdout",
     "output_type": "stream",
     "text": [
      "[8 9 3 8 8 0 5 3 9 9 5 7 6 0 4 7 8 1 6 2]\n",
      "4\n"
     ]
    }
   ],
   "source": [
    "# Đếm số phần tử thỏa một điều kiện nào đó bằng count_nonzero\n",
    "np.random.seed(3)\n",
    "a = np.random.randint(low=0,high=10,size=20)\n",
    "print(a)\n",
    "b = np.count_nonzero(a==8)\n",
    "print(b)"
   ]
  },
  {
   "cell_type": "code",
   "execution_count": 101,
   "id": "5c9f8c38",
   "metadata": {},
   "outputs": [
    {
     "name": "stdout",
     "output_type": "stream",
     "text": [
      "['Tôi' 'thích' 'ăn' 'chuối,' 'ko' 'thích' 'ăn' 'sầu' 'riêng']\n",
      "2\n",
      "['Tôi' 'chuối,' 'ko' 'riêng' 'sầu' 'thích' 'ăn']\n",
      "[1 1 1 1 1 2 2]\n"
     ]
    }
   ],
   "source": [
    "# Đếm phần tử kiểu string\n",
    "a = np.array(['Tôi', 'thích', 'ăn', 'chuối,', 'ko', 'thích', 'ăn', 'sầu', 'riêng'])\n",
    "print(a)\n",
    "print(np.count_nonzero(a == 'ăn'))\n",
    "\n",
    "u,c = np.unique(a, return_counts=True)\n",
    "print(u)\n",
    "print(c)"
   ]
  },
  {
   "cell_type": "code",
   "execution_count": 102,
   "id": "ec500a8f",
   "metadata": {},
   "outputs": [
    {
     "data": {
      "text/plain": [
       "2"
      ]
     },
     "execution_count": 102,
     "metadata": {},
     "output_type": "execute_result"
    }
   ],
   "source": [
    "# Tương tự như hàm count của đối tượng list\n",
    "mmm = ['Tôi', 'thích', 'ăn', 'chuối,', 'ko', 'thích', 'ăn', 'sầu', 'riêng']\n",
    "mmm.count('ăn')"
   ]
  },
  {
   "cell_type": "markdown",
   "id": "bda79da8",
   "metadata": {},
   "source": [
    "## 2.4. Thay đổi chiều và hình dạng"
   ]
  },
  {
   "cell_type": "code",
   "execution_count": 103,
   "id": "7aac41f5",
   "metadata": {},
   "outputs": [
    {
     "name": "stdout",
     "output_type": "stream",
     "text": [
      "[ 0  1  2  3  4  5  6  7  8  9 10 11 12 13 14 15 16 17 18 19]\n",
      "[[ 0  1  2  3  4]\n",
      " [ 5  6  7  8  9]\n",
      " [10 11 12 13 14]\n",
      " [15 16 17 18 19]]\n",
      "[[[ 0  1  2  3  4]\n",
      "  [ 5  6  7  8  9]]\n",
      "\n",
      " [[10 11 12 13 14]\n",
      "  [15 16 17 18 19]]]\n",
      "[[[ 0  1  2  3  4]\n",
      "  [ 5  6  7  8  9]]\n",
      "\n",
      " [[10 11 12 13 14]\n",
      "  [15 16 17 18 19]]]\n"
     ]
    }
   ],
   "source": [
    "# Đổi từ 1 chiều sang nhiều chiều\n",
    "a = np.arange(20)\n",
    "print(a)\n",
    "b = a.reshape(4,5)\n",
    "print(b)\n",
    "c = a.reshape(2,2,5)\n",
    "print(c)\n",
    "d = b.reshape(2,2,5)\n",
    "print(d)"
   ]
  },
  {
   "cell_type": "code",
   "execution_count": 104,
   "id": "695e34b6",
   "metadata": {},
   "outputs": [
    {
     "name": "stdout",
     "output_type": "stream",
     "text": [
      "[[ 0  5 10 15]\n",
      " [ 1  6 11 16]\n",
      " [ 2  7 12 17]\n",
      " [ 3  8 13 18]\n",
      " [ 4  9 14 19]]\n",
      "[[ 0  5 10 15]\n",
      " [ 1  6 11 16]\n",
      " [ 2  7 12 17]\n",
      " [ 3  8 13 18]\n",
      " [ 4  9 14 19]]\n",
      "[[ 0  5 10 15]\n",
      " [ 1  6 11 16]\n",
      " [ 2  7 12 17]\n",
      " [ 3  8 13 18]\n",
      " [ 4  9 14 19]]\n"
     ]
    }
   ],
   "source": [
    "# Đảo từ cột sang dòng và ngược lại (transpose)\n",
    "print(b.T)\n",
    "print(b.transpose())\n",
    "print(b.swapaxes(0,1))"
   ]
  },
  {
   "cell_type": "code",
   "execution_count": 105,
   "id": "4875ec38",
   "metadata": {},
   "outputs": [
    {
     "name": "stdout",
     "output_type": "stream",
     "text": [
      "[[ 2  1 19]\n",
      " [ 5  8 14]]\n",
      "[ 2  1 19  5  8 14]\n",
      "[ 2  1 19  5  8 14]\n"
     ]
    }
   ],
   "source": [
    "# Chuyển từ mảng nhiều chiều sang 1 chiều\n",
    "ds = np.random.randint(0,20,[2,3])\n",
    "print(ds)\n",
    "\n",
    "print(np.ravel(ds))\n",
    "print(ds.flatten())"
   ]
  },
  {
   "cell_type": "code",
   "execution_count": null,
   "id": "11502959",
   "metadata": {},
   "outputs": [],
   "source": []
  }
 ],
 "metadata": {
  "kernelspec": {
   "display_name": "Python 3",
   "language": "python",
   "name": "python3"
  },
  "language_info": {
   "codemirror_mode": {
    "name": "ipython",
    "version": 3
   },
   "file_extension": ".py",
   "mimetype": "text/x-python",
   "name": "python",
   "nbconvert_exporter": "python",
   "pygments_lexer": "ipython3",
   "version": "3.8.11"
  }
 },
 "nbformat": 4,
 "nbformat_minor": 5
}
