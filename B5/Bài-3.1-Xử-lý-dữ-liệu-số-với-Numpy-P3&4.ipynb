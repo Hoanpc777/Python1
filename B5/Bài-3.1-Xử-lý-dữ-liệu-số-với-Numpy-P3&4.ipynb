{
 "cells": [
  {
   "cell_type": "markdown",
   "id": "2a491e26",
   "metadata": {},
   "source": [
    "# Phần 3: Các hàm thống kê"
   ]
  },
  {
   "cell_type": "code",
   "execution_count": 1,
   "id": "2d4bb75e",
   "metadata": {},
   "outputs": [],
   "source": [
    "import numpy as np"
   ]
  },
  {
   "cell_type": "markdown",
   "id": "eb724dcb",
   "metadata": {},
   "source": [
    "## 3.1. Tổng/Max/Min/Range"
   ]
  },
  {
   "cell_type": "code",
   "execution_count": 2,
   "id": "f8227132",
   "metadata": {},
   "outputs": [
    {
     "name": "stdout",
     "output_type": "stream",
     "text": [
      "[[2 1 0 0]\n",
      " [2 1 2 4]\n",
      " [1 0 4 2]\n",
      " [4 2 4 3]\n",
      " [0 1 0 2]\n",
      " [0 1 2 2]]\n",
      "[ 9  6 12 13]\n"
     ]
    }
   ],
   "source": [
    "# Tính tổng theo cột hoặc dòng\n",
    "np.random.seed(4)\n",
    "a = np.random.randint(0,5,[6,4])\n",
    "print(a)\n",
    "tong = np.sum(a, axis=0)\n",
    "print(tong)"
   ]
  },
  {
   "cell_type": "code",
   "execution_count": 3,
   "id": "84d36250",
   "metadata": {},
   "outputs": [
    {
     "name": "stdout",
     "output_type": "stream",
     "text": [
      "[[10 14  7  5]\n",
      " [ 1  8  7  8]\n",
      " [ 2  9 10 12]\n",
      " [ 7 13 14  7]\n",
      " [ 7  9  8  4]\n",
      " [ 2 12  6 14]]\n",
      "[14  8 12 14  9 14]\n"
     ]
    }
   ],
   "source": [
    "# Tìm max theo theo cột hoặc dòng\n",
    "np.random.seed(4)\n",
    "a = np.random.randint(0,15,[6,4])\n",
    "print(a)\n",
    "amax = np.max(a, axis=1)\n",
    "print(amax)"
   ]
  },
  {
   "cell_type": "code",
   "execution_count": 4,
   "id": "f99f7b13",
   "metadata": {},
   "outputs": [
    {
     "name": "stdout",
     "output_type": "stream",
     "text": [
      "[[10 14  7  5]\n",
      " [ 1  8  7  8]\n",
      " [ 2  9 10 12]\n",
      " [ 7 13 14  7]\n",
      " [ 7  9  8  4]\n",
      " [ 2 12  6 14]]\n",
      "[ 9  7 10  7  5 12]\n"
     ]
    }
   ],
   "source": [
    "# Tìm range theo theo cột hoặc dòng\n",
    "np.random.seed(4)\n",
    "a = np.random.randint(0,15,[6,4])\n",
    "print(a)\n",
    "arange = np.ptp(a, axis=1)\n",
    "print(arange)"
   ]
  },
  {
   "cell_type": "markdown",
   "id": "501ae2a0",
   "metadata": {},
   "source": [
    "## 3.2. Averages và Variance"
   ]
  },
  {
   "cell_type": "code",
   "execution_count": 5,
   "id": "ef73faaa",
   "metadata": {},
   "outputs": [
    {
     "name": "stdout",
     "output_type": "stream",
     "text": [
      "22.7\n",
      "23.0\n",
      "15.610000000000003\n",
      "3.9509492530276824\n"
     ]
    }
   ],
   "source": [
    "# Tính các giá trị mean, median, variance, standard deviation\n",
    "ds = np.array([20,16,23,25,17,34,23,21,19, 20,24, 25, 24, 21, 22, 26,18,25,24,27])\n",
    "print(np.mean(ds))\n",
    "print(np.median(ds))\n",
    "print(np.var(ds))\n",
    "print(np.std(ds))"
   ]
  },
  {
   "cell_type": "code",
   "execution_count": 6,
   "id": "4929b1ab",
   "metadata": {},
   "outputs": [
    {
     "name": "stdout",
     "output_type": "stream",
     "text": [
      "[2 4 3 0 1 0 2 0 1 2 2 0 0 3 2 1 0 4 3 2]\n",
      "21.9375\n"
     ]
    }
   ],
   "source": [
    "# Tính giá trị trung bình theo trọng số\n",
    "trong_so = np.random.randint(0,5,len(ds))\n",
    "print(trong_so)\n",
    "print(np.average(ds, weights=trong_so))"
   ]
  },
  {
   "cell_type": "code",
   "execution_count": 49,
   "id": "57592dc7",
   "metadata": {},
   "outputs": [
    {
     "name": "stdout",
     "output_type": "stream",
     "text": [
      "[[46 55 69  1 87]\n",
      " [72 50  9 58 94]\n",
      " [55 55 57 36 50]\n",
      " [44 38 52  3  0]\n",
      " [55 21 21 73 38]\n",
      " [56 66 46 30  8]\n",
      " [49 66 58 87 32]\n",
      " [40 42 45 33 32]\n",
      " [28  3 79 98 95]\n",
      " [57 50 17 81 89]]\n",
      "[50.2 44.6 45.3 50.  52.5]\n",
      "[52. 50. 49. 47. 44.]\n",
      "[ 125.56  352.84  475.01 1072.2  1184.45]\n",
      "[11.20535586 18.78403578 21.79472413 32.74446518 34.41583938]\n"
     ]
    }
   ],
   "source": [
    "# Tính các giá trị theo cột hoặc dòng\n",
    "np.random.seed(4)\n",
    "x = np.random.randint(0,100,size=(10,5))\n",
    "print(x)\n",
    "print(np.mean(x, axis=0))\n",
    "# print(np.median(x, axis=0))\n",
    "# print(np.var(x, axis=0))\n",
    "# print(np.std(x, axis=0))"
   ]
  },
  {
   "cell_type": "markdown",
   "id": "7f64a3bd",
   "metadata": {},
   "source": [
    "## 3.3. Percentiles va Quantiles"
   ]
  },
  {
   "cell_type": "code",
   "execution_count": 91,
   "id": "7ba7cef3",
   "metadata": {},
   "outputs": [
    {
     "name": "stdout",
     "output_type": "stream",
     "text": [
      "[20.7 24.3]\n",
      "[20.7 24.3]\n"
     ]
    }
   ],
   "source": [
    "p = np.percentile(ds, [30,70])\n",
    "print(p)\n",
    "\n",
    "q = np.quantile(ds, [0.3,0.7])\n",
    "print(q)"
   ]
  },
  {
   "cell_type": "markdown",
   "id": "dfa9daff",
   "metadata": {},
   "source": [
    "## 3.4. Histogram"
   ]
  },
  {
   "cell_type": "code",
   "execution_count": 5,
   "id": "c4506a19",
   "metadata": {},
   "outputs": [
    {
     "name": "stdout",
     "output_type": "stream",
     "text": [
      "(array([2, 2, 4, 3, 3, 4, 1, 0, 0, 1]), array([16. , 17.8, 19.6, 21.4, 23.2, 25. , 26.8, 28.6, 30.4, 32.2, 34. ]))\n"
     ]
    }
   ],
   "source": [
    "ds = np.array([20,16,23,25,17,34,23,21,19, 20,24, 25, 24, 21, 22, 26,18,25,24,27])\n",
    "h = np.histogram(ds)\n",
    "print(h)\n",
    "# count, bins = h\n",
    "# print(count)\n",
    "# print(bins)"
   ]
  },
  {
   "cell_type": "code",
   "execution_count": 10,
   "id": "4857b9df",
   "metadata": {
    "scrolled": false
   },
   "outputs": [
    {
     "data": {
      "image/png": "[encoded data removed]",
      "text/plain": [
       "<Figure size 300x200 with 1 Axes>"
      ]
     },
     "metadata": {},
     "output_type": "display_data"
    }
   ],
   "source": [
    "from matplotlib import pyplot as plt\n",
    "fig = plt.figure(figsize = (3,2))\n",
    "plt.hist(ds)\n",
    "plt.show()"
   ]
  },
  {
   "cell_type": "code",
   "execution_count": 6,
   "id": "e6790db8",
   "metadata": {},
   "outputs": [
    {
     "name": "stdout",
     "output_type": "stream",
     "text": [
      "(array([1, 1, 1, 1, 2, 2, 1, 2, 3, 0, 3, 1, 1, 0, 0, 0, 0, 0, 0, 1]), array([16. , 16.9, 17.8, 18.7, 19.6, 20.5, 21.4, 22.3, 23.2, 24.1, 25. ,\n",
      "       25.9, 26.8, 27.7, 28.6, 29.5, 30.4, 31.3, 32.2, 33.1, 34. ]))\n"
     ]
    }
   ],
   "source": [
    "ds = np.array([20,16,23,25,17,34,23,21,19, 20,24, 25, 24, 21, 22, 26,18,25,24,27])\n",
    "h = np.histogram(ds, bins=20)\n",
    "print(h)\n",
    "# count, bins = h\n",
    "# print(count)\n",
    "# print(bins)"
   ]
  },
  {
   "cell_type": "code",
   "execution_count": 9,
   "id": "8e13109b",
   "metadata": {},
   "outputs": [
    {
     "name": "stdout",
     "output_type": "stream",
     "text": [
      "23.2\n"
     ]
    }
   ],
   "source": [
    "# Tìm mode dựa vào histogram\n",
    "idx = np.argmax(h[0])\n",
    "mode = h[1][idx]\n",
    "print(mode)"
   ]
  },
  {
   "cell_type": "code",
   "execution_count": 11,
   "id": "c20031e5",
   "metadata": {
    "scrolled": false
   },
   "outputs": [
    {
     "data": {
      "image/png": "[encoded data removed]",
      "text/plain": [
       "<Figure size 300x200 with 1 Axes>"
      ]
     },
     "metadata": {},
     "output_type": "display_data"
    }
   ],
   "source": [
    "from matplotlib import pyplot as plt\n",
    "fig = plt.figure(figsize = (3,2))\n",
    "plt.hist(ds, bins=20)\n",
    "plt.show()"
   ]
  },
  {
   "cell_type": "code",
   "execution_count": 57,
   "id": "6e9fbebd",
   "metadata": {},
   "outputs": [
    {
     "name": "stdout",
     "output_type": "stream",
     "text": [
      "(array([6, 1, 2, 1, 2, 5, 2, 5, 2, 1, 7, 3, 2, 1, 1, 1, 2, 1, 1, 4]), array([ 3. ,  7.8, 12.6, 17.4, 22.2, 27. , 31.8, 36.6, 41.4, 46.2, 51. ,\n",
      "       55.8, 60.6, 65.4, 70.2, 75. , 79.8, 84.6, 89.4, 94.2, 99. ]))\n"
     ]
    }
   ],
   "source": [
    "# Tìm histogram/mode theo dòng hoặc cột?\n",
    "np.random.seed(4)\n",
    "x = np.random.randint(0,100,size=(50,4))\n",
    "#print(x)\n",
    "h = np.histogram(x[:,0], bins=20) # cột 0\n",
    "print(h)"
   ]
  },
  {
   "cell_type": "markdown",
   "id": "34e7bc24",
   "metadata": {},
   "source": [
    "# Phần 4: Ghi/Đọc file với Numpy"
   ]
  },
  {
   "cell_type": "markdown",
   "id": "4b749b59",
   "metadata": {},
   "source": [
    "## 4.1. Ghi/Đọc text file"
   ]
  },
  {
   "cell_type": "code",
   "execution_count": 6,
   "id": "4ccf75da",
   "metadata": {},
   "outputs": [
    {
     "name": "stdout",
     "output_type": "stream",
     "text": [
      "[0. 1. 2. 3. 4.]\n"
     ]
    }
   ],
   "source": [
    "import numpy as np\n",
    "x = np.arange(0.0,5.0,1.0)\n",
    "print(x)\n",
    "np.savetxt('test.txt', x)\n",
    "# np.savetxt('test.txt', x, fmt=\"%.4f\")\n"
   ]
  },
  {
   "cell_type": "code",
   "execution_count": 12,
   "id": "e42bc7fe",
   "metadata": {},
   "outputs": [
    {
     "name": "stdout",
     "output_type": "stream",
     "text": [
      "[[89 50 97 48 29]\n",
      " [74  4 50  1 14]\n",
      " [64 44 15  7 41]\n",
      " [30 50 15 54 43]\n",
      " [28 73 23 11 45]\n",
      " [42 47 12 64 53]\n",
      " [96 25  4 72 55]\n",
      " [60 92 95 59 57]\n",
      " [14  6 77 58 16]\n",
      " [96  8 90 10 89]]\n"
     ]
    }
   ],
   "source": [
    "# Lưu một mảng vào file text\n",
    "x = np.random.randint(0,100,size=(10,5))\n",
    "print(x)\n",
    "ds_ten_cot = \"Cột A, Cột B, Cột C, Cột D, Cột E\"\n",
    "np.savetxt('test.txt', x, delimiter=',', header=ds_ten_cot, fmt=\"%5d\")"
   ]
  },
  {
   "cell_type": "code",
   "execution_count": 35,
   "id": "ff94ab37",
   "metadata": {},
   "outputs": [],
   "source": [
    "# Dùng Numpy để ghi vào file .csv\n",
    "np.savetxt('test2.csv', x, delimiter=',', header=ds_ten_cot, fmt=\"%5d\")"
   ]
  },
  {
   "cell_type": "code",
   "execution_count": 39,
   "id": "abff0ce3",
   "metadata": {},
   "outputs": [
    {
     "name": "stdout",
     "output_type": "stream",
     "text": [
      "[[23 41 17 70 85]\n",
      " [27 69 98 11  7]\n",
      " [60 39 56  9 90]\n",
      " [16 64 26 70 55]\n",
      " [37 28 63 66 80]\n",
      " [55 55 76 14 11]\n",
      " [45 12 31 31 91]\n",
      " [14 39 91  8 52]\n",
      " [77 96 86 66 17]\n",
      " [75  3 11 21 37]]\n"
     ]
    }
   ],
   "source": [
    "# Dùng Numpy để ghi thêm vào file .csv\n",
    "x = np.random.randint(0,100,size=(10,5))\n",
    "print(x)\n",
    "with open('test2.csv', 'a') as f:\n",
    "    np.savetxt(f, x, delimiter=',', fmt=\"%5d\")"
   ]
  },
  {
   "cell_type": "code",
   "execution_count": 42,
   "id": "fa049807",
   "metadata": {},
   "outputs": [
    {
     "name": "stdout",
     "output_type": "stream",
     "text": [
      "[[ 4. 18. 11. 33. 19. 64. 55. 79. 83. 40.  5. 56. 25. 32. 11. 39. 23. 59.\n",
      "   0. 30. 23. 27. 60. 16. 37. 55. 45. 14. 77. 75.]\n",
      " [30. 12. 47. 94. 97. 21. 21. 51.  0. 86. 22. 42. 79. 95. 48. 47. 76.  1.\n",
      "  24. 85. 41. 69. 39. 64. 28. 55. 12. 39. 96.  3.]\n",
      " [92. 18. 26. 22. 40. 89. 52. 58. 23. 47. 40. 25. 56. 62. 81. 50. 92. 18.\n",
      "  37. 78. 17. 98. 56. 26. 63. 76. 31. 91. 86. 11.]\n",
      " [68. 72. 66. 36. 43. 55.  0. 31. 74. 60. 38. 86.  4. 89. 62.  3. 74.  7.\n",
      "  16.  3. 70. 11.  9. 70. 66. 14. 31.  8. 66. 21.]\n",
      " [67. 58. 33. 63. 88.  8. 29. 13. 45. 76. 10. 11.  7. 83. 61. 27. 10. 39.\n",
      "  62. 61. 85.  7. 90. 55. 80. 11. 91. 52. 17. 37.]]\n"
     ]
    }
   ],
   "source": [
    "# Load file .txt\n",
    "# Lưu ý: Lỗi nếu trong file có 1 item là rỗng (missing value)\n",
    "# Để transpose mảng sau khi đọc: unpack = True\n",
    "a = np.loadtxt('test2.csv', skiprows=1, delimiter=',', unpack=True)\n",
    "print(a)"
   ]
  },
  {
   "cell_type": "code",
   "execution_count": 16,
   "id": "2e142e24",
   "metadata": {},
   "outputs": [
    {
     "name": "stdout",
     "output_type": "stream",
     "text": [
      "[[89. 50. 97. 48. 29.]\n",
      " [74.  4. 50.  1. 14.]\n",
      " [64. 44. 15.  7. 41.]\n",
      " [30. 50. 15. 54. 43.]\n",
      " [28. 73. 23. 11. 45.]\n",
      " [42. 47. 12. 64. 53.]\n",
      " [96. 25.  4. 72. 55.]\n",
      " [60. 92. 95. 59. 57.]\n",
      " [14.  6. 77. 58. 16.]\n",
      " [96.  8. 90. 10. 89.]]\n"
     ]
    }
   ],
   "source": [
    "# Load file .csv\n",
    "# Lưu ý: Lỗi nếu trong file có 1 item là rỗng (missing value)\n",
    "a = np.loadtxt('test.csv', skiprows=1, delimiter=',', unpack=False)\n",
    "print(a)"
   ]
  },
  {
   "cell_type": "code",
   "execution_count": 21,
   "id": "110cf726",
   "metadata": {
    "scrolled": true
   },
   "outputs": [
    {
     "name": "stdout",
     "output_type": "stream",
     "text": [
      "[[37. 26. 16. 39. 23.]\n",
      " [ 5. 70. 18. 60. 60.]\n",
      " [76. 75. 22. 54. 72.]\n",
      " [90. 66. 45. 96. 79.]\n",
      " [68. 90. 12.  5. 87.]\n",
      " [nan 88. 37. 25. 61.]\n",
      " [85. 25. 75. 24. 25.]\n",
      " [19. 27. 87. 34. 83.]\n",
      " [93. 79. 68. 45. 65.]\n",
      " [29. 85. 34. 89.  3.]]\n"
     ]
    }
   ],
   "source": [
    "# Dùng genfromtxt có thể đọc được missing value (NaN)\n",
    "b = np.genfromtxt('test.txt', delimiter=',', skip_header=1)\n",
    "print(b)"
   ]
  },
  {
   "cell_type": "code",
   "execution_count": 27,
   "id": "aae6c40b",
   "metadata": {
    "scrolled": false
   },
   "outputs": [
    {
     "name": "stdout",
     "output_type": "stream",
     "text": [
      "[[26. 16. 23.]\n",
      " [70. 18. 60.]\n",
      " [75. 22. 72.]\n",
      " [66. 45. 79.]\n",
      " [90. 12. 87.]\n",
      " [88. 37. 61.]\n",
      " [25. 75. 25.]\n",
      " [27. 87. 83.]\n",
      " [79. 68. 65.]\n",
      " [85. 34.  3.]]\n"
     ]
    }
   ],
   "source": [
    "# Dùng genfromtxt để đọc cột ta cần\n",
    "b = np.genfromtxt('test.txt', delimiter=',', skip_header=1, usecols=[1,2,4])\n",
    "print(b)"
   ]
  },
  {
   "cell_type": "code",
   "execution_count": 31,
   "id": "e61c5eac",
   "metadata": {
    "scrolled": false
   },
   "outputs": [
    {
     "name": "stdout",
     "output_type": "stream",
     "text": [
      "[[88 76 25]\n",
      " [30  6 83]\n",
      " [65 59 43]\n",
      " [99 67 44]\n",
      " [86  7 14]\n",
      " [40 44 39]\n",
      " [25 46 10]\n",
      " [21 71 67]\n",
      " [99 90 15]\n",
      " [49 79 90]]\n",
      "(10, 3)\n"
     ]
    }
   ],
   "source": [
    "# Dùng genfromtxt để đọc .csv file\n",
    "# Lưu ý: Để đọc file với dữ liệu có cả text, cần set dtype=None\n",
    "b = np.genfromtxt('test.csv', delimiter=',', dtype=np.int16, skip_header=1, usecols=[1,2,4])\n",
    "print(b)\n",
    "print(b.shape)"
   ]
  },
  {
   "cell_type": "markdown",
   "id": "038e8e0d",
   "metadata": {},
   "source": [
    "## 4.2. Ghi/Đọc .npy file"
   ]
  },
  {
   "cell_type": "code",
   "execution_count": 27,
   "id": "ed75249e",
   "metadata": {},
   "outputs": [
    {
     "name": "stdout",
     "output_type": "stream",
     "text": [
      "[[ 4 30 92 68 67]\n",
      " [18 12 18 72 58]\n",
      " [11 47 26 66 33]\n",
      " [33 94 22 36 63]\n",
      " [19 97 40 43 88]\n",
      " [64 21 89 55  8]\n",
      " [55 21 52  0 29]\n",
      " [79 51 58 31 13]\n",
      " [83  0 23 74 45]\n",
      " [40 86 47 60 76]]\n"
     ]
    }
   ],
   "source": [
    "# Ghi lại mảng vào file npy\n",
    "x = np.random.randint(0,100,size=(10,5),dtype=np.uint8)\n",
    "print(x)\n",
    "np.save(\"test.npy\", x)"
   ]
  },
  {
   "cell_type": "code",
   "execution_count": 28,
   "id": "83ccf1fc",
   "metadata": {},
   "outputs": [
    {
     "name": "stdout",
     "output_type": "stream",
     "text": [
      "[[ 4 30 92 68 67]\n",
      " [18 12 18 72 58]\n",
      " [11 47 26 66 33]\n",
      " [33 94 22 36 63]\n",
      " [19 97 40 43 88]\n",
      " [64 21 89 55  8]\n",
      " [55 21 52  0 29]\n",
      " [79 51 58 31 13]\n",
      " [83  0 23 74 45]\n",
      " [40 86 47 60 76]]\n"
     ]
    }
   ],
   "source": [
    "# Đọc mảng từ file npy\n",
    "c = np.load(\"test.npy\")\n",
    "print(c)"
   ]
  },
  {
   "cell_type": "markdown",
   "id": "e29cb787",
   "metadata": {},
   "source": [
    "## 4.3. Lưu nhiều mảng vào file"
   ]
  },
  {
   "cell_type": "code",
   "execution_count": 52,
   "id": "03f67b2b",
   "metadata": {},
   "outputs": [
    {
     "name": "stdout",
     "output_type": "stream",
     "text": [
      "[[71 44 54 95 89]\n",
      " [ 4 81 51 80 66]\n",
      " [ 5 25  8 83 24]\n",
      " [59 86 44 30 61]\n",
      " [21 91 32 66 95]]\n",
      "[[67  5 32 30]\n",
      " [95 65 54 59]\n",
      " [32 19 29  8]\n",
      " [36 66 26 40]\n",
      " [62  2 42 31]\n",
      " [10  4  3 95]]\n"
     ]
    }
   ],
   "source": [
    "# Ghi lại 2 mảng vào file nén (savez)\n",
    "x1 = np.random.randint(0,100,size=(5,5),dtype=np.uint8)\n",
    "x2 = np.random.randint(0,100,size=(6,4),dtype=np.uint8)\n",
    "print(x1)\n",
    "print(x2)\n",
    "np.savez(\"test.npz\", x1, x2)"
   ]
  },
  {
   "cell_type": "code",
   "execution_count": 54,
   "id": "7ec0e3c3",
   "metadata": {},
   "outputs": [
    {
     "name": "stdout",
     "output_type": "stream",
     "text": [
      "['arr_0', 'arr_1']\n",
      "[[71 44 54 95 89]\n",
      " [ 4 81 51 80 66]\n",
      " [ 5 25  8 83 24]\n",
      " [59 86 44 30 61]\n",
      " [21 91 32 66 95]]\n",
      "[[67  5 32 30]\n",
      " [95 65 54 59]\n",
      " [32 19 29  8]\n",
      " [36 66 26 40]\n",
      " [62  2 42 31]\n",
      " [10  4  3 95]]\n"
     ]
    }
   ],
   "source": [
    "# Đọc file nén và lấy ra các mảng đã ghi\n",
    "npzfile = np.load(\"test.npz\")\n",
    "print(npzfile.files)\n",
    "print(npzfile[\"arr_0\"])\n",
    "print(npzfile[\"arr_1\"])"
   ]
  },
  {
   "cell_type": "code",
   "execution_count": 53,
   "id": "adb0ed8b",
   "metadata": {},
   "outputs": [
    {
     "name": "stdout",
     "output_type": "stream",
     "text": [
      "[[71 44 54 95 89]\n",
      " [ 4 81 51 80 66]\n",
      " [ 5 25  8 83 24]\n",
      " [59 86 44 30 61]\n",
      " [21 91 32 66 95]]\n",
      "[[67  5 32 30]\n",
      " [95 65 54 59]\n",
      " [32 19 29  8]\n",
      " [36 66 26 40]\n",
      " [62  2 42 31]\n",
      " [10  4  3 95]]\n"
     ]
    }
   ],
   "source": [
    "# Đặt tên cho mảng lúc ghi và load lên theo tên\n",
    "np.savez_compressed(\"test_compressed.npz\", x=x1, y=x2)\n",
    "npzfile = np.load(\"test_compressed.npz\")\n",
    "print(npzfile[\"x\"])\n",
    "print(npzfile[\"y\"])"
   ]
  },
  {
   "cell_type": "code",
   "execution_count": null,
   "id": "17323fe3",
   "metadata": {},
   "outputs": [],
   "source": []
  }
 ],
 "metadata": {
  "kernelspec": {
   "display_name": "Python 3",
   "language": "python",
   "name": "python3"
  },
  "language_info": {
   "codemirror_mode": {
    "name": "ipython",
    "version": 3
   },
   "file_extension": ".py",
   "mimetype": "text/x-python",
   "name": "python",
   "nbconvert_exporter": "python",
   "pygments_lexer": "ipython3",
   "version": "3.8.11"
  }
 },
 "nbformat": 4,
 "nbformat_minor": 5
}
