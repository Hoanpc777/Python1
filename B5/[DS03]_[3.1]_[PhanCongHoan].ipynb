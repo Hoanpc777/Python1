{
 "cells": [
  {
   "cell_type": "markdown",
   "metadata": {},
   "source": [
    "Thực hiện lại bài tập với dữ liệu bán lẻ ở Tuần 2 nhưng sử dụng Numpy:\n",
    "1. Tìm min, max, mean, median, mode cho tổng đơn."
   ]
  },
  {
   "cell_type": "code",
   "execution_count": 1,
   "metadata": {},
   "outputs": [
    {
     "name": "stdout",
     "output_type": "stream",
     "text": [
      "Min = 10.68\n",
      "Max = 1042.65\n",
      "Median = 253.85\n",
      "Mode = [87.234, 93.744, 175.917, 189.0945, 216.846, 217.6335, 263.97, 276.948, 470.988, 829.08]\n"
     ]
    }
   ],
   "source": [
    "import numpy as np\n",
    "file = np.genfromtxt(r'C:\\Users\\Hoanpc.TSTDESK01\\Desktop\\Python\\B4\\data\\supermarket_sales_vn.csv',encoding='utf-8', delimiter=',',dtype=str)\n",
    "title = file[0,:]\n",
    "data = file[1:,:]\n",
    "index_tongdon = np.where(title=='Total')[0][0]\n",
    "tongdon = data[:,index_tongdon].astype(np.float32)\n",
    "def question(x):\n",
    "    min = np.min(x)\n",
    "    max = np.max(x)\n",
    "    median = np.median(x)\n",
    "    value,ind = np.unique(x,return_counts=True)\n",
    "    Mode = value[np.where(ind==np.max(ind))]\n",
    "    return f'Min = {min:.2f}\\nMax = {max:.2f}\\nMedian = {median:.2f}\\nMode = {list(Mode)}'\n",
    "op1 = question(tongdon)\n",
    "print(op1)"
   ]
  },
  {
   "cell_type": "markdown",
   "metadata": {},
   "source": [
    "2. Tìm min, max, mean, median, mode cho tổng đơn theo giới tính"
   ]
  },
  {
   "cell_type": "code",
   "execution_count": 2,
   "metadata": {},
   "outputs": [
    {
     "name": "stdout",
     "output_type": "stream",
     "text": [
      "Giới tính nam :\n",
      "Min = 10.68\n",
      "Max = 1039.29\n",
      "Median = 244.23\n",
      "Mode = [87.234, 175.917, 276.948]\n",
      "Giới tính nữ:\n",
      "Min = 12.69\n",
      "Max = 1042.65\n",
      "Median = 272.58\n",
      "Mode = [93.744, 189.0945, 216.846, 217.6335]\n"
     ]
    }
   ],
   "source": [
    "index_sex = np.where(title=='Gender')[0][0]\n",
    "tongdon_nam = tongdon[np.where(data[:,index_sex]=='Nam')]\n",
    "tongdon_nu = tongdon[np.where(data[:,index_sex]=='Nữ')]\n",
    "op2 = f'Giới tính nam :\\n{question(tongdon_nam)}\\nGiới tính nữ:\\n{question(tongdon_nu)}'\n",
    "print(op2)"
   ]
  },
  {
   "cell_type": "markdown",
   "metadata": {},
   "source": [
    "3. Tìm min, max, mean, median, mode cho tổng đơn theo chi nhánh"
   ]
  },
  {
   "cell_type": "code",
   "execution_count": 3,
   "metadata": {},
   "outputs": [
    {
     "name": "stdout",
     "output_type": "stream",
     "text": [
      "Khu vực 1 là Hà Nội có :\n",
      "Min = 12.69\n",
      "Max = 951.83\n",
      "Median = 236.38\n",
      "Mode = [216.846]\n",
      "Khu vực 2 là TP HCM có :\n",
      "Min = 10.68\n",
      "Max = 1042.65\n",
      "Median = 271.42\n",
      "Mode = [276.948, 829.08]\n",
      "Khu vực 3 là Đà Nẵng có :\n",
      "Min = 20.11\n",
      "Max = 1022.49\n",
      "Median = 249.65\n",
      "Mode = [263.97]\n"
     ]
    }
   ],
   "source": [
    "index_city = np.where(title=='City')[0][0]\n",
    "city = np.unique(data[:,index_city])\n",
    "tongdon_kv1 = tongdon[np.where(data[:,index_city]==city[0])]\n",
    "tongdon_kv2 = tongdon[np.where(data[:,index_city]==city[1])]\n",
    "tongdon_kv3 = tongdon[np.where(data[:,index_city]==city[2])]\n",
    "op3 = f'Khu vực 1 là {city[0]} có :\\n{question(tongdon_kv1)}\\nKhu vực 2 là {city[1]} có :\\n{question(tongdon_kv2)}\\nKhu vực 3 là {city[2]} có :\\n{question(tongdon_kv3)}'\n",
    "print(op3)"
   ]
  },
  {
   "cell_type": "markdown",
   "metadata": {},
   "source": [
    "4. Tìm min, max, mean, median, mode cho rating theo giới tính, chi nhánh."
   ]
  },
  {
   "cell_type": "code",
   "execution_count": 4,
   "metadata": {},
   "outputs": [
    {
     "name": "stdout",
     "output_type": "stream",
     "text": [
      "\u001b[93m Rating theo giới tính nam :\u001b[00m\n",
      "Min = 4.00\n",
      "Max = 10.00\n",
      "Median = 6.90\n",
      "Mode = [6.0]\n",
      "\u001b[93m Rating theo giới tính nữ:\u001b[00m\n",
      "Min = 4.00\n",
      "Max = 10.00\n",
      "Median = 7.10\n",
      "Mode = [9.5]\n",
      "\u001b[93m Khu vực 1 là Hà Nội có rating :\u001b[00m\n",
      "Min = 4.00\n",
      "Max = 9.90\n",
      "Median = 7.00\n",
      "Mode = [6.6]\n",
      "\u001b[93m Khu vực 2 là TP HCM có rating :\u001b[00m\n",
      "Min = 4.00\n",
      "Max = 10.00\n",
      "Median = 7.00\n",
      "Mode = [6.0]\n",
      "\u001b[93m Khu vực 3 là Đà Nẵng có rating :\u001b[00m\n",
      "Min = 4.00\n",
      "Max = 10.00\n",
      "Median = 6.70\n",
      "Mode = [6.5]\n"
     ]
    }
   ],
   "source": [
    "index_rating = np.where(title=='Rating')[0][0]\n",
    "rating = data[:,index_rating].astype(np.float32)\n",
    "# Theo giới tính\n",
    "rating_nam = rating[np.where(data[:,index_sex]=='Nam')]\n",
    "rating_nu = rating[np.where(data[:,index_sex]=='Nữ')]\n",
    "print(\"\\033[93m {}\\033[00m\".format('Rating theo giới tính nam :'))\n",
    "print(question(rating_nam))\n",
    "print(\"\\033[93m {}\\033[00m\".format('Rating theo giới tính nữ:'))\n",
    "print(question(rating_nu))\n",
    "#Theo khu vực\n",
    "index_city = np.where(title=='City')[0][0]\n",
    "city = np.unique(data[:,index_city])\n",
    "rating_kv1 = rating[np.where(data[:,index_city]==city[0])]\n",
    "rating_kv2 = rating[np.where(data[:,index_city]==city[1])]\n",
    "rating_kv3 = rating[np.where(data[:,index_city]==city[2])]\n",
    "\n",
    "print(\"\\033[93m {}\\033[00m\".format(f'Khu vực 1 là {city[0]} có rating :'))\n",
    "print(question(rating_kv1))\n",
    "print(\"\\033[93m {}\\033[00m\".format(f'Khu vực 2 là {city[1]} có rating :'))\n",
    "print(question(rating_kv2))\n",
    "print(\"\\033[93m {}\\033[00m\".format(f'Khu vực 3 là {city[2]} có rating :'))\n",
    "print(question(rating_kv3))\n",
    "op4 = f'Rating theo giới tính nam :\\n{question(rating_nam)}\\nRating theo giới tính nữ:\\n{question(rating_nu)}\\nKhu vực 1 là {city[0]} có rating :\\n{question(rating_kv1)}\\nKhu vực 2 là {city[1]} có rating:\\n{question(rating_kv2)}\\nKhu vực 3 là {city[2]} có rating:\\n{question(rating_kv3)}'"
   ]
  },
  {
   "cell_type": "markdown",
   "metadata": {},
   "source": [
    "5.Lưu các kết quả lên file"
   ]
  },
  {
   "cell_type": "code",
   "execution_count": 6,
   "metadata": {},
   "outputs": [],
   "source": [
    "file = open('save.txt', 'w+', encoding=\"utf-8\")\n",
    "file.writelines(str('B1.Min, max, mean, median, mode cho tổng đơn\\n'+ op1+'\\n'))\n",
    "file.writelines(str('B2.Min, max, mean, median, mode cho tổng đơn theo giới tính\\n'+op2+'\\n'))\n",
    "file.writelines(str('B3.Min, max, mean, median, mode cho tổng đơn theo chi nhánh\\n'+op3+'\\n'))\n",
    "file.writelines(str('B4.Min, max, mean, median, mode cho rating theo giới tính, chi nhánh\\n'+op4))\n",
    "file.close()"
   ]
  }
 ],
 "metadata": {
  "interpreter": {
   "hash": "9793e026600ea3138d2b4af1f570ba87428b67ac3db0391f1962ee6a9c241852"
  },
  "kernelspec": {
   "display_name": "Python 3.9.6 64-bit",
   "language": "python",
   "name": "python3"
  },
  "language_info": {
   "codemirror_mode": {
    "name": "ipython",
    "version": 3
   },
   "file_extension": ".py",
   "mimetype": "text/x-python",
   "name": "python",
   "nbconvert_exporter": "python",
   "pygments_lexer": "ipython3",
   "version": "3.9.6"
  },
  "orig_nbformat": 4
 },
 "nbformat": 4,
 "nbformat_minor": 2
}
