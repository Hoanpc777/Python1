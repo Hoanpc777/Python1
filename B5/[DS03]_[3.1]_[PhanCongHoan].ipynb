{
 "cells": [
  {
   "cell_type": "markdown",
   "metadata": {},
   "source": [
    "Thực hiện lại bài tập với dữ liệu bán lẻ ở Tuần 2 nhưng sử dụng Numpy:\n",
    "1. Tìm min, max, mean, median, mode cho tổng đơn."
   ]
  },
  {
   "cell_type": "code",
   "execution_count": 1,
   "metadata": {},
   "outputs": [
    {
     "name": "stdout",
     "output_type": "stream",
     "text": [
      "Min = 10.678500175476074\n",
      "Max = 1042.6500244140625\n",
      "Median = 253.84799194335938\n",
      "Mode = [87.234, 93.744, 175.917, 189.0945, 216.846, 217.6335, 263.97, 276.948, 470.988, 829.08]\n",
      "['Invoice ID' 'City' 'Customer type' 'Gender' 'Product line' 'Unit price'\n",
      " 'Quantity' 'Tax 5%' 'Total' 'Date' 'Time' 'Payment' 'cogs' 'Rating']\n"
     ]
    }
   ],
   "source": [
    "import numpy as np\n",
    "file = np.genfromtxt(r'C:\\Users\\Hoanpc.TSTDESK01\\Desktop\\Python\\B4\\data\\supermarket_sales_vn.csv',encoding='utf-8', delimiter=',',dtype=str)\n",
    "title = file[0,:]\n",
    "data = file[1:,:]\n",
    "index_tongdon = np.where(title=='Total')[0][0]\n",
    "tongdon = data[:,index_tongdon].astype(np.float32)\n",
    "min = np.min(tongdon)\n",
    "max = np.max(tongdon)\n",
    "median = np.median(tongdon)\n",
    "#mode\n",
    "value,i = np.unique(tongdon,return_counts=True)\n",
    "Mode = value[np.where(i==np.max(i))]\n",
    "print(f'Min = {min}\\nMax = {max}\\nMedian = {median}\\nMode = {list(Mode)}')\n",
    "print(title)"
   ]
  },
  {
   "cell_type": "markdown",
   "metadata": {},
   "source": [
    "2. Tìm min, max, mean, median, mode cho tổng đơn theo giới tính"
   ]
  },
  {
   "cell_type": "code",
   "execution_count": 4,
   "metadata": {},
   "outputs": [],
   "source": [
    "tongdon_nam = np.where(data=='Nam')\n",
    "# print(tongdon_nam)"
   ]
  },
  {
   "cell_type": "code",
   "execution_count": null,
   "metadata": {},
   "outputs": [],
   "source": []
  }
 ],
 "metadata": {
  "interpreter": {
   "hash": "9793e026600ea3138d2b4af1f570ba87428b67ac3db0391f1962ee6a9c241852"
  },
  "kernelspec": {
   "display_name": "Python 3.9.6 64-bit",
   "language": "python",
   "name": "python3"
  },
  "language_info": {
   "codemirror_mode": {
    "name": "ipython",
    "version": 3
   },
   "file_extension": ".py",
   "mimetype": "text/x-python",
   "name": "python",
   "nbconvert_exporter": "python",
   "pygments_lexer": "ipython3",
   "version": "3.9.6"
  },
  "orig_nbformat": 4
 },
 "nbformat": 4,
 "nbformat_minor": 2
}
