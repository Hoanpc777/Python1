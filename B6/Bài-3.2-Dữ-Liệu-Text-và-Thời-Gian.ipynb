{
 "cells": [
  {
   "cell_type": "markdown",
   "id": "ae70d38d",
   "metadata": {},
   "source": [
    "# Phần 1: Cơ bản về xử lý dữ liệu text"
   ]
  },
  {
   "cell_type": "code",
   "execution_count": 3,
   "id": "1bcf1323",
   "metadata": {},
   "outputs": [],
   "source": [
    "import numpy as np"
   ]
  },
  {
   "cell_type": "markdown",
   "id": "5e11f4da",
   "metadata": {},
   "source": [
    "## 1.1. Cấu thành dữ liệu text"
   ]
  },
  {
   "cell_type": "code",
   "execution_count": 2,
   "id": "5833c9d9",
   "metadata": {},
   "outputs": [
    {
     "name": "stdout",
     "output_type": "stream",
     "text": [
      "False\n"
     ]
    }
   ],
   "source": [
    "# Ví dụ\n",
    "dia_phuong_1 = 'cà Mau'\n",
    "dia_phuong_2 = 'Cà Mau'\n",
    "print(dia_phuong_1 == dia_phuong_2)"
   ]
  },
  {
   "cell_type": "code",
   "execution_count": 1,
   "id": "6fe3d0d2",
   "metadata": {},
   "outputs": [
    {
     "name": "stdout",
     "output_type": "stream",
     "text": [
      "Xin Chào! Tôi tên là Trần Văn A\n"
     ]
    }
   ],
   "source": [
    "print(\"Xin Chào! Tôi tên là Trần Văn A\")"
   ]
  },
  {
   "cell_type": "code",
   "execution_count": 4,
   "id": "fa4607c8",
   "metadata": {},
   "outputs": [
    {
     "name": "stdout",
     "output_type": "stream",
     "text": [
      "Xin Chào! Tôi tên là Trần Văn B\n"
     ]
    }
   ],
   "source": [
    "lời_chào = \"Xin Chào! Tôi tên là Trần Văn B\"\n",
    "print(lời_chào)"
   ]
  },
  {
   "cell_type": "code",
   "execution_count": 6,
   "id": "065788c2",
   "metadata": {},
   "outputs": [
    {
     "name": "stdout",
     "output_type": "stream",
     "text": [
      "Xin Chào! \n",
      "  Tôi tên là Trần Văn B\n"
     ]
    }
   ],
   "source": [
    "lời_chào = \"Xin Chào! \\n  Tôi tên là Trần Văn B\"\n",
    "print(lời_chào)"
   ]
  },
  {
   "cell_type": "code",
   "execution_count": 59,
   "id": "dd2c4c19",
   "metadata": {
    "scrolled": false
   },
   "outputs": [
    {
     "name": "stdout",
     "output_type": "stream",
     "text": [
      "Xin Chào!\n",
      "\tTôi tên là 'Trần Văn A'\n"
     ]
    }
   ],
   "source": [
    "lời_chào = \"Xin Chào!\\n\\tTôi tên là 'Trần Văn A'\"\n",
    "print(lời_chào)"
   ]
  },
  {
   "cell_type": "code",
   "execution_count": 11,
   "id": "6c3c95e6",
   "metadata": {
    "scrolled": false
   },
   "outputs": [
    {
     "name": "stdout",
     "output_type": "stream",
     "text": [
      "Xin Chào!\n",
      "Tôi tên là \"Trần Văn A\"\n"
     ]
    }
   ],
   "source": [
    "lời_chào = \"Xin Chào!\\nTôi tên là \\\"Trần Văn A\\\"\"\n",
    "print(lời_chào)"
   ]
  },
  {
   "cell_type": "code",
   "execution_count": 6,
   "id": "0b63fece",
   "metadata": {
    "scrolled": true
   },
   "outputs": [
    {
     "name": "stdout",
     "output_type": "stream",
     "text": [
      "Tôi tên là: \n",
      " \"Trần \\Văn A\"\n"
     ]
    }
   ],
   "source": [
    "print(\"Tôi tên là: \\n \\\"Trần \\\\Văn A\\\"\")"
   ]
  },
  {
   "cell_type": "code",
   "execution_count": 7,
   "id": "40154cf2",
   "metadata": {},
   "outputs": [
    {
     "name": "stdout",
     "output_type": "stream",
     "text": [
      "Tôi tên là: \\nTrần Văn A\n"
     ]
    }
   ],
   "source": [
    "print(r\"Tôi tên là: \\nTrần Văn A\")"
   ]
  },
  {
   "cell_type": "code",
   "execution_count": 14,
   "id": "4b5ba418",
   "metadata": {},
   "outputs": [
    {
     "name": "stdout",
     "output_type": "stream",
     "text": [
      "Xin Chào!\n",
      "\n",
      "Tôi tên là 'Trần Văn A'\n"
     ]
    }
   ],
   "source": [
    "lời_chào = \"\"\"Xin Chào!\\n\n",
    "Tôi tên là 'Trần Văn A'\"\"\"\n",
    "print(lời_chào)"
   ]
  },
  {
   "cell_type": "code",
   "execution_count": 27,
   "id": "3fd31560",
   "metadata": {},
   "outputs": [
    {
     "name": "stdout",
     "output_type": "stream",
     "text": [
      "Xin Chào!\n",
      "Tôi tên là 'Trần Văn A'\n",
      "----\n",
      "Rất vui được làm quen\n"
     ]
    }
   ],
   "source": [
    "lời_chào = '''Xin Chào!\n",
    "Tôi tên là \\'Trần Văn A\\'\n",
    "----\n",
    "Rất vui được làm quen'''\n",
    "print(lời_chào)"
   ]
  },
  {
   "cell_type": "code",
   "execution_count": 9,
   "id": "31294e50",
   "metadata": {},
   "outputs": [
    {
     "ename": "TypeError",
     "evalue": "'str' object does not support item assignment",
     "output_type": "error",
     "traceback": [
      "\u001b[0;31m---------------------------------------------------------------------------\u001b[0m",
      "\u001b[0;31mTypeError\u001b[0m                                 Traceback (most recent call last)",
      "\u001b[0;32m<ipython-input-9-664713a6ae0d>\u001b[0m in \u001b[0;36m<module>\u001b[0;34m\u001b[0m\n\u001b[1;32m      1\u001b[0m \u001b[0mvd\u001b[0m \u001b[0;34m=\u001b[0m \u001b[0;34m\"abc\"\u001b[0m\u001b[0;34m\u001b[0m\u001b[0;34m\u001b[0m\u001b[0m\n\u001b[0;32m----> 2\u001b[0;31m \u001b[0mvd\u001b[0m\u001b[0;34m[\u001b[0m\u001b[0;36m1\u001b[0m\u001b[0;34m]\u001b[0m \u001b[0;34m=\u001b[0m \u001b[0;34m'd'\u001b[0m\u001b[0;34m\u001b[0m\u001b[0;34m\u001b[0m\u001b[0m\n\u001b[0m\u001b[1;32m      3\u001b[0m \u001b[0mprint\u001b[0m\u001b[0;34m(\u001b[0m\u001b[0mvd\u001b[0m\u001b[0;34m)\u001b[0m\u001b[0;34m\u001b[0m\u001b[0;34m\u001b[0m\u001b[0m\n",
      "\u001b[0;31mTypeError\u001b[0m: 'str' object does not support item assignment"
     ]
    }
   ],
   "source": [
    "# Sau khi khai báo, giá trị của ký tự trong chuỗi không thay đổi được (immutable)\n",
    "vd = \"abc\"\n",
    "vd[1] = 'd'\n",
    "print(vd)"
   ]
  },
  {
   "cell_type": "markdown",
   "id": "bdc9d047",
   "metadata": {},
   "source": [
    "## 1.2. Các xử lý arrays trên chuỗi text"
   ]
  },
  {
   "cell_type": "code",
   "execution_count": 15,
   "id": "424f6a7b",
   "metadata": {},
   "outputs": [
    {
     "name": "stdout",
     "output_type": "stream",
     "text": [
      "33\n"
     ]
    }
   ],
   "source": [
    "# len()\n",
    "lời_chào = \"Xin Chào!\\nTôi tên là 'Trần Văn A'\"\n",
    "print(len(lời_chào))"
   ]
  },
  {
   "cell_type": "code",
   "execution_count": 22,
   "id": "9bbfba95",
   "metadata": {},
   "outputs": [
    {
     "name": "stdout",
     "output_type": "stream",
     "text": [
      "Xin Chào!\n",
      "'Trần Văn D\n"
     ]
    }
   ],
   "source": [
    "# slicing\n",
    "lời_chào = \"Xin Chào!\\nTôi tên là 'Trần Văn D'\"\n",
    "str1 = lời_chào[:9]\n",
    "str2 = lời_chào[-12:-1]\n",
    "print(str1)\n",
    "print(str2)"
   ]
  },
  {
   "cell_type": "code",
   "execution_count": 24,
   "id": "e46cab3e",
   "metadata": {},
   "outputs": [
    {
     "name": "stdout",
     "output_type": "stream",
     "text": [
      "b\n"
     ]
    }
   ],
   "source": [
    "# looping\n",
    "vd = \"abc\"\n",
    "for letter in vd: \n",
    "    if letter == 'b': print(letter)"
   ]
  },
  {
   "cell_type": "markdown",
   "id": "ddfd369e",
   "metadata": {},
   "source": [
    "## 1.3. Các phương thức cơ bản của chuỗi"
   ]
  },
  {
   "cell_type": "code",
   "execution_count": 30,
   "id": "22a179d3",
   "metadata": {},
   "outputs": [
    {
     "name": "stdout",
     "output_type": "stream",
     "text": [
      "xin chào\n",
      "XIN CHÀO\n"
     ]
    }
   ],
   "source": [
    "# lower(), upper()\n",
    "lời_chào = \"Xin Chào\"\n",
    "print(lời_chào.lower())\n",
    "print(lời_chào.upper())"
   ]
  },
  {
   "cell_type": "code",
   "execution_count": 36,
   "id": "c2154e7c",
   "metadata": {},
   "outputs": [
    {
     "name": "stdout",
     "output_type": "stream",
     "text": [
      "7\n",
      "31\n"
     ]
    }
   ],
   "source": [
    "# count(), find()\n",
    "tin_nhắn = \"Qua bảo qua qua mà qua hổng qua\"\n",
    "n = tin_nhắn.lower().count(' ')\n",
    "print(n)\n",
    "print(len(tin_nhắn))"
   ]
  },
  {
   "cell_type": "code",
   "execution_count": 42,
   "id": "6ee1bc5e",
   "metadata": {},
   "outputs": [
    {
     "name": "stdout",
     "output_type": "stream",
     "text": [
      "Tôi thích ăn chuối, ko thích ăn sầu riêng\n",
      "Tôi khoái ăn chuối, ko thích ăn sầu riêng\n"
     ]
    }
   ],
   "source": [
    "# replace()\n",
    "vd = \"Tôi thích ăn chuối, ko thích ăn sầu riêng\"\n",
    "vd1 = vd.replace('thích', 'khoái', 1)\n",
    "print(vd)\n",
    "print(vd1)"
   ]
  },
  {
   "cell_type": "code",
   "execution_count": 44,
   "id": "fe1f7428",
   "metadata": {},
   "outputs": [
    {
     "name": "stdout",
     "output_type": "stream",
     "text": [
      "['Tôi', 'thích', 'ăn', 'chuối,', 'ko', 'thích', 'ăn', 'sầu', 'riêng']\n"
     ]
    }
   ],
   "source": [
    "# split()\n",
    "vd = \"Tôi thích ăn chuối, ko thích ăn sầu riêng\"\n",
    "kq = vd.split()\n",
    "print(kq)"
   ]
  },
  {
   "cell_type": "code",
   "execution_count": 43,
   "id": "c9aca35e",
   "metadata": {},
   "outputs": [
    {
     "name": "stdout",
     "output_type": "stream",
     "text": [
      "['Tôi thích ăn chuối', ' ko thích ăn sầu riêng']\n"
     ]
    }
   ],
   "source": [
    "# split()\n",
    "vd = \"Tôi thích ăn chuối, ko thích ăn sầu riêng\"\n",
    "kq = vd.split(',')\n",
    "print(kq)"
   ]
  },
  {
   "cell_type": "code",
   "execution_count": 50,
   "id": "440b4a58",
   "metadata": {},
   "outputs": [
    {
     "name": "stdout",
     "output_type": "stream",
     "text": [
      "['D:', 'study', 'data-science', 'bai tap 01', 'doanh_so_ban_hang_20210730.csv']\n"
     ]
    }
   ],
   "source": [
    "# split()\n",
    "filepath = \"D:/study/data-science/bai tap 01/doanh_so_ban_hang_20210730.csv\"\n",
    "kq = filepath.split('/')\n",
    "print(kq)"
   ]
  },
  {
   "cell_type": "code",
   "execution_count": 52,
   "id": "542c5d26",
   "metadata": {},
   "outputs": [
    {
     "name": "stdout",
     "output_type": "stream",
     "text": [
      "doanh_so_ban_hang_20210730.png\n"
     ]
    }
   ],
   "source": [
    "# Ghép chuỗi: phép cộng chuỗi, phép join()\n",
    "ten_file = kq[-1][0:-4]\n",
    "ten_file = ten_file + '.png'\n",
    "print(ten_file)"
   ]
  },
  {
   "cell_type": "code",
   "execution_count": 57,
   "id": "738c1914",
   "metadata": {},
   "outputs": [
    {
     "name": "stdout",
     "output_type": "stream",
     "text": [
      "Danh sách các hàng hóa thiết yếu: Thực phẩm; Thuốc men; Sữa; Vật dụng y tế\n"
     ]
    }
   ],
   "source": [
    "my_list = ['Thực phẩm', 'Thuốc men', 'Sữa', 'Vật dụng y tế']\n",
    "my_str  = \"Danh sách các hàng hóa thiết yếu: \" + '; '.join(my_list)\n",
    "print(my_str)"
   ]
  },
  {
   "cell_type": "code",
   "execution_count": 54,
   "id": "78dbd444",
   "metadata": {},
   "outputs": [
    {
     "name": "stdout",
     "output_type": "stream",
     "text": [
      "1;2;3;4;5\n"
     ]
    }
   ],
   "source": [
    "my_list = [1,2,3,4,5]\n",
    "my_str  = ';'.join([str(item) for item in my_list])\n",
    "print(my_str)"
   ]
  },
  {
   "cell_type": "code",
   "execution_count": 38,
   "id": "f760825c",
   "metadata": {},
   "outputs": [
    {
     "name": "stdout",
     "output_type": "stream",
     "text": [
      "True\n"
     ]
    }
   ],
   "source": [
    "# Kiểm tra chuỗi con: in \n",
    "binh_luan = \"SP còn khuyến mÃi ko ad?\"\n",
    "print('khuyến mãi' in binh_luan.lower())"
   ]
  },
  {
   "cell_type": "markdown",
   "id": "dafd5bb6",
   "metadata": {},
   "source": [
    "## 1.4. Format chuỗi kết quả tính toán"
   ]
  },
  {
   "cell_type": "code",
   "execution_count": 72,
   "id": "481d4c95",
   "metadata": {},
   "outputs": [
    {
     "name": "stdout",
     "output_type": "stream",
     "text": [
      "Bạn Tý có chiều cao là 172cm và cân nặng là 65.712000kg\n"
     ]
    }
   ],
   "source": [
    "vd = \"Bạn %s có chiều cao là %dcm và cân nặng là %fkg\"%('Tý', 172, 65.712)\n",
    "print(vd)"
   ]
  },
  {
   "cell_type": "code",
   "execution_count": 74,
   "id": "fdbd2952",
   "metadata": {},
   "outputs": [
    {
     "name": "stdout",
     "output_type": "stream",
     "text": [
      "Bạn Tý có chiều cao là 172cm và cân nặng là 65.8kg\n"
     ]
    }
   ],
   "source": [
    "vd = \"Bạn %s có chiều cao là %dcm và cân nặng là %2.1fkg\"%('Tý', 172, 65.772)\n",
    "print(vd)"
   ]
  },
  {
   "cell_type": "code",
   "execution_count": 61,
   "id": "7e01ad16",
   "metadata": {},
   "outputs": [
    {
     "name": "stdout",
     "output_type": "stream",
     "text": [
      "PI có giá trị là 3.14159265359\n"
     ]
    }
   ],
   "source": [
    "tên_biến = 'PI'\n",
    "giá_trị = 3.14159265359\n",
    "vd = f\"{tên_biến} có giá trị là {giá_trị}\"\n",
    "print(vd)"
   ]
  },
  {
   "cell_type": "code",
   "execution_count": 69,
   "id": "9a436736",
   "metadata": {},
   "outputs": [
    {
     "name": "stdout",
     "output_type": "stream",
     "text": [
      "PI có giá trị là 3.14\n"
     ]
    }
   ],
   "source": [
    "tên_biến = 'PI'\n",
    "giá_trị = 3.14159265359\n",
    "vd = f\"{tên_biến} có giá trị là {giá_trị:.2f}\"\n",
    "print(vd)"
   ]
  },
  {
   "cell_type": "code",
   "execution_count": 77,
   "id": "0280d48a",
   "metadata": {},
   "outputs": [
    {
     "name": "stdout",
     "output_type": "stream",
     "text": [
      "PI có giá trị là 3.14\n"
     ]
    }
   ],
   "source": [
    "tên_biến = 'PI'\n",
    "giá_trị = 3.14159265359\n",
    "vd = \"{} có giá trị là {:.2f}\".format(tên_biến, giá_trị)\n",
    "print(vd)"
   ]
  },
  {
   "cell_type": "markdown",
   "id": "3ba30d56",
   "metadata": {},
   "source": [
    "## 1.5. Một số xử lý text với Numpy"
   ]
  },
  {
   "cell_type": "code",
   "execution_count": 51,
   "id": "b101ea98",
   "metadata": {},
   "outputs": [
    {
     "name": "stdout",
     "output_type": "stream",
     "text": [
      "True\n",
      "True\n",
      "True\n",
      "True\n",
      "True\n"
     ]
    }
   ],
   "source": [
    "# Kiểm tra text có phải là số, chữ, chữ+số\n",
    "print(np.char.isdigit('123'))\n",
    "print(np.char.isnumeric('123'))\n",
    "print(np.char.isdecimal('123'))\n",
    "print(np.char.isalpha('abcd'))\n",
    "print(np.char.isalnum('123abcd'))"
   ]
  },
  {
   "cell_type": "code",
   "execution_count": 54,
   "id": "af69173a",
   "metadata": {},
   "outputs": [
    {
     "name": "stdout",
     "output_type": "stream",
     "text": [
      "True\n",
      "False\n"
     ]
    }
   ],
   "source": [
    "# Kiểm tra 1 text có dạng title (viết hoa ký tự đầu của từng chữ)\n",
    "print(np.char.istitle(\"Xin Chào Các Bạn\"))\n",
    "print(np.char.istitle(\"xin chào các bạn\"))"
   ]
  },
  {
   "cell_type": "markdown",
   "id": "bd73be0a",
   "metadata": {},
   "source": [
    "## 1.6. Parse dữ liệu text sang dạng số"
   ]
  },
  {
   "cell_type": "code",
   "execution_count": 10,
   "id": "ddd5fe51",
   "metadata": {},
   "outputs": [
    {
     "name": "stdout",
     "output_type": "stream",
     "text": [
      "12345\n",
      "12345.0\n"
     ]
    }
   ],
   "source": [
    "# Parsing thông thường bằng hàm của Python\n",
    "a = \"12345\"\n",
    "b = int(a)\n",
    "c = float(a)\n",
    "print(b)\n",
    "print(c)"
   ]
  },
  {
   "cell_type": "code",
   "execution_count": 14,
   "id": "c2eae15e",
   "metadata": {},
   "outputs": [
    {
     "name": "stdout",
     "output_type": "stream",
     "text": [
      "12345\n"
     ]
    }
   ],
   "source": [
    "# Parsing bằng Numpy\n",
    "a = \"12345.123\"\n",
    "#b = np.int(a)\n",
    "c = np.int16(np.float(a))\n",
    "#print(b)\n",
    "print(c)"
   ]
  },
  {
   "cell_type": "code",
   "execution_count": 143,
   "id": "80b46175",
   "metadata": {},
   "outputs": [
    {
     "name": "stderr",
     "output_type": "stream",
     "text": [
      "<ipython-input-143-117cc645582d>:3: DeprecationWarning: string or file could not be read to its end due to unmatched data; this will raise a ValueError in the future.\n",
      "  np.fromstring(a, dtype=np.float32, sep=' ')\n"
     ]
    },
    {
     "data": {
      "text/plain": [
       "array([12345.123], dtype=float32)"
      ]
     },
     "execution_count": 143,
     "metadata": {},
     "output_type": "execute_result"
    }
   ],
   "source": [
    "# Parsing một chuỗi các chữ số bằng Numpy\n",
    "a = \"12345.123 abc\"\n",
    "np.fromstring(a, dtype=np.float32, sep=' ')"
   ]
  },
  {
   "cell_type": "code",
   "execution_count": 24,
   "id": "36c8ba3d",
   "metadata": {},
   "outputs": [
    {
     "data": {
      "text/plain": [
       "array([  3.14,   2.83, 100.1 ], dtype=float16)"
      ]
     },
     "execution_count": 24,
     "metadata": {},
     "output_type": "execute_result"
    }
   ],
   "source": [
    "# Parsing một list các số dạng text bằng Numpy\n",
    "a = ['3.14', '2.83', '100.1']\n",
    "#int(a), np.float(a)\n",
    "#np.array(a).astype(np.float16)\n",
    "np.array(a, dtype=np.float16)"
   ]
  },
  {
   "cell_type": "code",
   "execution_count": 92,
   "id": "68a1d423",
   "metadata": {},
   "outputs": [
    {
     "name": "stdout",
     "output_type": "stream",
     "text": [
      "['3.14', '2.83abc', '100.1']\n",
      "[3.14, '2.83abc', 100.1]\n"
     ]
    }
   ],
   "source": [
    "# Cách convert 1 mảng gồm số dạng float và text\n",
    "def my_convert(x):\n",
    "    try: \n",
    "        kq = np.float(x)\n",
    "        #print(type(kq))\n",
    "    except:\n",
    "        #print(x)\n",
    "        kq = x\n",
    "    return kq\n",
    "\n",
    "a = ['3.14', '2.83abc', '100.1']\n",
    "print(a)\n",
    "b = [my_convert(item) for item in a]\n",
    "print(b)"
   ]
  },
  {
   "cell_type": "markdown",
   "id": "b359e3aa",
   "metadata": {},
   "source": [
    "# Phần 2: Cơ bản về dữ liệu thời gian"
   ]
  },
  {
   "cell_type": "markdown",
   "id": "bc4c7935",
   "metadata": {},
   "source": [
    "## 2.1. Các loại dữ liệu thời gian thông dụng"
   ]
  },
  {
   "cell_type": "code",
   "execution_count": 99,
   "id": "f44a1aa1",
   "metadata": {},
   "outputs": [
    {
     "name": "stdout",
     "output_type": "stream",
     "text": [
      "2021-09-17 16:44:49.085825\n",
      "2021-09-17\n",
      "2021-09-17 16:44:49.086291\n"
     ]
    }
   ],
   "source": [
    "# Lấy ngày và giờ hiện tại\n",
    "import datetime as dt\n",
    "today = dt.datetime.today()\n",
    "print(today)\n",
    "\n",
    "today = dt.date.today()\n",
    "print(today)\n",
    "\n",
    "now = dt.datetime.now()\n",
    "print(now)"
   ]
  },
  {
   "cell_type": "code",
   "execution_count": 94,
   "id": "a51c7eda",
   "metadata": {},
   "outputs": [
    {
     "name": "stdout",
     "output_type": "stream",
     "text": [
      "2007-12-06 16:29:43.079043\n"
     ]
    }
   ],
   "source": [
    "# Tạo một đối tượng datetime (bao gồm ngày và giờ)\n",
    "a_day = dt.datetime(2007, 12, 6, 16, 29, 43, 79043)\n",
    "print(a_day)"
   ]
  },
  {
   "cell_type": "code",
   "execution_count": 96,
   "id": "9b7ee9f7",
   "metadata": {},
   "outputs": [
    {
     "name": "stdout",
     "output_type": "stream",
     "text": [
      "2007-12-06 16:29:43\n"
     ]
    }
   ],
   "source": [
    "# Tạo đối tượng datetime với tham số cho rõ hơn\n",
    "a_day = dt.datetime(year=2007, month=12, day=6, hour=16, minute=29, second=43)\n",
    "print(a_day)"
   ]
  },
  {
   "cell_type": "code",
   "execution_count": 97,
   "id": "32bf6616",
   "metadata": {},
   "outputs": [
    {
     "name": "stdout",
     "output_type": "stream",
     "text": [
      "2020-11-20\n"
     ]
    }
   ],
   "source": [
    "# Kiểu date\n",
    "a_date = dt.date(2020, 11, 20)\n",
    "print(a_date)"
   ]
  },
  {
   "cell_type": "code",
   "execution_count": 98,
   "id": "6024597d",
   "metadata": {},
   "outputs": [
    {
     "ename": "ValueError",
     "evalue": "day is out of range for month",
     "output_type": "error",
     "traceback": [
      "\u001b[0;31m---------------------------------------------------------------------------\u001b[0m",
      "\u001b[0;31mValueError\u001b[0m                                Traceback (most recent call last)",
      "\u001b[0;32m<ipython-input-98-bcc33b77ae57>\u001b[0m in \u001b[0;36m<module>\u001b[0;34m\u001b[0m\n\u001b[1;32m      1\u001b[0m \u001b[0;31m# date\u001b[0m\u001b[0;34m\u001b[0m\u001b[0;34m\u001b[0m\u001b[0;34m\u001b[0m\u001b[0m\n\u001b[1;32m      2\u001b[0m \u001b[0;32mimport\u001b[0m \u001b[0mdatetime\u001b[0m\u001b[0;34m\u001b[0m\u001b[0;34m\u001b[0m\u001b[0m\n\u001b[0;32m----> 3\u001b[0;31m \u001b[0ma_date\u001b[0m \u001b[0;34m=\u001b[0m \u001b[0mdatetime\u001b[0m\u001b[0;34m.\u001b[0m\u001b[0mdate\u001b[0m\u001b[0;34m(\u001b[0m\u001b[0;36m2021\u001b[0m\u001b[0;34m,\u001b[0m \u001b[0;36m2\u001b[0m\u001b[0;34m,\u001b[0m \u001b[0;36m29\u001b[0m\u001b[0;34m)\u001b[0m\u001b[0;34m\u001b[0m\u001b[0;34m\u001b[0m\u001b[0m\n\u001b[0m\u001b[1;32m      4\u001b[0m \u001b[0mprint\u001b[0m\u001b[0;34m(\u001b[0m\u001b[0ma_date\u001b[0m\u001b[0;34m)\u001b[0m\u001b[0;34m\u001b[0m\u001b[0;34m\u001b[0m\u001b[0m\n",
      "\u001b[0;31mValueError\u001b[0m: day is out of range for month"
     ]
    }
   ],
   "source": [
    "# Thử tạo với ngày ko có thật\n",
    "a_date = dt.date(2021, 2, 29)\n",
    "print(a_date)"
   ]
  },
  {
   "cell_type": "code",
   "execution_count": 86,
   "id": "b89ea145",
   "metadata": {},
   "outputs": [
    {
     "name": "stdout",
     "output_type": "stream",
     "text": [
      "2021-08-22\n",
      "21:45:50.530647\n"
     ]
    }
   ],
   "source": [
    "# Lấy ra ngày và giờ từ đối tượng datetime\n",
    "today = dt.datetime.now().date()\n",
    "this_time = dt.datetime.now().time()\n",
    "print(today)\n",
    "print(this_time)"
   ]
  },
  {
   "cell_type": "code",
   "execution_count": 28,
   "id": "3f9da5fb",
   "metadata": {},
   "outputs": [
    {
     "name": "stdout",
     "output_type": "stream",
     "text": [
      "2021-08-24\n",
      "08:55:23.098386\n",
      "2021-08-24 08:55:23.098386\n"
     ]
    }
   ],
   "source": [
    "# Sử dụng hàm datetime.combine để tạo đối tượng datetime\n",
    "today = dt.date.today()\n",
    "print(today)\n",
    "\n",
    "now = dt.datetime.now().time()\n",
    "print(now)\n",
    "\n",
    "today_now = dt.datetime.combine(today, now)\n",
    "print(today_now)"
   ]
  },
  {
   "cell_type": "markdown",
   "id": "65647aed",
   "metadata": {},
   "source": [
    "## 2.2. Parsing dữ liệu thời gian"
   ]
  },
  {
   "cell_type": "markdown",
   "id": "9804059c",
   "metadata": {},
   "source": [
    "**Chuyển đổi từ thời gian sang text**"
   ]
  },
  {
   "cell_type": "code",
   "execution_count": 96,
   "id": "7e877eb7",
   "metadata": {},
   "outputs": [
    {
     "name": "stdout",
     "output_type": "stream",
     "text": [
      "2021-08-22 08/22/21 Sunday August 22:01:30\n"
     ]
    }
   ],
   "source": [
    "# Parse một đối tượng datetime sang chuỗi text\n",
    "now = dt.datetime.now()\n",
    "time_str = now.strftime(\"%Y-%m-%d %D %A %B %H:%M:%S\")\n",
    "print(time_str)"
   ]
  },
  {
   "cell_type": "code",
   "execution_count": 101,
   "id": "3c02f4da",
   "metadata": {},
   "outputs": [
    {
     "name": "stdout",
     "output_type": "stream",
     "text": [
      "Fri Sep 17 16:49:25 2021\n"
     ]
    }
   ],
   "source": [
    "# Parse sang chuỗi text với kiểu định sẵn\n",
    "now = dt.datetime.now()\n",
    "time_str = now.strftime(\"%c\")\n",
    "print(time_str)"
   ]
  },
  {
   "cell_type": "code",
   "execution_count": 102,
   "id": "82a0d377",
   "metadata": {},
   "outputs": [
    {
     "name": "stdout",
     "output_type": "stream",
     "text": [
      "20\n"
     ]
    }
   ],
   "source": [
    "# Parse sang chuỗi text với kiểu định sẵn (%C)\n",
    "now = dt.datetime.now()\n",
    "time_str = now.strftime(\"%C\")\n",
    "print(time_str)"
   ]
  },
  {
   "cell_type": "code",
   "execution_count": 103,
   "id": "4a45d852",
   "metadata": {},
   "outputs": [
    {
     "name": "stdout",
     "output_type": "stream",
     "text": [
      "09/17/21\n"
     ]
    }
   ],
   "source": [
    "# Parse sang chuỗi text với kiểu định sẵn (%x)\n",
    "now = dt.datetime.now()\n",
    "time_str = now.strftime(\"%x\")\n",
    "print(time_str)"
   ]
  },
  {
   "cell_type": "code",
   "execution_count": 104,
   "id": "3329e6c3",
   "metadata": {},
   "outputs": [
    {
     "name": "stdout",
     "output_type": "stream",
     "text": [
      "16:49:58\n"
     ]
    }
   ],
   "source": [
    "# Parse sang chuỗi text với kiểu định sẵn (%X)\n",
    "now = dt.datetime.now()\n",
    "time_str = now.strftime(\"%X\")\n",
    "print(time_str)"
   ]
  },
  {
   "cell_type": "markdown",
   "id": "0d0fabf4",
   "metadata": {},
   "source": [
    "**Chuyển đổi từ text sang thời gian**"
   ]
  },
  {
   "cell_type": "code",
   "execution_count": 102,
   "id": "b7b1a403",
   "metadata": {},
   "outputs": [
    {
     "name": "stdout",
     "output_type": "stream",
     "text": [
      "2021-08-15 15:45:00\n"
     ]
    }
   ],
   "source": [
    "# Dùng hàm strptime\n",
    "a_dt = dt.datetime.strptime(\"15_08_2021 15:45\", \"%d_%m_%Y %H:%M\")\n",
    "print(a_dt)"
   ]
  },
  {
   "cell_type": "code",
   "execution_count": 106,
   "id": "ca366c14",
   "metadata": {},
   "outputs": [
    {
     "name": "stdout",
     "output_type": "stream",
     "text": [
      "2021-09-01 00:00:00\n"
     ]
    }
   ],
   "source": [
    "a_dt = dt.datetime.strptime(\"01 September 2021\", \"%d %B %Y\")\n",
    "print(a_dt)"
   ]
  },
  {
   "cell_type": "markdown",
   "id": "1c4f9b36",
   "metadata": {},
   "source": [
    "## 2.3. Các phép tính trên dữ liệu thời gian"
   ]
  },
  {
   "cell_type": "code",
   "execution_count": 109,
   "id": "82f9a159",
   "metadata": {},
   "outputs": [
    {
     "name": "stdout",
     "output_type": "stream",
     "text": [
      "2021-09-17 16:53:59.794858\n",
      "2021-09-17 17:53:59.794858\n",
      "2021-09-17 15:53:59.794858\n",
      "No\n",
      "OK lan thu 2\n"
     ]
    }
   ],
   "source": [
    "# Phép cộng trừ 1 giờ\n",
    "from datetime import timedelta\n",
    "now = dt.datetime.now()\n",
    "one_hr_later = now + timedelta(hours=1)\n",
    "one_hr_before = now - timedelta(hours=1)\n",
    "print(now)\n",
    "print(one_hr_later)\n",
    "print(one_hr_before)\n",
    "\n",
    "if one_hr_later < one_hr_before:\n",
    "    print(\"OK\")\n",
    "else:\n",
    "    print(\"No\")\n",
    "    \n",
    "if one_hr_later == one_hr_before + timedelta(hours=2):\n",
    "    print(\"OK lan thu 2\")"
   ]
  },
  {
   "cell_type": "code",
   "execution_count": 111,
   "id": "63cdcf13",
   "metadata": {},
   "outputs": [
    {
     "name": "stdout",
     "output_type": "stream",
     "text": [
      "2021-08-30 18:30:00\n",
      "2021-09-25 20:15:00\n",
      "26 days, 1:45:00\n"
     ]
    }
   ],
   "source": [
    "# Thực hiện trừ 2 ngày khác nhau\n",
    "d1 = dt.datetime(2021, 8, 30, 18, 30, 0)\n",
    "d2 = dt.datetime(2021, 9, 25, 20, 15, 0)\n",
    "print(d1)\n",
    "print(d2)\n",
    "diff = d2 - d1\n",
    "print(diff)"
   ]
  },
  {
   "cell_type": "code",
   "execution_count": 112,
   "id": "f2b224f6",
   "metadata": {},
   "outputs": [
    {
     "ename": "TypeError",
     "evalue": "unsupported operand type(s) for +: 'datetime.datetime' and 'datetime.datetime'",
     "output_type": "error",
     "traceback": [
      "\u001b[0;31m---------------------------------------------------------------------------\u001b[0m",
      "\u001b[0;31mTypeError\u001b[0m                                 Traceback (most recent call last)",
      "\u001b[0;32m<ipython-input-112-01ba39c6775b>\u001b[0m in \u001b[0;36m<module>\u001b[0;34m\u001b[0m\n\u001b[1;32m      1\u001b[0m \u001b[0;31m# Không thực hiện được phép cộng 2 ngày\u001b[0m\u001b[0;34m\u001b[0m\u001b[0;34m\u001b[0m\u001b[0;34m\u001b[0m\u001b[0m\n\u001b[0;32m----> 2\u001b[0;31m \u001b[0mtest\u001b[0m \u001b[0;34m=\u001b[0m \u001b[0md2\u001b[0m\u001b[0;34m+\u001b[0m\u001b[0md1\u001b[0m\u001b[0;34m\u001b[0m\u001b[0;34m\u001b[0m\u001b[0m\n\u001b[0m\u001b[1;32m      3\u001b[0m \u001b[0mprint\u001b[0m\u001b[0;34m(\u001b[0m\u001b[0mtest\u001b[0m\u001b[0;34m)\u001b[0m\u001b[0;34m\u001b[0m\u001b[0;34m\u001b[0m\u001b[0m\n",
      "\u001b[0;31mTypeError\u001b[0m: unsupported operand type(s) for +: 'datetime.datetime' and 'datetime.datetime'"
     ]
    }
   ],
   "source": [
    "# Không thực hiện được phép cộng 2 ngày\n",
    "test = d2+d1\n",
    "print(test)"
   ]
  },
  {
   "cell_type": "code",
   "execution_count": 113,
   "id": "b550e875",
   "metadata": {},
   "outputs": [
    {
     "name": "stdout",
     "output_type": "stream",
     "text": [
      "2021-10-01 22:00:00\n",
      "2021-10-01 22:00:00\n"
     ]
    }
   ],
   "source": [
    "# Cộng lùi trên timedelta\n",
    "now = dt.datetime(2021, 9, 30, 1, 0, 0)\n",
    "delta1 = timedelta(days=+2, hours=-3)\n",
    "next1 = now + delta1\n",
    "print(next1)\n",
    "\n",
    "delta2 = timedelta(hours=45)\n",
    "next2 = now + delta2\n",
    "print(next2)"
   ]
  },
  {
   "cell_type": "code",
   "execution_count": 115,
   "id": "2530e7b3",
   "metadata": {},
   "outputs": [
    {
     "name": "stdout",
     "output_type": "stream",
     "text": [
      "2021-09-30 23:30:00\n",
      "2021-09-30 23:30:00\n"
     ]
    }
   ],
   "source": [
    "# Thực hiện phép chia với timedelta\n",
    "now = dt.datetime(2021, 9, 30, 1, 0, 0)\n",
    "delta1 = timedelta(days=+2, hours=-3)\n",
    "next1 = now + delta1/2\n",
    "print(next1)\n",
    "\n",
    "delta2 = timedelta(hours=45)\n",
    "next2 = now + delta2/2\n",
    "print(next2)"
   ]
  },
  {
   "cell_type": "markdown",
   "id": "419fb21a",
   "metadata": {},
   "source": [
    "## 2.4. Dùng numpy cho dữ liệu thời gian"
   ]
  },
  {
   "cell_type": "code",
   "execution_count": 126,
   "id": "10f8dc68",
   "metadata": {},
   "outputs": [
    {
     "name": "stdout",
     "output_type": "stream",
     "text": [
      "2021-09-17T19:00\n"
     ]
    }
   ],
   "source": [
    "a_dt = np.datetime64('2021-09-17 19:00')\n",
    "print(a_dt)"
   ]
  },
  {
   "cell_type": "code",
   "execution_count": 119,
   "id": "56a16b2d",
   "metadata": {},
   "outputs": [
    {
     "data": {
      "text/plain": [
       "array(['2021-02-15', '2021-02-16', '2021-02-17', '2021-02-18',\n",
       "       '2021-02-19', '2021-02-20', '2021-02-21', '2021-02-22',\n",
       "       '2021-02-23', '2021-02-24', '2021-02-25', '2021-02-26',\n",
       "       '2021-02-27', '2021-02-28', '2021-03-01', '2021-03-02',\n",
       "       '2021-03-03', '2021-03-04', '2021-03-05', '2021-03-06',\n",
       "       '2021-03-07', '2021-03-08', '2021-03-09'], dtype='datetime64[D]')"
      ]
     },
     "execution_count": 119,
     "metadata": {},
     "output_type": "execute_result"
    }
   ],
   "source": [
    "# Tạo một chuỗi các ngày\n",
    "np.arange('2021-02-15', '2021-03-10', dtype=np.datetime64)"
   ]
  },
  {
   "cell_type": "code",
   "execution_count": 132,
   "id": "f3bb9d0a",
   "metadata": {},
   "outputs": [
    {
     "data": {
      "text/plain": [
       "array(['2021-08-30', '2021-08-31', '2021-09-01', '2021-09-02',\n",
       "       '2021-09-03', '2021-09-04', '2021-09-05', '2021-09-06',\n",
       "       '2021-09-07', '2021-09-08', '2021-09-09', '2021-09-10',\n",
       "       '2021-09-11', '2021-09-12', '2021-09-13', '2021-09-14',\n",
       "       '2021-09-15', '2021-09-16', '2021-09-17', '2021-09-18',\n",
       "       '2021-09-19', '2021-09-20', '2021-09-21', '2021-09-22',\n",
       "       '2021-09-23', '2021-09-24'], dtype='datetime64[D]')"
      ]
     },
     "execution_count": 132,
     "metadata": {},
     "output_type": "execute_result"
    }
   ],
   "source": [
    "# Tạo chuỗi các ngày với datetime và np.datetime64\n",
    "d1 = dt.datetime(2021, 8, 30, 18, 30, 0)\n",
    "d2 = dt.datetime(2021, 9, 25, 20, 15, 0)\n",
    "np.arange(d1, d2, dtype='datetime64[D]')"
   ]
  },
  {
   "cell_type": "code",
   "execution_count": 139,
   "id": "9f163344",
   "metadata": {},
   "outputs": [
    {
     "name": "stdout",
     "output_type": "stream",
     "text": [
      "True\n",
      "True\n"
     ]
    }
   ],
   "source": [
    "# Kiểm tra ngày làm việc trong tuần\n",
    "print(np.is_busday(d1.date()))\n",
    "print(np.is_busday(\"2021-09-17\"))"
   ]
  },
  {
   "cell_type": "code",
   "execution_count": null,
   "id": "0608074d",
   "metadata": {},
   "outputs": [],
   "source": []
  }
 ],
 "metadata": {
  "kernelspec": {
   "display_name": "Python 3",
   "language": "python",
   "name": "python3"
  },
  "language_info": {
   "codemirror_mode": {
    "name": "ipython",
    "version": 3
   },
   "file_extension": ".py",
   "mimetype": "text/x-python",
   "name": "python",
   "nbconvert_exporter": "python",
   "pygments_lexer": "ipython3",
   "version": "3.8.11"
  }
 },
 "nbformat": 4,
 "nbformat_minor": 5
}
