{
 "cells": [
  {
   "cell_type": "code",
   "execution_count": 1,
   "id": "89192840",
   "metadata": {},
   "outputs": [],
   "source": [
    "import numpy as np\n",
    "from matplotlib import pyplot as plt\n",
    "from scipy import stats\n",
    "np.set_printoptions(precision=3, suppress=True)"
   ]
  },
  {
   "cell_type": "code",
   "execution_count": 2,
   "id": "94816094",
   "metadata": {},
   "outputs": [
    {
     "name": "stdout",
     "output_type": "stream",
     "text": [
      "Tổng số dòng data:  2897\n"
     ]
    }
   ],
   "source": [
    "# Load dữ liệu: data-example/example_sales_vn.csv\n",
    "import csv\n",
    "file_path = \"stock-data/excel_dxg.csv\"\n",
    "\n",
    "def Doc_Data(file_path):\n",
    "    row_list = []\n",
    "    with open(file_path, newline='') as csv_file:\n",
    "        data_csv = csv.reader(csv_file, delimiter=',')\n",
    "        header = next(data_csv)\n",
    "        #print(header)\n",
    "        for row in data_csv:\n",
    "            row_list.append(row)\n",
    "    n_rows = len(row_list)\n",
    "    print(\"Tổng số dòng data: \", n_rows)\n",
    "    \n",
    "    ds_date = []\n",
    "    ds_open = []\n",
    "    ds_high = []\n",
    "    ds_low  = []\n",
    "    ds_close= []\n",
    "    for row in row_list:\n",
    "        ds_date.append(row[1])\n",
    "        ds_open.append(float(row[7]))\n",
    "        ds_high.append(float(row[8]))\n",
    "        ds_low.append(float(row[9]))\n",
    "        ds_close.append(float(row[10]))\n",
    "    #print(len(ds_open))\n",
    "    \n",
    "    return ds_date, ds_open, ds_high, ds_low, ds_close\n",
    "\n",
    "ds_date, ds_open, ds_high, ds_low, ds_close = Doc_Data(file_path)\n",
    "# print(\"Hiển thị thử 10 dòng đầu:\")\n",
    "# for i in range(10): print(row_list[i])\n",
    "# print(\"Hiển thị thử 10 dòng cuối:\")\n",
    "# for i in range(10): print(row_list[-(10-i)])"
   ]
  },
  {
   "cell_type": "code",
   "execution_count": 3,
   "id": "cf10f42d",
   "metadata": {},
   "outputs": [
    {
     "name": "stdout",
     "output_type": "stream",
     "text": [
      "2897 2897\n"
     ]
    }
   ],
   "source": [
    "ds_open = np.array(ds_open)\n",
    "ds_close = np.array(ds_close)\n",
    "print(ds_open.size, ds_close.size)"
   ]
  },
  {
   "cell_type": "code",
   "execution_count": 4,
   "id": "0a0694e9",
   "metadata": {},
   "outputs": [],
   "source": [
    "ds_diff = ds_close[1:] - ds_close[:-1]"
   ]
  },
  {
   "cell_type": "code",
   "execution_count": 5,
   "id": "f1048318",
   "metadata": {},
   "outputs": [
    {
     "data": {
      "text/plain": [
       "0.008598066298342541"
      ]
     },
     "execution_count": 5,
     "metadata": {},
     "output_type": "execute_result"
    }
   ],
   "source": [
    "np.mean(ds_diff)"
   ]
  },
  {
   "cell_type": "code",
   "execution_count": 6,
   "id": "6d1e34e0",
   "metadata": {},
   "outputs": [
    {
     "data": {
      "text/plain": [
       "0.0"
      ]
     },
     "execution_count": 6,
     "metadata": {},
     "output_type": "execute_result"
    }
   ],
   "source": [
    "np.median(ds_diff)"
   ]
  },
  {
   "cell_type": "code",
   "execution_count": 7,
   "id": "8439e2b2",
   "metadata": {},
   "outputs": [
    {
     "data": {
      "image/png": "[encoded data removed]",
      "text/plain": [
       "<Figure size 500x300 with 1 Axes>"
      ]
     },
     "metadata": {},
     "output_type": "display_data"
    }
   ],
   "source": [
    "fig, ax = plt.subplots(figsize=(5,3), num=1)\n",
    "ax.hist(ds_diff, bins=100, color='red', density=True, range=[-5,5])\n",
    "ax.set_xlabel(\"\")\n",
    "plt.show()"
   ]
  },
  {
   "cell_type": "code",
   "execution_count": 9,
   "id": "1d9d264e",
   "metadata": {},
   "outputs": [
    {
     "data": {
      "text/plain": [
       "577.319472489286"
      ]
     },
     "execution_count": 9,
     "metadata": {},
     "output_type": "execute_result"
    }
   ],
   "source": [
    "stats.kurtosis(ds_diff)"
   ]
  },
  {
   "cell_type": "code",
   "execution_count": 10,
   "id": "fbe32043",
   "metadata": {},
   "outputs": [
    {
     "data": {
      "text/plain": [
       "0.07611723946646005"
      ]
     },
     "execution_count": 10,
     "metadata": {},
     "output_type": "execute_result"
    }
   ],
   "source": [
    "new_ds = ds_diff[ds_diff < 2]\n",
    "new_ds = new_ds[new_ds > -2]\n",
    "stats.skew(new_ds)"
   ]
  },
  {
   "cell_type": "code",
   "execution_count": 11,
   "id": "2a16dacd",
   "metadata": {},
   "outputs": [
    {
     "data": {
      "text/plain": [
       "1.7073450266495414"
      ]
     },
     "execution_count": 11,
     "metadata": {},
     "output_type": "execute_result"
    }
   ],
   "source": [
    "stats.kurtosis(new_ds)"
   ]
  },
  {
   "cell_type": "markdown",
   "id": "da7cffe4",
   "metadata": {},
   "source": [
    "## Khoảng giá"
   ]
  },
  {
   "cell_type": "code",
   "execution_count": 3,
   "id": "6e7f5a17",
   "metadata": {},
   "outputs": [
    {
     "name": "stdout",
     "output_type": "stream",
     "text": [
      "2897 2897\n"
     ]
    }
   ],
   "source": [
    "ds_high = np.array(ds_high)\n",
    "ds_low = np.array(ds_low)\n",
    "print(ds_high.size, ds_low.size)"
   ]
  },
  {
   "cell_type": "code",
   "execution_count": 4,
   "id": "93015733",
   "metadata": {},
   "outputs": [
    {
     "data": {
      "image/png": "[encoded data removed]",
      "text/plain": [
       "<Figure size 360x216 with 1 Axes>"
      ]
     },
     "metadata": {
      "needs_background": "light"
     },
     "output_type": "display_data"
    }
   ],
   "source": [
    "ds_diff = ds_high - ds_low\n",
    "fig, ax = plt.subplots(figsize=(5,3), num=1)\n",
    "ax.hist(ds_diff, bins=50, color='red')\n",
    "ax.set_xlabel(\"\")\n",
    "plt.show()"
   ]
  },
  {
   "cell_type": "code",
   "execution_count": 5,
   "id": "0e811ae5",
   "metadata": {},
   "outputs": [
    {
     "data": {
      "text/plain": [
       "array([0.3 , 0.5 , 0.8 , 1.35])"
      ]
     },
     "execution_count": 5,
     "metadata": {},
     "output_type": "execute_result"
    }
   ],
   "source": [
    "np.quantile(ds_diff, [0.25, 0.5, 0.75, 0.90])"
   ]
  }
 ],
 "metadata": {
  "kernelspec": {
   "display_name": "Python 3 (ipykernel)",
   "language": "python",
   "name": "python3"
  },
  "language_info": {
   "codemirror_mode": {
    "name": "ipython",
    "version": 3
   },
   "file_extension": ".py",
   "mimetype": "text/x-python",
   "name": "python",
   "nbconvert_exporter": "python",
   "pygments_lexer": "ipython3",
   "version": "3.9.7"
  }
 },
 "nbformat": 4,
 "nbformat_minor": 5
}
