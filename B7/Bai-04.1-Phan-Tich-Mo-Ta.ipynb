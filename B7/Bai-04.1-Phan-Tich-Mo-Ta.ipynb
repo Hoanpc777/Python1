{
 "cells": [
  {
   "cell_type": "code",
   "execution_count": 1,
   "id": "8ed4c6cb",
   "metadata": {},
   "outputs": [],
   "source": [
    "import numpy as np\n",
    "from matplotlib import pyplot as plt\n",
    "np.set_printoptions(precision=3)"
   ]
  },
  {
   "cell_type": "markdown",
   "id": "432cedb5",
   "metadata": {},
   "source": [
    "# Phần 2. Một số phân tích mô tả đơn biến cơ bản\n",
    "\n",
    "**Lưu ý: các phân tích trong phần này thực hiện trên dữ liệu có phân bố chuẩn**"
   ]
  },
  {
   "cell_type": "code",
   "execution_count": 2,
   "id": "65ac1e09",
   "metadata": {},
   "outputs": [
    {
     "name": "stdout",
     "output_type": "stream",
     "text": [
      "[[12.663 11.431  6.909  9.983 11.243  8.56  10.531 10.217 10.009  9.651\n",
      "  10.866 12.406  8.07  12.057 10.457 10.89   7.727 10.27  12.969  7.84 ]\n",
      " [ 6.045  6.513 10.532 14.77  12.247 13.345 10.198 12.796  9.458 11.226\n",
      "   9.465  8.901 10.265  9.048 12.617 10.39  10.8    9.325 12.513  8.536]\n",
      " [11.32   9.298  8.121  9.021  8.391  9.575  9.322 10.624 11.13   9.705\n",
      "   9.948 10.578  8.92  11.416 11.684 10.407 14.789 11.835  9.775  9.276]\n",
      " [ 9.536  8.997 12.258  8.604  9.838  8.941 12.092  7.163  9.275  9.756\n",
      "  10.639 10.922  9.568 11.978 10.63  14.935  6.983 11.241  7.91   8.404]\n",
      " [13.97  13.49   6.288  9.554  9.868  5.737  9.902 10.787 10.435  6.011\n",
      "  12.215 10.489  9.876  8.492 11.424 11.837  9.036 10.179 11.654  6.091]]\n"
     ]
    },
    {
     "data": {
      "image/png": "[encoded data removed]",
      "text/plain": [
       "<Figure size 288x216 with 1 Axes>"
      ]
     },
     "metadata": {
      "needs_background": "light"
     },
     "output_type": "display_data"
    }
   ],
   "source": [
    "np.random.seed(10)\n",
    "x = np.random.normal(10, 2, size=(5,20))\n",
    "print(x)\n",
    "fig, ax = plt.subplots(figsize=(4,3), num=1)\n",
    "ax.hist(x.flatten(), bins=10)\n",
    "plt.show()"
   ]
  },
  {
   "cell_type": "markdown",
   "id": "05dd78ff",
   "metadata": {},
   "source": [
    "## 2.2. Độ đo về khuynh hướng tập trung"
   ]
  },
  {
   "cell_type": "code",
   "execution_count": 15,
   "id": "7a684f27",
   "metadata": {},
   "outputs": [
    {
     "name": "stdout",
     "output_type": "stream",
     "text": [
      "10.158833325873747\n",
      "10.188736828424759\n"
     ]
    }
   ],
   "source": [
    "mean = np.mean(x)\n",
    "print(mean)\n",
    "\n",
    "median = np.median(x)\n",
    "print(median)"
   ]
  },
  {
   "cell_type": "code",
   "execution_count": 48,
   "id": "156e250b",
   "metadata": {},
   "outputs": [
    {
     "data": {
      "text/plain": [
       "ModeResult(mode=array([5.737]), count=array([1]))"
      ]
     },
     "execution_count": 48,
     "metadata": {},
     "output_type": "execute_result"
    }
   ],
   "source": [
    "from scipy import stats\n",
    "stats.mode(x.flatten())"
   ]
  },
  {
   "cell_type": "code",
   "execution_count": 47,
   "id": "30a723c1",
   "metadata": {},
   "outputs": [
    {
     "data": {
      "text/plain": [
       "12.663173008259037"
      ]
     },
     "execution_count": 47,
     "metadata": {},
     "output_type": "execute_result"
    }
   ],
   "source": [
    "import statistics\n",
    "statistics.mode(x.flatten())"
   ]
  },
  {
   "cell_type": "markdown",
   "id": "e2fe2ff2",
   "metadata": {},
   "source": [
    "**==> Các hàm tính mode trên đều dựa vào so sánh bằng và không trả về giá trị mong muốn**\n",
    "\n",
    "**Vậy cần làm thế nào?**"
   ]
  },
  {
   "cell_type": "markdown",
   "id": "d8273c72",
   "metadata": {},
   "source": [
    "## 2.3. Độ đo về sự/tính mở rộng (phân tán)"
   ]
  },
  {
   "cell_type": "code",
   "execution_count": 3,
   "id": "87ede9b8",
   "metadata": {},
   "outputs": [
    {
     "name": "stdout",
     "output_type": "stream",
     "text": [
      "14.935302112869206\n",
      "5.736575783036792\n",
      "9.198726329832414\n",
      "3.740661401185398\n",
      "1.9340789542274115\n"
     ]
    }
   ],
   "source": [
    "ma  = np.max(x)\n",
    "mi  = np.min(x)\n",
    "ran = np.ptp(x)\n",
    "var = np.var(x)\n",
    "std = np.std(x)\n",
    "print(ma)\n",
    "print(mi)\n",
    "print(ran)\n",
    "print(var)\n",
    "print(std)"
   ]
  },
  {
   "cell_type": "markdown",
   "id": "67a2e8f8",
   "metadata": {},
   "source": [
    "## 2.4. Độ đo về phân vị"
   ]
  },
  {
   "cell_type": "code",
   "execution_count": 4,
   "id": "57df0793",
   "metadata": {},
   "outputs": [
    {
     "name": "stdout",
     "output_type": "stream",
     "text": [
      "[ 9.032 12.111]\n",
      "[ 9.032 11.344]\n"
     ]
    }
   ],
   "source": [
    "pct = np.percentile(x, [25, 85])\n",
    "qnt = np.quantile(x, [0.25, 0.75])\n",
    "print(pct)\n",
    "print(qnt)"
   ]
  },
  {
   "cell_type": "code",
   "execution_count": 5,
   "id": "d654d37f",
   "metadata": {},
   "outputs": [
    {
     "data": {
      "text/plain": [
       "array([ 6.067, 14.39 ])"
      ]
     },
     "execution_count": 5,
     "metadata": {},
     "output_type": "execute_result"
    }
   ],
   "source": [
    "# Confidence Interval: 95%\n",
    "np.percentile(x, [2.5, 97.5])"
   ]
  },
  {
   "cell_type": "code",
   "execution_count": 13,
   "id": "2998e190",
   "metadata": {},
   "outputs": [
    {
     "data": {
      "text/plain": [
       "array([ 6.067, 14.39 ])"
      ]
     },
     "execution_count": 13,
     "metadata": {},
     "output_type": "execute_result"
    }
   ],
   "source": [
    "# Confidence Interval: 95%\n",
    "np.quantile(x, [0.025, 0.975])"
   ]
  },
  {
   "cell_type": "code",
   "execution_count": 16,
   "id": "646cfe5a",
   "metadata": {},
   "outputs": [
    {
     "name": "stdout",
     "output_type": "stream",
     "text": [
      "95% là dữ liệu sẽ nằm trong khoảng 10.16 ± 4.23\n"
     ]
    }
   ],
   "source": [
    "range95 = np.quantile(x, [0.025, 0.975])[1] - mean\n",
    "# print(u\"\\u00B1\")\n",
    "sign = u\"\\u00B1\"\n",
    "print(f\"95% là dữ liệu sẽ nằm trong khoảng {mean:.2f} {sign} {range95:.2f}\")"
   ]
  },
  {
   "cell_type": "code",
   "execution_count": 17,
   "id": "36256304",
   "metadata": {},
   "outputs": [
    {
     "data": {
      "image/png": "[encoded data removed]",
      "text/plain": [
       "<Figure size 288x216 with 1 Axes>"
      ]
     },
     "metadata": {
      "needs_background": "light"
     },
     "output_type": "display_data"
    }
   ],
   "source": [
    "fig, ax = plt.subplots(figsize=(4,3), num=1)\n",
    "ax.hist(x.flatten(), bins=10)\n",
    "ylim1, ylim2 = ax.get_ylim()\n",
    "ax.stem(qnt, [15,15], linefmt='y-', markerfmt=\" \")\n",
    "ax.axvline(mean, color='k', linestyle='dashed', linewidth=1)\n",
    "ax.text(mean+0.15, ylim2*0.95, f\"Mean: {mean:.2f}\", color=\"blue\")\n",
    "plt.show()"
   ]
  },
  {
   "cell_type": "code",
   "execution_count": 18,
   "id": "484c37b0",
   "metadata": {},
   "outputs": [
    {
     "data": {
      "text/plain": [
       "array([ 1.295,  0.658, -1.68 , -0.091,  0.56 , -0.827,  0.192,  0.03 ,\n",
       "       -0.078, -0.263,  0.366,  1.162, -1.08 ,  0.981,  0.154,  0.378,\n",
       "       -1.257,  0.058,  1.453, -1.199, -2.127, -1.885,  0.193,  2.384,\n",
       "        1.08 ,  1.648,  0.02 ,  1.364, -0.363,  0.552, -0.359, -0.65 ,\n",
       "        0.055, -0.574,  1.271,  0.12 ,  0.332, -0.431,  1.217, -0.839,\n",
       "        0.601, -0.445, -1.054, -0.588, -0.914, -0.302, -0.433,  0.241,\n",
       "        0.502, -0.235, -0.109,  0.217, -0.64 ,  0.65 ,  0.789,  0.128,\n",
       "        2.394,  0.867, -0.198, -0.457, -0.322, -0.601,  1.085, -0.804,\n",
       "       -0.166, -0.629,  1.   , -1.549, -0.457, -0.208,  0.248,  0.394,\n",
       "       -0.305,  0.941,  0.243,  2.47 , -1.642,  0.56 , -1.163, -0.907,\n",
       "        1.971,  1.722, -2.002, -0.312, -0.15 , -2.286, -0.133,  0.325,\n",
       "        0.143, -2.144,  1.063,  0.171, -0.146, -0.862,  0.654,  0.867,\n",
       "       -0.581,  0.011,  0.773, -2.103])"
      ]
     },
     "execution_count": 18,
     "metadata": {},
     "output_type": "execute_result"
    }
   ],
   "source": [
    "from scipy import stats\n",
    "stats.zscore(x.flatten(), axis=None)"
   ]
  },
  {
   "cell_type": "code",
   "execution_count": 19,
   "id": "127f875e",
   "metadata": {},
   "outputs": [
    {
     "data": {
      "text/plain": [
       "array([1.295])"
      ]
     },
     "execution_count": 19,
     "metadata": {},
     "output_type": "execute_result"
    }
   ],
   "source": [
    "# Tìm zscore của 1 giá trị\n",
    "stats.zmap(scores=12.663, compare=x.flatten())"
   ]
  },
  {
   "cell_type": "code",
   "execution_count": 20,
   "id": "73eec3e5",
   "metadata": {},
   "outputs": [
    {
     "data": {
      "text/plain": [
       "array([-1.633])"
      ]
     },
     "execution_count": 20,
     "metadata": {},
     "output_type": "execute_result"
    }
   ],
   "source": [
    "stats.zmap(scores=7, compare=x.flatten())"
   ]
  },
  {
   "cell_type": "markdown",
   "id": "01bd950b",
   "metadata": {},
   "source": [
    "## 2.5. Độ đo về dạng phân bố"
   ]
  },
  {
   "cell_type": "code",
   "execution_count": 61,
   "id": "2832898e",
   "metadata": {},
   "outputs": [
    {
     "data": {
      "text/plain": [
       "0.013640630909285226"
      ]
     },
     "execution_count": 61,
     "metadata": {},
     "output_type": "execute_result"
    }
   ],
   "source": [
    "stats.skew(x.flatten())"
   ]
  },
  {
   "cell_type": "code",
   "execution_count": 62,
   "id": "24510997",
   "metadata": {},
   "outputs": [
    {
     "data": {
      "text/plain": [
       "0.12453154540548628"
      ]
     },
     "execution_count": 62,
     "metadata": {},
     "output_type": "execute_result"
    }
   ],
   "source": [
    "stats.kurtosis(x.flatten())"
   ]
  },
  {
   "cell_type": "code",
   "execution_count": 120,
   "id": "ce8c2bd5",
   "metadata": {},
   "outputs": [
    {
     "data": {
      "image/png": "[encoded data removed]",
      "text/plain": [
       "<Figure size 400x300 with 1 Axes>"
      ]
     },
     "metadata": {},
     "output_type": "display_data"
    }
   ],
   "source": [
    "plt.figure(figsize=(4,3))\n",
    "chieu_cao_nam = np.concatenate([np.random.normal(170, 20, 5000),(np.random.normal(170, 3, 5000))])\n",
    "plt.hist(chieu_cao_nam, bins=50, facecolor='red', density=True, alpha=0.75)\n",
    "\n",
    "chieu_cao_nu = np.random.normal(155, 30, 10000)\n",
    "plt.hist(chieu_cao_nu, bins=50, facecolor='blue', density=True, alpha=0.75)\n",
    "\n",
    "plt.legend([\"Nam\", \"Nữ\"])\n",
    "plt.grid()\n",
    "plt.show()"
   ]
  },
  {
   "cell_type": "code",
   "execution_count": 119,
   "id": "9ffa4010",
   "metadata": {},
   "outputs": [
    {
     "name": "stdout",
     "output_type": "stream",
     "text": [
      "2.507599173670723\n",
      "-0.02762404294317644\n"
     ]
    }
   ],
   "source": [
    "print(stats.kurtosis(chieu_cao_nam))\n",
    "print(stats.kurtosis(chieu_cao_nu))"
   ]
  },
  {
   "cell_type": "markdown",
   "id": "3a4ae2b4",
   "metadata": {},
   "source": [
    "# Phần 3. Một số phân tích mô tả đa biến cơ bản"
   ]
  },
  {
   "cell_type": "code",
   "execution_count": 17,
   "id": "9263d751",
   "metadata": {},
   "outputs": [],
   "source": [
    "ds_gio_choi_game = np.array([1,2,3,4,5,6,7,8,9,10])\n",
    "ds_diem_thi = [9,10,7,7,8,4,5,3,4,1]"
   ]
  },
  {
   "cell_type": "code",
   "execution_count": 10,
   "id": "92bbfc6c",
   "metadata": {},
   "outputs": [
    {
     "data": {
      "image/png": "[encoded data removed]",
      "text/plain": [
       "<Figure size 400x300 with 1 Axes>"
      ]
     },
     "metadata": {},
     "output_type": "display_data"
    }
   ],
   "source": [
    "fig, ax = plt.subplots(figsize=(4,3), num=1)\n",
    "ax.scatter(ds_gio_choi_game, ds_diem_thi)\n",
    "plt.show()"
   ]
  },
  {
   "cell_type": "code",
   "execution_count": 23,
   "id": "b702dce7",
   "metadata": {},
   "outputs": [
    {
     "name": "stdout",
     "output_type": "stream",
     "text": [
      "[[ 8.25 -7.2 ]\n",
      " [-7.2   7.36]]\n"
     ]
    }
   ],
   "source": [
    "covariance = np.cov(ds_gio_choi_game, ds_diem_thi, bias=True)\n",
    "print(covariance)"
   ]
  },
  {
   "cell_type": "code",
   "execution_count": 18,
   "id": "eba856b3",
   "metadata": {},
   "outputs": [
    {
     "name": "stdout",
     "output_type": "stream",
     "text": [
      "8.25\n",
      "7.360000000000001\n"
     ]
    }
   ],
   "source": [
    "print(np.var(ds_gio_choi_game))\n",
    "print(np.var(ds_diem_thi))"
   ]
  },
  {
   "cell_type": "code",
   "execution_count": 28,
   "id": "951ae592",
   "metadata": {
    "scrolled": true
   },
   "outputs": [
    {
     "name": "stdout",
     "output_type": "stream",
     "text": [
      "[[ 1.        -0.9239886]\n",
      " [-0.9239886  1.       ]]\n"
     ]
    }
   ],
   "source": [
    "coeff = np.corrcoef(ds_gio_choi_game, ds_diem_thi)\n",
    "print(coeff)"
   ]
  },
  {
   "cell_type": "markdown",
   "id": "422d1266",
   "metadata": {},
   "source": [
    "## Tìm fitting line"
   ]
  },
  {
   "cell_type": "code",
   "execution_count": 37,
   "id": "aeb41aa0",
   "metadata": {},
   "outputs": [
    {
     "name": "stdout",
     "output_type": "stream",
     "text": [
      "[-0.87272727 10.6       ]\n",
      "-0.872727272727273 10.600000000000005\n"
     ]
    }
   ],
   "source": [
    "# Sử dụng hàm np.polyfit()\n",
    "model = np.polyfit(ds_gio_choi_game, ds_diem_thi, deg=1)\n",
    "print(model)\n",
    "a,b = model\n",
    "print(a,b)"
   ]
  },
  {
   "cell_type": "code",
   "execution_count": 34,
   "id": "2b0676c7",
   "metadata": {},
   "outputs": [
    {
     "data": {
      "image/png": "[encoded data removed]",
      "text/plain": [
       "<Figure size 400x300 with 1 Axes>"
      ]
     },
     "metadata": {},
     "output_type": "display_data"
    }
   ],
   "source": [
    "fig, ax = plt.subplots(figsize=(4,3), num=1)\n",
    "ax.scatter(ds_gio_choi_game, ds_diem_thi)\n",
    "x1,x2 = 0,10\n",
    "y1,y2 = a*x1 + b, a*x2 + b\n",
    "ax.plot([x1,x2], [y1,y2], color=\"red\")\n",
    "plt.show()"
   ]
  }
 ],
 "metadata": {
  "kernelspec": {
   "display_name": "Python 3 (ipykernel)",
   "language": "python",
   "name": "python3"
  },
  "language_info": {
   "codemirror_mode": {
    "name": "ipython",
    "version": 3
   },
   "file_extension": ".py",
   "mimetype": "text/x-python",
   "name": "python",
   "nbconvert_exporter": "python",
   "pygments_lexer": "ipython3",
   "version": "3.9.7"
  }
 },
 "nbformat": 4,
 "nbformat_minor": 5
}
