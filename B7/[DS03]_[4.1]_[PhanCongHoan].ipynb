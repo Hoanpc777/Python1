{
 "cells": [
  {
   "cell_type": "markdown",
   "metadata": {},
   "source": [
    "Thực hiện phân tích mô tả cho dữ liệu chuyến bay \"nycflights.csv\":\n",
    "1. Cho cột dep_delay (khởi hành trễ)"
   ]
  },
  {
   "cell_type": "code",
   "execution_count": 9,
   "metadata": {},
   "outputs": [],
   "source": [
    "import numpy as np, csv\n",
    "from matplotlib import pyplot as plt\n",
    "from scipy import stats"
   ]
  },
  {
   "cell_type": "code",
   "execution_count": 11,
   "metadata": {},
   "outputs": [
    {
     "name": "stdout",
     "output_type": "stream",
     "text": [
      "['', 'year', 'month', 'day', 'dep_time', 'dep_delay', 'arr_time', 'arr_delay', 'carrier', 'tailnum', 'flight', 'origin', 'dest', 'air_time', 'distance', 'hour', 'minute']\n",
      "[['1', '2013', '1', '1', '517', '2', '830', '11', 'UA', 'N14228', '1545', 'EWR', 'IAH', '227', '1400', '5', '17'], ['2', '2013', '1', '1', '533', '4', '850', '20', 'UA', 'N24211', '1714', 'LGA', 'IAH', '227', '1416', '5', '33'], ['3', '2013', '1', '1', '542', '2', '923', '33', 'AA', 'N619AA', '1141', 'JFK', 'MIA', '160', '1089', '5', '42'], ['4', '2013', '1', '1', '544', '-1', '1004', '-18', 'B6', 'N804JB', '725', 'JFK', 'BQN', '183', '1576', '5', '44'], ['5', '2013', '1', '1', '554', '-6', '812', '-25', 'DL', 'N668DN', '461', 'LGA', 'ATL', '116', '762', '5', '54'], ['6', '2013', '1', '1', '554', '-4', '740', '12', 'UA', 'N39463', '1696', 'EWR', 'ORD', '150', '719', '5', '54'], ['7', '2013', '1', '1', '555', '-5', '913', '19', 'B6', 'N516JB', '507', 'EWR', 'FLL', '158', '1065', '5', '55'], ['8', '2013', '1', '1', '557', '-3', '709', '-14', 'EV', 'N829AS', '5708', 'LGA', 'IAD', '53', '229', '5', '57'], ['9', '2013', '1', '1', '557', '-3', '838', '-8', 'B6', 'N593JB', '79', 'JFK', 'MCO', '140', '944', '5', '57'], ['10', '2013', '1', '1', '558', '-2', '753', '8', 'AA', 'N3ALAA', '301', 'LGA', 'ORD', '138', '733', '5', '58']]\n"
     ]
    }
   ],
   "source": [
    "with open('flight-data/nycflights.csv','r',encoding='utf8') as f:\n",
    "    file = csv.reader(f)\n",
    "    title = next(file)\n",
    "    data = [i for i in file]\n",
    "print(title)\n",
    "print(data[0:10])"
   ]
  },
  {
   "cell_type": "code",
   "execution_count": null,
   "metadata": {},
   "outputs": [],
   "source": []
  }
 ],
 "metadata": {
  "interpreter": {
   "hash": "7689402e3d376ceec3c78f164079f885590863b4f463a2db9394fb12093f7c4f"
  },
  "kernelspec": {
   "display_name": "Python 3.10.1 64-bit",
   "language": "python",
   "name": "python3"
  },
  "language_info": {
   "codemirror_mode": {
    "name": "ipython",
    "version": 3
   },
   "file_extension": ".py",
   "mimetype": "text/x-python",
   "name": "python",
   "nbconvert_exporter": "python",
   "pygments_lexer": "ipython3",
   "version": "3.10.1"
  },
  "orig_nbformat": 4
 },
 "nbformat": 4,
 "nbformat_minor": 2
}
