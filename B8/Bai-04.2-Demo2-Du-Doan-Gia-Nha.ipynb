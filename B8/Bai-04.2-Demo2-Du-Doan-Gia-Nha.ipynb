{
 "cells": [
  {
   "cell_type": "markdown",
   "id": "e19350e3",
   "metadata": {},
   "source": [
    "# Dự đoán giá nhà với Multivariate Linear Regression"
   ]
  },
  {
   "cell_type": "code",
   "execution_count": 25,
   "id": "2efc178e",
   "metadata": {},
   "outputs": [],
   "source": [
    "import numpy as np\n",
    "from scipy import stats\n",
    "from matplotlib import pyplot as plt\n",
    "np.set_printoptions(precision=3, suppress=True)"
   ]
  },
  {
   "cell_type": "markdown",
   "id": "cbbb4542",
   "metadata": {},
   "source": [
    "## 1. Load dữ liệu"
   ]
  },
  {
   "cell_type": "code",
   "execution_count": 3,
   "id": "00df0a5a",
   "metadata": {
    "scrolled": false
   },
   "outputs": [
    {
     "name": "stdout",
     "output_type": "stream",
     "text": [
      "(506, 13)\n",
      "(506,)\n"
     ]
    }
   ],
   "source": [
    "npzfile = np.load(\"data/boston_housing.npz\")\n",
    "#print(npzfile.files)\n",
    "X = npzfile[\"x\"]\n",
    "Y = npzfile[\"y\"]\n",
    "print(X.shape)\n",
    "print(Y.shape)"
   ]
  },
  {
   "cell_type": "code",
   "execution_count": 16,
   "id": "e9d7ec50",
   "metadata": {},
   "outputs": [
    {
     "name": "stdout",
     "output_type": "stream",
     "text": [
      "[  0.006  18.      2.31    0.      0.538   6.575  65.2     4.09    1.\n",
      " 296.     15.3   396.9     4.98 ]\n",
      "24.0\n",
      "5.0 50.0 22.532806324110677\n"
     ]
    }
   ],
   "source": [
    "print(X[0])\n",
    "print(Y[0])\n",
    "print(np.min(Y), np.max(Y), np.mean(Y))"
   ]
  },
  {
   "cell_type": "markdown",
   "id": "3f489d08",
   "metadata": {},
   "source": [
    "**y = a1x1 + a2x2 + a3x3 + ... + a13x13 + b**"
   ]
  },
  {
   "cell_type": "markdown",
   "id": "286f9dbd",
   "metadata": {},
   "source": [
    "## 2. Chia dữ liệu ra thành 2 tập train và test"
   ]
  },
  {
   "cell_type": "markdown",
   "id": "e950731f",
   "metadata": {},
   "source": [
    "**(1) Tạo các indices ngẫu nhiên**"
   ]
  },
  {
   "cell_type": "code",
   "execution_count": 26,
   "id": "7be11ba9",
   "metadata": {},
   "outputs": [
    {
     "name": "stdout",
     "output_type": "stream",
     "text": [
      "506\n"
     ]
    }
   ],
   "source": [
    "np.random.seed(3)\n",
    "rand_indices = np.arange(Y.size)\n",
    "np.random.shuffle(rand_indices)\n",
    "\n",
    "print(rand_indices.size)\n",
    "#rand_indices"
   ]
  },
  {
   "cell_type": "markdown",
   "id": "9ecda669",
   "metadata": {},
   "source": [
    "**(2) Chia các indices ra làm 2 phần**"
   ]
  },
  {
   "cell_type": "code",
   "execution_count": 27,
   "id": "eef8f17c",
   "metadata": {},
   "outputs": [
    {
     "name": "stdout",
     "output_type": "stream",
     "text": [
      "[104 312 437 498  91 182 315 459 172 232 473  36 156   2 242 308 289  48\n",
      " 414 141 223 352 183 331 446 487 160 336 400 219  99 380 235 450 117 341\n",
      "   1 113 462 174 253 444 501 184 165 372 274 192   0  54 375  28 206 383\n",
      " 492  49 350  20 293 176 335 379  33 171   7 318 504 106 413  97 110 360\n",
      "  69 346 435 129 316 447 258 322 150 474 337  26 398 423  93 428 148 480\n",
      " 422 119 405 138 169 363 202 147 277 256 456 440 131 249 152 362]\n"
     ]
    }
   ],
   "source": [
    "# Thường chia 8/2\n",
    "N_TRAIN = 400\n",
    "train_indices = rand_indices[0:N_TRAIN]\n",
    "test_indices = rand_indices[N_TRAIN:]\n",
    "print(test_indices)"
   ]
  },
  {
   "cell_type": "markdown",
   "id": "6032a918",
   "metadata": {},
   "source": [
    "**(3) Dựa vào 2 tập index để lấy ra 2 tập dữ liệu**"
   ]
  },
  {
   "cell_type": "code",
   "execution_count": 6,
   "id": "705d76c0",
   "metadata": {},
   "outputs": [
    {
     "name": "stdout",
     "output_type": "stream",
     "text": [
      "(400, 13) (400,)\n",
      "(106, 13) (106,)\n"
     ]
    }
   ],
   "source": [
    "N_TRAIN = 400\n",
    "train_indices = rand_indices[0:N_TRAIN]\n",
    "test_indices = rand_indices[N_TRAIN:]\n",
    "\n",
    "x_train, y_train = X[train_indices], Y[train_indices]\n",
    "print(x_train.shape, y_train.shape)\n",
    "\n",
    "x_test, y_test = X[test_indices], Y[test_indices]\n",
    "print(x_test.shape, y_test.shape)"
   ]
  },
  {
   "cell_type": "markdown",
   "id": "78ce7f10",
   "metadata": {},
   "source": [
    "## 3. Tạo mô hình Linear Regression\n",
    "Sử dụng lớp `LinearRegression` của thư viện `sklearn`"
   ]
  },
  {
   "cell_type": "markdown",
   "id": "6fb0aa2f",
   "metadata": {},
   "source": [
    "**(1) Khởi tạo và huấn luyện (fit) mô hình**"
   ]
  },
  {
   "cell_type": "code",
   "execution_count": 28,
   "id": "542909fa",
   "metadata": {},
   "outputs": [
    {
     "name": "stdout",
     "output_type": "stream",
     "text": [
      "[ -0.062   0.044   0.037   2.609 -18.593   3.566   0.006  -1.6     0.323\n",
      "  -0.014  -1.001   0.011  -0.593]\n",
      "40.135900798429155\n"
     ]
    }
   ],
   "source": [
    "from sklearn.linear_model import LinearRegression\n",
    "model = LinearRegression()\n",
    "model.fit(x_train, y_train)\n",
    "\n",
    "print(model.coef_)\n",
    "print(model.intercept_)"
   ]
  },
  {
   "cell_type": "code",
   "execution_count": 8,
   "id": "1ca48d1d",
   "metadata": {},
   "outputs": [
    {
     "data": {
      "text/plain": [
       "38.72927252397488"
      ]
     },
     "execution_count": 8,
     "metadata": {},
     "output_type": "execute_result"
    }
   ],
   "source": [
    "# Dự đoán\n",
    "np.sum(model.coef_*x_train[0]) + model.intercept_"
   ]
  },
  {
   "cell_type": "code",
   "execution_count": 9,
   "id": "6709c827",
   "metadata": {},
   "outputs": [
    {
     "data": {
      "text/plain": [
       "44.8"
      ]
     },
     "execution_count": 9,
     "metadata": {},
     "output_type": "execute_result"
    }
   ],
   "source": [
    "# Thực tế\n",
    "y_train[0]"
   ]
  },
  {
   "cell_type": "code",
   "execution_count": 10,
   "id": "4778e1ed",
   "metadata": {},
   "outputs": [
    {
     "name": "stdout",
     "output_type": "stream",
     "text": [
      "38.72927252397487\n"
     ]
    }
   ],
   "source": [
    "# Dự đoán\n",
    "gia_nha = model.predict([x_train[0]]).squeeze()\n",
    "print(gia_nha)"
   ]
  },
  {
   "cell_type": "markdown",
   "id": "af458a4f",
   "metadata": {},
   "source": [
    "**(2) Thử đánh giá lại trên tập train**"
   ]
  },
  {
   "cell_type": "code",
   "execution_count": 11,
   "id": "82be0ce6",
   "metadata": {
    "scrolled": true
   },
   "outputs": [
    {
     "name": "stdout",
     "output_type": "stream",
     "text": [
      "0.7452121887690026\n"
     ]
    }
   ],
   "source": [
    "r2 = model.score(x_train, y_train)\n",
    "print(r2)"
   ]
  },
  {
   "cell_type": "markdown",
   "id": "cb058917",
   "metadata": {},
   "source": [
    "**(3) Đánh giá trên tập test**"
   ]
  },
  {
   "cell_type": "code",
   "execution_count": 12,
   "id": "b373fffb",
   "metadata": {},
   "outputs": [
    {
     "name": "stdout",
     "output_type": "stream",
     "text": [
      "0.6975631301834087\n"
     ]
    }
   ],
   "source": [
    "q2 = model.score(x_test, y_test)\n",
    "print(q2)"
   ]
  },
  {
   "cell_type": "markdown",
   "id": "d440507e",
   "metadata": {},
   "source": [
    "## 4. Sử dụng mô hình"
   ]
  },
  {
   "cell_type": "code",
   "execution_count": 29,
   "id": "8af85914",
   "metadata": {},
   "outputs": [
    {
     "name": "stdout",
     "output_type": "stream",
     "text": [
      "(106,)\n",
      "3.368669495325123\n",
      "0.14950066347131208\n"
     ]
    }
   ],
   "source": [
    "y_hat = model.predict(x_test)\n",
    "print(y_hat.shape)\n",
    "err = y_hat - y_test\n",
    "print(np.mean(abs(err)))\n",
    "print(np.mean(abs(err))/np.mean(Y)) # Mong đợi Tỷ lệ lỗi 5%"
   ]
  },
  {
   "cell_type": "code",
   "execution_count": 18,
   "id": "83729819",
   "metadata": {},
   "outputs": [
    {
     "data": {
      "image/png": "[encoded data removed]",
      "text/plain": [
       "<Figure size 216x216 with 1 Axes>"
      ]
     },
     "metadata": {
      "needs_background": "light"
     },
     "output_type": "display_data"
    }
   ],
   "source": [
    "# Scatter plot\n",
    "plt.figure(figsize=[3,3]) \n",
    "plt.scatter(y_hat, y_test)\n",
    "plt.show()"
   ]
  },
  {
   "cell_type": "code",
   "execution_count": 41,
   "id": "373d4a25",
   "metadata": {},
   "outputs": [
    {
     "data": {
      "image/png": "[encoded data removed]",
      "text/plain": [
       "<Figure size 288x216 with 1 Axes>"
      ]
     },
     "metadata": {
      "needs_background": "light"
     },
     "output_type": "display_data"
    }
   ],
   "source": [
    "def plot_error(err, bins=10):\n",
    "    mean, std = np.mean(err), np.std(err)\n",
    "    \n",
    "    plt.figure(figsize=[4,3])    \n",
    "    plt.title(\"House's Price Prediction\")\n",
    "    plt.xlim([mean - 4*std,mean + 4*std]); #plt.ylim([0,60])\n",
    "    plt.hist(err, density=True, bins=bins, color='b')\n",
    "    \n",
    "    #x = np.linspace(mean - 4*std, mean + 4*std,100)\n",
    "    #plt.plot(x, stats.norm.pdf(x, mean, std))\n",
    "    \n",
    "    norm_dist = np.random.normal(mean, std, 10000)\n",
    "    plt.hist(norm_dist, color='g', alpha=0.4, density=True, bins=50)\n",
    "    \n",
    "    \n",
    "    plt.show()\n",
    "plot_error(err, bins=20)"
   ]
  },
  {
   "cell_type": "markdown",
   "id": "90004832",
   "metadata": {},
   "source": [
    "**Cách tính R2 bằng hàm `r2_score` trong sklearn**"
   ]
  },
  {
   "cell_type": "code",
   "execution_count": 33,
   "id": "84c1cdaf",
   "metadata": {},
   "outputs": [
    {
     "data": {
      "text/plain": [
       "0.6975631301834087"
      ]
     },
     "execution_count": 33,
     "metadata": {},
     "output_type": "execute_result"
    }
   ],
   "source": [
    "from sklearn.metrics import r2_score\n",
    "r2_score(y_test, y_hat)"
   ]
  },
  {
   "cell_type": "markdown",
   "id": "b68eb337",
   "metadata": {},
   "source": [
    "## 5. Đánh giá mô hình với Khoảng tin cậy"
   ]
  },
  {
   "cell_type": "code",
   "execution_count": 42,
   "id": "82eb0902",
   "metadata": {},
   "outputs": [
    {
     "data": {
      "text/plain": [
       "array([-10.945,   7.032])"
      ]
     },
     "execution_count": 42,
     "metadata": {},
     "output_type": "execute_result"
    }
   ],
   "source": [
    "# Confidence Interval of 95%\n",
    "np.percentile(err, [2.5, 97.5])"
   ]
  },
  {
   "cell_type": "code",
   "execution_count": null,
   "id": "d0867d95",
   "metadata": {},
   "outputs": [],
   "source": []
  }
 ],
 "metadata": {
  "kernelspec": {
   "display_name": "Python 3 (ipykernel)",
   "language": "python",
   "name": "python3"
  },
  "language_info": {
   "codemirror_mode": {
    "name": "ipython",
    "version": 3
   },
   "file_extension": ".py",
   "mimetype": "text/x-python",
   "name": "python",
   "nbconvert_exporter": "python",
   "pygments_lexer": "ipython3",
   "version": "3.9.7"
  }
 },
 "nbformat": 4,
 "nbformat_minor": 5
}
