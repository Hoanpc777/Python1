{
 "cells": [
  {
   "cell_type": "markdown",
   "id": "c6b5bc76",
   "metadata": {},
   "source": [
    "# Dự đoán tình trạng xe với Logistic Regression"
   ]
  },
  {
   "cell_type": "code",
   "execution_count": 1,
   "id": "cd037bd6",
   "metadata": {},
   "outputs": [],
   "source": [
    "import numpy as np\n",
    "import scipy.stats as stats\n",
    "from matplotlib import pyplot as plt"
   ]
  },
  {
   "cell_type": "markdown",
   "id": "1842e4a2",
   "metadata": {},
   "source": [
    "## 1. Load và convert dữ liệu "
   ]
  },
  {
   "cell_type": "code",
   "execution_count": 2,
   "id": "a4200d0c",
   "metadata": {},
   "outputs": [
    {
     "name": "stdout",
     "output_type": "stream",
     "text": [
      "['vhigh' 'vhigh' '2' '2' 'small' 'low' 'unacc']\n",
      "['low' 'low' '5more' 'more' 'big' 'high' 'vgood']\n",
      "(1728, 7)\n"
     ]
    }
   ],
   "source": [
    "# Header: #price,maintenance,doors,persons,lug_capacity,safety,output (the condition of the car)\n",
    "raw_data = np.genfromtxt('data/used_car_evaluation.csv', dtype=str, \n",
    "                         delimiter=',', skip_header=1)\n",
    "print(raw_data[0])\n",
    "print(raw_data[-1])\n",
    "print(raw_data.shape)"
   ]
  },
  {
   "cell_type": "code",
   "execution_count": 3,
   "id": "0ff7920e",
   "metadata": {},
   "outputs": [
    {
     "name": "stdout",
     "output_type": "stream",
     "text": [
      "['high' 'low' 'med' 'vhigh']\n",
      "['high' 'low' 'med' 'vhigh']\n",
      "['2' '3' '4' '5more']\n",
      "['2' '4' 'more']\n",
      "['big' 'med' 'small']\n",
      "['high' 'low' 'med']\n",
      "['acc' 'good' 'unacc' 'vgood']\n"
     ]
    }
   ],
   "source": [
    "# Kiểm tra các giá trị duy nhất của từng cột dữ liệu\n",
    "# Features: 6 cột đầu\n",
    "# Giá trị cần đoán: cột thứ 7 \n",
    "#    (tình trạng xe: acceptable, good, unacceptable, very-good)\n",
    "print(np.unique(raw_data[:,0]))\n",
    "print(np.unique(raw_data[:,1]))\n",
    "print(np.unique(raw_data[:,2]))\n",
    "print(np.unique(raw_data[:,3]))\n",
    "print(np.unique(raw_data[:,4]))\n",
    "print(np.unique(raw_data[:,5]))\n",
    "print(np.unique(raw_data[:,6]))"
   ]
  },
  {
   "cell_type": "markdown",
   "id": "50f0fe5e",
   "metadata": {},
   "source": [
    "**Vì dữ liệu là dạng categorical, cần chuyển sang dạng số**"
   ]
  },
  {
   "cell_type": "code",
   "execution_count": 6,
   "id": "8a954226",
   "metadata": {},
   "outputs": [
    {
     "name": "stdout",
     "output_type": "stream",
     "text": [
      "(1728, 6)\n",
      "(1728,)\n"
     ]
    }
   ],
   "source": [
    "# Sử dụng Lớp LabelEncoder của thư viện sklearn để chuyển từng cột sang dạng số\n",
    "# Lưu ý: phải thực hiện trên từng cột, vì mỗi cột là 1 feature\n",
    "\n",
    "from sklearn.preprocessing import LabelEncoder, OneHotEncoder\n",
    "LE = LabelEncoder()\n",
    "# print(raw_data)\n",
    "X = np.stack([LE.fit_transform(col) for col in raw_data.T[0:6]], axis=1)\n",
    "print(X.shape)\n",
    "\n",
    "# OHE = OneHotEncoder()\n",
    "# Y = OHE.fit_transform(raw_data[:,6].reshape(-1,1)).toarray()\n",
    "Y = LE.fit_transform(raw_data[:,6])\n",
    "print(Y.shape)"
   ]
  },
  {
   "cell_type": "code",
   "execution_count": 8,
   "id": "568a8a81",
   "metadata": {},
   "outputs": [
    {
     "name": "stdout",
     "output_type": "stream",
     "text": [
      "[3 3 0 0 2 1]\n",
      "2\n"
     ]
    }
   ],
   "source": [
    "print(X[0])\n",
    "print(Y[0])"
   ]
  },
  {
   "cell_type": "markdown",
   "id": "0520e65c",
   "metadata": {},
   "source": [
    "## 2. Chia dữ liệu ra thành 2 tập train và test"
   ]
  },
  {
   "cell_type": "code",
   "execution_count": 9,
   "id": "47557aed",
   "metadata": {},
   "outputs": [
    {
     "name": "stdout",
     "output_type": "stream",
     "text": [
      "[ 350  112 1011 ... 1667 1273 1688]\n"
     ]
    }
   ],
   "source": [
    "np.random.seed(3)\n",
    "rand_indices = np.arange(1728)\n",
    "np.random.shuffle(rand_indices)\n",
    "print(rand_indices)"
   ]
  },
  {
   "cell_type": "code",
   "execution_count": 10,
   "id": "2a3fcc65",
   "metadata": {},
   "outputs": [
    {
     "name": "stdout",
     "output_type": "stream",
     "text": [
      "(1600, 6) (1600,)\n",
      "(128, 6) (128,)\n"
     ]
    }
   ],
   "source": [
    "N_TRAIN = 1600\n",
    "train_indices = rand_indices[0:N_TRAIN]\n",
    "test_indices = rand_indices[N_TRAIN:]\n",
    "\n",
    "x_train, y_train = X[train_indices], Y[train_indices]\n",
    "print(x_train.shape, y_train.shape)\n",
    "\n",
    "x_test, y_test = X[test_indices], Y[test_indices]\n",
    "print(x_test.shape, y_test.shape)"
   ]
  },
  {
   "cell_type": "code",
   "execution_count": 11,
   "id": "7ce9ff62",
   "metadata": {},
   "outputs": [
    {
     "name": "stdout",
     "output_type": "stream",
     "text": [
      "[2 1 0 1 2 1] 2\n"
     ]
    }
   ],
   "source": [
    "print(x_test[1], y_test[1])"
   ]
  },
  {
   "cell_type": "markdown",
   "id": "a9dad032",
   "metadata": {},
   "source": [
    "## 3. Tạo mô hình logistic regression"
   ]
  },
  {
   "cell_type": "code",
   "execution_count": 12,
   "id": "699740a3",
   "metadata": {},
   "outputs": [
    {
     "name": "stdout",
     "output_type": "stream",
     "text": [
      "Training accuracy: 0.7\n"
     ]
    }
   ],
   "source": [
    "from sklearn.linear_model import LogisticRegression\n",
    "\n",
    "# Tạo một đối tượng regressor (mô hình dự đoán)\n",
    "regressor = LogisticRegression()\n",
    "\n",
    "# Tiến hành fit (hoặc train) mô hình để nó fit vào training data\n",
    "# Thư viện sklearn sẽ tự động thực hiện việc này\n",
    "regressor.fit(x_train, y_train)\n",
    "\n",
    "# Đánh giá chất lượng mô hình với dữ liệu train\n",
    "print(\"Training accuracy:\", regressor.score(x_train, y_train))"
   ]
  },
  {
   "cell_type": "markdown",
   "id": "a4ff086b",
   "metadata": {},
   "source": [
    "## 4. Sử dụng mô hình"
   ]
  },
  {
   "cell_type": "code",
   "execution_count": 13,
   "id": "da475a97",
   "metadata": {},
   "outputs": [
    {
     "name": "stdout",
     "output_type": "stream",
     "text": [
      "Testing accuracy: 0.66\n"
     ]
    }
   ],
   "source": [
    "# Đánh giá chất lượng mô hình trên dữ liệu test\n",
    "acc = regressor.score(x_test, y_test)\n",
    "print(\"Testing accuracy: %.2f\"%(acc))"
   ]
  },
  {
   "cell_type": "code",
   "execution_count": 28,
   "id": "bda30457",
   "metadata": {},
   "outputs": [
    {
     "name": "stdout",
     "output_type": "stream",
     "text": [
      "[3]\n"
     ]
    },
    {
     "data": {
      "text/plain": [
       "'vgood'"
      ]
     },
     "execution_count": 28,
     "metadata": {},
     "output_type": "execute_result"
    }
   ],
   "source": [
    "# Dùng mô hình để dự đoán một số sample nào đó\n",
    "print(regressor.predict([x_test[18]]))\n",
    "\n",
    "ds_loại = np.unique(raw_data[:,6])\n",
    "index_loại  = regressor.predict([x_test[18]])[0]\n",
    "ds_loại[index_loại]"
   ]
  },
  {
   "cell_type": "code",
   "execution_count": 36,
   "id": "69be2f5e",
   "metadata": {},
   "outputs": [
    {
     "name": "stdout",
     "output_type": "stream",
     "text": [
      "Dự đoán:  [2 2 2 2 2 2 2 2 2 2 2 3 2 2 2 2 2 2 3 2]\n",
      "Thực tế:  [0 2 2 1 2 2 2 2 0 2 2 0 2 0 2 2 2 2 0 2]\n"
     ]
    }
   ],
   "source": [
    "y_test_hat = regressor.predict(x_test[0:20])\n",
    "print(\"Dự đoán: \", y_test_hat)\n",
    "print(\"Thực tế: \", y_test[0:20])"
   ]
  },
  {
   "cell_type": "markdown",
   "id": "c190e07e",
   "metadata": {},
   "source": [
    "## 5. Đánh giá mô hình với Khoảng tin cậy"
   ]
  },
  {
   "cell_type": "code",
   "execution_count": 45,
   "id": "45e84e3e",
   "metadata": {},
   "outputs": [
    {
     "name": "stdout",
     "output_type": "stream",
     "text": [
      "0.08228242794922103\n",
      "CI of 95%: 0.66 +/- 0.08\n",
      "Report: 95% tin cậy mô hình của chúng tôi chính xác là 66% +/- 8%\n"
     ]
    }
   ],
   "source": [
    "# Confidence Interval of 95%\n",
    "# Đúng về mặt thống kê, nhưng hơi khó hiểu về mặt thực tế\n",
    "z = 1.96\n",
    "n = y_test.shape[0]\n",
    "interval = z*np.sqrt(acc*(1-acc)/n)\n",
    "print(interval)\n",
    "print(\"CI of 95%%: %.2f +/- %.2f\"%(acc,interval))\n",
    "print(f\"Report: 95% tin cậy mô hình của chúng tôi chính xác là {acc*100:.0f}% +/- {interval*100:.0f}%\")"
   ]
  },
  {
   "cell_type": "code",
   "execution_count": null,
   "id": "ca34f697",
   "metadata": {},
   "outputs": [],
   "source": []
  }
 ],
 "metadata": {
  "kernelspec": {
   "display_name": "Python 3 (ipykernel)",
   "language": "python",
   "name": "python3"
  },
  "language_info": {
   "codemirror_mode": {
    "name": "ipython",
    "version": 3
   },
   "file_extension": ".py",
   "mimetype": "text/x-python",
   "name": "python",
   "nbconvert_exporter": "python",
   "pygments_lexer": "ipython3",
   "version": "3.9.7"
  }
 },
 "nbformat": 4,
 "nbformat_minor": 5
}
