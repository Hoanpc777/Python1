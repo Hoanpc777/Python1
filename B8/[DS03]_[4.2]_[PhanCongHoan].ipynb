{
 "cells": [
  {
   "cell_type": "markdown",
   "metadata": {},
   "source": [
    "1. Sử dụng linear regression xây dựng mô hình dự đoán thời gian đến nơi trễ (arr_delay) dựa vào thời gian xuất phát trễ (dep_delay) và khoảng cách (distance)"
   ]
  },
  {
   "cell_type": "code",
   "execution_count": 13,
   "metadata": {},
   "outputs": [],
   "source": [
    "import numpy as np\n",
    "from matplotlib import pyplot as plt\n",
    "from scipy import stats\n",
    "raw_data = np.genfromtxt(r'C:\\Users\\Hoanpc.TSTDESK01\\Desktop\\Python\\B7\\flight-data\\nycflights.csv', dtype=str, delimiter=',', encoding='utf-8')"
   ]
  },
  {
   "cell_type": "code",
   "execution_count": 55,
   "metadata": {},
   "outputs": [
    {
     "name": "stdout",
     "output_type": "stream",
     "text": [
      "(336776, 2)\n",
      "['\"\"' '\"year\"' '\"month\"' '\"day\"' '\"dep_time\"' '\"dep_delay\"' '\"arr_time\"'\n",
      " '\"arr_delay\"' '\"carrier\"' '\"tailnum\"' '\"flight\"' '\"origin\"' '\"dest\"'\n",
      " '\"air_time\"' '\"distance\"' '\"hour\"' '\"minute\"']\n"
     ]
    }
   ],
   "source": [
    "title = raw_data[0,:]\n",
    "# arrdelay = raw_data[1:,(np.where(title == '\"arr_delay\"')[0][0],3)]\n",
    "arrdelay = raw_data[1:,2:4]\n",
    "y = arrdelay[np.where(arrdelay !='NA')]\n",
    "# depdelay = raw_data[1:,np.where(title == '\"dep_delay\"')[0][0]]\n",
    "# x1 = depdelay[np.where(arrdelay !='NA')]\n",
    "# distance = raw_data[1:,np.where(title == '\"distance\"')[0][0]]\n",
    "# x2 = distance[np.where(arrdelay !='NA')]\n",
    "print(arrdelay.shape)\n",
    "# print(x1)\n",
    "# print(x2)\n",
    "print(title)"
   ]
  },
  {
   "cell_type": "code",
   "execution_count": null,
   "metadata": {},
   "outputs": [],
   "source": [
    "#Tạo các indices ngẫu nhiên\n",
    "np.random.seed(3)\n",
    "rand_indices = np.arange(y.size)\n",
    "np.random.shuffle(rand_indices)\n",
    "print(rand_indices.size)"
   ]
  }
 ],
 "metadata": {
  "interpreter": {
   "hash": "9793e026600ea3138d2b4af1f570ba87428b67ac3db0391f1962ee6a9c241852"
  },
  "kernelspec": {
   "display_name": "Python 3.9.6 64-bit",
   "language": "python",
   "name": "python3"
  },
  "language_info": {
   "codemirror_mode": {
    "name": "ipython",
    "version": 3
   },
   "file_extension": ".py",
   "mimetype": "text/x-python",
   "name": "python",
   "nbconvert_exporter": "python",
   "pygments_lexer": "ipython3",
   "version": "3.8.8"
  },
  "orig_nbformat": 4
 },
 "nbformat": 4,
 "nbformat_minor": 2
}
