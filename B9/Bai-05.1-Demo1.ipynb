{
 "cells": [
  {
   "cell_type": "code",
   "execution_count": 1,
   "id": "561049b6",
   "metadata": {},
   "outputs": [],
   "source": [
    "import numpy as np\n",
    "from scipy import stats\n",
    "from matplotlib import pyplot as plt\n",
    "np.set_printoptions(precision=3, suppress=True)"
   ]
  },
  {
   "cell_type": "markdown",
   "id": "1df57c02",
   "metadata": {},
   "source": [
    "# Phân tích EDA cho đơn hàng"
   ]
  },
  {
   "cell_type": "markdown",
   "id": "a71a2f2c",
   "metadata": {},
   "source": [
    "# 0. Load dữ liệu"
   ]
  },
  {
   "cell_type": "code",
   "execution_count": 4,
   "id": "e01f66b7",
   "metadata": {},
   "outputs": [
    {
     "data": {
      "text/plain": [
       "array([[2539329.,       1.,      nan, ...,       2.,       8.,      nan],\n",
       "       [2398795.,       1.,      nan, ...,       3.,       7.,      15.],\n",
       "       [ 473747.,       1.,      nan, ...,       3.,      12.,      21.],\n",
       "       ...,\n",
       "       [ 626363.,  206209.,      nan, ...,       1.,      12.,      18.],\n",
       "       [2977660.,  206209.,      nan, ...,       1.,      12.,       7.],\n",
       "       [ 272231.,  206209.,      nan, ...,       6.,      14.,      30.]])"
      ]
     },
     "execution_count": 4,
     "metadata": {},
     "output_type": "execute_result"
    }
   ],
   "source": [
    "# Header: order_id,user_id,eval_set,order_number,order_dow,order_hour_of_day,days_since_prior_order\n",
    "np.genfromtxt('instacart-data/orders.csv', skip_header=1, delimiter=',')"
   ]
  },
  {
   "cell_type": "code",
   "execution_count": 5,
   "id": "9acce0f3",
   "metadata": {},
   "outputs": [
    {
     "name": "stdout",
     "output_type": "stream",
     "text": [
      "Đã load xong!\n"
     ]
    }
   ],
   "source": [
    "# Header: order_id,user_id,eval_set,order_number,order_dow,order_hour_of_day,days_since_prior_order\n",
    "csv_data = np.genfromtxt('instacart-data/orders.csv', skip_header=1, delimiter=',', usecols=[0,1,3,4,5,6])\n",
    "print(\"Đã load xong!\")"
   ]
  },
  {
   "cell_type": "code",
   "execution_count": 6,
   "id": "c428cb64",
   "metadata": {},
   "outputs": [
    {
     "name": "stdout",
     "output_type": "stream",
     "text": [
      "(3421083, 6)\n",
      "[nan 15. 21. ... 18.  7. 30.]\n"
     ]
    }
   ],
   "source": [
    "print(csv_data.shape)\n",
    "print(csv_data.T[-1])"
   ]
  },
  {
   "cell_type": "markdown",
   "id": "93f4565b",
   "metadata": {},
   "source": [
    "# 1. Phân tích mô tả\n",
    "(đơn biến, không dùng đồ thị)"
   ]
  },
  {
   "cell_type": "markdown",
   "id": "b500336d",
   "metadata": {},
   "source": [
    "**Phân tích theo giờ mua hàng**"
   ]
  },
  {
   "cell_type": "code",
   "execution_count": 7,
   "id": "fdce4091",
   "metadata": {},
   "outputs": [
    {
     "name": "stdout",
     "output_type": "stream",
     "text": [
      "(3421083,)\n",
      "[ 0  1  2  3  4  5  6  7  8  9 10 11 12 13 14 15 16 17 18 19 20 21 22 23]\n"
     ]
    }
   ],
   "source": [
    "order_hour_of_day = csv_data[:,4].astype(np.uint8)\n",
    "print(order_hour_of_day.shape)\n",
    "print(np.unique(order_hour_of_day))"
   ]
  },
  {
   "cell_type": "code",
   "execution_count": 8,
   "id": "fe1f795d",
   "metadata": {},
   "outputs": [
    {
     "name": "stdout",
     "output_type": "stream",
     "text": [
      "[ 0  1  2  3  4  5  6  7  8  9 10 11 12 13 14 15 16 17 18 19 20 21 22 23]\n",
      "[ 22758  12398   7539   5474   5527   9569  30529  91868 178201 257812\n",
      " 288418 284728 272841 277999 283042 283639 272553 228795 182912 140569\n",
      " 104292  78109  61468  40043]\n",
      "Trung bình số đơn mỗi giờ: 142545.125\n",
      "Trung bình số đơn mỗi giờ: 142545.125\n"
     ]
    }
   ],
   "source": [
    "# Trung bình số đơn theo giờ\n",
    "values, counts = np.unique(order_hour_of_day, return_counts=True)\n",
    "print(values)\n",
    "print(counts)\n",
    "print(\"Trung bình số đơn mỗi giờ:\", np.mean(counts))\n",
    "print(\"Trung bình số đơn mỗi giờ:\", order_hour_of_day.size/24)"
   ]
  },
  {
   "cell_type": "code",
   "execution_count": 9,
   "id": "6c89e8a4",
   "metadata": {},
   "outputs": [
    {
     "name": "stdout",
     "output_type": "stream",
     "text": [
      "122430.5\n",
      "288418\n"
     ]
    }
   ],
   "source": [
    "print(np.median(counts)) # Median của số đơn hàng trong ngày\n",
    "print(np.max(counts))    # Mode của số đơn hàng trong ngày"
   ]
  },
  {
   "cell_type": "code",
   "execution_count": 22,
   "id": "f4863bc0",
   "metadata": {},
   "outputs": [
    {
     "data": {
      "text/plain": [
       "ModeResult(mode=array([10], dtype=uint8), count=array([288418]))"
      ]
     },
     "execution_count": 22,
     "metadata": {},
     "output_type": "execute_result"
    }
   ],
   "source": [
    "stats.mode(order_hour_of_day)"
   ]
  },
  {
   "cell_type": "markdown",
   "id": "697b34e9",
   "metadata": {},
   "source": [
    "**Phân tích theo ngày mua hàng trong tuần**"
   ]
  },
  {
   "cell_type": "code",
   "execution_count": 12,
   "id": "81ddfdd2",
   "metadata": {},
   "outputs": [
    {
     "name": "stdout",
     "output_type": "stream",
     "text": [
      "(3421083,)\n",
      "[0 1 2 3 4 5 6]\n"
     ]
    }
   ],
   "source": [
    "order_dow = csv_data[:,3].astype(np.uint8)\n",
    "print(order_dow.shape)\n",
    "print(np.unique(order_dow))"
   ]
  },
  {
   "cell_type": "code",
   "execution_count": 13,
   "id": "422dc994",
   "metadata": {},
   "outputs": [
    {
     "name": "stdout",
     "output_type": "stream",
     "text": [
      "[0 1 2 3 4 5 6]\n",
      "[600905 587478 467260 436972 426339 453368 448761]\n",
      "Trung bình số đơn mỗi ngày trong tuần: 488726.14285714284\n",
      "Trung bình số đơn mỗi ngày trong tuần: 488726.14285714284\n"
     ]
    }
   ],
   "source": [
    "# Trung bình số đơn theo ngày trong tuần\n",
    "values, counts = np.unique(order_dow, return_counts=True)\n",
    "print(values)\n",
    "print(counts)\n",
    "print(\"Trung bình số đơn mỗi ngày trong tuần:\", np.mean(counts))\n",
    "print(\"Trung bình số đơn mỗi ngày trong tuần:\", order_dow.size/7)"
   ]
  },
  {
   "cell_type": "code",
   "execution_count": 14,
   "id": "50e5d659",
   "metadata": {},
   "outputs": [
    {
     "name": "stdout",
     "output_type": "stream",
     "text": [
      "453368.0\n",
      "600905\n"
     ]
    }
   ],
   "source": [
    "print(np.median(counts)) # Median của số đơn hàng theo ngày trong tuần\n",
    "print(np.max(counts))    # Mode của số đơn hàng theo ngày trong tuần"
   ]
  },
  {
   "cell_type": "code",
   "execution_count": 23,
   "id": "4a8bdae1",
   "metadata": {},
   "outputs": [
    {
     "data": {
      "text/plain": [
       "ModeResult(mode=array([0], dtype=uint8), count=array([600905]))"
      ]
     },
     "execution_count": 23,
     "metadata": {},
     "output_type": "execute_result"
    }
   ],
   "source": [
    "stats.mode(order_dow)"
   ]
  },
  {
   "cell_type": "markdown",
   "id": "50402527",
   "metadata": {},
   "source": [
    "# 2. Phân tích theo các câu hỏi"
   ]
  },
  {
   "cell_type": "markdown",
   "id": "a27c8487",
   "metadata": {},
   "source": [
    "## 2.1) Thời điểm nào trong ngày thường có nhiều đơn hàng nhất?\n",
    "Vẽ biểu đồ phân bố đơn hàng theo giờ trong ngày{.unnumbered}"
   ]
  },
  {
   "cell_type": "code",
   "execution_count": 16,
   "id": "ce8d9139",
   "metadata": {},
   "outputs": [
    {
     "data": {
      "image/png": "[encoded data removed]",
      "text/plain": [
       "<Figure size 500x300 with 1 Axes>"
      ]
     },
     "metadata": {},
     "output_type": "display_data"
    }
   ],
   "source": [
    "# Cách đơn giản nhất: vẽ histogram của cột order_hour_of_day\n",
    "fig,ax = plt.subplots(figsize=(5,3), num=1)\n",
    "ax.hist(order_hour_of_day, bins=24)\n",
    "plt.show()"
   ]
  },
  {
   "cell_type": "code",
   "execution_count": 17,
   "id": "e0d8617e",
   "metadata": {},
   "outputs": [
    {
     "data": {
      "image/png": "[encoded data removed]",
      "text/plain": [
       "<Figure size 1000x400 with 1 Axes>"
      ]
     },
     "metadata": {},
     "output_type": "display_data"
    }
   ],
   "source": [
    "# Chỉnh sửa lại cho đẹp hơn\n",
    "fig,ax = plt.subplots(figsize=(10,4), num=1)\n",
    "ax.hist(order_hour_of_day, bins=np.arange(25), alpha=0.75, width=0.8,\n",
    "                          color='red', edgecolor='black', linewidth=1.0)\n",
    "\n",
    "xtick_labels = np.arange(24)\n",
    "ax.set_xticks(xtick_labels+0.4)\n",
    "ax.set_xticklabels(xtick_labels)\n",
    "ax.set_xlabel(\"Giờ trong ngày\")\n",
    "ax.set_ylabel(\"Số lượng đơn\")\n",
    "plt.show()"
   ]
  },
  {
   "cell_type": "markdown",
   "id": "c1783413",
   "metadata": {},
   "source": [
    "## 2.2) Thời điểm nào trong tuần thường có nhiều đơn hàng nhất? {.unnumbered}\n",
    "Vẽ biểu đồ phân bố đơn hàng theo ngày trong tuần"
   ]
  },
  {
   "cell_type": "code",
   "execution_count": 18,
   "id": "04552f4c",
   "metadata": {},
   "outputs": [
    {
     "data": {
      "image/png": "[encoded data removed]",
      "text/plain": [
       "<Figure size 500x300 with 1 Axes>"
      ]
     },
     "metadata": {},
     "output_type": "display_data"
    }
   ],
   "source": [
    "fig,ax = plt.subplots(figsize=(5,3), num=1)\n",
    "ax.hist(order_dow, bins=7)\n",
    "plt.show()"
   ]
  },
  {
   "cell_type": "code",
   "execution_count": 19,
   "id": "a77b68c1",
   "metadata": {},
   "outputs": [
    {
     "data": {
      "image/png": "[encoded data removed]",
      "text/plain": [
       "<Figure size 600x300 with 1 Axes>"
      ]
     },
     "metadata": {},
     "output_type": "display_data"
    }
   ],
   "source": [
    "week_days = ['Thứ Bảy', 'CN', 'Thứ Hai', 'Thứ Ba', 'Thứ Tư', 'Thứ Năm', 'Thứ Sáu']\n",
    "fig,ax = plt.subplots(figsize=(6,3), num=1)\n",
    "ax.hist(order_dow, bins=np.arange(8), alpha=0.75, width=0.8,\n",
    "                          color='red', edgecolor='black', linewidth=1.0)\n",
    "ax.set_xticks(np.arange(7) + 0.4)\n",
    "ax.set_xticklabels(week_days, rotation=-30)\n",
    "plt.show()"
   ]
  },
  {
   "cell_type": "markdown",
   "id": "b8c3c5ff",
   "metadata": {},
   "source": [
    "## 2.3. Mỗi khách hàng thường có số đơn hàng là bao nhiêu?\n",
    "Vẽ biểu đồ phân bố số lượng khách hàng theo số đơn hàng mỗi khách đã mua"
   ]
  },
  {
   "cell_type": "code",
   "execution_count": 20,
   "id": "9bab22cc",
   "metadata": {},
   "outputs": [
    {
     "name": "stdout",
     "output_type": "stream",
     "text": [
      "3421083\n",
      "206209\n",
      "Số lượng đơn mà từng khách hàng đã mua: [11 15 13  6  5  4 21  4  4  6]\n"
     ]
    }
   ],
   "source": [
    "customer_id_order = csv_data.T[1].astype(int)\n",
    "print(customer_id_order.size)\n",
    "values, order_per_cus_counts = np.unique(customer_id_order, return_counts=True)\n",
    "print(values.size)\n",
    "print(\"Số lượng đơn mà từng khách hàng đã mua:\", order_per_cus_counts[0:10])"
   ]
  },
  {
   "cell_type": "code",
   "execution_count": 21,
   "id": "c701caa6",
   "metadata": {},
   "outputs": [
    {
     "name": "stdout",
     "output_type": "stream",
     "text": [
      "4 100\n",
      "16.590367054784224\n",
      "10.0\n",
      "ModeResult(mode=array([4]), count=array([23986]))\n"
     ]
    }
   ],
   "source": [
    "print(np.min(order_per_cus_counts), np.max(order_per_cus_counts))\n",
    "print(np.mean(order_per_cus_counts))\n",
    "print(np.median(order_per_cus_counts))\n",
    "print(stats.mode(order_per_cus_counts))"
   ]
  },
  {
   "cell_type": "code",
   "execution_count": 26,
   "id": "621992c4",
   "metadata": {},
   "outputs": [
    {
     "name": "stdout",
     "output_type": "stream",
     "text": [
      "[4, 10, 15, 20, 25, 30, 35, 40, 45, 50, 55, 60, 65, 70, 75, 80, 85, 90, 95, 100]\n"
     ]
    }
   ],
   "source": [
    "#labels = np.hstack([[4],np.arange(10,105,5)])\n",
    "labels = [4] + list(np.arange(10,105,5))\n",
    "print(labels)"
   ]
  },
  {
   "cell_type": "code",
   "execution_count": 27,
   "id": "0ded2118",
   "metadata": {},
   "outputs": [
    {
     "data": {
      "image/png": "[encoded data removed]",
      "text/plain": [
       "<Figure size 700x400 with 1 Axes>"
      ]
     },
     "metadata": {},
     "output_type": "display_data"
    }
   ],
   "source": [
    "fig,ax = plt.subplots(figsize=(7,4), num=1)\n",
    "n, bins, edges = ax.hist(order_per_cus_counts, bins=97,\n",
    "                         color='green', alpha=.75, edgecolor='black', linewidth=0.5)\n",
    "ax.set_xticks(labels)\n",
    "plt.show()"
   ]
  },
  {
   "cell_type": "markdown",
   "id": "68f1940f",
   "metadata": {},
   "source": [
    "## 2.4. Thường sau bao nhiêu ngày khách hàng lại re-order?\n",
    "Vẽ biểu đồ số đơn hàng theo quãng thời gian re-order"
   ]
  },
  {
   "cell_type": "code",
   "execution_count": 28,
   "id": "e2222f77",
   "metadata": {},
   "outputs": [
    {
     "name": "stdout",
     "output_type": "stream",
     "text": [
      "[15. 21. 29. ... 18.  7. 30.]\n"
     ]
    }
   ],
   "source": [
    "reorder_days = csv_data.T[-1]\n",
    "reorder_days = reorder_days[~np.isnan(reorder_days)]\n",
    "print(reorder_days)"
   ]
  },
  {
   "cell_type": "code",
   "execution_count": 29,
   "id": "24383535",
   "metadata": {},
   "outputs": [
    {
     "name": "stdout",
     "output_type": "stream",
     "text": [
      "11.114836226863012\n",
      "7.0\n",
      "ModeResult(mode=array([30.]), count=array([369323]))\n"
     ]
    }
   ],
   "source": [
    "print(np.mean(reorder_days))\n",
    "print(np.median(reorder_days))\n",
    "print(stats.mode(reorder_days))"
   ]
  },
  {
   "cell_type": "code",
   "execution_count": 30,
   "id": "8bf42ad8",
   "metadata": {},
   "outputs": [],
   "source": [
    "values, count = np.unique(reorder_days, return_counts=True)\n",
    "N = values.size"
   ]
  },
  {
   "cell_type": "code",
   "execution_count": 31,
   "id": "f15c0efe",
   "metadata": {},
   "outputs": [
    {
     "data": {
      "image/png": "[encoded data removed]",
      "text/plain": [
       "<Figure size 700x400 with 1 Axes>"
      ]
     },
     "metadata": {},
     "output_type": "display_data"
    }
   ],
   "source": [
    "fig,ax = plt.subplots(figsize=(7,4), num=1)\n",
    "n, bins, edges = ax.hist(reorder_days, bins=np.arange(N+1),\n",
    "                         color='yellow', alpha=.75, edgecolor='black', linewidth=0.5)\n",
    "ax.set_xticks(np.arange(0,N+1,2)+0.5)\n",
    "ax.set_xticklabels(np.arange(0,N+1,2))\n",
    "plt.show()"
   ]
  },
  {
   "cell_type": "markdown",
   "id": "d75f56c9",
   "metadata": {},
   "source": [
    "## 2.5. Sau 30 ngày, đa số khách hàng đã order bao nhiêu lần?"
   ]
  },
  {
   "cell_type": "code",
   "execution_count": 32,
   "id": "f1d432ee",
   "metadata": {},
   "outputs": [
    {
     "name": "stdout",
     "output_type": "stream",
     "text": [
      "(369323,)\n"
     ]
    }
   ],
   "source": [
    "order_numbers = csv_data.T[2]\n",
    "reorder_days = csv_data.T[-1]\n",
    "reorder30 = order_numbers[reorder_days == 30]\n",
    "print(reorder30.shape)"
   ]
  },
  {
   "cell_type": "code",
   "execution_count": 33,
   "id": "7124608d",
   "metadata": {},
   "outputs": [
    {
     "data": {
      "text/plain": [
       "(array([ 2.,  3.,  4.,  5.,  6.,  7.,  8.,  9., 10., 11., 12., 13., 14.,\n",
       "        15., 16., 17., 18., 19., 20., 21., 22., 23., 24., 25., 26., 27.,\n",
       "        28., 29., 30., 31., 32., 33., 34., 35., 36., 37., 38., 39., 40.,\n",
       "        41., 42., 43., 44., 45., 46., 47., 48., 49., 50., 51., 52., 53.,\n",
       "        54., 55., 56., 57., 58., 59., 60., 61., 62., 63., 64., 65., 66.,\n",
       "        67., 68., 69., 70., 71., 72., 73., 74., 75., 76., 77., 78., 79.,\n",
       "        80., 81., 82., 83., 84., 85., 86., 87., 88., 90., 91., 92., 93.,\n",
       "        95., 96., 98., 99.]),\n",
       " array([47839, 47130, 48887, 38780, 31212, 25290, 20575, 16926, 14155,\n",
       "        11592,  9740,  8115,  6927,  5901,  4871,  4162,  3523,  3064,\n",
       "         2623,  2217,  1942,  1702,  1392,  1298,  1119,   950,   877,\n",
       "          735,   644,   551,   474,   460,   414,   340,   295,   282,\n",
       "          249,   227,   162,   142,   145,   124,   129,   130,   122,\n",
       "           90,    88,    70,    53,    52,    58,    42,    37,    29,\n",
       "           26,    28,    30,    18,    22,    19,    27,    16,    26,\n",
       "           16,    15,     9,     9,     8,     7,     8,     8,     5,\n",
       "            6,     3,     9,     6,     8,     3,     3,     4,     6,\n",
       "            4,     2,     1,     2,     2,     3,     1,     2,     2,\n",
       "            2,     1,     1,     1,     1]))"
      ]
     },
     "execution_count": 33,
     "metadata": {},
     "output_type": "execute_result"
    }
   ],
   "source": [
    "np.unique(reorder30, return_counts=True)"
   ]
  },
  {
   "cell_type": "code",
   "execution_count": 34,
   "id": "88a92164",
   "metadata": {},
   "outputs": [
    {
     "data": {
      "image/png": "[encoded data removed]",
      "text/plain": [
       "<Figure size 700x400 with 1 Axes>"
      ]
     },
     "metadata": {},
     "output_type": "display_data"
    }
   ],
   "source": [
    "fig,ax = plt.subplots(figsize=(7,4), num=1)\n",
    "ax.hist(reorder30, bins=98)\n",
    "plt.show()"
   ]
  },
  {
   "cell_type": "code",
   "execution_count": null,
   "id": "78b68f77",
   "metadata": {},
   "outputs": [],
   "source": []
  }
 ],
 "metadata": {
  "kernelspec": {
   "display_name": "Python 3 (ipykernel)",
   "language": "python",
   "name": "python3"
  },
  "language_info": {
   "codemirror_mode": {
    "name": "ipython",
    "version": 3
   },
   "file_extension": ".py",
   "mimetype": "text/x-python",
   "name": "python",
   "nbconvert_exporter": "python",
   "pygments_lexer": "ipython3",
   "version": "3.8.8"
  }
 },
 "nbformat": 4,
 "nbformat_minor": 5
}
