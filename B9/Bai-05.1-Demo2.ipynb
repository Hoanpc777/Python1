{
 "cells": [
  {
   "cell_type": "code",
   "execution_count": 4,
   "id": "96b62bc9",
   "metadata": {},
   "outputs": [],
   "source": [
    "import numpy as np\n",
    "from scipy import stats\n",
    "from matplotlib import pyplot as plt\n",
    "np.set_printoptions(precision=3, suppress=True)"
   ]
  },
  {
   "cell_type": "markdown",
   "id": "4795c323",
   "metadata": {},
   "source": [
    "# Phân tích đa biến trên 2 nguồn dữ liệu: \n",
    "# Tìm 10 sản phẩm bán được nhiều nhất"
   ]
  },
  {
   "cell_type": "markdown",
   "id": "771cc521",
   "metadata": {},
   "source": [
    "# 0. Load dữ liệu"
   ]
  },
  {
   "cell_type": "code",
   "execution_count": 5,
   "id": "dd8e279b",
   "metadata": {},
   "outputs": [
    {
     "name": "stdout",
     "output_type": "stream",
     "text": [
      "Đã load xong!\n",
      "(1384617, 4)\n"
     ]
    }
   ],
   "source": [
    "# Header: order_id,product_id,add_to_cart_order,reordered\n",
    "csv_data = np.genfromtxt('instacart-data/order_products__train.csv', skip_header=1, \n",
    "                         delimiter=',', dtype=int)\n",
    "print(\"Đã load xong!\")\n",
    "print(csv_data.shape)"
   ]
  },
  {
   "cell_type": "code",
   "execution_count": 13,
   "id": "08323cdd",
   "metadata": {},
   "outputs": [
    {
     "name": "stdout",
     "output_type": "stream",
     "text": [
      "(1384617, 4)\n",
      "[1 1 0 ... 1 1 1]\n"
     ]
    }
   ],
   "source": [
    "print(csv_data.shape)\n",
    "print(csv_data.T[-1])"
   ]
  },
  {
   "cell_type": "code",
   "execution_count": 14,
   "id": "01eed0b3",
   "metadata": {},
   "outputs": [
    {
     "data": {
      "text/plain": [
       "0"
      ]
     },
     "execution_count": 14,
     "metadata": {},
     "output_type": "execute_result"
    }
   ],
   "source": [
    "np.count_nonzero(np.isnan(csv_data))"
   ]
  },
  {
   "cell_type": "markdown",
   "id": "45fab50c",
   "metadata": {},
   "source": [
    "# 1. Phân tích mô tả\n",
    "(đơn biến, không dùng đồ thị)"
   ]
  },
  {
   "cell_type": "markdown",
   "id": "9f7e142a",
   "metadata": {},
   "source": [
    "**Phân tích theo số lượng order**\n",
    "(Mỗi order có bao nhiêu products?)"
   ]
  },
  {
   "cell_type": "code",
   "execution_count": 6,
   "id": "e86a0f9b",
   "metadata": {},
   "outputs": [
    {
     "name": "stdout",
     "output_type": "stream",
     "text": [
      "[      1      36      38 ... 3421058 3421063 3421070]\n",
      "[8 8 9 ... 8 4 3]\n",
      "131209\n"
     ]
    }
   ],
   "source": [
    "orders = csv_data.T[0]\n",
    "vals, count = np.unique(orders, return_counts=True)\n",
    "print(vals)\n",
    "print(count)\n",
    "print(vals.size)"
   ]
  },
  {
   "cell_type": "code",
   "execution_count": 7,
   "id": "9a721cdf",
   "metadata": {},
   "outputs": [
    {
     "name": "stdout",
     "output_type": "stream",
     "text": [
      "10.552759338155157\n",
      "9.0\n"
     ]
    }
   ],
   "source": [
    "print(np.mean(count))\n",
    "print(np.median(count))"
   ]
  },
  {
   "cell_type": "markdown",
   "id": "2b28984e",
   "metadata": {},
   "source": [
    "**Phân tích theo product_id**\n",
    "(Mỗi product được order bao nhiêu lần?)"
   ]
  },
  {
   "cell_type": "code",
   "execution_count": 24,
   "id": "a245dcce",
   "metadata": {},
   "outputs": [
    {
     "name": "stdout",
     "output_type": "stream",
     "text": [
      "[    1     2     3 ... 49686 49687 49688]\n",
      "[76  4  6 ...  7  1  4]\n",
      "39123\n"
     ]
    }
   ],
   "source": [
    "product_id = csv_data.T[1]\n",
    "vals, count = np.unique(product_id, return_counts=True)\n",
    "print(vals)\n",
    "print(count)\n",
    "print(vals.size)"
   ]
  },
  {
   "cell_type": "code",
   "execution_count": 27,
   "id": "822c48c5",
   "metadata": {},
   "outputs": [
    {
     "name": "stdout",
     "output_type": "stream",
     "text": [
      "35.39138102906219\n",
      "5.0\n",
      "18726\n",
      "24852\n"
     ]
    }
   ],
   "source": [
    "print(np.mean(count))   # Trung bình mỗi product xuất hiện bao nhiêu lần\n",
    "print(np.median(count)) # Median của số lần products xuất hiện\n",
    "print(np.max(count))    # Mode của số lần products được mua nhiều nhất\n",
    "print(vals[np.argmax(count)]) # Id của product được mua nhiều nhất"
   ]
  },
  {
   "cell_type": "markdown",
   "id": "0f696dd2",
   "metadata": {},
   "source": [
    "**Phân tích theo reordered**\n",
    "(Mỗi product đã được reorder bao nhiêu lần?)"
   ]
  },
  {
   "cell_type": "code",
   "execution_count": 23,
   "id": "29ac489a",
   "metadata": {},
   "outputs": [
    {
     "name": "stdout",
     "output_type": "stream",
     "text": [
      "828824\n"
     ]
    }
   ],
   "source": [
    "reorders = csv_data.T[3]\n",
    "reorder_product_id = product_id[reorders == 1]\n",
    "print(reorder_product_id.size)"
   ]
  },
  {
   "cell_type": "code",
   "execution_count": 24,
   "id": "6036abff",
   "metadata": {},
   "outputs": [
    {
     "name": "stdout",
     "output_type": "stream",
     "text": [
      "[    1     2     3 ... 49683 49686 49688]\n",
      "[  49    1    6 ... 1709    5    1]\n",
      "30176\n"
     ]
    }
   ],
   "source": [
    "vals, count = np.unique(reorder_product_id, return_counts=True)\n",
    "print(vals)\n",
    "print(count)\n",
    "print(vals.size)"
   ]
  },
  {
   "cell_type": "code",
   "execution_count": 31,
   "id": "e11328ee",
   "metadata": {},
   "outputs": [
    {
     "name": "stdout",
     "output_type": "stream",
     "text": [
      "27.466330858960763\n",
      "4.0\n",
      "16557\n",
      "24852\n"
     ]
    }
   ],
   "source": [
    "print(np.mean(count))   # Trung bình mỗi product được reordered bao nhiêu lần\n",
    "print(np.median(count)) # Median của số lần products được reordered\n",
    "print(np.max(count))    # Mode của số lần products được reordered nhiều nhất\n",
    "print(vals[np.argmax(count)]) # Id của product được reordered nhiều nhất"
   ]
  },
  {
   "cell_type": "markdown",
   "id": "79ad63ff",
   "metadata": {},
   "source": [
    "# 2. Phân tích theo các câu hỏi"
   ]
  },
  {
   "cell_type": "markdown",
   "id": "fc808485",
   "metadata": {},
   "source": [
    "## 2.1) Khách hàng thường mua bao nhiêu sản phẩm trong một đơn hàng?\n",
    "Vẽ biểu đồ phân bố số sản phẩm trong đơn hàng"
   ]
  },
  {
   "cell_type": "code",
   "execution_count": 36,
   "id": "bfac1235",
   "metadata": {
    "scrolled": true
   },
   "outputs": [
    {
     "data": {
      "image/png": "[encoded data removed]",
      "text/plain": [
       "<Figure size 1000x400 with 1 Axes>"
      ]
     },
     "metadata": {},
     "output_type": "display_data"
    }
   ],
   "source": [
    "vals, count = np.unique(orders, return_counts=True)\n",
    "plt.figure(figsize = (10,4))\n",
    "n, bins, edges = plt.hist(count, alpha=0.75, bins=80,\n",
    "                          color='red', edgecolor='black', linewidth=1.0)\n",
    "plt.title('Biểu Đồ Số Sản Phẩm Trong Đơn Hàng')\n",
    "plt.xlabel('Số Lượng Sản Phẩm Từng Đơn Hàng')\n",
    "plt.ylabel('Số Lượng Đơn Hàng')\n",
    "plt.xticks(range(0,80,5))\n",
    "plt.show()"
   ]
  },
  {
   "cell_type": "markdown",
   "id": "10e62734",
   "metadata": {},
   "source": [
    "**Câu hỏi luyện tập: Hãy vẽ đường mean, median, mode**"
   ]
  },
  {
   "cell_type": "markdown",
   "id": "8a6c28a2",
   "metadata": {},
   "source": [
    "## 2.2) Những sản phẩm nào bán chạy nhất?\n",
    "### 2.2.1) Vẽ biểu đồ 10 sản phẩm bán chạy nhất"
   ]
  },
  {
   "cell_type": "code",
   "execution_count": 8,
   "id": "380ef68e",
   "metadata": {},
   "outputs": [
    {
     "name": "stdout",
     "output_type": "stream",
     "text": [
      "[19574 10367 16685 17300 37499 37609 37164 13228 20648 22024]\n",
      "[18726 15480 10894  9784  8135  7409  7293  6494  6033  5546]\n",
      "[24852 13176 21137 21903 47626 47766 47209 16797 26209 27966]\n"
     ]
    }
   ],
   "source": [
    "product_id = csv_data.T[1]\n",
    "vals, count = np.unique(product_id, return_counts=True)\n",
    "sorted_count_index = np.lexsort([vals, count])[::-1][0:10]\n",
    "print(sorted_count_index)\n",
    "print(count[sorted_count_index])\n",
    "print(vals[sorted_count_index])"
   ]
  },
  {
   "cell_type": "code",
   "execution_count": 9,
   "id": "9c2a1ead",
   "metadata": {},
   "outputs": [],
   "source": [
    "top10_product_id = vals[sorted_count_index]\n",
    "top10_product_count = count[sorted_count_index]"
   ]
  },
  {
   "cell_type": "code",
   "execution_count": 10,
   "id": "06fb36f1",
   "metadata": {},
   "outputs": [
    {
     "data": {
      "image/png": "[encoded data removed]",
      "text/plain": [
       "<Figure size 720x288 with 1 Axes>"
      ]
     },
     "metadata": {
      "needs_background": "light"
     },
     "output_type": "display_data"
    }
   ],
   "source": [
    "plt.figure(figsize = (10,4))\n",
    "plt.bar(x=range(10), height=top10_product_count, \n",
    "        color='green', alpha=0.75, edgecolor='black', linewidth=1.0)\n",
    "plt.title('10 Sản Phẩm Bán Chạy Nhất')\n",
    "plt.xlabel('ID của Sản Phẩm')\n",
    "plt.ylabel('Số Lượng Đơn Hàng')\n",
    "plt.xticks(range(10), top10_product_id, rotation='horizontal')\n",
    "plt.show()"
   ]
  },
  {
   "cell_type": "markdown",
   "id": "6cd42ce0",
   "metadata": {},
   "source": [
    "### 2.2.2) Cần lấy thông tin về tên của sản phẩm thay vì id"
   ]
  },
  {
   "cell_type": "markdown",
   "id": "065dcae6",
   "metadata": {},
   "source": [
    "**Thử load file products.csv bằng genfromtxt**"
   ]
  },
  {
   "cell_type": "code",
   "execution_count": null,
   "id": "06e417aa",
   "metadata": {},
   "outputs": [],
   "source": [
    "# Header: product_id,product_name,aisle_id,department_id\n",
    "# pro_data = np.loadtxt('data/products.csv', skiprows=1, delimiter=',', dtype=np.object)\n",
    "pro_data = np.genfromtxt('instacart-data/products.csv', skip_header=1, delimiter=',', dtype=np.object)"
   ]
  },
  {
   "cell_type": "markdown",
   "id": "d17ac4b1",
   "metadata": {},
   "source": [
    "**Load bằng cách đọc thông thường**"
   ]
  },
  {
   "cell_type": "code",
   "execution_count": 18,
   "id": "c0977646",
   "metadata": {},
   "outputs": [
    {
     "name": "stdout",
     "output_type": "stream",
     "text": [
      "['product_id', 'product_name', 'aisle_id', 'department_id']\n",
      "['Chocolate Sandwich Cookies', 'All-Seasons Salt', 'Robust Golden Unsweetened Oolong Tea', 'Smart Ones Classic Favorites Mini Rigatoni With Vodka Cream Sauce', 'Green Chile Anytime Sauce', 'Dry Nose Oil', 'Pure Coconut Water With Orange', \"Cut Russet Potatoes Steam N' Mash\", 'Light Strawberry Blueberry Yogurt', 'Sparkling Orange Juice & Prickly Pear Beverage']\n",
      "[1, 2, 3, 4, 5, 6, 7, 8, 9, 10]\n",
      "[61, 104, 94, 38, 5, 11, 98, 116, 120, 115]\n"
     ]
    }
   ],
   "source": [
    "import csv\n",
    "file_path = 'instacart-data/products.csv'\n",
    "ds_product_id = []\n",
    "ds_product_name = []\n",
    "ds_aisle_id = []\n",
    "with open(file_path, newline='', encoding='utf-8') as csv_file:\n",
    "    data_csv = csv.reader(csv_file, delimiter=',')\n",
    "    header = next(data_csv)\n",
    "    print(header)\n",
    "\n",
    "    for row in data_csv:\n",
    "        ds_product_id.append(int(row[0]))\n",
    "        ds_product_name.append(row[1])\n",
    "        ds_aisle_id.append(int(row[2]))\n",
    "print(ds_product_name[0:10])\n",
    "print(ds_product_id[0:10])\n",
    "print(ds_aisle_id[0:10])"
   ]
  },
  {
   "cell_type": "code",
   "execution_count": 20,
   "id": "b9b7bc02",
   "metadata": {},
   "outputs": [
    {
     "name": "stdout",
     "output_type": "stream",
     "text": [
      "[24852 13176 21137 21903 47626 47766 47209 16797 26209 27966]\n",
      "[24851, 13175, 21136, 21902, 47625, 47765, 47208, 16796, 26208, 27965]\n",
      "['Banana', 'Bag of Organic Bananas', 'Organic Strawberries', 'Organic Baby Spinach', 'Large Lemon', 'Organic Avocado', 'Organic Hass Avocado', 'Strawberries', 'Limes', 'Organic Raspberries']\n"
     ]
    }
   ],
   "source": [
    "print(top10_product_id)\n",
    "# print(top10_product_count)\n",
    "top10_product_index = [ds_product_id.index(pro_id) for pro_id in top10_product_id]\n",
    "print(top10_product_index)\n",
    "top10_product_name = [ds_product_name[pro_idx] for pro_idx in top10_product_index]\n",
    "print(top10_product_name)"
   ]
  },
  {
   "cell_type": "code",
   "execution_count": 21,
   "id": "08812880",
   "metadata": {},
   "outputs": [
    {
     "data": {
      "image/png": "[encoded data removed]",
      "text/plain": [
       "<Figure size 504x216 with 1 Axes>"
      ]
     },
     "metadata": {
      "needs_background": "light"
     },
     "output_type": "display_data"
    }
   ],
   "source": [
    "plt.figure(figsize = (7,3))\n",
    "plt.bar(x=range(10), height=top10_product_count, \n",
    "        color='green', alpha=0.75, edgecolor='black', linewidth=1.0)\n",
    "plt.title('10 Sản Phẩm Bán Chạy Nhất')\n",
    "plt.xlabel('Tên Sản Phẩm')\n",
    "plt.ylabel('Số Lượng Đơn Hàng')\n",
    "plt.xticks(range(10), top10_product_name, rotation=-70, ha='left')\n",
    "plt.show()"
   ]
  },
  {
   "cell_type": "markdown",
   "id": "cd5a92f9",
   "metadata": {},
   "source": [
    "## 2.4. Những sản phẩm nào thường được re-ordered nhiều nhất?\n",
    "Vẽ biểu đồ 10 loại sản phẩm được re-ordered nhiều nhất"
   ]
  },
  {
   "cell_type": "code",
   "execution_count": 25,
   "id": "95bb9b77",
   "metadata": {},
   "outputs": [
    {
     "name": "stdout",
     "output_type": "stream",
     "text": [
      "[15092  7956 12863 13349 29007 28659 28919 10192 16943 15902]\n",
      "[16557 13362  8603  8055  6226  6042  5923  4786  4279  4234]\n",
      "[24852 13176 21137 21903 47766 47209 47626 16797 27966 26209]\n"
     ]
    }
   ],
   "source": [
    "vals, count = np.unique(reorder_product_id, return_counts=True)\n",
    "sorted_count_index = np.argsort(count)[::-1][0:10]\n",
    "print(sorted_count_index)\n",
    "print(count[sorted_count_index])\n",
    "print(vals[sorted_count_index])"
   ]
  },
  {
   "cell_type": "code",
   "execution_count": 26,
   "id": "2699430a",
   "metadata": {},
   "outputs": [],
   "source": [
    "top10_reorderPro_id = vals[sorted_count_index]\n",
    "top10_reorderPro_count = count[sorted_count_index]"
   ]
  },
  {
   "cell_type": "code",
   "execution_count": 27,
   "id": "32fc9c05",
   "metadata": {},
   "outputs": [
    {
     "name": "stdout",
     "output_type": "stream",
     "text": [
      "[24851, 13175, 21136, 21902, 47765, 47208, 47625, 16796, 27965, 26208]\n",
      "['Banana', 'Bag of Organic Bananas', 'Organic Strawberries', 'Organic Baby Spinach', 'Organic Avocado', 'Organic Hass Avocado', 'Large Lemon', 'Strawberries', 'Organic Raspberries', 'Limes']\n"
     ]
    }
   ],
   "source": [
    "top10_reorderPro_index = [ds_product_id.index(pro_id) for pro_id in top10_reorderPro_id]\n",
    "print(top10_reorderPro_index)\n",
    "top10_reorderPro_name = [ds_product_name[pro_idx] for pro_idx in top10_reorderPro_index]\n",
    "print(top10_reorderPro_name)"
   ]
  },
  {
   "cell_type": "code",
   "execution_count": 28,
   "id": "49db3ef5",
   "metadata": {
    "scrolled": true
   },
   "outputs": [
    {
     "data": {
      "image/png": "[encoded data removed]",
      "text/plain": [
       "<Figure size 504x216 with 1 Axes>"
      ]
     },
     "metadata": {
      "needs_background": "light"
     },
     "output_type": "display_data"
    }
   ],
   "source": [
    "plt.figure(figsize = (7,3))\n",
    "plt.bar(x=range(10), height=top10_reorderPro_count, \n",
    "        color='yellow', alpha=0.75, edgecolor='black', linewidth=1.0)\n",
    "plt.title('10 Sản Phẩm Được Re-ordered Nhiều Nhất')\n",
    "plt.xlabel('ID của Sản Phẩm')\n",
    "plt.ylabel('Số Lượng Đơn Hàng')\n",
    "plt.xticks(range(10), top10_reorderPro_id, rotation='horizontal')\n",
    "plt.show()"
   ]
  },
  {
   "cell_type": "code",
   "execution_count": 29,
   "id": "81f7d8b6",
   "metadata": {
    "scrolled": false
   },
   "outputs": [
    {
     "data": {
      "image/png": "[encoded data removed]",
      "text/plain": [
       "<Figure size 504x216 with 1 Axes>"
      ]
     },
     "metadata": {
      "needs_background": "light"
     },
     "output_type": "display_data"
    }
   ],
   "source": [
    "plt.figure(figsize = (7,3))\n",
    "plt.bar(x=range(10), height=top10_reorderPro_count, \n",
    "        color='yellow', alpha=0.75, edgecolor='black', linewidth=1.0)\n",
    "plt.title('10 Sản Phẩm Được Re-ordered Nhiều Nhất')\n",
    "plt.xlabel('ID của Sản Phẩm')\n",
    "plt.ylabel('Số Lượng Đơn Hàng')\n",
    "plt.xticks(range(10), top10_reorderPro_name, rotation=-70, ha='left')\n",
    "plt.show()"
   ]
  },
  {
   "cell_type": "code",
   "execution_count": null,
   "id": "9a1701c3",
   "metadata": {},
   "outputs": [],
   "source": []
  }
 ],
 "metadata": {
  "kernelspec": {
   "display_name": "Python 3 (ipykernel)",
   "language": "python",
   "name": "python3"
  },
  "language_info": {
   "codemirror_mode": {
    "name": "ipython",
    "version": 3
   },
   "file_extension": ".py",
   "mimetype": "text/x-python",
   "name": "python",
   "nbconvert_exporter": "python",
   "pygments_lexer": "ipython3",
   "version": "3.9.7"
  }
 },
 "nbformat": 4,
 "nbformat_minor": 5
}
