{
 "cells": [
  {
   "cell_type": "code",
   "execution_count": 2,
   "id": "96b62bc9",
   "metadata": {},
   "outputs": [],
   "source": [
    "import numpy as np\n",
    "from scipy import stats\n",
    "from matplotlib import pyplot as plt\n",
    "np.set_printoptions(precision=3, suppress=True)"
   ]
  },
  {
   "cell_type": "markdown",
   "id": "2a544d27",
   "metadata": {},
   "source": [
    "# Phân tích đa biến trên 2 nguồn dữ liệu: \n",
    "# Tìm 10 kệ hàng (aisle) bán được nhiều nhất"
   ]
  },
  {
   "cell_type": "markdown",
   "id": "771cc521",
   "metadata": {},
   "source": [
    "# 0. Load dữ liệu products theo từng order"
   ]
  },
  {
   "cell_type": "code",
   "execution_count": 2,
   "id": "dd8e279b",
   "metadata": {},
   "outputs": [
    {
     "name": "stdout",
     "output_type": "stream",
     "text": [
      "Đã load xong!\n",
      "(1384617, 4)\n"
     ]
    }
   ],
   "source": [
    "# Header: order_id,product_id,add_to_cart_order,reordered\n",
    "csv_data = np.genfromtxt('instacart-data/order_products__train.csv', skip_header=1, \n",
    "                         delimiter=',', dtype=np.int)\n",
    "print(\"Đã load xong!\")\n",
    "print(csv_data.shape)"
   ]
  },
  {
   "cell_type": "code",
   "execution_count": 3,
   "id": "08323cdd",
   "metadata": {},
   "outputs": [
    {
     "name": "stdout",
     "output_type": "stream",
     "text": [
      "(1384617, 4)\n",
      "[1 1 0 ... 1 1 1]\n"
     ]
    }
   ],
   "source": [
    "print(csv_data.shape)\n",
    "print(csv_data.T[-1])"
   ]
  },
  {
   "cell_type": "markdown",
   "id": "5ad76902",
   "metadata": {},
   "source": [
    "**Phân tích theo product_id**"
   ]
  },
  {
   "cell_type": "code",
   "execution_count": 4,
   "id": "a245dcce",
   "metadata": {},
   "outputs": [
    {
     "name": "stdout",
     "output_type": "stream",
     "text": [
      "[    1     2     3 ... 49686 49687 49688]\n",
      "[76  4  6 ...  7  1  4]\n",
      "39123\n"
     ]
    }
   ],
   "source": [
    "product_id = csv_data.T[1]\n",
    "vals, count = np.unique(product_id, return_counts=True)\n",
    "print(vals)\n",
    "print(count)\n",
    "print(vals.size)"
   ]
  },
  {
   "cell_type": "markdown",
   "id": "66d458cb",
   "metadata": {},
   "source": [
    "## Load dữ liệu về thông tin của từng product theo tên, kệ hàng, gian hàng"
   ]
  },
  {
   "cell_type": "code",
   "execution_count": 5,
   "id": "512d99fc",
   "metadata": {},
   "outputs": [
    {
     "name": "stdout",
     "output_type": "stream",
     "text": [
      "['product_id', 'product_name', 'aisle_id', 'department_id']\n",
      "['Chocolate Sandwich Cookies', 'All-Seasons Salt', 'Robust Golden Unsweetened Oolong Tea', 'Smart Ones Classic Favorites Mini Rigatoni With Vodka Cream Sauce', 'Green Chile Anytime Sauce', 'Dry Nose Oil', 'Pure Coconut Water With Orange', \"Cut Russet Potatoes Steam N' Mash\", 'Light Strawberry Blueberry Yogurt', 'Sparkling Orange Juice & Prickly Pear Beverage']\n",
      "[1, 2, 3, 4, 5, 6, 7, 8, 9, 10]\n",
      "[61, 104, 94, 38, 5, 11, 98, 116, 120, 115]\n"
     ]
    }
   ],
   "source": [
    "import csv\n",
    "file_path = 'instacart-data/products.csv'\n",
    "ds_product_id = []\n",
    "ds_product_name = []\n",
    "ds_aisle_id = []\n",
    "with open(file_path, newline='') as csv_file:\n",
    "    data_csv = csv.reader(csv_file, delimiter=',')\n",
    "    header = next(data_csv)\n",
    "    print(header)\n",
    "\n",
    "    for row in data_csv:\n",
    "        ds_product_id.append(np.int(row[0]))\n",
    "        ds_product_name.append(row[1])\n",
    "        ds_aisle_id.append(np.int(row[2]))\n",
    "print(ds_product_name[0:10])\n",
    "print(ds_product_id[0:10])\n",
    "print(ds_aisle_id[0:10])"
   ]
  },
  {
   "cell_type": "code",
   "execution_count": 6,
   "id": "377a005d",
   "metadata": {},
   "outputs": [
    {
     "name": "stdout",
     "output_type": "stream",
     "text": [
      "1000\n"
     ]
    }
   ],
   "source": [
    "# Warning: có thể treo máy nếu chạy full\n",
    "order_aisle_id = []\n",
    "for item in product_id[0:1000]:\n",
    "    aid = ds_aisle_id[ds_product_id.index(item)]\n",
    "    order_aisle_id.append(aid)\n",
    "print(len(order_aisle_id))"
   ]
  },
  {
   "cell_type": "markdown",
   "id": "5e13df90",
   "metadata": {},
   "source": [
    "**Cách sử dụng np.where để tìm giá trị tương ứng từ 3 mảng**"
   ]
  },
  {
   "cell_type": "code",
   "execution_count": 7,
   "id": "405f8d92",
   "metadata": {},
   "outputs": [
    {
     "data": {
      "text/plain": [
       "(array([ 0,  1,  2,  3,  4,  5,  6,  7,  8,  9, 10, 11, 12, 13, 14, 15, 16]),\n",
       " array([1, 1, 2, 3, 4, 1, 2, 3, 4, 1, 2, 3, 4, 1, 2, 3, 4]))"
      ]
     },
     "execution_count": 7,
     "metadata": {},
     "output_type": "execute_result"
    }
   ],
   "source": [
    "a = np.array([20,20,30,40,50,20,30,40,50,20,30,40,50,20,30,40,50])\n",
    "b = np.array([10,20,30,40,50])\n",
    "c = np.array([55,44,33,22,11])\n",
    "np.where(a[:, None] == b)"
   ]
  },
  {
   "cell_type": "code",
   "execution_count": 8,
   "id": "f2ce0966",
   "metadata": {},
   "outputs": [
    {
     "data": {
      "text/plain": [
       "array([[20],\n",
       "       [20],\n",
       "       [30],\n",
       "       [40],\n",
       "       [50],\n",
       "       [20],\n",
       "       [30],\n",
       "       [40],\n",
       "       [50],\n",
       "       [20],\n",
       "       [30],\n",
       "       [40],\n",
       "       [50],\n",
       "       [20],\n",
       "       [30],\n",
       "       [40],\n",
       "       [50]])"
      ]
     },
     "execution_count": 8,
     "metadata": {},
     "output_type": "execute_result"
    }
   ],
   "source": [
    "a[:, None]"
   ]
  },
  {
   "cell_type": "code",
   "execution_count": 9,
   "id": "a742b638",
   "metadata": {},
   "outputs": [
    {
     "data": {
      "text/plain": [
       "array([[10, 20, 30, 40, 50]])"
      ]
     },
     "execution_count": 9,
     "metadata": {},
     "output_type": "execute_result"
    }
   ],
   "source": [
    "b[None, :]"
   ]
  },
  {
   "cell_type": "code",
   "execution_count": 10,
   "id": "5b68213f",
   "metadata": {},
   "outputs": [
    {
     "data": {
      "text/plain": [
       "array([[False,  True, False, False, False],\n",
       "       [False,  True, False, False, False],\n",
       "       [False, False,  True, False, False],\n",
       "       [False, False, False,  True, False],\n",
       "       [False, False, False, False,  True],\n",
       "       [False,  True, False, False, False],\n",
       "       [False, False,  True, False, False],\n",
       "       [False, False, False,  True, False],\n",
       "       [False, False, False, False,  True],\n",
       "       [False,  True, False, False, False],\n",
       "       [False, False,  True, False, False],\n",
       "       [False, False, False,  True, False],\n",
       "       [False, False, False, False,  True],\n",
       "       [False,  True, False, False, False],\n",
       "       [False, False,  True, False, False],\n",
       "       [False, False, False,  True, False],\n",
       "       [False, False, False, False,  True]])"
      ]
     },
     "execution_count": 10,
     "metadata": {},
     "output_type": "execute_result"
    }
   ],
   "source": [
    "a[:, None] == b"
   ]
  },
  {
   "cell_type": "code",
   "execution_count": 11,
   "id": "64449718",
   "metadata": {},
   "outputs": [
    {
     "name": "stdout",
     "output_type": "stream",
     "text": [
      "[1 1 2 3 4 1 2 3 4 1 2 3 4 1 2 3 4]\n"
     ]
    },
    {
     "data": {
      "text/plain": [
       "array([44, 44, 33, 22, 11, 44, 33, 22, 11, 44, 33, 22, 11, 44, 33, 22, 11])"
      ]
     },
     "execution_count": 11,
     "metadata": {},
     "output_type": "execute_result"
    }
   ],
   "source": [
    "idx = np.where(a[:, None] == b[None, :])[1]\n",
    "print(idx)\n",
    "c[idx]"
   ]
  },
  {
   "cell_type": "markdown",
   "id": "0c626b57",
   "metadata": {},
   "source": [
    "**Áp dụng np.where để tìm aisle_id tương ứng với từng sản phẩm trong đơn hàng**"
   ]
  },
  {
   "cell_type": "code",
   "execution_count": 12,
   "id": "e9e91e88",
   "metadata": {},
   "outputs": [
    {
     "name": "stdout",
     "output_type": "stream",
     "text": [
      "(1384617, 1)\n",
      "(1, 49688)\n"
     ]
    }
   ],
   "source": [
    "print(product_id[:,None].shape)\n",
    "print(np.array(ds_product_id)[None, :].shape)"
   ]
  },
  {
   "cell_type": "code",
   "execution_count": 13,
   "id": "c508c8cd",
   "metadata": {},
   "outputs": [
    {
     "name": "stdout",
     "output_type": "stream",
     "text": [
      "50000\n"
     ]
    }
   ],
   "source": [
    "a = product_id[0:50000]\n",
    "b = np.array(ds_product_id)\n",
    "# print(a)\n",
    "# print(b)\n",
    "idx = np.where(a[:, None] == b[None, :])[1]\n",
    "print(idx.size)"
   ]
  },
  {
   "cell_type": "code",
   "execution_count": 14,
   "id": "ad4f3989",
   "metadata": {},
   "outputs": [
    {
     "data": {
      "text/plain": [
       "array([120, 108,  83, ..., 107,  24, 120])"
      ]
     },
     "execution_count": 14,
     "metadata": {},
     "output_type": "execute_result"
    }
   ],
   "source": [
    "np.array(ds_aisle_id)[idx]"
   ]
  },
  {
   "cell_type": "code",
   "execution_count": 15,
   "id": "db4c280a",
   "metadata": {},
   "outputs": [],
   "source": [
    "ds_aisle_id = np.array(ds_aisle_id)"
   ]
  },
  {
   "cell_type": "code",
   "execution_count": 16,
   "id": "e70b0627",
   "metadata": {},
   "outputs": [
    {
     "name": "stdout",
     "output_type": "stream",
     "text": [
      "0\n",
      "50000\n",
      "100000\n",
      "150000\n",
      "200000\n",
      "250000\n",
      "300000\n",
      "350000\n",
      "400000\n",
      "450000\n",
      "500000\n",
      "550000\n",
      "600000\n",
      "650000\n",
      "700000\n",
      "750000\n",
      "800000\n",
      "850000\n",
      "900000\n",
      "950000\n",
      "1000000\n",
      "1050000\n",
      "1100000\n",
      "1150000\n",
      "1200000\n",
      "1250000\n",
      "1300000\n"
     ]
    }
   ],
   "source": [
    "product_aisle_id = []\n",
    "for i in range(0, product_id.size-50000, 50000): \n",
    "    print(i)\n",
    "    a = product_id[i:i+50000]\n",
    "    idx = np.where(a[:, None] == b[None, :])[1]\n",
    "    product_aisle_id.append(ds_aisle_id[idx])"
   ]
  },
  {
   "cell_type": "code",
   "execution_count": 17,
   "id": "5f09c9fb",
   "metadata": {},
   "outputs": [
    {
     "name": "stdout",
     "output_type": "stream",
     "text": [
      "34617\n",
      "34617\n"
     ]
    }
   ],
   "source": [
    "a = product_id[1350000:]\n",
    "print(a.size)\n",
    "idx = np.where(a[:, None] == b[None, :])[1]\n",
    "print(idx.size)"
   ]
  },
  {
   "cell_type": "code",
   "execution_count": 18,
   "id": "76743c00",
   "metadata": {},
   "outputs": [],
   "source": [
    "product_aisle_id.append(ds_aisle_id[idx])"
   ]
  },
  {
   "cell_type": "code",
   "execution_count": 19,
   "id": "98d35246",
   "metadata": {},
   "outputs": [
    {
     "name": "stdout",
     "output_type": "stream",
     "text": [
      "28\n"
     ]
    }
   ],
   "source": [
    "print(len(product_aisle_id))"
   ]
  },
  {
   "cell_type": "code",
   "execution_count": 20,
   "id": "6f4651f4",
   "metadata": {},
   "outputs": [],
   "source": [
    "product_aisle_id = np.hstack(product_aisle_id)"
   ]
  },
  {
   "cell_type": "code",
   "execution_count": 21,
   "id": "b3403bc1",
   "metadata": {},
   "outputs": [
    {
     "data": {
      "text/plain": [
       "1384617"
      ]
     },
     "execution_count": 21,
     "metadata": {},
     "output_type": "execute_result"
    }
   ],
   "source": [
    "product_aisle_id.size"
   ]
  },
  {
   "cell_type": "code",
   "execution_count": 22,
   "id": "239e1e77",
   "metadata": {},
   "outputs": [
    {
     "name": "stdout",
     "output_type": "stream",
     "text": [
      "[ 82  23 122 119  20 114  83 106  90 111]\n",
      "[150609 150473  78493  55240  41699  36617  32644  31269  26240  23635]\n",
      "[ 83  24 123 120  21 115  84 107  91 112]\n"
     ]
    }
   ],
   "source": [
    "vals, count = np.unique(product_aisle_id, return_counts=True)\n",
    "sorted_count_index = np.argsort(count)[::-1][0:10]\n",
    "print(sorted_count_index)\n",
    "print(count[sorted_count_index])\n",
    "print(vals[sorted_count_index])"
   ]
  },
  {
   "cell_type": "code",
   "execution_count": 23,
   "id": "8aeb7824",
   "metadata": {},
   "outputs": [],
   "source": [
    "top10_aisle_count = count[sorted_count_index]\n",
    "top10_aisle_id = vals[sorted_count_index]"
   ]
  },
  {
   "cell_type": "code",
   "execution_count": 24,
   "id": "879998a9",
   "metadata": {},
   "outputs": [
    {
     "data": {
      "image/png": "[encoded data removed]",
      "text/plain": [
       "<Figure size 700x300 with 1 Axes>"
      ]
     },
     "metadata": {},
     "output_type": "display_data"
    }
   ],
   "source": [
    "plt.figure(figsize = (7,3))\n",
    "plt.bar(x=range(10), height=top10_aisle_count, \n",
    "        color='yellow', alpha=0.75, edgecolor='black', linewidth=1.0)\n",
    "plt.title('10 Kệ hàng bán nhiều nhất Nhiều Nhất')\n",
    "plt.xlabel('ID của Kệ hàng')\n",
    "plt.ylabel('Số Lượng Đơn Hàng')\n",
    "plt.xticks(range(10), top10_aisle_id, rotation='horizontal')\n",
    "plt.show()"
   ]
  },
  {
   "cell_type": "code",
   "execution_count": null,
   "id": "dad0e2c6",
   "metadata": {},
   "outputs": [],
   "source": []
  }
 ],
 "metadata": {
  "kernelspec": {
   "display_name": "Python 3 (ipykernel)",
   "language": "python",
   "name": "python3"
  },
  "language_info": {
   "codemirror_mode": {
    "name": "ipython",
    "version": 3
   },
   "file_extension": ".py",
   "mimetype": "text/x-python",
   "name": "python",
   "nbconvert_exporter": "python",
   "pygments_lexer": "ipython3",
   "version": "3.9.7"
  }
 },
 "nbformat": 4,
 "nbformat_minor": 5
}
