{
 "cells": [
  {
   "cell_type": "code",
   "execution_count": 1,
   "metadata": {},
   "outputs": [],
   "source": [
    "import numpy as np\n",
    "from matplotlib import pyplot as plt"
   ]
  },
  {
   "cell_type": "code",
   "execution_count": 2,
   "metadata": {},
   "outputs": [],
   "source": [
    "raw_data = np.genfromtxt(r'https://raw.githubusercontent.com/owid/covid-19-data/master/public/data/owid-covid-data.csv',encoding='utf-8', delimiter=',',dtype = None)\n",
    "title = raw_data[0,:]\n",
    "data = raw_data[1:,:]"
   ]
  },
  {
   "cell_type": "code",
   "execution_count": 6,
   "metadata": {},
   "outputs": [],
   "source": [
    "def question(x):\n",
    "    min = np.min(x)\n",
    "    max = np.max(x)\n",
    "    mean = np.mean(x)\n",
    "    median = np.median(x)\n",
    "    value,ind = np.unique(x,return_counts=True)\n",
    "    mode = value[np.where(ind==np.max(ind))]\n",
    "    var = np.var(x)\n",
    "    standard = np.std(x)\n",
    "    return f'Min = {min:.2f}\\nMax = {max:.2f}\\nMedian = {median:.2f}\\nMean = {mean:.2f}\\nMode = {list(mode)}\\nVar = {var:.2f}\\nStandard = {standard:.2f}'"
   ]
  },
  {
   "cell_type": "code",
   "execution_count": 5,
   "metadata": {},
   "outputs": [
    {
     "data": {
      "image/png": "[encoded data removed]",
      "text/plain": [
       "<Figure size 1296x504 with 1 Axes>"
      ]
     },
     "metadata": {
      "needs_background": "light"
     },
     "output_type": "display_data"
    }
   ],
   "source": [
    "vietnam = data[np.where((data[:,2]=='Vietnam')&(np.array(data[:,3],dtype=np.datetime64)>=np.datetime64('2021-01-01')))]\n",
    "new_cases = vietnam[:,5].astype(float)\n",
    "date = np.array(vietnam[:,3],dtype=np.datetime64).astype('datetime64[M]')#.astype(int) % 12 + 1\n",
    "month = np.unique(date)\n",
    "sums = []\n",
    "for i in month:\n",
    "    sums.append(new_cases[date == i].sum())\n",
    "fig = plt.figure(figsize =(18, 7))\n",
    "plt.bar(np.arange(len(sums)),sums,width = 0.4)\n",
    "plt.xticks(np.arange(len(sums)),month)\n",
    "for i in range(len(sums)):\n",
    "    plt.text(i, sums[i]+10000, sums[i], ha = 'center')\n",
    "plt.autoscale()\n",
    "plt.show()"
   ]
  },
  {
   "cell_type": "code",
   "execution_count": 8,
   "metadata": {},
   "outputs": [
    {
     "name": "stdout",
     "output_type": "stream",
     "text": [
      "Min = 0.00\n",
      "Max = 39132.00\n",
      "Median = 2787.00\n",
      "Mean = 5616.69\n",
      "Mode = [1.0, 9.0]\n",
      "Var = 46398441.83\n",
      "Standard = 6811.64\n"
     ]
    }
   ],
   "source": [
    "print(question(new_cases))"
   ]
  },
  {
   "cell_type": "code",
   "execution_count": null,
   "metadata": {},
   "outputs": [],
   "source": [
    "delay_distance = raw_data[1:,[np.where(title == '\"dep_delay\"')[0][0],np.where(title == '\"distance\"')[0][0]]]\n",
    "    x = delay_distance[np.where(arrdelay !='NA')].astype(float)\n",
    "\n",
    "    # Tạo các indices ngẫu nhiên\n",
    "    # np.random.seed(10)\n",
    "    rand_indices = np.arange(y.size)\n",
    "    np.random.shuffle(rand_indices)\n",
    "\n",
    "    # Chia dữ liệu ra thành 2 tập train và test\n",
    "    N_TRAIN = int(y.size * 0.8)\n",
    "    train_indices = rand_indices[0:N_TRAIN]\n",
    "    test_indices = rand_indices[N_TRAIN:]\n",
    "    x_train, y_train = x[train_indices], y[train_indices]\n",
    "    x_test, y_test = x[test_indices], y[test_indices]\n",
    "\n",
    "    # Tạo\n",
    "    from sklearn.linear_model import LinearRegression\n",
    "    model = LinearRegression()\n",
    "    model.fit(x_train, y_train)\n",
    "    x = model.coef_\n",
    "    b = model.intercept_\n",
    "    # # Dự đoán\n",
    "    # print(np.sum(model.coef_*x_train[0]) + model.intercept_)\n",
    "    # delay = model.predict([x_train[0]]).squeeze()\n",
    "    print(f'Mô hình là {x[0]:.5f}X1 + {x[1]:.5f}X2+({b:.5f})')\n",
    "    #Đánh giá R2\n",
    "    r2 = model.score(x_train, y_train)\n",
    "    print(f'2 biến giải thích {r2*100:.2f}% kết quả thời gian đến nơi trễ')\n",
    "\n",
    "    # Mong đợi Tỷ lệ lỗi 5%\n",
    "    y_predict = model.predict(x_train)\n",
    "    err = y_predict - y_train\n",
    "    print(f'Độ lệch của khoảng lỗi {np.mean(abs(err))/np.mean(y):.3f}')\n",
    "\n",
    "    # Đồ thị biến động của điểm dự báo so với thực tế\n",
    "    plt.figure(figsize=[12,12]) \n",
    "    plt.scatter(y_predict, y_train)\n",
    "    plt.show()"
   ]
  }
 ],
 "metadata": {
  "interpreter": {
   "hash": "12028eb6b73ce5556a694a9604f4c9f963140a0c78b82c3562cdc55f252329d4"
  },
  "kernelspec": {
   "display_name": "Python 3.8.8 64-bit ('base': conda)",
   "language": "python",
   "name": "python3"
  },
  "language_info": {
   "codemirror_mode": {
    "name": "ipython",
    "version": 3
   },
   "file_extension": ".py",
   "mimetype": "text/x-python",
   "name": "python",
   "nbconvert_exporter": "python",
   "pygments_lexer": "ipython3",
   "version": "3.8.8"
  },
  "orig_nbformat": 4
 },
 "nbformat": 4,
 "nbformat_minor": 2
}
